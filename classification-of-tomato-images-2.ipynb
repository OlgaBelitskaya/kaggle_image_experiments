{
 "cells": [
  {
   "cell_type": "markdown",
   "metadata": {
    "papermill": {
     "duration": 0.011918,
     "end_time": "2020-12-12T13:15:00.560197",
     "exception": false,
     "start_time": "2020-12-12T13:15:00.548279",
     "status": "completed"
    },
    "tags": []
   },
   "source": [
    "[Google Colaboratory Variant](https://colab.research.google.com/drive/1pymaadPUhSm0T9N5h44ls-mAcrylfa2F)\n",
    "## Code Modules & Functions"
   ]
  },
  {
   "cell_type": "code",
   "execution_count": 1,
   "metadata": {
    "_kg_hide-input": true,
    "execution": {
     "iopub.execute_input": "2020-12-12T13:15:00.588054Z",
     "iopub.status.busy": "2020-12-12T13:15:00.587248Z",
     "iopub.status.idle": "2020-12-12T13:15:17.348097Z",
     "shell.execute_reply": "2020-12-12T13:15:17.347123Z"
    },
    "papermill": {
     "duration": 16.777502,
     "end_time": "2020-12-12T13:15:17.348223",
     "exception": false,
     "start_time": "2020-12-12T13:15:00.570721",
     "status": "completed"
    },
    "tags": []
   },
   "outputs": [],
   "source": [
    "!pip install --upgrade pip \\\n",
    "--user --quiet --no-warn-script-location\n",
    "!pip install --upgrade neural_structured_learning \\\n",
    "--user --quiet --no-warn-script-location"
   ]
  },
  {
   "cell_type": "code",
   "execution_count": 2,
   "metadata": {
    "_cell_guid": "b1076dfc-b9ad-4769-8c92-a6c4dae69d19",
    "_uuid": "8f2839f25d086af736a60e9eeb907d3b93b6e0e5",
    "execution": {
     "iopub.execute_input": "2020-12-12T13:15:17.376107Z",
     "iopub.status.busy": "2020-12-12T13:15:17.375490Z",
     "iopub.status.idle": "2020-12-12T13:15:18.305892Z",
     "shell.execute_reply": "2020-12-12T13:15:18.304853Z"
    },
    "papermill": {
     "duration": 0.946622,
     "end_time": "2020-12-12T13:15:18.306004",
     "exception": false,
     "start_time": "2020-12-12T13:15:17.359382",
     "status": "completed"
    },
    "tags": []
   },
   "outputs": [],
   "source": [
    "import warnings; warnings.filterwarnings('ignore')\n",
    "import tensorflow_hub as th,tensorflow as tf\n",
    "import neural_structured_learning as nsl\n",
    "import os,pandas as pd,numpy as np\n",
    "import seaborn as sn,pylab as pl\n",
    "import tensorflow.keras.callbacks as tkc,\\\n",
    "tensorflow.keras.layers as tkl\n",
    "import tensorflow.keras.preprocessing.image as tkimg"
   ]
  },
  {
   "cell_type": "code",
   "execution_count": 3,
   "metadata": {
    "_cell_guid": "79c7e3d0-c299-4dcb-8224-4455121ee9b0",
    "_kg_hide-input": true,
    "_uuid": "d629ff2d2480ee46fbb7e2d37f6b5fab8052498a",
    "execution": {
     "iopub.execute_input": "2020-12-12T13:15:18.342823Z",
     "iopub.status.busy": "2020-12-12T13:15:18.341127Z",
     "iopub.status.idle": "2020-12-12T13:15:18.343495Z",
     "shell.execute_reply": "2020-12-12T13:15:18.344016Z"
    },
    "papermill": {
     "duration": 0.027299,
     "end_time": "2020-12-12T13:15:18.344124",
     "exception": false,
     "start_time": "2020-12-12T13:15:18.316825",
     "status": "completed"
    },
    "tags": []
   },
   "outputs": [],
   "source": [
    "def images2array(files_path,img_size,\n",
    "                 preprocess=False,grayscale=False):\n",
    "    files_list=sorted(os.listdir(files_path))\n",
    "    n,img_array=len(files_list),[]\n",
    "    for i in range(n):\n",
    "        if i%round(.1*n)==0:\n",
    "            print('=>',end='',flush=True)\n",
    "        img_path=files_path+files_list[i]\n",
    "        if preprocess:\n",
    "            img=tkimg.load_img(\n",
    "                img_path,grayscale=grayscale)\n",
    "            img=tkimg.img_to_array(img)\n",
    "            img=tkimg.smart_resize(\n",
    "                img,(img_size,img_size))\n",
    "        else:\n",
    "            img=tkimg.load_img(\n",
    "                img_path,target_size=(img_size,img_size))\n",
    "            img=tkimg.img_to_array(img)\n",
    "        img=np.expand_dims(img,axis=0)/255\n",
    "        img_array.append(img)\n",
    "    return np.array(np.vstack(img_array),\n",
    "                    dtype='float32')\n",
    "def labels2array(files_path):\n",
    "    files_list=sorted(os.listdir(files_path))\n",
    "    files_split=np.array([el.split('_') \n",
    "                          for el in files_list])\n",
    "    num_labels=files_split.shape[1]-1\n",
    "    labels=[files_split[:,i] \n",
    "            for i in range(num_labels)]\n",
    "    labels=np.array(labels).astype('int32')\n",
    "    for i in range(num_labels):\n",
    "        label_set=list(set(labels[i]))\n",
    "        replace_dict=\\\n",
    "        dict(zip(label_set,\n",
    "                 list(range(len(label_set)))))\n",
    "        labels[i]=[replace_dict.get(x,x) \n",
    "                   for x in labels[i]]\n",
    "    return labels"
   ]
  },
  {
   "cell_type": "markdown",
   "metadata": {
    "papermill": {
     "duration": 0.010384,
     "end_time": "2020-12-12T13:15:18.364884",
     "exception": false,
     "start_time": "2020-12-12T13:15:18.354500",
     "status": "completed"
    },
    "tags": []
   },
   "source": [
    "## Data"
   ]
  },
  {
   "cell_type": "code",
   "execution_count": 4,
   "metadata": {
    "_kg_hide-input": true,
    "execution": {
     "iopub.execute_input": "2020-12-12T13:15:18.394380Z",
     "iopub.status.busy": "2020-12-12T13:15:18.393836Z",
     "iopub.status.idle": "2020-12-12T13:15:25.657619Z",
     "shell.execute_reply": "2020-12-12T13:15:25.658583Z"
    },
    "papermill": {
     "duration": 7.28345,
     "end_time": "2020-12-12T13:15:25.658765",
     "exception": false,
     "start_time": "2020-12-12T13:15:18.375315",
     "status": "completed"
    },
    "tags": []
   },
   "outputs": [
    {
     "name": "stdout",
     "output_type": "stream",
     "text": [
      "=>=>=>=>=>=>=>=>=>=>"
     ]
    }
   ],
   "source": [
    "files_path='../input/tomato-cultivars/'\n",
    "img_size=160\n",
    "names=[['Kumato','Beefsteak','Tigerella',\n",
    "        'Roma','Japanese Black Trifele',\n",
    "        'Yellow Pear','Sun Gold','Green Zebra',\n",
    "        'Cherokee Purple','Oxheart','Blue Berries',\n",
    "        'San Marzano','Banana Legs',\n",
    "        'German Orange Strawberry','Supersweet 100']]\n",
    "images=images2array(files_path,img_size)\n",
    "labels=labels2array(files_path)\n",
    "N=images.shape[0]; n=int(.1*N)\n",
    "shuffle_ids=np.arange(N)\n",
    "np.random.RandomState(12).shuffle(shuffle_ids)\n",
    "images=images[shuffle_ids]\n",
    "labels=np.array([labels[i][shuffle_ids]\n",
    "                 for i in range(labels.shape[0])])\n",
    "x_test,x_valid,x_train=\\\n",
    "images[:n],images[n:2*n],images[2*n:]\n",
    "y_test,y_valid,y_train=\\\n",
    "labels[:,:n],labels[:,n:2*n],labels[:,2*n:]"
   ]
  },
  {
   "cell_type": "code",
   "execution_count": 5,
   "metadata": {
    "_kg_hide-input": true,
    "execution": {
     "iopub.execute_input": "2020-12-12T13:15:25.705055Z",
     "iopub.status.busy": "2020-12-12T13:15:25.704503Z",
     "iopub.status.idle": "2020-12-12T13:15:25.713502Z",
     "shell.execute_reply": "2020-12-12T13:15:25.713933Z"
    },
    "papermill": {
     "duration": 0.041256,
     "end_time": "2020-12-12T13:15:25.714039",
     "exception": false,
     "start_time": "2020-12-12T13:15:25.672783",
     "status": "completed"
    },
    "tags": []
   },
   "outputs": [
    {
     "data": {
      "text/html": [
       "<div>\n",
       "<style scoped>\n",
       "    .dataframe tbody tr th:only-of-type {\n",
       "        vertical-align: middle;\n",
       "    }\n",
       "\n",
       "    .dataframe tbody tr th {\n",
       "        vertical-align: top;\n",
       "    }\n",
       "\n",
       "    .dataframe thead th {\n",
       "        text-align: right;\n",
       "    }\n",
       "</style>\n",
       "<table border=\"1\" class=\"dataframe\">\n",
       "  <thead>\n",
       "    <tr style=\"text-align: right;\">\n",
       "      <th></th>\n",
       "      <th>train</th>\n",
       "      <th>valid</th>\n",
       "      <th>test</th>\n",
       "    </tr>\n",
       "  </thead>\n",
       "  <tbody>\n",
       "    <tr>\n",
       "      <th>image shape</th>\n",
       "      <td>(622, 160, 160, 3)</td>\n",
       "      <td>(77, 160, 160, 3)</td>\n",
       "      <td>(77, 160, 160, 3)</td>\n",
       "    </tr>\n",
       "    <tr>\n",
       "      <th>image type</th>\n",
       "      <td>float32</td>\n",
       "      <td>float32</td>\n",
       "      <td>float32</td>\n",
       "    </tr>\n",
       "    <tr>\n",
       "      <th>label shape</th>\n",
       "      <td>(1, 622)</td>\n",
       "      <td>(1, 77)</td>\n",
       "      <td>(1, 77)</td>\n",
       "    </tr>\n",
       "    <tr>\n",
       "      <th>label type</th>\n",
       "      <td>int32</td>\n",
       "      <td>int32</td>\n",
       "      <td>int32</td>\n",
       "    </tr>\n",
       "  </tbody>\n",
       "</table>\n",
       "</div>"
      ],
      "text/plain": [
       "                          train              valid               test\n",
       "image shape  (622, 160, 160, 3)  (77, 160, 160, 3)  (77, 160, 160, 3)\n",
       "image type              float32            float32            float32\n",
       "label shape            (1, 622)            (1, 77)            (1, 77)\n",
       "label type                int32              int32              int32"
      ]
     },
     "execution_count": 5,
     "metadata": {},
     "output_type": "execute_result"
    }
   ],
   "source": [
    "df=pd.DataFrame(\n",
    "    [[x_train.shape,x_valid.shape,x_test.shape],\n",
    "     [x_train.dtype,x_valid.dtype,x_test.dtype],\n",
    "     [y_train.shape,y_valid.shape,y_test.shape],\n",
    "     [y_train.dtype,y_valid.dtype,y_test.dtype]],\n",
    "    columns=['train','valid','test'],\n",
    "    index=['image shape','image type',\n",
    "           'label shape','label type'])\n",
    "df"
   ]
  },
  {
   "cell_type": "code",
   "execution_count": 6,
   "metadata": {
    "_kg_hide-input": true,
    "execution": {
     "iopub.execute_input": "2020-12-12T13:15:25.754747Z",
     "iopub.status.busy": "2020-12-12T13:15:25.754186Z",
     "iopub.status.idle": "2020-12-12T13:15:25.971726Z",
     "shell.execute_reply": "2020-12-12T13:15:25.970737Z"
    },
    "papermill": {
     "duration": 0.243951,
     "end_time": "2020-12-12T13:15:25.971848",
     "exception": false,
     "start_time": "2020-12-12T13:15:25.727897",
     "status": "completed"
    },
    "tags": []
   },
   "outputs": [
    {
     "data": {
      "image/png": "[encoded data removed]",
      "text/plain": [
       "<Figure size 648x216 with 1 Axes>"
      ]
     },
     "metadata": {
      "needs_background": "light"
     },
     "output_type": "display_data"
    }
   ],
   "source": [
    "cmap='tab20'\n",
    "idx=['labels %d'%(i+1) for i in range(labels.shape[0])]\n",
    "df=pd.DataFrame(labels,index=idx).T\n",
    "for i in range(labels.shape[0]):\n",
    "    df['name %d'%(i+1)]=\\\n",
    "    [names[i][l] for l in labels[i]]\n",
    "fig=pl.figure(figsize=(9,3))    \n",
    "for i in range(labels.shape[0]):\n",
    "    ax=fig.add_subplot(labels.shape[0],1,i+1)\n",
    "    sn.countplot(y='name %s'%(i+1),data=df,\n",
    "                 palette=cmap,alpha=.5,ax=ax)\n",
    "pl.show()"
   ]
  },
  {
   "cell_type": "markdown",
   "metadata": {
    "papermill": {
     "duration": 0.014911,
     "end_time": "2020-12-12T13:15:26.001929",
     "exception": false,
     "start_time": "2020-12-12T13:15:25.987018",
     "status": "completed"
    },
    "tags": []
   },
   "source": [
    "## NN Examples"
   ]
  },
  {
   "cell_type": "code",
   "execution_count": 7,
   "metadata": {
    "_kg_hide-input": true,
    "execution": {
     "iopub.execute_input": "2020-12-12T13:15:26.045599Z",
     "iopub.status.busy": "2020-12-12T13:15:26.044236Z",
     "iopub.status.idle": "2020-12-12T13:15:26.047228Z",
     "shell.execute_reply": "2020-12-12T13:15:26.047677Z"
    },
    "papermill": {
     "duration": 0.029213,
     "end_time": "2020-12-12T13:15:26.047786",
     "exception": false,
     "start_time": "2020-12-12T13:15:26.018573",
     "status": "completed"
    },
    "tags": []
   },
   "outputs": [],
   "source": [
    "def premodel(pix,den,mh,lbl,activ,loss):\n",
    "    model=tf.keras.Sequential([\n",
    "        tkl.Input((pix,pix,int(3)),name='input'),\n",
    "        th.KerasLayer(mh,trainable=True),\n",
    "        tkl.Flatten(),\n",
    "        tkl.Dense(den,activation='relu'),\n",
    "        tkl.Dropout(rate=.5),\n",
    "        tkl.Dense(lbl,activation=activ)])\n",
    "    model.compile(optimizer='adam',metrics=['accuracy'],loss=loss)\n",
    "    return model\n",
    "def cb(fw):\n",
    "    early_stopping=tkc.EarlyStopping(\n",
    "        monitor='val_loss',patience=int(20),verbose=int(2))\n",
    "    checkpointer=tkc.ModelCheckpoint(\n",
    "        filepath=fw,verbose=int(2),save_weights_only=True,\n",
    "        monitor='val_accuracy',mode='max',save_best_only=True)\n",
    "    lr_reduction=tkc.ReduceLROnPlateau(\n",
    "        monitor='val_loss',verbose=int(2),patience=int(5),factor=.8)\n",
    "    return [checkpointer,early_stopping,lr_reduction]"
   ]
  },
  {
   "cell_type": "code",
   "execution_count": 8,
   "metadata": {
    "execution": {
     "iopub.execute_input": "2020-12-12T13:15:26.082121Z",
     "iopub.status.busy": "2020-12-12T13:15:26.081483Z",
     "iopub.status.idle": "2020-12-12T13:15:26.084872Z",
     "shell.execute_reply": "2020-12-12T13:15:26.085265Z"
    },
    "papermill": {
     "duration": 0.022506,
     "end_time": "2020-12-12T13:15:26.085367",
     "exception": false,
     "start_time": "2020-12-12T13:15:26.062861",
     "status": "completed"
    },
    "tags": []
   },
   "outputs": [],
   "source": [
    "fw='/tmp/checkpoint'\n",
    "[handle_base,pixels]=['inception_v3',160]\n",
    "mhandle='https://tfhub.dev/google/imagenet/{}/classification/4'\\\n",
    ".format(handle_base)"
   ]
  },
  {
   "cell_type": "code",
   "execution_count": 9,
   "metadata": {
    "_kg_hide-output": true,
    "execution": {
     "iopub.execute_input": "2020-12-12T13:15:26.123335Z",
     "iopub.status.busy": "2020-12-12T13:15:26.122495Z",
     "iopub.status.idle": "2020-12-12T13:18:30.520964Z",
     "shell.execute_reply": "2020-12-12T13:18:30.520456Z"
    },
    "papermill": {
     "duration": 184.420439,
     "end_time": "2020-12-12T13:18:30.521076",
     "exception": false,
     "start_time": "2020-12-12T13:15:26.100637",
     "status": "completed"
    },
    "tags": []
   },
   "outputs": [
    {
     "name": "stdout",
     "output_type": "stream",
     "text": [
      "Epoch 1/70\n",
      "20/20 [==============================] - ETA: 0s - loss: 3.0189 - accuracy: 0.2331\n",
      "Epoch 00001: val_accuracy improved from -inf to 0.06494, saving model to /tmp/checkpoint\n",
      "20/20 [==============================] - 5s 243ms/step - loss: 3.0189 - accuracy: 0.2331 - val_loss: 10268.8213 - val_accuracy: 0.0649 - lr: 0.0010\n",
      "Epoch 2/70\n",
      "20/20 [==============================] - ETA: 0s - loss: 2.1227 - accuracy: 0.5016\n",
      "Epoch 00002: val_accuracy did not improve from 0.06494\n",
      "20/20 [==============================] - 2s 98ms/step - loss: 2.1227 - accuracy: 0.5016 - val_loss: 23320.2793 - val_accuracy: 0.0519 - lr: 0.0010\n",
      "Epoch 3/70\n",
      "20/20 [==============================] - ETA: 0s - loss: 1.7085 - accuracy: 0.6125\n",
      "Epoch 00003: val_accuracy improved from 0.06494 to 0.12987, saving model to /tmp/checkpoint\n",
      "20/20 [==============================] - 3s 156ms/step - loss: 1.7085 - accuracy: 0.6125 - val_loss: 10015.7812 - val_accuracy: 0.1299 - lr: 0.0010\n",
      "Epoch 4/70\n",
      "20/20 [==============================] - ETA: 0s - loss: 1.5081 - accuracy: 0.6720\n",
      "Epoch 00004: val_accuracy did not improve from 0.12987\n",
      "20/20 [==============================] - 2s 95ms/step - loss: 1.5081 - accuracy: 0.6720 - val_loss: 164077.6250 - val_accuracy: 0.0649 - lr: 0.0010\n",
      "Epoch 5/70\n",
      "20/20 [==============================] - ETA: 0s - loss: 1.4003 - accuracy: 0.7251\n",
      "Epoch 00005: val_accuracy did not improve from 0.12987\n",
      "20/20 [==============================] - 2s 94ms/step - loss: 1.4003 - accuracy: 0.7251 - val_loss: 1760.5874 - val_accuracy: 0.0779 - lr: 0.0010\n",
      "Epoch 6/70\n",
      "20/20 [==============================] - ETA: 0s - loss: 1.1249 - accuracy: 0.7653\n",
      "Epoch 00006: val_accuracy improved from 0.12987 to 0.32468, saving model to /tmp/checkpoint\n",
      "20/20 [==============================] - 3s 163ms/step - loss: 1.1249 - accuracy: 0.7653 - val_loss: 16.7052 - val_accuracy: 0.3247 - lr: 0.0010\n",
      "Epoch 7/70\n",
      "20/20 [==============================] - ETA: 0s - loss: 1.0901 - accuracy: 0.7910\n",
      "Epoch 00007: val_accuracy improved from 0.32468 to 0.45455, saving model to /tmp/checkpoint\n",
      "20/20 [==============================] - 3s 149ms/step - loss: 1.0901 - accuracy: 0.7910 - val_loss: 1549.1600 - val_accuracy: 0.4545 - lr: 0.0010\n",
      "Epoch 8/70\n",
      "20/20 [==============================] - ETA: 0s - loss: 1.0200 - accuracy: 0.8055\n",
      "Epoch 00008: val_accuracy did not improve from 0.45455\n",
      "20/20 [==============================] - 2s 94ms/step - loss: 1.0200 - accuracy: 0.8055 - val_loss: 4.1270 - val_accuracy: 0.3896 - lr: 0.0010\n",
      "Epoch 9/70\n",
      "20/20 [==============================] - ETA: 0s - loss: 0.8061 - accuracy: 0.8746\n",
      "Epoch 00009: val_accuracy did not improve from 0.45455\n",
      "20/20 [==============================] - 2s 98ms/step - loss: 0.8061 - accuracy: 0.8746 - val_loss: 5.1733 - val_accuracy: 0.3766 - lr: 0.0010\n",
      "Epoch 10/70\n",
      "20/20 [==============================] - ETA: 0s - loss: 1.0298 - accuracy: 0.8312\n",
      "Epoch 00010: val_accuracy did not improve from 0.45455\n",
      "20/20 [==============================] - 2s 97ms/step - loss: 1.0298 - accuracy: 0.8312 - val_loss: 2.5492 - val_accuracy: 0.4156 - lr: 0.0010\n",
      "Epoch 11/70\n",
      "20/20 [==============================] - ETA: 0s - loss: 0.7453 - accuracy: 0.8730\n",
      "Epoch 00011: val_accuracy improved from 0.45455 to 0.58442, saving model to /tmp/checkpoint\n",
      "20/20 [==============================] - 3s 157ms/step - loss: 0.7453 - accuracy: 0.8730 - val_loss: 2.8711 - val_accuracy: 0.5844 - lr: 0.0010\n",
      "Epoch 12/70\n",
      "20/20 [==============================] - ETA: 0s - loss: 0.6915 - accuracy: 0.8714\n",
      "Epoch 00012: val_accuracy did not improve from 0.58442\n",
      "20/20 [==============================] - 2s 93ms/step - loss: 0.6915 - accuracy: 0.8714 - val_loss: 2.0288 - val_accuracy: 0.5844 - lr: 0.0010\n",
      "Epoch 13/70\n",
      "20/20 [==============================] - ETA: 0s - loss: 0.8348 - accuracy: 0.8714\n",
      "Epoch 00013: val_accuracy did not improve from 0.58442\n",
      "20/20 [==============================] - 2s 95ms/step - loss: 0.8348 - accuracy: 0.8714 - val_loss: 5.9699 - val_accuracy: 0.5195 - lr: 0.0010\n",
      "Epoch 14/70\n",
      "20/20 [==============================] - ETA: 0s - loss: 0.7341 - accuracy: 0.8730\n",
      "Epoch 00014: val_accuracy did not improve from 0.58442\n",
      "20/20 [==============================] - 2s 105ms/step - loss: 0.7341 - accuracy: 0.8730 - val_loss: 5.1300 - val_accuracy: 0.5065 - lr: 0.0010\n",
      "Epoch 15/70\n",
      "20/20 [==============================] - ETA: 0s - loss: 0.6684 - accuracy: 0.9164\n",
      "Epoch 00015: val_accuracy did not improve from 0.58442\n",
      "20/20 [==============================] - 2s 95ms/step - loss: 0.6684 - accuracy: 0.9164 - val_loss: 5.3164 - val_accuracy: 0.5325 - lr: 0.0010\n",
      "Epoch 16/70\n",
      "20/20 [==============================] - ETA: 0s - loss: 0.5911 - accuracy: 0.9357\n",
      "Epoch 00016: val_accuracy did not improve from 0.58442\n",
      "20/20 [==============================] - 2s 104ms/step - loss: 0.5911 - accuracy: 0.9357 - val_loss: 7.0407 - val_accuracy: 0.4286 - lr: 0.0010\n",
      "Epoch 17/70\n",
      "20/20 [==============================] - ETA: 0s - loss: 0.7009 - accuracy: 0.9068\n",
      "Epoch 00017: val_accuracy improved from 0.58442 to 0.59740, saving model to /tmp/checkpoint\n",
      "\n",
      "Epoch 00017: ReduceLROnPlateau reducing learning rate to 0.000800000037997961.\n",
      "20/20 [==============================] - 3s 149ms/step - loss: 0.7009 - accuracy: 0.9068 - val_loss: 2.0521 - val_accuracy: 0.5974 - lr: 0.0010\n",
      "Epoch 18/70\n",
      "20/20 [==============================] - ETA: 0s - loss: 0.6346 - accuracy: 0.9051\n",
      "Epoch 00018: val_accuracy improved from 0.59740 to 0.67532, saving model to /tmp/checkpoint\n",
      "20/20 [==============================] - 3s 150ms/step - loss: 0.6346 - accuracy: 0.9051 - val_loss: 2.0928 - val_accuracy: 0.6753 - lr: 8.0000e-04\n",
      "Epoch 19/70\n",
      "20/20 [==============================] - ETA: 0s - loss: 0.5544 - accuracy: 0.9421\n",
      "Epoch 00019: val_accuracy did not improve from 0.67532\n",
      "20/20 [==============================] - 2s 94ms/step - loss: 0.5544 - accuracy: 0.9421 - val_loss: 2.1091 - val_accuracy: 0.6623 - lr: 8.0000e-04\n",
      "Epoch 20/70\n",
      "20/20 [==============================] - ETA: 0s - loss: 0.4822 - accuracy: 0.9405\n",
      "Epoch 00020: val_accuracy improved from 0.67532 to 0.70130, saving model to /tmp/checkpoint\n",
      "20/20 [==============================] - 3s 154ms/step - loss: 0.4822 - accuracy: 0.9405 - val_loss: 2.4853 - val_accuracy: 0.7013 - lr: 8.0000e-04\n",
      "Epoch 21/70\n",
      "20/20 [==============================] - ETA: 0s - loss: 0.5442 - accuracy: 0.9437\n",
      "Epoch 00021: val_accuracy did not improve from 0.70130\n",
      "20/20 [==============================] - 2s 95ms/step - loss: 0.5442 - accuracy: 0.9437 - val_loss: 3.4755 - val_accuracy: 0.5455 - lr: 8.0000e-04\n",
      "Epoch 22/70\n",
      "20/20 [==============================] - ETA: 0s - loss: 0.7045 - accuracy: 0.9051\n",
      "Epoch 00022: val_accuracy did not improve from 0.70130\n",
      "\n",
      "Epoch 00022: ReduceLROnPlateau reducing learning rate to 0.0006400000303983689.\n",
      "20/20 [==============================] - 2s 95ms/step - loss: 0.7045 - accuracy: 0.9051 - val_loss: 2.7950 - val_accuracy: 0.5584 - lr: 8.0000e-04\n",
      "Epoch 23/70\n",
      "20/20 [==============================] - ETA: 0s - loss: 0.4883 - accuracy: 0.9534\n",
      "Epoch 00023: val_accuracy did not improve from 0.70130\n",
      "20/20 [==============================] - 2s 96ms/step - loss: 0.4883 - accuracy: 0.9534 - val_loss: 3.1389 - val_accuracy: 0.5974 - lr: 6.4000e-04\n",
      "Epoch 24/70\n",
      "20/20 [==============================] - ETA: 0s - loss: 0.4135 - accuracy: 0.9711\n",
      "Epoch 00024: val_accuracy did not improve from 0.70130\n",
      "20/20 [==============================] - 2s 95ms/step - loss: 0.4135 - accuracy: 0.9711 - val_loss: 2.8267 - val_accuracy: 0.5974 - lr: 6.4000e-04\n",
      "Epoch 25/70\n",
      "20/20 [==============================] - ETA: 0s - loss: 0.4146 - accuracy: 0.9695\n",
      "Epoch 00025: val_accuracy did not improve from 0.70130\n",
      "20/20 [==============================] - 2s 97ms/step - loss: 0.4146 - accuracy: 0.9695 - val_loss: 2.2097 - val_accuracy: 0.7013 - lr: 6.4000e-04\n",
      "Epoch 26/70\n",
      "20/20 [==============================] - ETA: 0s - loss: 0.4227 - accuracy: 0.9695\n",
      "Epoch 00026: val_accuracy improved from 0.70130 to 0.72727, saving model to /tmp/checkpoint\n",
      "20/20 [==============================] - 3s 148ms/step - loss: 0.4227 - accuracy: 0.9695 - val_loss: 1.7089 - val_accuracy: 0.7273 - lr: 6.4000e-04\n",
      "Epoch 27/70\n",
      "20/20 [==============================] - ETA: 0s - loss: 0.3838 - accuracy: 0.9791\n",
      "Epoch 00027: val_accuracy improved from 0.72727 to 0.74026, saving model to /tmp/checkpoint\n",
      "20/20 [==============================] - 3s 149ms/step - loss: 0.3838 - accuracy: 0.9791 - val_loss: 1.8500 - val_accuracy: 0.7403 - lr: 6.4000e-04\n",
      "Epoch 28/70\n",
      "20/20 [==============================] - ETA: 0s - loss: 0.3953 - accuracy: 0.9775\n",
      "Epoch 00028: val_accuracy did not improve from 0.74026\n",
      "20/20 [==============================] - 2s 94ms/step - loss: 0.3953 - accuracy: 0.9775 - val_loss: 2.3388 - val_accuracy: 0.6494 - lr: 6.4000e-04\n",
      "Epoch 29/70\n",
      "20/20 [==============================] - ETA: 0s - loss: 0.3960 - accuracy: 0.9775\n",
      "Epoch 00029: val_accuracy did not improve from 0.74026\n",
      "20/20 [==============================] - 2s 94ms/step - loss: 0.3960 - accuracy: 0.9775 - val_loss: 1.8451 - val_accuracy: 0.7013 - lr: 6.4000e-04\n",
      "Epoch 30/70\n",
      "20/20 [==============================] - ETA: 0s - loss: 0.4209 - accuracy: 0.9678\n",
      "Epoch 00030: val_accuracy did not improve from 0.74026\n",
      "20/20 [==============================] - 2s 95ms/step - loss: 0.4209 - accuracy: 0.9678 - val_loss: 2.4399 - val_accuracy: 0.7143 - lr: 6.4000e-04\n",
      "Epoch 31/70\n",
      "20/20 [==============================] - ETA: 0s - loss: 0.4573 - accuracy: 0.9550\n",
      "Epoch 00031: val_accuracy did not improve from 0.74026\n",
      "\n",
      "Epoch 00031: ReduceLROnPlateau reducing learning rate to 0.0005120000336319208.\n",
      "20/20 [==============================] - 2s 94ms/step - loss: 0.4573 - accuracy: 0.9550 - val_loss: 3.6231 - val_accuracy: 0.5195 - lr: 6.4000e-04\n",
      "Epoch 32/70\n",
      "20/20 [==============================] - ETA: 0s - loss: 0.3943 - accuracy: 0.9743\n",
      "Epoch 00032: val_accuracy did not improve from 0.74026\n",
      "20/20 [==============================] - 2s 94ms/step - loss: 0.3943 - accuracy: 0.9743 - val_loss: 2.6068 - val_accuracy: 0.5584 - lr: 5.1200e-04\n",
      "Epoch 33/70\n",
      "20/20 [==============================] - ETA: 0s - loss: 0.3566 - accuracy: 0.9839\n",
      "Epoch 00033: val_accuracy did not improve from 0.74026\n",
      "20/20 [==============================] - 2s 95ms/step - loss: 0.3566 - accuracy: 0.9839 - val_loss: 2.3026 - val_accuracy: 0.6883 - lr: 5.1200e-04\n",
      "Epoch 34/70\n",
      "20/20 [==============================] - ETA: 0s - loss: 0.3528 - accuracy: 0.9871\n",
      "Epoch 00034: val_accuracy did not improve from 0.74026\n",
      "20/20 [==============================] - 2s 94ms/step - loss: 0.3528 - accuracy: 0.9871 - val_loss: 1.9813 - val_accuracy: 0.7403 - lr: 5.1200e-04\n",
      "Epoch 35/70\n",
      "20/20 [==============================] - ETA: 0s - loss: 0.3679 - accuracy: 0.9887\n",
      "Epoch 00035: val_accuracy did not improve from 0.74026\n",
      "20/20 [==============================] - 2s 96ms/step - loss: 0.3679 - accuracy: 0.9887 - val_loss: 2.4376 - val_accuracy: 0.7143 - lr: 5.1200e-04\n",
      "Epoch 36/70\n",
      "20/20 [==============================] - ETA: 0s - loss: 0.3671 - accuracy: 0.9743\n",
      "Epoch 00036: val_accuracy did not improve from 0.74026\n",
      "\n",
      "Epoch 00036: ReduceLROnPlateau reducing learning rate to 0.00040960004553198815.\n",
      "20/20 [==============================] - 2s 94ms/step - loss: 0.3671 - accuracy: 0.9743 - val_loss: 2.8626 - val_accuracy: 0.7143 - lr: 5.1200e-04\n",
      "Epoch 37/70\n",
      "20/20 [==============================] - ETA: 0s - loss: 0.3321 - accuracy: 0.9887\n",
      "Epoch 00037: val_accuracy did not improve from 0.74026\n",
      "20/20 [==============================] - 2s 94ms/step - loss: 0.3321 - accuracy: 0.9887 - val_loss: 2.5993 - val_accuracy: 0.7013 - lr: 4.0960e-04\n",
      "Epoch 38/70\n",
      "20/20 [==============================] - ETA: 0s - loss: 0.3464 - accuracy: 0.9839\n",
      "Epoch 00038: val_accuracy did not improve from 0.74026\n",
      "20/20 [==============================] - 2s 94ms/step - loss: 0.3464 - accuracy: 0.9839 - val_loss: 2.0683 - val_accuracy: 0.7273 - lr: 4.0960e-04\n",
      "Epoch 39/70\n",
      "20/20 [==============================] - ETA: 0s - loss: 0.3772 - accuracy: 0.9759\n",
      "Epoch 00039: val_accuracy did not improve from 0.74026\n",
      "20/20 [==============================] - 2s 97ms/step - loss: 0.3772 - accuracy: 0.9759 - val_loss: 1.7591 - val_accuracy: 0.7013 - lr: 4.0960e-04\n",
      "Epoch 40/70\n",
      "20/20 [==============================] - ETA: 0s - loss: 0.3187 - accuracy: 0.9952\n",
      "Epoch 00040: val_accuracy did not improve from 0.74026\n",
      "20/20 [==============================] - 2s 95ms/step - loss: 0.3187 - accuracy: 0.9952 - val_loss: 2.5971 - val_accuracy: 0.6753 - lr: 4.0960e-04\n",
      "Epoch 41/70\n",
      "20/20 [==============================] - ETA: 0s - loss: 0.3456 - accuracy: 0.9887\n",
      "Epoch 00041: val_accuracy did not improve from 0.74026\n",
      "\n",
      "Epoch 00041: ReduceLROnPlateau reducing learning rate to 0.00032768002711236477.\n",
      "20/20 [==============================] - 2s 101ms/step - loss: 0.3456 - accuracy: 0.9887 - val_loss: 2.2479 - val_accuracy: 0.6883 - lr: 4.0960e-04\n",
      "Epoch 42/70\n",
      "20/20 [==============================] - ETA: 0s - loss: 0.3250 - accuracy: 0.9920\n",
      "Epoch 00042: val_accuracy did not improve from 0.74026\n",
      "20/20 [==============================] - 2s 97ms/step - loss: 0.3250 - accuracy: 0.9920 - val_loss: 2.5375 - val_accuracy: 0.6883 - lr: 3.2768e-04\n",
      "Epoch 43/70\n",
      "20/20 [==============================] - ETA: 0s - loss: 0.3748 - accuracy: 0.9791\n",
      "Epoch 00043: val_accuracy did not improve from 0.74026\n",
      "20/20 [==============================] - 2s 97ms/step - loss: 0.3748 - accuracy: 0.9791 - val_loss: 2.6557 - val_accuracy: 0.7013 - lr: 3.2768e-04\n",
      "Epoch 44/70\n",
      "20/20 [==============================] - ETA: 0s - loss: 0.3337 - accuracy: 0.9871\n",
      "Epoch 00044: val_accuracy did not improve from 0.74026\n",
      "20/20 [==============================] - 2s 94ms/step - loss: 0.3337 - accuracy: 0.9871 - val_loss: 2.4031 - val_accuracy: 0.7013 - lr: 3.2768e-04\n",
      "Epoch 45/70\n",
      "20/20 [==============================] - ETA: 0s - loss: 0.3341 - accuracy: 0.9823\n",
      "Epoch 00045: val_accuracy did not improve from 0.74026\n",
      "20/20 [==============================] - 2s 93ms/step - loss: 0.3341 - accuracy: 0.9823 - val_loss: 2.2339 - val_accuracy: 0.6883 - lr: 3.2768e-04\n",
      "Epoch 46/70\n",
      "20/20 [==============================] - ETA: 0s - loss: 0.3672 - accuracy: 0.9807\n",
      "Epoch 00046: val_accuracy did not improve from 0.74026\n",
      "20/20 [==============================] - 2s 98ms/step - loss: 0.3672 - accuracy: 0.9807 - val_loss: 1.7060 - val_accuracy: 0.7143 - lr: 3.2768e-04\n",
      "Epoch 47/70\n",
      "20/20 [==============================] - ETA: 0s - loss: 0.3351 - accuracy: 0.9904\n",
      "Epoch 00047: val_accuracy did not improve from 0.74026\n",
      "20/20 [==============================] - 2s 95ms/step - loss: 0.3351 - accuracy: 0.9904 - val_loss: 1.5957 - val_accuracy: 0.7143 - lr: 3.2768e-04\n",
      "Epoch 48/70\n",
      "20/20 [==============================] - ETA: 0s - loss: 0.3609 - accuracy: 0.9871\n",
      "Epoch 00048: val_accuracy did not improve from 0.74026\n",
      "20/20 [==============================] - 2s 94ms/step - loss: 0.3609 - accuracy: 0.9871 - val_loss: 1.6755 - val_accuracy: 0.7273 - lr: 3.2768e-04\n",
      "Epoch 49/70\n",
      "20/20 [==============================] - ETA: 0s - loss: 0.3338 - accuracy: 0.9871\n",
      "Epoch 00049: val_accuracy improved from 0.74026 to 0.75325, saving model to /tmp/checkpoint\n",
      "20/20 [==============================] - 3s 142ms/step - loss: 0.3338 - accuracy: 0.9871 - val_loss: 1.6816 - val_accuracy: 0.7532 - lr: 3.2768e-04\n",
      "Epoch 50/70\n",
      "20/20 [==============================] - ETA: 0s - loss: 0.3130 - accuracy: 0.9968\n",
      "Epoch 00050: val_accuracy improved from 0.75325 to 0.76623, saving model to /tmp/checkpoint\n",
      "20/20 [==============================] - 3s 173ms/step - loss: 0.3130 - accuracy: 0.9968 - val_loss: 1.6933 - val_accuracy: 0.7662 - lr: 3.2768e-04\n",
      "Epoch 51/70\n",
      "20/20 [==============================] - ETA: 0s - loss: 0.3147 - accuracy: 0.9968\n",
      "Epoch 00051: val_accuracy did not improve from 0.76623\n",
      "20/20 [==============================] - 2s 94ms/step - loss: 0.3147 - accuracy: 0.9968 - val_loss: 1.6438 - val_accuracy: 0.7273 - lr: 3.2768e-04\n",
      "Epoch 52/70\n",
      "20/20 [==============================] - ETA: 0s - loss: 0.3187 - accuracy: 0.9952\n",
      "Epoch 00052: val_accuracy did not improve from 0.76623\n",
      "\n",
      "Epoch 00052: ReduceLROnPlateau reducing learning rate to 0.0002621440216898918.\n",
      "20/20 [==============================] - 2s 94ms/step - loss: 0.3187 - accuracy: 0.9952 - val_loss: 1.6357 - val_accuracy: 0.7143 - lr: 3.2768e-04\n",
      "Epoch 53/70\n",
      "20/20 [==============================] - ETA: 0s - loss: 0.3050 - accuracy: 0.9968\n",
      "Epoch 00053: val_accuracy did not improve from 0.76623\n",
      "20/20 [==============================] - 2s 94ms/step - loss: 0.3050 - accuracy: 0.9968 - val_loss: 1.5021 - val_accuracy: 0.7403 - lr: 2.6214e-04\n",
      "Epoch 54/70\n",
      "20/20 [==============================] - ETA: 0s - loss: 0.3209 - accuracy: 0.9952\n",
      "Epoch 00054: val_accuracy improved from 0.76623 to 0.77922, saving model to /tmp/checkpoint\n",
      "20/20 [==============================] - 3s 145ms/step - loss: 0.3209 - accuracy: 0.9952 - val_loss: 1.5189 - val_accuracy: 0.7792 - lr: 2.6214e-04\n",
      "Epoch 55/70\n",
      "20/20 [==============================] - ETA: 0s - loss: 0.2987 - accuracy: 1.0000\n",
      "Epoch 00055: val_accuracy improved from 0.77922 to 0.80519, saving model to /tmp/checkpoint\n",
      "20/20 [==============================] - 3s 156ms/step - loss: 0.2987 - accuracy: 1.0000 - val_loss: 1.4466 - val_accuracy: 0.8052 - lr: 2.6214e-04\n",
      "Epoch 56/70\n",
      "20/20 [==============================] - ETA: 0s - loss: 0.3193 - accuracy: 0.9968\n",
      "Epoch 00056: val_accuracy improved from 0.80519 to 0.83117, saving model to /tmp/checkpoint\n",
      "20/20 [==============================] - 3s 165ms/step - loss: 0.3193 - accuracy: 0.9968 - val_loss: 1.3925 - val_accuracy: 0.8312 - lr: 2.6214e-04\n",
      "Epoch 57/70\n",
      "20/20 [==============================] - ETA: 0s - loss: 0.3175 - accuracy: 0.9952\n",
      "Epoch 00057: val_accuracy did not improve from 0.83117\n",
      "20/20 [==============================] - 2s 93ms/step - loss: 0.3175 - accuracy: 0.9952 - val_loss: 1.5371 - val_accuracy: 0.8312 - lr: 2.6214e-04\n",
      "Epoch 58/70\n",
      "20/20 [==============================] - ETA: 0s - loss: 0.3013 - accuracy: 0.9968\n",
      "Epoch 00058: val_accuracy did not improve from 0.83117\n",
      "20/20 [==============================] - 2s 94ms/step - loss: 0.3013 - accuracy: 0.9968 - val_loss: 1.7533 - val_accuracy: 0.7662 - lr: 2.6214e-04\n",
      "Epoch 59/70\n",
      "20/20 [==============================] - ETA: 0s - loss: 0.3068 - accuracy: 0.9968\n",
      "Epoch 00059: val_accuracy did not improve from 0.83117\n",
      "20/20 [==============================] - 2s 94ms/step - loss: 0.3068 - accuracy: 0.9968 - val_loss: 1.5805 - val_accuracy: 0.7532 - lr: 2.6214e-04\n",
      "Epoch 60/70\n",
      "20/20 [==============================] - ETA: 0s - loss: 0.3151 - accuracy: 0.9952\n",
      "Epoch 00060: val_accuracy did not improve from 0.83117\n",
      "20/20 [==============================] - 2s 95ms/step - loss: 0.3151 - accuracy: 0.9952 - val_loss: 1.4752 - val_accuracy: 0.7922 - lr: 2.6214e-04\n",
      "Epoch 61/70\n",
      "20/20 [==============================] - ETA: 0s - loss: 0.3035 - accuracy: 0.9968\n",
      "Epoch 00061: val_accuracy did not improve from 0.83117\n",
      "20/20 [==============================] - 2s 94ms/step - loss: 0.3035 - accuracy: 0.9968 - val_loss: 1.3916 - val_accuracy: 0.7922 - lr: 2.6214e-04\n",
      "Epoch 62/70\n",
      "20/20 [==============================] - ETA: 0s - loss: 0.3041 - accuracy: 0.9984\n",
      "Epoch 00062: val_accuracy did not improve from 0.83117\n",
      "20/20 [==============================] - 2s 93ms/step - loss: 0.3041 - accuracy: 0.9984 - val_loss: 1.3779 - val_accuracy: 0.8052 - lr: 2.6214e-04\n",
      "Epoch 63/70\n",
      "20/20 [==============================] - ETA: 0s - loss: 0.3020 - accuracy: 0.9952\n",
      "Epoch 00063: val_accuracy did not improve from 0.83117\n",
      "20/20 [==============================] - 2s 93ms/step - loss: 0.3020 - accuracy: 0.9952 - val_loss: 1.4953 - val_accuracy: 0.7922 - lr: 2.6214e-04\n",
      "Epoch 64/70\n",
      "20/20 [==============================] - ETA: 0s - loss: 0.2982 - accuracy: 0.9984\n",
      "Epoch 00064: val_accuracy did not improve from 0.83117\n",
      "20/20 [==============================] - 2s 94ms/step - loss: 0.2982 - accuracy: 0.9984 - val_loss: 1.4597 - val_accuracy: 0.7922 - lr: 2.6214e-04\n",
      "Epoch 65/70\n",
      "20/20 [==============================] - ETA: 0s - loss: 0.3025 - accuracy: 0.9984\n",
      "Epoch 00065: val_accuracy did not improve from 0.83117\n",
      "20/20 [==============================] - 2s 96ms/step - loss: 0.3025 - accuracy: 0.9984 - val_loss: 1.4367 - val_accuracy: 0.7792 - lr: 2.6214e-04\n",
      "Epoch 66/70\n",
      "20/20 [==============================] - ETA: 0s - loss: 0.3036 - accuracy: 0.9984\n",
      "Epoch 00066: val_accuracy did not improve from 0.83117\n",
      "20/20 [==============================] - 2s 94ms/step - loss: 0.3036 - accuracy: 0.9984 - val_loss: 1.4507 - val_accuracy: 0.7922 - lr: 2.6214e-04\n",
      "Epoch 67/70\n",
      "20/20 [==============================] - ETA: 0s - loss: 0.2940 - accuracy: 1.0000\n",
      "Epoch 00067: val_accuracy did not improve from 0.83117\n",
      "\n",
      "Epoch 00067: ReduceLROnPlateau reducing learning rate to 0.00020971521735191345.\n",
      "20/20 [==============================] - 2s 93ms/step - loss: 0.2940 - accuracy: 1.0000 - val_loss: 1.4114 - val_accuracy: 0.7792 - lr: 2.6214e-04\n",
      "Epoch 68/70\n",
      "20/20 [==============================] - ETA: 0s - loss: 0.3024 - accuracy: 0.9968\n",
      "Epoch 00068: val_accuracy did not improve from 0.83117\n",
      "20/20 [==============================] - 2s 98ms/step - loss: 0.3024 - accuracy: 0.9968 - val_loss: 1.3601 - val_accuracy: 0.7922 - lr: 2.0972e-04\n",
      "Epoch 69/70\n",
      "20/20 [==============================] - ETA: 0s - loss: 0.3047 - accuracy: 0.9968\n",
      "Epoch 00069: val_accuracy did not improve from 0.83117\n",
      "20/20 [==============================] - 2s 98ms/step - loss: 0.3047 - accuracy: 0.9968 - val_loss: 1.3722 - val_accuracy: 0.8052 - lr: 2.0972e-04\n",
      "Epoch 70/70\n",
      "20/20 [==============================] - ETA: 0s - loss: 0.2983 - accuracy: 0.9968\n",
      "Epoch 00070: val_accuracy did not improve from 0.83117\n",
      "20/20 [==============================] - 2s 94ms/step - loss: 0.2983 - accuracy: 0.9968 - val_loss: 1.7276 - val_accuracy: 0.7403 - lr: 2.0972e-04\n"
     ]
    }
   ],
   "source": [
    "model=premodel(pixels,1024,mhandle,15,'softmax',\n",
    "               'sparse_categorical_crossentropy')\n",
    "history=model.fit(\n",
    "    x=x_train,y=np.squeeze(y_train),\n",
    "    batch_size=32,epochs=70,callbacks=cb(fw),\n",
    "    validation_data=(x_valid,np.squeeze(y_valid)))"
   ]
  },
  {
   "cell_type": "code",
   "execution_count": 10,
   "metadata": {
    "execution": {
     "iopub.execute_input": "2020-12-12T13:18:31.596214Z",
     "iopub.status.busy": "2020-12-12T13:18:31.595247Z",
     "iopub.status.idle": "2020-12-12T13:18:33.326225Z",
     "shell.execute_reply": "2020-12-12T13:18:33.325781Z"
    },
    "papermill": {
     "duration": 2.364106,
     "end_time": "2020-12-12T13:18:33.326322",
     "exception": false,
     "start_time": "2020-12-12T13:18:30.962216",
     "status": "completed"
    },
    "tags": []
   },
   "outputs": [
    {
     "name": "stdout",
     "output_type": "stream",
     "text": [
      "3/3 [==============================] - 0s 22ms/step - loss: 1.4620 - accuracy: 0.7403\n"
     ]
    },
    {
     "data": {
      "text/plain": [
       "[1.4620100259780884, 0.7402597665786743]"
      ]
     },
     "execution_count": 10,
     "metadata": {},
     "output_type": "execute_result"
    }
   ],
   "source": [
    "model.load_weights(fw)\n",
    "model.evaluate(x_test,np.squeeze(y_test))"
   ]
  },
  {
   "cell_type": "code",
   "execution_count": 11,
   "metadata": {
    "execution": {
     "iopub.execute_input": "2020-12-12T13:18:34.237899Z",
     "iopub.status.busy": "2020-12-12T13:18:34.235976Z",
     "iopub.status.idle": "2020-12-12T13:18:34.238643Z",
     "shell.execute_reply": "2020-12-12T13:18:34.239106Z"
    },
    "papermill": {
     "duration": 0.450478,
     "end_time": "2020-12-12T13:18:34.239225",
     "exception": false,
     "start_time": "2020-12-12T13:18:33.788747",
     "status": "completed"
    },
    "tags": []
   },
   "outputs": [],
   "source": [
    "[handle_base,pixels]=['mobilenet_v2_100_160',160]\n",
    "mhandle='https://tfhub.dev/google/imagenet/{}/classification/4'\\\n",
    ".format(handle_base)"
   ]
  },
  {
   "cell_type": "code",
   "execution_count": 12,
   "metadata": {
    "_kg_hide-output": true,
    "execution": {
     "iopub.execute_input": "2020-12-12T13:18:35.193005Z",
     "iopub.status.busy": "2020-12-12T13:18:35.190627Z",
     "iopub.status.idle": "2020-12-12T13:20:27.398707Z",
     "shell.execute_reply": "2020-12-12T13:20:27.400155Z"
    },
    "papermill": {
     "duration": 112.65789,
     "end_time": "2020-12-12T13:20:27.400365",
     "exception": false,
     "start_time": "2020-12-12T13:18:34.742475",
     "status": "completed"
    },
    "tags": []
   },
   "outputs": [
    {
     "name": "stdout",
     "output_type": "stream",
     "text": [
      "Epoch 1/70\n",
      "20/20 [==============================] - ETA: 0s - loss: 2.3186 - accuracy: 0.3955\n",
      "Epoch 00001: val_accuracy improved from -inf to 0.46753, saving model to /tmp/checkpoint\n",
      "20/20 [==============================] - 3s 160ms/step - loss: 2.3186 - accuracy: 0.3955 - val_loss: 7.1229 - val_accuracy: 0.4675 - lr: 0.0010\n",
      "Epoch 2/70\n",
      "20/20 [==============================] - ETA: 0s - loss: 1.2676 - accuracy: 0.7138\n",
      "Epoch 00002: val_accuracy did not improve from 0.46753\n",
      "20/20 [==============================] - 2s 88ms/step - loss: 1.2676 - accuracy: 0.7138 - val_loss: 6.5674 - val_accuracy: 0.4545 - lr: 0.0010\n",
      "Epoch 3/70\n",
      "19/20 [===========================>..] - ETA: 0s - loss: 1.2635 - accuracy: 0.6908\n",
      "Epoch 00003: val_accuracy improved from 0.46753 to 0.50649, saving model to /tmp/checkpoint\n",
      "20/20 [==============================] - 2s 108ms/step - loss: 1.2618 - accuracy: 0.6945 - val_loss: 4.1011 - val_accuracy: 0.5065 - lr: 0.0010\n",
      "Epoch 4/70\n",
      "19/20 [===========================>..] - ETA: 0s - loss: 0.8657 - accuracy: 0.8174\n",
      "Epoch 00004: val_accuracy did not improve from 0.50649\n",
      "20/20 [==============================] - 2s 87ms/step - loss: 0.8901 - accuracy: 0.8167 - val_loss: 4.3790 - val_accuracy: 0.4935 - lr: 0.0010\n",
      "Epoch 5/70\n",
      "19/20 [===========================>..] - ETA: 0s - loss: 1.1459 - accuracy: 0.7533\n",
      "Epoch 00005: val_accuracy did not improve from 0.50649\n",
      "20/20 [==============================] - 2s 86ms/step - loss: 1.1581 - accuracy: 0.7508 - val_loss: 3.5100 - val_accuracy: 0.4675 - lr: 0.0010\n",
      "Epoch 6/70\n",
      "19/20 [===========================>..] - ETA: 0s - loss: 1.0062 - accuracy: 0.8207\n",
      "Epoch 00006: val_accuracy improved from 0.50649 to 0.54545, saving model to /tmp/checkpoint\n",
      "20/20 [==============================] - 2s 103ms/step - loss: 1.0248 - accuracy: 0.8167 - val_loss: 3.4321 - val_accuracy: 0.5455 - lr: 0.0010\n",
      "Epoch 7/70\n",
      "20/20 [==============================] - ETA: 0s - loss: 0.8197 - accuracy: 0.8328\n",
      "Epoch 00007: val_accuracy did not improve from 0.54545\n",
      "20/20 [==============================] - 2s 87ms/step - loss: 0.8197 - accuracy: 0.8328 - val_loss: 4.0251 - val_accuracy: 0.5195 - lr: 0.0010\n",
      "Epoch 8/70\n",
      "19/20 [===========================>..] - ETA: 0s - loss: 0.7306 - accuracy: 0.8586\n",
      "Epoch 00008: val_accuracy improved from 0.54545 to 0.64935, saving model to /tmp/checkpoint\n",
      "20/20 [==============================] - 2s 104ms/step - loss: 0.7342 - accuracy: 0.8601 - val_loss: 2.5203 - val_accuracy: 0.6494 - lr: 0.0010\n",
      "Epoch 9/70\n",
      "19/20 [===========================>..] - ETA: 0s - loss: 0.8134 - accuracy: 0.8602\n",
      "Epoch 00009: val_accuracy did not improve from 0.64935\n",
      "20/20 [==============================] - 2s 86ms/step - loss: 0.8229 - accuracy: 0.8569 - val_loss: 3.1988 - val_accuracy: 0.5584 - lr: 0.0010\n",
      "Epoch 10/70\n",
      "19/20 [===========================>..] - ETA: 0s - loss: 0.7143 - accuracy: 0.8618\n",
      "Epoch 00010: val_accuracy did not improve from 0.64935\n",
      "20/20 [==============================] - 2s 86ms/step - loss: 0.7087 - accuracy: 0.8617 - val_loss: 3.3065 - val_accuracy: 0.5844 - lr: 0.0010\n",
      "Epoch 11/70\n",
      "20/20 [==============================] - ETA: 0s - loss: 0.4297 - accuracy: 0.9228\n",
      "Epoch 00011: val_accuracy did not improve from 0.64935\n",
      "20/20 [==============================] - 2s 86ms/step - loss: 0.4297 - accuracy: 0.9228 - val_loss: 2.5233 - val_accuracy: 0.6104 - lr: 0.0010\n",
      "Epoch 12/70\n",
      "19/20 [===========================>..] - ETA: 0s - loss: 0.3893 - accuracy: 0.9293\n",
      "Epoch 00012: val_accuracy did not improve from 0.64935\n",
      "20/20 [==============================] - 2s 86ms/step - loss: 0.3932 - accuracy: 0.9293 - val_loss: 4.3069 - val_accuracy: 0.6104 - lr: 0.0010\n",
      "Epoch 13/70\n",
      "20/20 [==============================] - ETA: 0s - loss: 0.6959 - accuracy: 0.8714\n",
      "Epoch 00013: val_accuracy did not improve from 0.64935\n",
      "\n",
      "Epoch 00013: ReduceLROnPlateau reducing learning rate to 0.000800000037997961.\n",
      "20/20 [==============================] - 2s 88ms/step - loss: 0.6959 - accuracy: 0.8714 - val_loss: 6.0239 - val_accuracy: 0.4935 - lr: 0.0010\n",
      "Epoch 14/70\n",
      "19/20 [===========================>..] - ETA: 0s - loss: 0.5081 - accuracy: 0.9112\n",
      "Epoch 00014: val_accuracy did not improve from 0.64935\n",
      "20/20 [==============================] - 2s 86ms/step - loss: 0.5100 - accuracy: 0.9084 - val_loss: 4.0192 - val_accuracy: 0.5974 - lr: 8.0000e-04\n",
      "Epoch 15/70\n",
      "19/20 [===========================>..] - ETA: 0s - loss: 0.3557 - accuracy: 0.9391\n",
      "Epoch 00015: val_accuracy did not improve from 0.64935\n",
      "20/20 [==============================] - 2s 86ms/step - loss: 0.3551 - accuracy: 0.9389 - val_loss: 3.0743 - val_accuracy: 0.5974 - lr: 8.0000e-04\n",
      "Epoch 16/70\n",
      "19/20 [===========================>..] - ETA: 0s - loss: 0.3328 - accuracy: 0.9556\n",
      "Epoch 00016: val_accuracy did not improve from 0.64935\n",
      "20/20 [==============================] - 2s 85ms/step - loss: 0.3606 - accuracy: 0.9534 - val_loss: 3.4440 - val_accuracy: 0.5195 - lr: 8.0000e-04\n",
      "Epoch 17/70\n",
      "19/20 [===========================>..] - ETA: 0s - loss: 0.4820 - accuracy: 0.9243\n",
      "Epoch 00017: val_accuracy improved from 0.64935 to 0.74026, saving model to /tmp/checkpoint\n",
      "20/20 [==============================] - 2s 104ms/step - loss: 0.4767 - accuracy: 0.9244 - val_loss: 1.6956 - val_accuracy: 0.7403 - lr: 8.0000e-04\n",
      "Epoch 18/70\n",
      "19/20 [===========================>..] - ETA: 0s - loss: 0.3532 - accuracy: 0.9490\n",
      "Epoch 00018: val_accuracy improved from 0.74026 to 0.77922, saving model to /tmp/checkpoint\n",
      "20/20 [==============================] - 2s 105ms/step - loss: 0.3693 - accuracy: 0.9453 - val_loss: 1.2132 - val_accuracy: 0.7792 - lr: 8.0000e-04\n",
      "Epoch 19/70\n",
      "19/20 [===========================>..] - ETA: 0s - loss: 0.3413 - accuracy: 0.9441\n",
      "Epoch 00019: val_accuracy did not improve from 0.77922\n",
      "20/20 [==============================] - 2s 85ms/step - loss: 0.3402 - accuracy: 0.9421 - val_loss: 1.6085 - val_accuracy: 0.7013 - lr: 8.0000e-04\n",
      "Epoch 20/70\n",
      "19/20 [===========================>..] - ETA: 0s - loss: 0.2128 - accuracy: 0.9720\n",
      "Epoch 00020: val_accuracy did not improve from 0.77922\n",
      "20/20 [==============================] - 2s 84ms/step - loss: 0.2224 - accuracy: 0.9711 - val_loss: 2.5046 - val_accuracy: 0.6753 - lr: 8.0000e-04\n",
      "Epoch 21/70\n",
      "19/20 [===========================>..] - ETA: 0s - loss: 0.2308 - accuracy: 0.9770\n",
      "Epoch 00021: val_accuracy did not improve from 0.77922\n",
      "20/20 [==============================] - 2s 95ms/step - loss: 0.2457 - accuracy: 0.9759 - val_loss: 1.7488 - val_accuracy: 0.7792 - lr: 8.0000e-04\n",
      "Epoch 22/70\n",
      "19/20 [===========================>..] - ETA: 0s - loss: 0.2940 - accuracy: 0.9638\n",
      "Epoch 00022: val_accuracy did not improve from 0.77922\n",
      "20/20 [==============================] - 2s 86ms/step - loss: 0.2904 - accuracy: 0.9646 - val_loss: 1.7704 - val_accuracy: 0.7273 - lr: 8.0000e-04\n",
      "Epoch 23/70\n",
      "19/20 [===========================>..] - ETA: 0s - loss: 0.2166 - accuracy: 0.9753\n",
      "Epoch 00023: val_accuracy did not improve from 0.77922\n",
      "\n",
      "Epoch 00023: ReduceLROnPlateau reducing learning rate to 0.0006400000303983689.\n",
      "20/20 [==============================] - 2s 85ms/step - loss: 0.2239 - accuracy: 0.9727 - val_loss: 1.5202 - val_accuracy: 0.7792 - lr: 8.0000e-04\n",
      "Epoch 24/70\n",
      "19/20 [===========================>..] - ETA: 0s - loss: 0.3104 - accuracy: 0.9688\n",
      "Epoch 00024: val_accuracy did not improve from 0.77922\n",
      "20/20 [==============================] - 2s 87ms/step - loss: 0.3065 - accuracy: 0.9695 - val_loss: 1.5931 - val_accuracy: 0.7013 - lr: 6.4000e-04\n",
      "Epoch 25/70\n",
      "19/20 [===========================>..] - ETA: 0s - loss: 0.2514 - accuracy: 0.9671\n",
      "Epoch 00025: val_accuracy improved from 0.77922 to 0.80519, saving model to /tmp/checkpoint\n",
      "20/20 [==============================] - 2s 106ms/step - loss: 0.2546 - accuracy: 0.9662 - val_loss: 1.0945 - val_accuracy: 0.8052 - lr: 6.4000e-04\n",
      "Epoch 26/70\n",
      "19/20 [===========================>..] - ETA: 0s - loss: 0.2825 - accuracy: 0.9671\n",
      "Epoch 00026: val_accuracy did not improve from 0.80519\n",
      "20/20 [==============================] - 2s 87ms/step - loss: 0.2806 - accuracy: 0.9678 - val_loss: 1.2610 - val_accuracy: 0.7143 - lr: 6.4000e-04\n",
      "Epoch 27/70\n",
      "20/20 [==============================] - ETA: 0s - loss: 0.2610 - accuracy: 0.9791\n",
      "Epoch 00027: val_accuracy did not improve from 0.80519\n",
      "20/20 [==============================] - 2s 89ms/step - loss: 0.2610 - accuracy: 0.9791 - val_loss: 1.8830 - val_accuracy: 0.6234 - lr: 6.4000e-04\n",
      "Epoch 28/70\n",
      "19/20 [===========================>..] - ETA: 0s - loss: 0.3695 - accuracy: 0.9523\n",
      "Epoch 00028: val_accuracy did not improve from 0.80519\n",
      "20/20 [==============================] - 2s 85ms/step - loss: 0.3871 - accuracy: 0.9469 - val_loss: 2.5619 - val_accuracy: 0.7143 - lr: 6.4000e-04\n",
      "Epoch 29/70\n",
      "19/20 [===========================>..] - ETA: 0s - loss: 0.2782 - accuracy: 0.9704\n",
      "Epoch 00029: val_accuracy did not improve from 0.80519\n",
      "20/20 [==============================] - 2s 85ms/step - loss: 0.2906 - accuracy: 0.9678 - val_loss: 2.7736 - val_accuracy: 0.6104 - lr: 6.4000e-04\n",
      "Epoch 30/70\n",
      "19/20 [===========================>..] - ETA: 0s - loss: 0.2983 - accuracy: 0.9523\n",
      "Epoch 00030: val_accuracy did not improve from 0.80519\n",
      "\n",
      "Epoch 00030: ReduceLROnPlateau reducing learning rate to 0.0005120000336319208.\n",
      "20/20 [==============================] - 2s 84ms/step - loss: 0.3043 - accuracy: 0.9502 - val_loss: 4.1964 - val_accuracy: 0.5065 - lr: 6.4000e-04\n",
      "Epoch 31/70\n",
      "19/20 [===========================>..] - ETA: 0s - loss: 0.2897 - accuracy: 0.9589\n",
      "Epoch 00031: val_accuracy did not improve from 0.80519\n",
      "20/20 [==============================] - 2s 85ms/step - loss: 0.2862 - accuracy: 0.9598 - val_loss: 2.1090 - val_accuracy: 0.6494 - lr: 5.1200e-04\n",
      "Epoch 32/70\n",
      "19/20 [===========================>..] - ETA: 0s - loss: 0.2317 - accuracy: 0.9803\n",
      "Epoch 00032: val_accuracy did not improve from 0.80519\n",
      "20/20 [==============================] - 2s 87ms/step - loss: 0.2298 - accuracy: 0.9807 - val_loss: 1.0563 - val_accuracy: 0.7013 - lr: 5.1200e-04\n",
      "Epoch 33/70\n",
      "19/20 [===========================>..] - ETA: 0s - loss: 0.1780 - accuracy: 0.9901\n",
      "Epoch 00033: val_accuracy improved from 0.80519 to 0.81818, saving model to /tmp/checkpoint\n",
      "20/20 [==============================] - 2s 102ms/step - loss: 0.1771 - accuracy: 0.9904 - val_loss: 0.7733 - val_accuracy: 0.8182 - lr: 5.1200e-04\n",
      "Epoch 34/70\n",
      "19/20 [===========================>..] - ETA: 0s - loss: 0.1800 - accuracy: 0.9918\n",
      "Epoch 00034: val_accuracy did not improve from 0.81818\n",
      "20/20 [==============================] - 2s 84ms/step - loss: 0.1793 - accuracy: 0.9920 - val_loss: 0.8310 - val_accuracy: 0.8182 - lr: 5.1200e-04\n",
      "Epoch 35/70\n",
      "19/20 [===========================>..] - ETA: 0s - loss: 0.1980 - accuracy: 0.9803\n",
      "Epoch 00035: val_accuracy did not improve from 0.81818\n",
      "20/20 [==============================] - 2s 85ms/step - loss: 0.2033 - accuracy: 0.9791 - val_loss: 0.9860 - val_accuracy: 0.8052 - lr: 5.1200e-04\n",
      "Epoch 36/70\n",
      "19/20 [===========================>..] - ETA: 0s - loss: 0.1804 - accuracy: 0.9918\n",
      "Epoch 00036: val_accuracy improved from 0.81818 to 0.83117, saving model to /tmp/checkpoint\n",
      "20/20 [==============================] - 2s 102ms/step - loss: 0.1851 - accuracy: 0.9904 - val_loss: 0.9651 - val_accuracy: 0.8312 - lr: 5.1200e-04\n",
      "Epoch 37/70\n",
      "19/20 [===========================>..] - ETA: 0s - loss: 0.1845 - accuracy: 0.9868\n",
      "Epoch 00037: val_accuracy did not improve from 0.83117\n",
      "20/20 [==============================] - 2s 85ms/step - loss: 0.1840 - accuracy: 0.9871 - val_loss: 1.0517 - val_accuracy: 0.7922 - lr: 5.1200e-04\n",
      "Epoch 38/70\n",
      "20/20 [==============================] - ETA: 0s - loss: 0.1827 - accuracy: 0.9823\n",
      "Epoch 00038: val_accuracy did not improve from 0.83117\n",
      "\n",
      "Epoch 00038: ReduceLROnPlateau reducing learning rate to 0.00040960004553198815.\n",
      "20/20 [==============================] - 2s 86ms/step - loss: 0.1827 - accuracy: 0.9823 - val_loss: 1.3946 - val_accuracy: 0.7792 - lr: 5.1200e-04\n",
      "Epoch 39/70\n",
      "19/20 [===========================>..] - ETA: 0s - loss: 0.1513 - accuracy: 0.9918\n",
      "Epoch 00039: val_accuracy did not improve from 0.83117\n",
      "20/20 [==============================] - 2s 85ms/step - loss: 0.1511 - accuracy: 0.9920 - val_loss: 1.3561 - val_accuracy: 0.7922 - lr: 4.0960e-04\n",
      "Epoch 40/70\n",
      "19/20 [===========================>..] - ETA: 0s - loss: 0.1536 - accuracy: 0.9984\n",
      "Epoch 00040: val_accuracy improved from 0.83117 to 0.84416, saving model to /tmp/checkpoint\n",
      "20/20 [==============================] - 2s 100ms/step - loss: 0.1531 - accuracy: 0.9984 - val_loss: 1.2924 - val_accuracy: 0.8442 - lr: 4.0960e-04\n",
      "Epoch 41/70\n",
      "19/20 [===========================>..] - ETA: 0s - loss: 0.1507 - accuracy: 0.9918\n",
      "Epoch 00041: val_accuracy did not improve from 0.84416\n",
      "20/20 [==============================] - 2s 84ms/step - loss: 0.1541 - accuracy: 0.9904 - val_loss: 1.4878 - val_accuracy: 0.8442 - lr: 4.0960e-04\n",
      "Epoch 42/70\n",
      "19/20 [===========================>..] - ETA: 0s - loss: 0.1688 - accuracy: 0.9868\n",
      "Epoch 00042: val_accuracy did not improve from 0.84416\n",
      "20/20 [==============================] - 2s 87ms/step - loss: 0.1680 - accuracy: 0.9871 - val_loss: 1.6384 - val_accuracy: 0.8182 - lr: 4.0960e-04\n",
      "Epoch 43/70\n",
      "19/20 [===========================>..] - ETA: 0s - loss: 0.1345 - accuracy: 1.0000\n",
      "Epoch 00043: val_accuracy did not improve from 0.84416\n",
      "\n",
      "Epoch 00043: ReduceLROnPlateau reducing learning rate to 0.00032768002711236477.\n",
      "20/20 [==============================] - 2s 87ms/step - loss: 0.1371 - accuracy: 0.9984 - val_loss: 1.4597 - val_accuracy: 0.8312 - lr: 4.0960e-04\n",
      "Epoch 44/70\n",
      "20/20 [==============================] - ETA: 0s - loss: 0.1782 - accuracy: 0.9968\n",
      "Epoch 00044: val_accuracy improved from 0.84416 to 0.88312, saving model to /tmp/checkpoint\n",
      "20/20 [==============================] - 2s 107ms/step - loss: 0.1782 - accuracy: 0.9968 - val_loss: 1.1876 - val_accuracy: 0.8831 - lr: 3.2768e-04\n",
      "Epoch 45/70\n",
      "19/20 [===========================>..] - ETA: 0s - loss: 0.1529 - accuracy: 0.9934\n",
      "Epoch 00045: val_accuracy did not improve from 0.88312\n",
      "20/20 [==============================] - 2s 84ms/step - loss: 0.1529 - accuracy: 0.9936 - val_loss: 1.0949 - val_accuracy: 0.8571 - lr: 3.2768e-04\n",
      "Epoch 46/70\n",
      "19/20 [===========================>..] - ETA: 0s - loss: 0.1611 - accuracy: 0.9934\n",
      "Epoch 00046: val_accuracy improved from 0.88312 to 0.90909, saving model to /tmp/checkpoint\n",
      "20/20 [==============================] - 2s 103ms/step - loss: 0.1606 - accuracy: 0.9936 - val_loss: 1.0888 - val_accuracy: 0.9091 - lr: 3.2768e-04\n",
      "Epoch 47/70\n",
      "19/20 [===========================>..] - ETA: 0s - loss: 0.1385 - accuracy: 0.9967\n",
      "Epoch 00047: val_accuracy did not improve from 0.90909\n",
      "20/20 [==============================] - 2s 86ms/step - loss: 0.1384 - accuracy: 0.9968 - val_loss: 1.0294 - val_accuracy: 0.8961 - lr: 3.2768e-04\n",
      "Epoch 48/70\n",
      "19/20 [===========================>..] - ETA: 0s - loss: 0.1484 - accuracy: 0.9951\n",
      "Epoch 00048: val_accuracy did not improve from 0.90909\n",
      "\n",
      "Epoch 00048: ReduceLROnPlateau reducing learning rate to 0.0002621440216898918.\n",
      "20/20 [==============================] - 2s 84ms/step - loss: 0.1484 - accuracy: 0.9952 - val_loss: 1.0498 - val_accuracy: 0.8571 - lr: 3.2768e-04\n",
      "Epoch 49/70\n",
      "19/20 [===========================>..] - ETA: 0s - loss: 0.1340 - accuracy: 1.0000\n",
      "Epoch 00049: val_accuracy did not improve from 0.90909\n",
      "20/20 [==============================] - 2s 85ms/step - loss: 0.1340 - accuracy: 1.0000 - val_loss: 1.0035 - val_accuracy: 0.8701 - lr: 2.6214e-04\n",
      "Epoch 50/70\n",
      "19/20 [===========================>..] - ETA: 0s - loss: 0.1366 - accuracy: 0.9984\n",
      "Epoch 00050: val_accuracy did not improve from 0.90909\n",
      "20/20 [==============================] - 2s 85ms/step - loss: 0.1443 - accuracy: 0.9968 - val_loss: 1.0318 - val_accuracy: 0.8571 - lr: 2.6214e-04\n",
      "Epoch 51/70\n",
      "19/20 [===========================>..] - ETA: 0s - loss: 0.1770 - accuracy: 0.9951\n",
      "Epoch 00051: val_accuracy did not improve from 0.90909\n",
      "20/20 [==============================] - 2s 85ms/step - loss: 0.1762 - accuracy: 0.9952 - val_loss: 1.2276 - val_accuracy: 0.8571 - lr: 2.6214e-04\n",
      "Epoch 52/70\n",
      "19/20 [===========================>..] - ETA: 0s - loss: 0.1427 - accuracy: 0.9984\n",
      "Epoch 00052: val_accuracy did not improve from 0.90909\n",
      "20/20 [==============================] - 2s 86ms/step - loss: 0.1509 - accuracy: 0.9968 - val_loss: 0.8317 - val_accuracy: 0.8571 - lr: 2.6214e-04\n",
      "Epoch 53/70\n",
      "19/20 [===========================>..] - ETA: 0s - loss: 0.1489 - accuracy: 0.9967\n",
      "Epoch 00053: val_accuracy did not improve from 0.90909\n",
      "\n",
      "Epoch 00053: ReduceLROnPlateau reducing learning rate to 0.00020971521735191345.\n",
      "20/20 [==============================] - 2s 91ms/step - loss: 0.1487 - accuracy: 0.9968 - val_loss: 1.0201 - val_accuracy: 0.8312 - lr: 2.6214e-04\n",
      "Epoch 00053: early stopping\n"
     ]
    }
   ],
   "source": [
    "model=premodel(pixels,1024,mhandle,15,'softmax',\n",
    "               'sparse_categorical_crossentropy')\n",
    "history=model.fit(\n",
    "    x=x_train,y=np.squeeze(y_train),\n",
    "    batch_size=32,epochs=70,callbacks=cb(fw),\n",
    "    validation_data=(x_valid,np.squeeze(y_valid)))"
   ]
  },
  {
   "cell_type": "code",
   "execution_count": 13,
   "metadata": {
    "execution": {
     "iopub.execute_input": "2020-12-12T13:20:29.012055Z",
     "iopub.status.busy": "2020-12-12T13:20:29.011433Z",
     "iopub.status.idle": "2020-12-12T13:20:29.800070Z",
     "shell.execute_reply": "2020-12-12T13:20:29.799570Z"
    },
    "papermill": {
     "duration": 1.584333,
     "end_time": "2020-12-12T13:20:29.800172",
     "exception": false,
     "start_time": "2020-12-12T13:20:28.215839",
     "status": "completed"
    },
    "tags": []
   },
   "outputs": [
    {
     "name": "stdout",
     "output_type": "stream",
     "text": [
      "3/3 [==============================] - 0s 9ms/step - loss: 1.8537 - accuracy: 0.7922\n"
     ]
    },
    {
     "data": {
      "text/plain": [
       "[1.8536626100540161, 0.7922077775001526]"
      ]
     },
     "execution_count": 13,
     "metadata": {},
     "output_type": "execute_result"
    }
   ],
   "source": [
    "model.load_weights(fw)\n",
    "model.evaluate(x_test,np.squeeze(y_test))"
   ]
  },
  {
   "cell_type": "code",
   "execution_count": 14,
   "metadata": {
    "execution": {
     "iopub.execute_input": "2020-12-12T13:20:31.367365Z",
     "iopub.status.busy": "2020-12-12T13:20:31.366752Z",
     "iopub.status.idle": "2020-12-12T13:20:31.508674Z",
     "shell.execute_reply": "2020-12-12T13:20:31.508239Z"
    },
    "papermill": {
     "duration": 0.936468,
     "end_time": "2020-12-12T13:20:31.508775",
     "exception": false,
     "start_time": "2020-12-12T13:20:30.572307",
     "status": "completed"
    },
    "tags": []
   },
   "outputs": [],
   "source": [
    "batch_size=64; img_size=x_train.shape[1]; epochs=30\n",
    "base_model=tf.keras.Sequential([\n",
    "    tkl.Input((img_size,img_size,3),name='input'),\n",
    "    tkl.Conv2D(32,(5,5),padding='same'),\n",
    "    tkl.Activation('relu'),\n",
    "    tkl.MaxPooling2D(pool_size=(2,2)),\n",
    "    tkl.Dropout(.25),\n",
    "    tkl.Conv2D(196,(5,5)),\n",
    "    tkl.Activation('relu'),    \n",
    "    tkl.MaxPooling2D(pool_size=(2,2)),\n",
    "    tkl.Dropout(.25),\n",
    "    tkl.GlobalMaxPooling2D(),    \n",
    "    tkl.Dense(512),\n",
    "    tkl.Activation('relu'),\n",
    "    tkl.Dropout(.25),\n",
    "    tkl.Dense(128),\n",
    "    tkl.Activation('relu'),\n",
    "    tkl.Dropout(.25),\n",
    "    tkl.Dense(15,activation='softmax')])\n",
    "adv_config=nsl.configs\\\n",
    ".make_adv_reg_config(multiplier=.2,adv_step_size=.05)\n",
    "adv_model=nsl.keras\\\n",
    ".AdversarialRegularization(base_model,adv_config=adv_config)\n",
    "adv_model.compile(\n",
    "    optimizer='adam',metrics=['accuracy'],\n",
    "    loss='sparse_categorical_crossentropy')"
   ]
  },
  {
   "cell_type": "code",
   "execution_count": 15,
   "metadata": {
    "_kg_hide-output": true,
    "execution": {
     "iopub.execute_input": "2020-12-12T13:20:33.532665Z",
     "iopub.status.busy": "2020-12-12T13:20:33.531740Z",
     "iopub.status.idle": "2020-12-12T13:21:28.043080Z",
     "shell.execute_reply": "2020-12-12T13:21:28.042577Z"
    },
    "papermill": {
     "duration": 55.749296,
     "end_time": "2020-12-12T13:21:28.043190",
     "exception": false,
     "start_time": "2020-12-12T13:20:32.293894",
     "status": "completed"
    },
    "tags": []
   },
   "outputs": [
    {
     "name": "stdout",
     "output_type": "stream",
     "text": [
      "Epoch 1/30\n",
      "10/10 - 2s - loss: 3.2176 - sparse_categorical_crossentropy: 2.6818 - sparse_categorical_accuracy: 0.0997 - scaled_adversarial_loss: 0.5358 - val_loss: 3.1845 - val_sparse_categorical_crossentropy: 2.6532 - val_sparse_categorical_accuracy: 0.1719 - val_scaled_adversarial_loss: 0.5313\n",
      "Epoch 2/30\n",
      "10/10 - 1s - loss: 2.9848 - sparse_categorical_crossentropy: 2.4855 - sparse_categorical_accuracy: 0.1431 - scaled_adversarial_loss: 0.4993 - val_loss: 2.8916 - val_sparse_categorical_crossentropy: 2.4087 - val_sparse_categorical_accuracy: 0.1719 - val_scaled_adversarial_loss: 0.4829\n",
      "Epoch 3/30\n",
      "10/10 - 1s - loss: 2.6436 - sparse_categorical_crossentropy: 2.2036 - sparse_categorical_accuracy: 0.2058 - scaled_adversarial_loss: 0.4401 - val_loss: 2.5238 - val_sparse_categorical_crossentropy: 2.1016 - val_sparse_categorical_accuracy: 0.2656 - val_scaled_adversarial_loss: 0.4222\n",
      "Epoch 4/30\n",
      "10/10 - 1s - loss: 2.3402 - sparse_categorical_crossentropy: 1.9353 - sparse_categorical_accuracy: 0.2781 - scaled_adversarial_loss: 0.4048 - val_loss: 2.3533 - val_sparse_categorical_crossentropy: 1.9589 - val_sparse_categorical_accuracy: 0.3125 - val_scaled_adversarial_loss: 0.3944\n",
      "Epoch 5/30\n",
      "10/10 - 1s - loss: 2.3234 - sparse_categorical_crossentropy: 1.9463 - sparse_categorical_accuracy: 0.2572 - scaled_adversarial_loss: 0.3771 - val_loss: 2.2887 - val_sparse_categorical_crossentropy: 1.9049 - val_sparse_categorical_accuracy: 0.3281 - val_scaled_adversarial_loss: 0.3838\n",
      "Epoch 6/30\n",
      "10/10 - 1s - loss: 2.2237 - sparse_categorical_crossentropy: 1.8478 - sparse_categorical_accuracy: 0.3103 - scaled_adversarial_loss: 0.3759 - val_loss: 2.2765 - val_sparse_categorical_crossentropy: 1.8943 - val_sparse_categorical_accuracy: 0.3438 - val_scaled_adversarial_loss: 0.3822\n",
      "Epoch 7/30\n",
      "10/10 - 1s - loss: 2.1909 - sparse_categorical_crossentropy: 1.8254 - sparse_categorical_accuracy: 0.3328 - scaled_adversarial_loss: 0.3654 - val_loss: 2.1459 - val_sparse_categorical_crossentropy: 1.7855 - val_sparse_categorical_accuracy: 0.4531 - val_scaled_adversarial_loss: 0.3604\n",
      "Epoch 8/30\n",
      "10/10 - 1s - loss: 2.1135 - sparse_categorical_crossentropy: 1.7557 - sparse_categorical_accuracy: 0.3537 - scaled_adversarial_loss: 0.3579 - val_loss: 2.0089 - val_sparse_categorical_crossentropy: 1.6710 - val_sparse_categorical_accuracy: 0.5156 - val_scaled_adversarial_loss: 0.3379\n",
      "Epoch 9/30\n",
      "10/10 - 1s - loss: 1.9570 - sparse_categorical_crossentropy: 1.6239 - sparse_categorical_accuracy: 0.4051 - scaled_adversarial_loss: 0.3332 - val_loss: 1.8795 - val_sparse_categorical_crossentropy: 1.5629 - val_sparse_categorical_accuracy: 0.5625 - val_scaled_adversarial_loss: 0.3166\n",
      "Epoch 10/30\n",
      "10/10 - 1s - loss: 1.9419 - sparse_categorical_crossentropy: 1.6238 - sparse_categorical_accuracy: 0.3714 - scaled_adversarial_loss: 0.3181 - val_loss: 1.8994 - val_sparse_categorical_crossentropy: 1.5794 - val_sparse_categorical_accuracy: 0.5781 - val_scaled_adversarial_loss: 0.3200\n",
      "Epoch 11/30\n",
      "10/10 - 1s - loss: 1.8389 - sparse_categorical_crossentropy: 1.5260 - sparse_categorical_accuracy: 0.4132 - scaled_adversarial_loss: 0.3129 - val_loss: 1.8343 - val_sparse_categorical_crossentropy: 1.5248 - val_sparse_categorical_accuracy: 0.5469 - val_scaled_adversarial_loss: 0.3095\n",
      "Epoch 12/30\n",
      "10/10 - 1s - loss: 1.7960 - sparse_categorical_crossentropy: 1.4966 - sparse_categorical_accuracy: 0.4486 - scaled_adversarial_loss: 0.2994 - val_loss: 1.7830 - val_sparse_categorical_crossentropy: 1.4820 - val_sparse_categorical_accuracy: 0.5625 - val_scaled_adversarial_loss: 0.3010\n",
      "Epoch 13/30\n",
      "10/10 - 1s - loss: 1.7420 - sparse_categorical_crossentropy: 1.4476 - sparse_categorical_accuracy: 0.4116 - scaled_adversarial_loss: 0.2944 - val_loss: 1.7993 - val_sparse_categorical_crossentropy: 1.4953 - val_sparse_categorical_accuracy: 0.4844 - val_scaled_adversarial_loss: 0.3040\n",
      "Epoch 14/30\n",
      "10/10 - 1s - loss: 1.7295 - sparse_categorical_crossentropy: 1.4480 - sparse_categorical_accuracy: 0.4148 - scaled_adversarial_loss: 0.2816 - val_loss: 1.7453 - val_sparse_categorical_crossentropy: 1.4502 - val_sparse_categorical_accuracy: 0.5625 - val_scaled_adversarial_loss: 0.2951\n",
      "Epoch 15/30\n",
      "10/10 - 1s - loss: 1.6442 - sparse_categorical_crossentropy: 1.3653 - sparse_categorical_accuracy: 0.4695 - scaled_adversarial_loss: 0.2789 - val_loss: 1.6937 - val_sparse_categorical_crossentropy: 1.4066 - val_sparse_categorical_accuracy: 0.5156 - val_scaled_adversarial_loss: 0.2871\n",
      "Epoch 16/30\n",
      "10/10 - 1s - loss: 1.5913 - sparse_categorical_crossentropy: 1.3231 - sparse_categorical_accuracy: 0.4839 - scaled_adversarial_loss: 0.2682 - val_loss: 1.6351 - val_sparse_categorical_crossentropy: 1.3577 - val_sparse_categorical_accuracy: 0.5625 - val_scaled_adversarial_loss: 0.2774\n",
      "Epoch 17/30\n",
      "10/10 - 1s - loss: 1.5432 - sparse_categorical_crossentropy: 1.2766 - sparse_categorical_accuracy: 0.5048 - scaled_adversarial_loss: 0.2665 - val_loss: 1.7058 - val_sparse_categorical_crossentropy: 1.4163 - val_sparse_categorical_accuracy: 0.5156 - val_scaled_adversarial_loss: 0.2895\n",
      "Epoch 18/30\n",
      "10/10 - 1s - loss: 1.5964 - sparse_categorical_crossentropy: 1.3300 - sparse_categorical_accuracy: 0.4743 - scaled_adversarial_loss: 0.2664 - val_loss: 1.7051 - val_sparse_categorical_crossentropy: 1.4152 - val_sparse_categorical_accuracy: 0.5000 - val_scaled_adversarial_loss: 0.2899\n",
      "Epoch 19/30\n",
      "10/10 - 1s - loss: 1.5706 - sparse_categorical_crossentropy: 1.3124 - sparse_categorical_accuracy: 0.4887 - scaled_adversarial_loss: 0.2583 - val_loss: 1.6001 - val_sparse_categorical_crossentropy: 1.3279 - val_sparse_categorical_accuracy: 0.5312 - val_scaled_adversarial_loss: 0.2722\n",
      "Epoch 20/30\n",
      "10/10 - 1s - loss: 1.4705 - sparse_categorical_crossentropy: 1.2153 - sparse_categorical_accuracy: 0.5113 - scaled_adversarial_loss: 0.2552 - val_loss: 1.6663 - val_sparse_categorical_crossentropy: 1.3829 - val_sparse_categorical_accuracy: 0.5312 - val_scaled_adversarial_loss: 0.2834\n",
      "Epoch 21/30\n",
      "10/10 - 1s - loss: 1.4548 - sparse_categorical_crossentropy: 1.2052 - sparse_categorical_accuracy: 0.5338 - scaled_adversarial_loss: 0.2496 - val_loss: 1.6059 - val_sparse_categorical_crossentropy: 1.3323 - val_sparse_categorical_accuracy: 0.5469 - val_scaled_adversarial_loss: 0.2736\n",
      "Epoch 22/30\n",
      "10/10 - 1s - loss: 1.4446 - sparse_categorical_crossentropy: 1.2057 - sparse_categorical_accuracy: 0.5096 - scaled_adversarial_loss: 0.2389 - val_loss: 1.6272 - val_sparse_categorical_crossentropy: 1.3496 - val_sparse_categorical_accuracy: 0.5000 - val_scaled_adversarial_loss: 0.2776\n",
      "Epoch 23/30\n",
      "10/10 - 1s - loss: 1.4284 - sparse_categorical_crossentropy: 1.1865 - sparse_categorical_accuracy: 0.5466 - scaled_adversarial_loss: 0.2419 - val_loss: 1.7577 - val_sparse_categorical_crossentropy: 1.4578 - val_sparse_categorical_accuracy: 0.4062 - val_scaled_adversarial_loss: 0.2999\n",
      "Epoch 24/30\n",
      "10/10 - 1s - loss: 1.4047 - sparse_categorical_crossentropy: 1.1675 - sparse_categorical_accuracy: 0.5547 - scaled_adversarial_loss: 0.2373 - val_loss: 1.5543 - val_sparse_categorical_crossentropy: 1.2888 - val_sparse_categorical_accuracy: 0.5625 - val_scaled_adversarial_loss: 0.2655\n",
      "Epoch 25/30\n",
      "10/10 - 1s - loss: 1.3195 - sparse_categorical_crossentropy: 1.0913 - sparse_categorical_accuracy: 0.5772 - scaled_adversarial_loss: 0.2282 - val_loss: 1.6017 - val_sparse_categorical_crossentropy: 1.3274 - val_sparse_categorical_accuracy: 0.5156 - val_scaled_adversarial_loss: 0.2744\n",
      "Epoch 26/30\n",
      "10/10 - 1s - loss: 1.3856 - sparse_categorical_crossentropy: 1.1545 - sparse_categorical_accuracy: 0.5338 - scaled_adversarial_loss: 0.2310 - val_loss: 1.6389 - val_sparse_categorical_crossentropy: 1.3589 - val_sparse_categorical_accuracy: 0.4844 - val_scaled_adversarial_loss: 0.2800\n",
      "Epoch 27/30\n",
      "10/10 - 1s - loss: 1.3332 - sparse_categorical_crossentropy: 1.1109 - sparse_categorical_accuracy: 0.5579 - scaled_adversarial_loss: 0.2223 - val_loss: 1.5594 - val_sparse_categorical_crossentropy: 1.2931 - val_sparse_categorical_accuracy: 0.5156 - val_scaled_adversarial_loss: 0.2663\n",
      "Epoch 28/30\n",
      "10/10 - 1s - loss: 1.3156 - sparse_categorical_crossentropy: 1.0937 - sparse_categorical_accuracy: 0.5595 - scaled_adversarial_loss: 0.2219 - val_loss: 1.5182 - val_sparse_categorical_crossentropy: 1.2585 - val_sparse_categorical_accuracy: 0.5469 - val_scaled_adversarial_loss: 0.2598\n",
      "Epoch 29/30\n",
      "10/10 - 1s - loss: 1.3300 - sparse_categorical_crossentropy: 1.1039 - sparse_categorical_accuracy: 0.5643 - scaled_adversarial_loss: 0.2262 - val_loss: 1.5622 - val_sparse_categorical_crossentropy: 1.2944 - val_sparse_categorical_accuracy: 0.5156 - val_scaled_adversarial_loss: 0.2678\n",
      "Epoch 30/30\n",
      "10/10 - 1s - loss: 1.3435 - sparse_categorical_crossentropy: 1.1083 - sparse_categorical_accuracy: 0.5563 - scaled_adversarial_loss: 0.2353 - val_loss: 1.5644 - val_sparse_categorical_crossentropy: 1.2968 - val_sparse_categorical_accuracy: 0.5469 - val_scaled_adversarial_loss: 0.2676\n"
     ]
    },
    {
     "data": {
      "text/plain": [
       "<tensorflow.python.keras.callbacks.History at 0x7fc942eae510>"
      ]
     },
     "execution_count": 15,
     "metadata": {},
     "output_type": "execute_result"
    }
   ],
   "source": [
    "train=tf.data.Dataset.from_tensor_slices(\n",
    "    {'input':x_train,'label':np.squeeze(y_train)})\\\n",
    "     .batch(batch_size)\n",
    "valid=tf.data.Dataset.from_tensor_slices(\n",
    "    {'input':x_valid,'label':np.squeeze(y_valid)})\\\n",
    "     .batch(batch_size)\n",
    "valid_steps=x_valid.shape[0]//batch_size\n",
    "adv_model.fit(train,validation_data=valid,verbose=2,\n",
    "              validation_steps=valid_steps,epochs=epochs)"
   ]
  },
  {
   "cell_type": "code",
   "execution_count": 16,
   "metadata": {
    "execution": {
     "iopub.execute_input": "2020-12-12T13:21:29.876531Z",
     "iopub.status.busy": "2020-12-12T13:21:29.875719Z",
     "iopub.status.idle": "2020-12-12T13:21:30.522529Z",
     "shell.execute_reply": "2020-12-12T13:21:30.523005Z"
    },
    "papermill": {
     "duration": 1.64568,
     "end_time": "2020-12-12T13:21:30.523139",
     "exception": false,
     "start_time": "2020-12-12T13:21:28.877459",
     "status": "completed"
    },
    "tags": []
   },
   "outputs": [
    {
     "name": "stdout",
     "output_type": "stream",
     "text": [
      "3/3 [==============================] - 0s 42ms/step - loss: 1.9308 - sparse_categorical_crossentropy: 1.6015 - sparse_categorical_accuracy: 0.3636 - scaled_adversarial_loss: 0.3293\n"
     ]
    },
    {
     "data": {
      "text/plain": [
       "[1.9308395385742188, 1.601500391960144, 0.3636363744735718, 0.3293393552303314]"
      ]
     },
     "execution_count": 16,
     "metadata": {},
     "output_type": "execute_result"
    }
   ],
   "source": [
    "adv_model.evaluate(\n",
    "    {'input':x_test,'label':np.squeeze(y_test)})"
   ]
  }
 ],
 "metadata": {
  "kernelspec": {
   "display_name": "Python 3",
   "language": "python",
   "name": "python3"
  },
  "language_info": {
   "codemirror_mode": {
    "name": "ipython",
    "version": 3
   },
   "file_extension": ".py",
   "mimetype": "text/x-python",
   "name": "python",
   "nbconvert_exporter": "python",
   "pygments_lexer": "ipython3",
   "version": "3.7.6"
  },
  "papermill": {
   "duration": 401.008429,
   "end_time": "2020-12-12T13:21:32.779584",
   "environment_variables": {},
   "exception": null,
   "input_path": "__notebook__.ipynb",
   "output_path": "__notebook__.ipynb",
   "parameters": {},
   "start_time": "2020-12-12T13:14:51.771155",
   "version": "2.1.0"
  }
 },
 "nbformat": 4,
 "nbformat_minor": 4
}
