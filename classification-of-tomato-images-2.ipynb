{
 "cells": [
  {
   "cell_type": "markdown",
   "metadata": {
    "papermill": {
     "duration": 0.013971,
     "end_time": "2020-12-12T01:28:01.692976",
     "exception": false,
     "start_time": "2020-12-12T01:28:01.679005",
     "status": "completed"
    },
    "tags": []
   },
   "source": [
    "[Google Colaboratory Variant](https://colab.research.google.com/drive/1pymaadPUhSm0T9N5h44ls-mAcrylfa2F)\n",
    "## Code Modules & Functions"
   ]
  },
  {
   "cell_type": "code",
   "execution_count": 1,
   "metadata": {
    "_kg_hide-input": true,
    "execution": {
     "iopub.execute_input": "2020-12-12T01:28:01.726239Z",
     "iopub.status.busy": "2020-12-12T01:28:01.725521Z",
     "iopub.status.idle": "2020-12-12T01:28:19.772426Z",
     "shell.execute_reply": "2020-12-12T01:28:19.771811Z"
    },
    "papermill": {
     "duration": 18.066944,
     "end_time": "2020-12-12T01:28:19.772561",
     "exception": false,
     "start_time": "2020-12-12T01:28:01.705617",
     "status": "completed"
    },
    "tags": []
   },
   "outputs": [],
   "source": [
    "!pip install --upgrade pip \\\n",
    "--user --quiet --no-warn-script-location\n",
    "!pip install --upgrade neural_structured_learning \\\n",
    "--user --quiet --no-warn-script-location"
   ]
  },
  {
   "cell_type": "code",
   "execution_count": 2,
   "metadata": {
    "_cell_guid": "b1076dfc-b9ad-4769-8c92-a6c4dae69d19",
    "_uuid": "8f2839f25d086af736a60e9eeb907d3b93b6e0e5",
    "execution": {
     "iopub.execute_input": "2020-12-12T01:28:19.808267Z",
     "iopub.status.busy": "2020-12-12T01:28:19.807205Z",
     "iopub.status.idle": "2020-12-12T01:28:21.054309Z",
     "shell.execute_reply": "2020-12-12T01:28:21.053668Z"
    },
    "papermill": {
     "duration": 1.268511,
     "end_time": "2020-12-12T01:28:21.054431",
     "exception": false,
     "start_time": "2020-12-12T01:28:19.785920",
     "status": "completed"
    },
    "tags": []
   },
   "outputs": [],
   "source": [
    "import warnings; warnings.filterwarnings('ignore')\n",
    "import pandas as pd,numpy as np\n",
    "import tensorflow_hub as th,tensorflow as tf\n",
    "import neural_structured_learning as nsl\n",
    "import h5py,os,pandas as pd,numpy as np\n",
    "import seaborn as sn,pylab as pl\n",
    "import tensorflow.keras.callbacks as tkc,\\\n",
    "tensorflow.keras.utils as tku,tensorflow.keras.layers as tkl\n",
    "import tensorflow.keras.preprocessing.image as tkimg"
   ]
  },
  {
   "cell_type": "code",
   "execution_count": 3,
   "metadata": {
    "_cell_guid": "79c7e3d0-c299-4dcb-8224-4455121ee9b0",
    "_kg_hide-input": true,
    "_uuid": "d629ff2d2480ee46fbb7e2d37f6b5fab8052498a",
    "execution": {
     "iopub.execute_input": "2020-12-12T01:28:21.100131Z",
     "iopub.status.busy": "2020-12-12T01:28:21.099053Z",
     "iopub.status.idle": "2020-12-12T01:28:21.102183Z",
     "shell.execute_reply": "2020-12-12T01:28:21.101624Z"
    },
    "papermill": {
     "duration": 0.034795,
     "end_time": "2020-12-12T01:28:21.102298",
     "exception": false,
     "start_time": "2020-12-12T01:28:21.067503",
     "status": "completed"
    },
    "tags": []
   },
   "outputs": [],
   "source": [
    "def images2array(files_path,img_size,\n",
    "                 preprocess=False,grayscale=False):\n",
    "    files_list=sorted(os.listdir(files_path))\n",
    "    n,img_array=len(files_list),[]\n",
    "    for i in range(n):\n",
    "        if i%round(.1*n)==0:\n",
    "            print('=>',end='',flush=True)\n",
    "        img_path=files_path+files_list[i]\n",
    "        if preprocess:\n",
    "            img=tkimg.load_img(\n",
    "                img_path,grayscale=grayscale)\n",
    "            img=tkimg.img_to_array(img)\n",
    "            img=tkimg.smart_resize(\n",
    "                img,(img_size,img_size))\n",
    "        else:\n",
    "            img=tkimg.load_img(\n",
    "                img_path,target_size=(img_size,img_size))\n",
    "            img=tkimg.img_to_array(img)\n",
    "        img=np.expand_dims(img,axis=0)/255\n",
    "        img_array.append(img)\n",
    "    return np.array(np.vstack(img_array),\n",
    "                    dtype='float32')\n",
    "def labels2array(files_path):\n",
    "    files_list=sorted(os.listdir(files_path))\n",
    "    files_split=np.array([el.split('_') \n",
    "                          for el in files_list])\n",
    "    num_labels=files_split.shape[1]-1\n",
    "    labels=[files_split[:,i] \n",
    "            for i in range(num_labels)]\n",
    "    labels=np.array(labels).astype('int32')\n",
    "    for i in range(num_labels):\n",
    "        label_set=list(set(labels[i]))\n",
    "        replace_dict=\\\n",
    "        dict(zip(label_set,\n",
    "                 list(range(len(label_set)))))\n",
    "        labels[i]=[replace_dict.get(x,x) \n",
    "                   for x in labels[i]]\n",
    "    return labels"
   ]
  },
  {
   "cell_type": "markdown",
   "metadata": {
    "papermill": {
     "duration": 0.012722,
     "end_time": "2020-12-12T01:28:21.128215",
     "exception": false,
     "start_time": "2020-12-12T01:28:21.115493",
     "status": "completed"
    },
    "tags": []
   },
   "source": [
    "## Data"
   ]
  },
  {
   "cell_type": "code",
   "execution_count": 4,
   "metadata": {
    "_kg_hide-input": true,
    "execution": {
     "iopub.execute_input": "2020-12-12T01:28:21.165910Z",
     "iopub.status.busy": "2020-12-12T01:28:21.163389Z",
     "iopub.status.idle": "2020-12-12T01:28:27.217758Z",
     "shell.execute_reply": "2020-12-12T01:28:27.217031Z"
    },
    "papermill": {
     "duration": 6.076496,
     "end_time": "2020-12-12T01:28:27.217897",
     "exception": false,
     "start_time": "2020-12-12T01:28:21.141401",
     "status": "completed"
    },
    "tags": []
   },
   "outputs": [
    {
     "name": "stdout",
     "output_type": "stream",
     "text": [
      "=>=>=>=>=>=>=>=>=>=>"
     ]
    }
   ],
   "source": [
    "files_path='../input/tomato-cultivars/'\n",
    "img_size=160\n",
    "names=[['Kumato','Beefsteak','Tigerella',\n",
    "        'Roma','Japanese Black Trifele',\n",
    "        'Yellow Pear','Sun Gold','Green Zebra',\n",
    "        'Cherokee Purple','Oxheart','Blue Berries',\n",
    "        'San Marzano','Banana Legs',\n",
    "        'German Orange Strawberry','Supersweet 100']]\n",
    "images=images2array(files_path,img_size)\n",
    "labels=labels2array(files_path)\n",
    "N=images.shape[0]; n=int(.1*N)\n",
    "shuffle_ids=np.arange(N)\n",
    "np.random.RandomState(12).shuffle(shuffle_ids)\n",
    "images=images[shuffle_ids]\n",
    "labels=np.array([labels[i][shuffle_ids]\n",
    "                 for i in range(labels.shape[0])])\n",
    "x_test,x_valid,x_train=\\\n",
    "images[:n],images[n:2*n],images[2*n:]\n",
    "y_test,y_valid,y_train=\\\n",
    "labels[:,:n],labels[:,n:2*n],labels[:,2*n:]"
   ]
  },
  {
   "cell_type": "code",
   "execution_count": 5,
   "metadata": {
    "_kg_hide-input": true,
    "execution": {
     "iopub.execute_input": "2020-12-12T01:28:27.277605Z",
     "iopub.status.busy": "2020-12-12T01:28:27.268299Z",
     "iopub.status.idle": "2020-12-12T01:28:27.290562Z",
     "shell.execute_reply": "2020-12-12T01:28:27.290036Z"
    },
    "papermill": {
     "duration": 0.055695,
     "end_time": "2020-12-12T01:28:27.290681",
     "exception": false,
     "start_time": "2020-12-12T01:28:27.234986",
     "status": "completed"
    },
    "tags": []
   },
   "outputs": [
    {
     "data": {
      "text/html": [
       "<div>\n",
       "<style scoped>\n",
       "    .dataframe tbody tr th:only-of-type {\n",
       "        vertical-align: middle;\n",
       "    }\n",
       "\n",
       "    .dataframe tbody tr th {\n",
       "        vertical-align: top;\n",
       "    }\n",
       "\n",
       "    .dataframe thead th {\n",
       "        text-align: right;\n",
       "    }\n",
       "</style>\n",
       "<table border=\"1\" class=\"dataframe\">\n",
       "  <thead>\n",
       "    <tr style=\"text-align: right;\">\n",
       "      <th></th>\n",
       "      <th>train</th>\n",
       "      <th>valid</th>\n",
       "      <th>test</th>\n",
       "    </tr>\n",
       "  </thead>\n",
       "  <tbody>\n",
       "    <tr>\n",
       "      <th>image shape</th>\n",
       "      <td>(622, 160, 160, 3)</td>\n",
       "      <td>(77, 160, 160, 3)</td>\n",
       "      <td>(77, 160, 160, 3)</td>\n",
       "    </tr>\n",
       "    <tr>\n",
       "      <th>image type</th>\n",
       "      <td>float32</td>\n",
       "      <td>float32</td>\n",
       "      <td>float32</td>\n",
       "    </tr>\n",
       "    <tr>\n",
       "      <th>label shape</th>\n",
       "      <td>(1, 622)</td>\n",
       "      <td>(1, 77)</td>\n",
       "      <td>(1, 77)</td>\n",
       "    </tr>\n",
       "    <tr>\n",
       "      <th>label type</th>\n",
       "      <td>int32</td>\n",
       "      <td>int32</td>\n",
       "      <td>int32</td>\n",
       "    </tr>\n",
       "  </tbody>\n",
       "</table>\n",
       "</div>"
      ],
      "text/plain": [
       "                          train              valid               test\n",
       "image shape  (622, 160, 160, 3)  (77, 160, 160, 3)  (77, 160, 160, 3)\n",
       "image type              float32            float32            float32\n",
       "label shape            (1, 622)            (1, 77)            (1, 77)\n",
       "label type                int32              int32              int32"
      ]
     },
     "execution_count": 5,
     "metadata": {},
     "output_type": "execute_result"
    }
   ],
   "source": [
    "df=pd.DataFrame(\n",
    "    [[x_train.shape,x_valid.shape,x_test.shape],\n",
    "     [x_train.dtype,x_valid.dtype,x_test.dtype],\n",
    "     [y_train.shape,y_valid.shape,y_test.shape],\n",
    "     [y_train.dtype,y_valid.dtype,y_test.dtype]],\n",
    "    columns=['train','valid','test'],\n",
    "    index=['image shape','image type',\n",
    "           'label shape','label type'])\n",
    "df"
   ]
  },
  {
   "cell_type": "code",
   "execution_count": 6,
   "metadata": {
    "_kg_hide-input": true,
    "execution": {
     "iopub.execute_input": "2020-12-12T01:28:27.344013Z",
     "iopub.status.busy": "2020-12-12T01:28:27.343292Z",
     "iopub.status.idle": "2020-12-12T01:28:27.618946Z",
     "shell.execute_reply": "2020-12-12T01:28:27.618365Z"
    },
    "papermill": {
     "duration": 0.309764,
     "end_time": "2020-12-12T01:28:27.619068",
     "exception": false,
     "start_time": "2020-12-12T01:28:27.309304",
     "status": "completed"
    },
    "tags": []
   },
   "outputs": [
    {
     "data": {
      "image/png": "[encoded data removed]",
      "text/plain": [
       "<Figure size 648x216 with 1 Axes>"
      ]
     },
     "metadata": {
      "needs_background": "light"
     },
     "output_type": "display_data"
    }
   ],
   "source": [
    "cmap='tab20'\n",
    "idx=['labels %d'%(i+1) for i in range(labels.shape[0])]\n",
    "df=pd.DataFrame(labels,index=idx).T\n",
    "for i in range(labels.shape[0]):\n",
    "    df['name %d'%(i+1)]=\\\n",
    "    [names[i][l] for l in labels[i]]\n",
    "fig=pl.figure(figsize=(9,3))    \n",
    "for i in range(labels.shape[0]):\n",
    "    ax=fig.add_subplot(labels.shape[0],1,i+1)\n",
    "    sn.countplot(y='name %s'%(i+1),data=df,\n",
    "                 palette=cmap,alpha=.5,ax=ax)\n",
    "pl.show()"
   ]
  },
  {
   "cell_type": "markdown",
   "metadata": {
    "papermill": {
     "duration": 0.017968,
     "end_time": "2020-12-12T01:28:27.656243",
     "exception": false,
     "start_time": "2020-12-12T01:28:27.638275",
     "status": "completed"
    },
    "tags": []
   },
   "source": [
    "## NN Examples"
   ]
  },
  {
   "cell_type": "code",
   "execution_count": 7,
   "metadata": {
    "_kg_hide-input": true,
    "execution": {
     "iopub.execute_input": "2020-12-12T01:28:27.706199Z",
     "iopub.status.busy": "2020-12-12T01:28:27.702240Z",
     "iopub.status.idle": "2020-12-12T01:28:27.709620Z",
     "shell.execute_reply": "2020-12-12T01:28:27.708985Z"
    },
    "papermill": {
     "duration": 0.035361,
     "end_time": "2020-12-12T01:28:27.709738",
     "exception": false,
     "start_time": "2020-12-12T01:28:27.674377",
     "status": "completed"
    },
    "tags": []
   },
   "outputs": [],
   "source": [
    "def premodel(pix,den,mh,lbl,activ,loss):\n",
    "    model=tf.keras.Sequential([\n",
    "        tkl.Input((pix,pix,int(3)),name='input'),\n",
    "        th.KerasLayer(mh,trainable=True),\n",
    "        tkl.Flatten(),\n",
    "        tkl.Dense(den,activation='relu'),\n",
    "        tkl.Dropout(rate=.5),\n",
    "        tkl.Dense(lbl,activation=activ)])\n",
    "    model.compile(optimizer='adam',metrics=['accuracy'],loss=loss)\n",
    "    return model\n",
    "def cb(fw):\n",
    "    early_stopping=tkc.EarlyStopping(\n",
    "        monitor='val_loss',patience=int(20),verbose=int(2))\n",
    "    checkpointer=tkc.ModelCheckpoint(\n",
    "        filepath=fw,verbose=int(2),save_weights_only=True,\n",
    "        monitor='val_accuracy',mode='max',save_best_only=True)\n",
    "    lr_reduction=tkc.ReduceLROnPlateau(\n",
    "        monitor='val_loss',verbose=int(2),patience=int(5),factor=.8)\n",
    "    return [checkpointer,early_stopping,lr_reduction]"
   ]
  },
  {
   "cell_type": "code",
   "execution_count": 8,
   "metadata": {
    "execution": {
     "iopub.execute_input": "2020-12-12T01:28:27.753179Z",
     "iopub.status.busy": "2020-12-12T01:28:27.752380Z",
     "iopub.status.idle": "2020-12-12T01:28:27.755254Z",
     "shell.execute_reply": "2020-12-12T01:28:27.754594Z"
    },
    "papermill": {
     "duration": 0.027185,
     "end_time": "2020-12-12T01:28:27.755367",
     "exception": false,
     "start_time": "2020-12-12T01:28:27.728182",
     "status": "completed"
    },
    "tags": []
   },
   "outputs": [],
   "source": [
    "fw='/tmp/checkpoint'\n",
    "[handle_base,pixels]=['inception_v3',160]\n",
    "mhandle='https://tfhub.dev/google/imagenet/{}/classification/4'\\\n",
    ".format(handle_base)"
   ]
  },
  {
   "cell_type": "code",
   "execution_count": 9,
   "metadata": {
    "_kg_hide-output": true,
    "execution": {
     "iopub.execute_input": "2020-12-12T01:28:27.802047Z",
     "iopub.status.busy": "2020-12-12T01:28:27.801347Z",
     "iopub.status.idle": "2020-12-12T02:43:35.969963Z",
     "shell.execute_reply": "2020-12-12T02:43:35.969099Z"
    },
    "papermill": {
     "duration": 4508.196232,
     "end_time": "2020-12-12T02:43:35.970190",
     "exception": false,
     "start_time": "2020-12-12T01:28:27.773958",
     "status": "completed"
    },
    "tags": []
   },
   "outputs": [
    {
     "name": "stdout",
     "output_type": "stream",
     "text": [
      "Epoch 1/70\n",
      "20/20 [==============================] - ETA: 0s - loss: 3.5097 - accuracy: 0.1431\n",
      "Epoch 00001: val_accuracy improved from -inf to 0.09091, saving model to /tmp/checkpoint\n",
      "20/20 [==============================] - 84s 4s/step - loss: 3.5097 - accuracy: 0.1431 - val_loss: 171.1044 - val_accuracy: 0.0909 - lr: 0.0010\n",
      "Epoch 2/70\n",
      "20/20 [==============================] - ETA: 0s - loss: 2.4427 - accuracy: 0.4309\n",
      "Epoch 00002: val_accuracy did not improve from 0.09091\n",
      "20/20 [==============================] - 82s 4s/step - loss: 2.4427 - accuracy: 0.4309 - val_loss: 42.1297 - val_accuracy: 0.0779 - lr: 0.0010\n",
      "Epoch 3/70\n",
      "20/20 [==============================] - ETA: 0s - loss: 1.7791 - accuracy: 0.5691\n",
      "Epoch 00003: val_accuracy did not improve from 0.09091\n",
      "20/20 [==============================] - 81s 4s/step - loss: 1.7791 - accuracy: 0.5691 - val_loss: 7.1724 - val_accuracy: 0.0649 - lr: 0.0010\n",
      "Epoch 4/70\n",
      "20/20 [==============================] - ETA: 0s - loss: 1.5098 - accuracy: 0.6704\n",
      "Epoch 00004: val_accuracy improved from 0.09091 to 0.20779, saving model to /tmp/checkpoint\n",
      "20/20 [==============================] - 83s 4s/step - loss: 1.5098 - accuracy: 0.6704 - val_loss: 120.9248 - val_accuracy: 0.2078 - lr: 0.0010\n",
      "Epoch 5/70\n",
      "20/20 [==============================] - ETA: 0s - loss: 1.2060 - accuracy: 0.7267\n",
      "Epoch 00005: val_accuracy improved from 0.20779 to 0.23377, saving model to /tmp/checkpoint\n",
      "20/20 [==============================] - 82s 4s/step - loss: 1.2060 - accuracy: 0.7267 - val_loss: 17.4159 - val_accuracy: 0.2338 - lr: 0.0010\n",
      "Epoch 6/70\n",
      "20/20 [==============================] - ETA: 0s - loss: 1.2648 - accuracy: 0.7331\n",
      "Epoch 00006: val_accuracy improved from 0.23377 to 0.27273, saving model to /tmp/checkpoint\n",
      "20/20 [==============================] - 82s 4s/step - loss: 1.2648 - accuracy: 0.7331 - val_loss: 4.3486 - val_accuracy: 0.2727 - lr: 0.0010\n",
      "Epoch 7/70\n",
      "20/20 [==============================] - ETA: 0s - loss: 1.0575 - accuracy: 0.7942\n",
      "Epoch 00007: val_accuracy improved from 0.27273 to 0.41558, saving model to /tmp/checkpoint\n",
      "20/20 [==============================] - 84s 4s/step - loss: 1.0575 - accuracy: 0.7942 - val_loss: 3.6420 - val_accuracy: 0.4156 - lr: 0.0010\n",
      "Epoch 8/70\n",
      "20/20 [==============================] - ETA: 0s - loss: 1.1218 - accuracy: 0.7862\n",
      "Epoch 00008: val_accuracy did not improve from 0.41558\n",
      "20/20 [==============================] - 80s 4s/step - loss: 1.1218 - accuracy: 0.7862 - val_loss: 28.3807 - val_accuracy: 0.2338 - lr: 0.0010\n",
      "Epoch 9/70\n",
      "20/20 [==============================] - ETA: 0s - loss: 0.8832 - accuracy: 0.8392\n",
      "Epoch 00009: val_accuracy did not improve from 0.41558\n",
      "20/20 [==============================] - 81s 4s/step - loss: 0.8832 - accuracy: 0.8392 - val_loss: 4.7911 - val_accuracy: 0.3377 - lr: 0.0010\n",
      "Epoch 10/70\n",
      "20/20 [==============================] - ETA: 0s - loss: 0.7679 - accuracy: 0.8730\n",
      "Epoch 00010: val_accuracy did not improve from 0.41558\n",
      "20/20 [==============================] - 80s 4s/step - loss: 0.7679 - accuracy: 0.8730 - val_loss: 3.7097 - val_accuracy: 0.3896 - lr: 0.0010\n",
      "Epoch 11/70\n",
      "20/20 [==============================] - ETA: 0s - loss: 0.7276 - accuracy: 0.8939\n",
      "Epoch 00011: val_accuracy did not improve from 0.41558\n",
      "20/20 [==============================] - 82s 4s/step - loss: 0.7276 - accuracy: 0.8939 - val_loss: 11.2804 - val_accuracy: 0.4026 - lr: 0.0010\n",
      "Epoch 12/70\n",
      "20/20 [==============================] - ETA: 0s - loss: 0.7446 - accuracy: 0.8987\n",
      "Epoch 00012: val_accuracy improved from 0.41558 to 0.42857, saving model to /tmp/checkpoint\n",
      "\n",
      "Epoch 00012: ReduceLROnPlateau reducing learning rate to 0.000800000037997961.\n",
      "20/20 [==============================] - 83s 4s/step - loss: 0.7446 - accuracy: 0.8987 - val_loss: 4.1061 - val_accuracy: 0.4286 - lr: 0.0010\n",
      "Epoch 13/70\n",
      "20/20 [==============================] - ETA: 0s - loss: 0.7164 - accuracy: 0.8987\n",
      "Epoch 00013: val_accuracy did not improve from 0.42857\n",
      "20/20 [==============================] - 83s 4s/step - loss: 0.7164 - accuracy: 0.8987 - val_loss: 6.3320 - val_accuracy: 0.4026 - lr: 8.0000e-04\n",
      "Epoch 14/70\n",
      "20/20 [==============================] - ETA: 0s - loss: 0.6542 - accuracy: 0.8971\n",
      "Epoch 00014: val_accuracy improved from 0.42857 to 0.54545, saving model to /tmp/checkpoint\n",
      "20/20 [==============================] - 84s 4s/step - loss: 0.6542 - accuracy: 0.8971 - val_loss: 4.5237 - val_accuracy: 0.5455 - lr: 8.0000e-04\n",
      "Epoch 15/70\n",
      "20/20 [==============================] - ETA: 0s - loss: 0.5417 - accuracy: 0.9357\n",
      "Epoch 00015: val_accuracy improved from 0.54545 to 0.58442, saving model to /tmp/checkpoint\n",
      "20/20 [==============================] - 82s 4s/step - loss: 0.5417 - accuracy: 0.9357 - val_loss: 3.6583 - val_accuracy: 0.5844 - lr: 8.0000e-04\n",
      "Epoch 16/70\n",
      "20/20 [==============================] - ETA: 0s - loss: 0.5864 - accuracy: 0.9228\n",
      "Epoch 00016: val_accuracy did not improve from 0.58442\n",
      "20/20 [==============================] - 80s 4s/step - loss: 0.5864 - accuracy: 0.9228 - val_loss: 6.8928 - val_accuracy: 0.4026 - lr: 8.0000e-04\n",
      "Epoch 17/70\n",
      "20/20 [==============================] - ETA: 0s - loss: 0.6594 - accuracy: 0.9003\n",
      "Epoch 00017: val_accuracy did not improve from 0.58442\n",
      "\n",
      "Epoch 00017: ReduceLROnPlateau reducing learning rate to 0.0006400000303983689.\n",
      "20/20 [==============================] - 80s 4s/step - loss: 0.6594 - accuracy: 0.9003 - val_loss: 5.4936 - val_accuracy: 0.4026 - lr: 8.0000e-04\n",
      "Epoch 18/70\n",
      "20/20 [==============================] - ETA: 0s - loss: 0.5517 - accuracy: 0.9502\n",
      "Epoch 00018: val_accuracy improved from 0.58442 to 0.59740, saving model to /tmp/checkpoint\n",
      "20/20 [==============================] - 80s 4s/step - loss: 0.5517 - accuracy: 0.9502 - val_loss: 2.5529 - val_accuracy: 0.5974 - lr: 6.4000e-04\n",
      "Epoch 19/70\n",
      "20/20 [==============================] - ETA: 0s - loss: 0.5025 - accuracy: 0.9453\n",
      "Epoch 00019: val_accuracy improved from 0.59740 to 0.67532, saving model to /tmp/checkpoint\n",
      "20/20 [==============================] - 81s 4s/step - loss: 0.5025 - accuracy: 0.9453 - val_loss: 2.0331 - val_accuracy: 0.6753 - lr: 6.4000e-04\n",
      "Epoch 20/70\n",
      "20/20 [==============================] - ETA: 0s - loss: 0.3992 - accuracy: 0.9791\n",
      "Epoch 00020: val_accuracy improved from 0.67532 to 0.76623, saving model to /tmp/checkpoint\n",
      "20/20 [==============================] - 81s 4s/step - loss: 0.3992 - accuracy: 0.9791 - val_loss: 1.6552 - val_accuracy: 0.7662 - lr: 6.4000e-04\n",
      "Epoch 21/70\n",
      "20/20 [==============================] - ETA: 0s - loss: 0.3709 - accuracy: 0.9839\n",
      "Epoch 00021: val_accuracy did not improve from 0.76623\n",
      "20/20 [==============================] - 80s 4s/step - loss: 0.3709 - accuracy: 0.9839 - val_loss: 1.7229 - val_accuracy: 0.7273 - lr: 6.4000e-04\n",
      "Epoch 22/70\n",
      "20/20 [==============================] - ETA: 0s - loss: 0.3569 - accuracy: 0.9887\n",
      "Epoch 00022: val_accuracy did not improve from 0.76623\n",
      "20/20 [==============================] - 83s 4s/step - loss: 0.3569 - accuracy: 0.9887 - val_loss: 2.1274 - val_accuracy: 0.6883 - lr: 6.4000e-04\n",
      "Epoch 23/70\n",
      "20/20 [==============================] - ETA: 0s - loss: 0.5023 - accuracy: 0.9534\n",
      "Epoch 00023: val_accuracy did not improve from 0.76623\n",
      "20/20 [==============================] - 81s 4s/step - loss: 0.5023 - accuracy: 0.9534 - val_loss: 3.7409 - val_accuracy: 0.6494 - lr: 6.4000e-04\n",
      "Epoch 24/70\n",
      "20/20 [==============================] - ETA: 0s - loss: 0.4632 - accuracy: 0.9518\n",
      "Epoch 00024: val_accuracy did not improve from 0.76623\n",
      "20/20 [==============================] - 80s 4s/step - loss: 0.4632 - accuracy: 0.9518 - val_loss: 3.2374 - val_accuracy: 0.6623 - lr: 6.4000e-04\n",
      "Epoch 25/70\n",
      "20/20 [==============================] - ETA: 0s - loss: 0.4296 - accuracy: 0.9711\n",
      "Epoch 00025: val_accuracy did not improve from 0.76623\n",
      "\n",
      "Epoch 00025: ReduceLROnPlateau reducing learning rate to 0.0005120000336319208.\n",
      "20/20 [==============================] - 81s 4s/step - loss: 0.4296 - accuracy: 0.9711 - val_loss: 2.1461 - val_accuracy: 0.7143 - lr: 6.4000e-04\n",
      "Epoch 26/70\n",
      "20/20 [==============================] - ETA: 0s - loss: 0.3822 - accuracy: 0.9727\n",
      "Epoch 00026: val_accuracy did not improve from 0.76623\n",
      "20/20 [==============================] - 82s 4s/step - loss: 0.3822 - accuracy: 0.9727 - val_loss: 1.6122 - val_accuracy: 0.7403 - lr: 5.1200e-04\n",
      "Epoch 27/70\n",
      "20/20 [==============================] - ETA: 0s - loss: 0.3886 - accuracy: 0.9743\n",
      "Epoch 00027: val_accuracy did not improve from 0.76623\n",
      "20/20 [==============================] - 82s 4s/step - loss: 0.3886 - accuracy: 0.9743 - val_loss: 2.2322 - val_accuracy: 0.6753 - lr: 5.1200e-04\n",
      "Epoch 28/70\n",
      "20/20 [==============================] - ETA: 0s - loss: 0.4069 - accuracy: 0.9727\n",
      "Epoch 00028: val_accuracy did not improve from 0.76623\n",
      "20/20 [==============================] - 82s 4s/step - loss: 0.4069 - accuracy: 0.9727 - val_loss: 5.4678 - val_accuracy: 0.4935 - lr: 5.1200e-04\n",
      "Epoch 29/70\n",
      "20/20 [==============================] - ETA: 0s - loss: 0.3692 - accuracy: 0.9775\n",
      "Epoch 00029: val_accuracy did not improve from 0.76623\n",
      "20/20 [==============================] - 86s 4s/step - loss: 0.3692 - accuracy: 0.9775 - val_loss: 1.8247 - val_accuracy: 0.6883 - lr: 5.1200e-04\n",
      "Epoch 30/70\n",
      "20/20 [==============================] - ETA: 0s - loss: 0.4103 - accuracy: 0.9678\n",
      "Epoch 00030: val_accuracy did not improve from 0.76623\n",
      "20/20 [==============================] - 83s 4s/step - loss: 0.4103 - accuracy: 0.9678 - val_loss: 1.5210 - val_accuracy: 0.7403 - lr: 5.1200e-04\n",
      "Epoch 31/70\n",
      "20/20 [==============================] - ETA: 0s - loss: 0.3958 - accuracy: 0.9727\n",
      "Epoch 00031: val_accuracy did not improve from 0.76623\n",
      "20/20 [==============================] - 83s 4s/step - loss: 0.3958 - accuracy: 0.9727 - val_loss: 1.4489 - val_accuracy: 0.7143 - lr: 5.1200e-04\n",
      "Epoch 32/70\n",
      "20/20 [==============================] - ETA: 0s - loss: 0.3806 - accuracy: 0.9823\n",
      "Epoch 00032: val_accuracy improved from 0.76623 to 0.81818, saving model to /tmp/checkpoint\n",
      "20/20 [==============================] - 84s 4s/step - loss: 0.3806 - accuracy: 0.9823 - val_loss: 1.0182 - val_accuracy: 0.8182 - lr: 5.1200e-04\n",
      "Epoch 33/70\n",
      "20/20 [==============================] - ETA: 0s - loss: 0.3610 - accuracy: 0.9887\n",
      "Epoch 00033: val_accuracy did not improve from 0.81818\n",
      "20/20 [==============================] - 83s 4s/step - loss: 0.3610 - accuracy: 0.9887 - val_loss: 1.3092 - val_accuracy: 0.8052 - lr: 5.1200e-04\n",
      "Epoch 34/70\n",
      "20/20 [==============================] - ETA: 0s - loss: 0.3498 - accuracy: 0.9887\n",
      "Epoch 00034: val_accuracy did not improve from 0.81818\n",
      "20/20 [==============================] - 82s 4s/step - loss: 0.3498 - accuracy: 0.9887 - val_loss: 1.5411 - val_accuracy: 0.7792 - lr: 5.1200e-04\n",
      "Epoch 35/70\n",
      "20/20 [==============================] - ETA: 0s - loss: 0.3718 - accuracy: 0.9791\n",
      "Epoch 00035: val_accuracy did not improve from 0.81818\n",
      "20/20 [==============================] - 81s 4s/step - loss: 0.3718 - accuracy: 0.9791 - val_loss: 2.0273 - val_accuracy: 0.7143 - lr: 5.1200e-04\n",
      "Epoch 36/70\n",
      "20/20 [==============================] - ETA: 0s - loss: 0.4323 - accuracy: 0.9775\n",
      "Epoch 00036: val_accuracy did not improve from 0.81818\n",
      "20/20 [==============================] - 84s 4s/step - loss: 0.4323 - accuracy: 0.9775 - val_loss: 1.5802 - val_accuracy: 0.7013 - lr: 5.1200e-04\n",
      "Epoch 37/70\n",
      "20/20 [==============================] - ETA: 0s - loss: 0.5471 - accuracy: 0.9453\n",
      "Epoch 00037: val_accuracy did not improve from 0.81818\n",
      "\n",
      "Epoch 00037: ReduceLROnPlateau reducing learning rate to 0.00040960004553198815.\n",
      "20/20 [==============================] - 81s 4s/step - loss: 0.5471 - accuracy: 0.9453 - val_loss: 2.1534 - val_accuracy: 0.7013 - lr: 5.1200e-04\n",
      "Epoch 38/70\n",
      "20/20 [==============================] - ETA: 0s - loss: 0.4564 - accuracy: 0.9566\n",
      "Epoch 00038: val_accuracy did not improve from 0.81818\n",
      "20/20 [==============================] - 81s 4s/step - loss: 0.4564 - accuracy: 0.9566 - val_loss: 1.4124 - val_accuracy: 0.7403 - lr: 4.0960e-04\n",
      "Epoch 39/70\n",
      "20/20 [==============================] - ETA: 0s - loss: 0.3393 - accuracy: 0.9904\n",
      "Epoch 00039: val_accuracy did not improve from 0.81818\n",
      "20/20 [==============================] - 81s 4s/step - loss: 0.3393 - accuracy: 0.9904 - val_loss: 1.3025 - val_accuracy: 0.7922 - lr: 4.0960e-04\n",
      "Epoch 40/70\n",
      "20/20 [==============================] - ETA: 0s - loss: 0.3535 - accuracy: 0.9871\n",
      "Epoch 00040: val_accuracy did not improve from 0.81818\n",
      "20/20 [==============================] - 80s 4s/step - loss: 0.3535 - accuracy: 0.9871 - val_loss: 1.3130 - val_accuracy: 0.7532 - lr: 4.0960e-04\n",
      "Epoch 41/70\n",
      "20/20 [==============================] - ETA: 0s - loss: 0.3200 - accuracy: 0.9968\n",
      "Epoch 00041: val_accuracy did not improve from 0.81818\n",
      "20/20 [==============================] - 81s 4s/step - loss: 0.3200 - accuracy: 0.9968 - val_loss: 1.4744 - val_accuracy: 0.7792 - lr: 4.0960e-04\n",
      "Epoch 42/70\n",
      "20/20 [==============================] - ETA: 0s - loss: 0.3247 - accuracy: 0.9952\n",
      "Epoch 00042: val_accuracy did not improve from 0.81818\n",
      "\n",
      "Epoch 00042: ReduceLROnPlateau reducing learning rate to 0.00032768002711236477.\n",
      "20/20 [==============================] - 79s 4s/step - loss: 0.3247 - accuracy: 0.9952 - val_loss: 1.7937 - val_accuracy: 0.7403 - lr: 4.0960e-04\n",
      "Epoch 43/70\n",
      "20/20 [==============================] - ETA: 0s - loss: 0.3310 - accuracy: 0.9952\n",
      "Epoch 00043: val_accuracy did not improve from 0.81818\n",
      "20/20 [==============================] - 83s 4s/step - loss: 0.3310 - accuracy: 0.9952 - val_loss: 1.5964 - val_accuracy: 0.7662 - lr: 3.2768e-04\n",
      "Epoch 44/70\n",
      "20/20 [==============================] - ETA: 0s - loss: 0.3111 - accuracy: 1.0000\n",
      "Epoch 00044: val_accuracy did not improve from 0.81818\n",
      "20/20 [==============================] - 81s 4s/step - loss: 0.3111 - accuracy: 1.0000 - val_loss: 1.6007 - val_accuracy: 0.7662 - lr: 3.2768e-04\n",
      "Epoch 45/70\n",
      "20/20 [==============================] - ETA: 0s - loss: 0.3095 - accuracy: 1.0000\n",
      "Epoch 00045: val_accuracy did not improve from 0.81818\n",
      "20/20 [==============================] - 84s 4s/step - loss: 0.3095 - accuracy: 1.0000 - val_loss: 1.5913 - val_accuracy: 0.7662 - lr: 3.2768e-04\n",
      "Epoch 46/70\n",
      "20/20 [==============================] - ETA: 0s - loss: 0.3144 - accuracy: 0.9952\n",
      "Epoch 00046: val_accuracy did not improve from 0.81818\n",
      "20/20 [==============================] - 83s 4s/step - loss: 0.3144 - accuracy: 0.9952 - val_loss: 1.5040 - val_accuracy: 0.7532 - lr: 3.2768e-04\n",
      "Epoch 47/70\n",
      "20/20 [==============================] - ETA: 0s - loss: 0.3164 - accuracy: 0.9968\n",
      "Epoch 00047: val_accuracy did not improve from 0.81818\n",
      "\n",
      "Epoch 00047: ReduceLROnPlateau reducing learning rate to 0.0002621440216898918.\n",
      "20/20 [==============================] - 81s 4s/step - loss: 0.3164 - accuracy: 0.9968 - val_loss: 1.5743 - val_accuracy: 0.7273 - lr: 3.2768e-04\n",
      "Epoch 48/70\n",
      "20/20 [==============================] - ETA: 0s - loss: 0.3169 - accuracy: 0.9968\n",
      "Epoch 00048: val_accuracy did not improve from 0.81818\n",
      "20/20 [==============================] - 82s 4s/step - loss: 0.3169 - accuracy: 0.9968 - val_loss: 1.5793 - val_accuracy: 0.7532 - lr: 2.6214e-04\n",
      "Epoch 49/70\n",
      "20/20 [==============================] - ETA: 0s - loss: 0.3101 - accuracy: 0.9984\n",
      "Epoch 00049: val_accuracy did not improve from 0.81818\n",
      "20/20 [==============================] - 81s 4s/step - loss: 0.3101 - accuracy: 0.9984 - val_loss: 1.5956 - val_accuracy: 0.7532 - lr: 2.6214e-04\n",
      "Epoch 50/70\n",
      "20/20 [==============================] - ETA: 0s - loss: 0.3175 - accuracy: 0.9968\n",
      "Epoch 00050: val_accuracy did not improve from 0.81818\n",
      "20/20 [==============================] - 83s 4s/step - loss: 0.3175 - accuracy: 0.9968 - val_loss: 1.5177 - val_accuracy: 0.7662 - lr: 2.6214e-04\n",
      "Epoch 51/70\n",
      "20/20 [==============================] - ETA: 0s - loss: 0.3106 - accuracy: 0.9984\n",
      "Epoch 00051: val_accuracy did not improve from 0.81818\n",
      "20/20 [==============================] - 81s 4s/step - loss: 0.3106 - accuracy: 0.9984 - val_loss: 1.4482 - val_accuracy: 0.7792 - lr: 2.6214e-04\n",
      "Epoch 52/70\n",
      "20/20 [==============================] - ETA: 0s - loss: 0.3089 - accuracy: 0.9984\n",
      "Epoch 00052: val_accuracy did not improve from 0.81818\n",
      "\n",
      "Epoch 00052: ReduceLROnPlateau reducing learning rate to 0.00020971521735191345.\n",
      "20/20 [==============================] - 84s 4s/step - loss: 0.3089 - accuracy: 0.9984 - val_loss: 1.3593 - val_accuracy: 0.7922 - lr: 2.6214e-04\n",
      "Epoch 00052: early stopping\n"
     ]
    }
   ],
   "source": [
    "model=premodel(pixels,1024,mhandle,15,'softmax',\n",
    "               'sparse_categorical_crossentropy')\n",
    "history=model.fit(\n",
    "    x=x_train,y=np.squeeze(y_train),\n",
    "    batch_size=32,epochs=70,callbacks=cb(fw),\n",
    "    validation_data=(x_valid,np.squeeze(y_valid)))"
   ]
  },
  {
   "cell_type": "code",
   "execution_count": 10,
   "metadata": {
    "execution": {
     "iopub.execute_input": "2020-12-12T02:43:36.825765Z",
     "iopub.status.busy": "2020-12-12T02:43:36.824443Z",
     "iopub.status.idle": "2020-12-12T02:43:39.860723Z",
     "shell.execute_reply": "2020-12-12T02:43:39.861351Z"
    },
    "papermill": {
     "duration": 3.484851,
     "end_time": "2020-12-12T02:43:39.861497",
     "exception": false,
     "start_time": "2020-12-12T02:43:36.376646",
     "status": "completed"
    },
    "tags": []
   },
   "outputs": [
    {
     "name": "stdout",
     "output_type": "stream",
     "text": [
      "3/3 [==============================] - 1s 383ms/step - loss: 1.9136 - accuracy: 0.6623\n"
     ]
    },
    {
     "data": {
      "text/plain": [
       "[1.913558006286621, 0.6623376607894897]"
      ]
     },
     "execution_count": 10,
     "metadata": {},
     "output_type": "execute_result"
    }
   ],
   "source": [
    "model.load_weights(fw)\n",
    "model.evaluate(x_test,np.squeeze(y_test))"
   ]
  },
  {
   "cell_type": "code",
   "execution_count": 11,
   "metadata": {
    "execution": {
     "iopub.execute_input": "2020-12-12T02:43:40.675925Z",
     "iopub.status.busy": "2020-12-12T02:43:40.675117Z",
     "iopub.status.idle": "2020-12-12T02:43:40.678442Z",
     "shell.execute_reply": "2020-12-12T02:43:40.677793Z"
    },
    "papermill": {
     "duration": 0.411544,
     "end_time": "2020-12-12T02:43:40.678555",
     "exception": false,
     "start_time": "2020-12-12T02:43:40.267011",
     "status": "completed"
    },
    "tags": []
   },
   "outputs": [],
   "source": [
    "[handle_base,pixels]=['mobilenet_v2_100_160',160]\n",
    "mhandle='https://tfhub.dev/google/imagenet/{}/classification/4'\\\n",
    ".format(handle_base)"
   ]
  },
  {
   "cell_type": "code",
   "execution_count": 12,
   "metadata": {
    "_kg_hide-output": true,
    "execution": {
     "iopub.execute_input": "2020-12-12T02:43:41.545789Z",
     "iopub.status.busy": "2020-12-12T02:43:41.544412Z",
     "iopub.status.idle": "2020-12-12T03:21:48.185935Z",
     "shell.execute_reply": "2020-12-12T03:21:48.185221Z"
    },
    "papermill": {
     "duration": 2287.087795,
     "end_time": "2020-12-12T03:21:48.186077",
     "exception": false,
     "start_time": "2020-12-12T02:43:41.098282",
     "status": "completed"
    },
    "tags": []
   },
   "outputs": [
    {
     "name": "stdout",
     "output_type": "stream",
     "text": [
      "Epoch 1/70\n",
      "20/20 [==============================] - ETA: 0s - loss: 2.3359 - accuracy: 0.4293\n",
      "Epoch 00001: val_accuracy improved from -inf to 0.46753, saving model to /tmp/checkpoint\n",
      "20/20 [==============================] - 39s 2s/step - loss: 2.3359 - accuracy: 0.4293 - val_loss: 6.0470 - val_accuracy: 0.4675 - lr: 0.0010\n",
      "Epoch 2/70\n",
      "20/20 [==============================] - ETA: 0s - loss: 1.1917 - accuracy: 0.7026\n",
      "Epoch 00002: val_accuracy improved from 0.46753 to 0.49351, saving model to /tmp/checkpoint\n",
      "20/20 [==============================] - 38s 2s/step - loss: 1.1917 - accuracy: 0.7026 - val_loss: 5.9759 - val_accuracy: 0.4935 - lr: 0.0010\n",
      "Epoch 3/70\n",
      "20/20 [==============================] - ETA: 0s - loss: 1.0444 - accuracy: 0.7862\n",
      "Epoch 00003: val_accuracy improved from 0.49351 to 0.58442, saving model to /tmp/checkpoint\n",
      "20/20 [==============================] - 38s 2s/step - loss: 1.0444 - accuracy: 0.7862 - val_loss: 4.4361 - val_accuracy: 0.5844 - lr: 0.0010\n",
      "Epoch 4/70\n",
      "20/20 [==============================] - ETA: 0s - loss: 0.7343 - accuracy: 0.8296\n",
      "Epoch 00004: val_accuracy did not improve from 0.58442\n",
      "20/20 [==============================] - 39s 2s/step - loss: 0.7343 - accuracy: 0.8296 - val_loss: 4.7844 - val_accuracy: 0.5584 - lr: 0.0010\n",
      "Epoch 5/70\n",
      "20/20 [==============================] - ETA: 0s - loss: 1.0085 - accuracy: 0.8087\n",
      "Epoch 00005: val_accuracy did not improve from 0.58442\n",
      "20/20 [==============================] - 38s 2s/step - loss: 1.0085 - accuracy: 0.8087 - val_loss: 7.2040 - val_accuracy: 0.4545 - lr: 0.0010\n",
      "Epoch 6/70\n",
      "20/20 [==============================] - ETA: 0s - loss: 1.0980 - accuracy: 0.7830\n",
      "Epoch 00006: val_accuracy did not improve from 0.58442\n",
      "20/20 [==============================] - 38s 2s/step - loss: 1.0980 - accuracy: 0.7830 - val_loss: 4.6517 - val_accuracy: 0.5714 - lr: 0.0010\n",
      "Epoch 7/70\n",
      "20/20 [==============================] - ETA: 0s - loss: 0.9437 - accuracy: 0.8264\n",
      "Epoch 00007: val_accuracy improved from 0.58442 to 0.62338, saving model to /tmp/checkpoint\n",
      "20/20 [==============================] - 38s 2s/step - loss: 0.9437 - accuracy: 0.8264 - val_loss: 3.9703 - val_accuracy: 0.6234 - lr: 0.0010\n",
      "Epoch 8/70\n",
      "20/20 [==============================] - ETA: 0s - loss: 0.9992 - accuracy: 0.8312\n",
      "Epoch 00008: val_accuracy did not improve from 0.62338\n",
      "20/20 [==============================] - 37s 2s/step - loss: 0.9992 - accuracy: 0.8312 - val_loss: 4.2230 - val_accuracy: 0.5325 - lr: 0.0010\n",
      "Epoch 9/70\n",
      "20/20 [==============================] - ETA: 0s - loss: 1.1991 - accuracy: 0.7814\n",
      "Epoch 00009: val_accuracy did not improve from 0.62338\n",
      "20/20 [==============================] - 40s 2s/step - loss: 1.1991 - accuracy: 0.7814 - val_loss: 12.7355 - val_accuracy: 0.3117 - lr: 0.0010\n",
      "Epoch 10/70\n",
      "20/20 [==============================] - ETA: 0s - loss: 1.0194 - accuracy: 0.8119\n",
      "Epoch 00010: val_accuracy did not improve from 0.62338\n",
      "20/20 [==============================] - 39s 2s/step - loss: 1.0194 - accuracy: 0.8119 - val_loss: 5.0290 - val_accuracy: 0.5844 - lr: 0.0010\n",
      "Epoch 11/70\n",
      "20/20 [==============================] - ETA: 0s - loss: 0.7399 - accuracy: 0.8473\n",
      "Epoch 00011: val_accuracy did not improve from 0.62338\n",
      "20/20 [==============================] - 37s 2s/step - loss: 0.7399 - accuracy: 0.8473 - val_loss: 3.1083 - val_accuracy: 0.6104 - lr: 0.0010\n",
      "Epoch 12/70\n",
      "20/20 [==============================] - ETA: 0s - loss: 0.4752 - accuracy: 0.9277\n",
      "Epoch 00012: val_accuracy improved from 0.62338 to 0.63636, saving model to /tmp/checkpoint\n",
      "20/20 [==============================] - 38s 2s/step - loss: 0.4752 - accuracy: 0.9277 - val_loss: 3.3658 - val_accuracy: 0.6364 - lr: 0.0010\n",
      "Epoch 13/70\n",
      "20/20 [==============================] - ETA: 0s - loss: 0.6559 - accuracy: 0.9019\n",
      "Epoch 00013: val_accuracy did not improve from 0.63636\n",
      "20/20 [==============================] - 37s 2s/step - loss: 0.6559 - accuracy: 0.9019 - val_loss: 4.5298 - val_accuracy: 0.5584 - lr: 0.0010\n",
      "Epoch 14/70\n",
      "20/20 [==============================] - ETA: 0s - loss: 0.6085 - accuracy: 0.8778\n",
      "Epoch 00014: val_accuracy did not improve from 0.63636\n",
      "20/20 [==============================] - 38s 2s/step - loss: 0.6085 - accuracy: 0.8778 - val_loss: 4.2242 - val_accuracy: 0.4675 - lr: 0.0010\n",
      "Epoch 15/70\n",
      "20/20 [==============================] - ETA: 0s - loss: 0.3798 - accuracy: 0.9357\n",
      "Epoch 00015: val_accuracy improved from 0.63636 to 0.67532, saving model to /tmp/checkpoint\n",
      "20/20 [==============================] - 38s 2s/step - loss: 0.3798 - accuracy: 0.9357 - val_loss: 2.4654 - val_accuracy: 0.6753 - lr: 0.0010\n",
      "Epoch 16/70\n",
      "20/20 [==============================] - ETA: 0s - loss: 0.4393 - accuracy: 0.9196\n",
      "Epoch 00016: val_accuracy did not improve from 0.67532\n",
      "20/20 [==============================] - 37s 2s/step - loss: 0.4393 - accuracy: 0.9196 - val_loss: 2.3564 - val_accuracy: 0.6364 - lr: 0.0010\n",
      "Epoch 17/70\n",
      "20/20 [==============================] - ETA: 0s - loss: 0.5451 - accuracy: 0.9084\n",
      "Epoch 00017: val_accuracy did not improve from 0.67532\n",
      "20/20 [==============================] - 37s 2s/step - loss: 0.5451 - accuracy: 0.9084 - val_loss: 3.1357 - val_accuracy: 0.5844 - lr: 0.0010\n",
      "Epoch 18/70\n",
      "20/20 [==============================] - ETA: 0s - loss: 0.7332 - accuracy: 0.8698\n",
      "Epoch 00018: val_accuracy did not improve from 0.67532\n",
      "20/20 [==============================] - 38s 2s/step - loss: 0.7332 - accuracy: 0.8698 - val_loss: 1.8775 - val_accuracy: 0.6364 - lr: 0.0010\n",
      "Epoch 19/70\n",
      "20/20 [==============================] - ETA: 0s - loss: 0.5671 - accuracy: 0.8891\n",
      "Epoch 00019: val_accuracy improved from 0.67532 to 0.75325, saving model to /tmp/checkpoint\n",
      "20/20 [==============================] - 37s 2s/step - loss: 0.5671 - accuracy: 0.8891 - val_loss: 2.2901 - val_accuracy: 0.7532 - lr: 0.0010\n",
      "Epoch 20/70\n",
      "20/20 [==============================] - ETA: 0s - loss: 0.5075 - accuracy: 0.9277\n",
      "Epoch 00020: val_accuracy did not improve from 0.75325\n",
      "20/20 [==============================] - 37s 2s/step - loss: 0.5075 - accuracy: 0.9277 - val_loss: 2.5570 - val_accuracy: 0.6364 - lr: 0.0010\n",
      "Epoch 21/70\n",
      "20/20 [==============================] - ETA: 0s - loss: 0.4732 - accuracy: 0.9228\n",
      "Epoch 00021: val_accuracy did not improve from 0.75325\n",
      "20/20 [==============================] - 37s 2s/step - loss: 0.4732 - accuracy: 0.9228 - val_loss: 3.2430 - val_accuracy: 0.7403 - lr: 0.0010\n",
      "Epoch 22/70\n",
      "20/20 [==============================] - ETA: 0s - loss: 0.5020 - accuracy: 0.9244\n",
      "Epoch 00022: val_accuracy improved from 0.75325 to 0.76623, saving model to /tmp/checkpoint\n",
      "20/20 [==============================] - 37s 2s/step - loss: 0.5020 - accuracy: 0.9244 - val_loss: 1.9728 - val_accuracy: 0.7662 - lr: 0.0010\n",
      "Epoch 23/70\n",
      "20/20 [==============================] - ETA: 0s - loss: 0.3960 - accuracy: 0.9437\n",
      "Epoch 00023: val_accuracy improved from 0.76623 to 0.77922, saving model to /tmp/checkpoint\n",
      "20/20 [==============================] - 37s 2s/step - loss: 0.3960 - accuracy: 0.9437 - val_loss: 1.8167 - val_accuracy: 0.7792 - lr: 0.0010\n",
      "Epoch 24/70\n",
      "20/20 [==============================] - ETA: 0s - loss: 0.4429 - accuracy: 0.9357\n",
      "Epoch 00024: val_accuracy did not improve from 0.77922\n",
      "20/20 [==============================] - 37s 2s/step - loss: 0.4429 - accuracy: 0.9357 - val_loss: 2.1525 - val_accuracy: 0.7532 - lr: 0.0010\n",
      "Epoch 25/70\n",
      "20/20 [==============================] - ETA: 0s - loss: 0.4161 - accuracy: 0.9293\n",
      "Epoch 00025: val_accuracy did not improve from 0.77922\n",
      "20/20 [==============================] - 42s 2s/step - loss: 0.4161 - accuracy: 0.9293 - val_loss: 1.6864 - val_accuracy: 0.7273 - lr: 0.0010\n",
      "Epoch 26/70\n",
      "20/20 [==============================] - ETA: 0s - loss: 0.3512 - accuracy: 0.9534\n",
      "Epoch 00026: val_accuracy did not improve from 0.77922\n",
      "20/20 [==============================] - 38s 2s/step - loss: 0.3512 - accuracy: 0.9534 - val_loss: 1.7162 - val_accuracy: 0.7273 - lr: 0.0010\n",
      "Epoch 27/70\n",
      "20/20 [==============================] - ETA: 0s - loss: 0.2428 - accuracy: 0.9775\n",
      "Epoch 00027: val_accuracy did not improve from 0.77922\n",
      "20/20 [==============================] - 38s 2s/step - loss: 0.2428 - accuracy: 0.9775 - val_loss: 1.6381 - val_accuracy: 0.7792 - lr: 0.0010\n",
      "Epoch 28/70\n",
      "20/20 [==============================] - ETA: 0s - loss: 0.3241 - accuracy: 0.9598\n",
      "Epoch 00028: val_accuracy did not improve from 0.77922\n",
      "20/20 [==============================] - 37s 2s/step - loss: 0.3241 - accuracy: 0.9598 - val_loss: 1.8893 - val_accuracy: 0.7013 - lr: 0.0010\n",
      "Epoch 29/70\n",
      "20/20 [==============================] - ETA: 0s - loss: 0.2787 - accuracy: 0.9695\n",
      "Epoch 00029: val_accuracy did not improve from 0.77922\n",
      "20/20 [==============================] - 37s 2s/step - loss: 0.2787 - accuracy: 0.9695 - val_loss: 1.9606 - val_accuracy: 0.7403 - lr: 0.0010\n",
      "Epoch 30/70\n",
      "20/20 [==============================] - ETA: 0s - loss: 0.2361 - accuracy: 0.9759\n",
      "Epoch 00030: val_accuracy did not improve from 0.77922\n",
      "20/20 [==============================] - 38s 2s/step - loss: 0.2361 - accuracy: 0.9759 - val_loss: 2.7644 - val_accuracy: 0.7013 - lr: 0.0010\n",
      "Epoch 31/70\n",
      "20/20 [==============================] - ETA: 0s - loss: 0.3613 - accuracy: 0.9534\n",
      "Epoch 00031: val_accuracy did not improve from 0.77922\n",
      "20/20 [==============================] - 37s 2s/step - loss: 0.3613 - accuracy: 0.9534 - val_loss: 4.4961 - val_accuracy: 0.5714 - lr: 0.0010\n",
      "Epoch 32/70\n",
      "20/20 [==============================] - ETA: 0s - loss: 0.4133 - accuracy: 0.9277\n",
      "Epoch 00032: val_accuracy did not improve from 0.77922\n",
      "\n",
      "Epoch 00032: ReduceLROnPlateau reducing learning rate to 0.000800000037997961.\n",
      "20/20 [==============================] - 37s 2s/step - loss: 0.4133 - accuracy: 0.9277 - val_loss: 1.8126 - val_accuracy: 0.7013 - lr: 0.0010\n",
      "Epoch 33/70\n",
      "20/20 [==============================] - ETA: 0s - loss: 0.4603 - accuracy: 0.9309\n",
      "Epoch 00033: val_accuracy did not improve from 0.77922\n",
      "20/20 [==============================] - 37s 2s/step - loss: 0.4603 - accuracy: 0.9309 - val_loss: 1.7425 - val_accuracy: 0.6623 - lr: 8.0000e-04\n",
      "Epoch 34/70\n",
      "20/20 [==============================] - ETA: 0s - loss: 0.3588 - accuracy: 0.9405\n",
      "Epoch 00034: val_accuracy did not improve from 0.77922\n",
      "20/20 [==============================] - 37s 2s/step - loss: 0.3588 - accuracy: 0.9405 - val_loss: 1.4280 - val_accuracy: 0.7792 - lr: 8.0000e-04\n",
      "Epoch 35/70\n",
      "20/20 [==============================] - ETA: 0s - loss: 0.2517 - accuracy: 0.9759\n",
      "Epoch 00035: val_accuracy did not improve from 0.77922\n",
      "20/20 [==============================] - 38s 2s/step - loss: 0.2517 - accuracy: 0.9759 - val_loss: 1.6723 - val_accuracy: 0.7403 - lr: 8.0000e-04\n",
      "Epoch 36/70\n",
      "20/20 [==============================] - ETA: 0s - loss: 0.2186 - accuracy: 0.9775\n",
      "Epoch 00036: val_accuracy improved from 0.77922 to 0.81818, saving model to /tmp/checkpoint\n",
      "20/20 [==============================] - 38s 2s/step - loss: 0.2186 - accuracy: 0.9775 - val_loss: 1.2788 - val_accuracy: 0.8182 - lr: 8.0000e-04\n",
      "Epoch 37/70\n",
      "20/20 [==============================] - ETA: 0s - loss: 0.2016 - accuracy: 0.9791\n",
      "Epoch 00037: val_accuracy improved from 0.81818 to 0.83117, saving model to /tmp/checkpoint\n",
      "20/20 [==============================] - 37s 2s/step - loss: 0.2016 - accuracy: 0.9791 - val_loss: 0.9016 - val_accuracy: 0.8312 - lr: 8.0000e-04\n",
      "Epoch 38/70\n",
      "20/20 [==============================] - ETA: 0s - loss: 0.2649 - accuracy: 0.9791\n",
      "Epoch 00038: val_accuracy did not improve from 0.83117\n",
      "20/20 [==============================] - 38s 2s/step - loss: 0.2649 - accuracy: 0.9791 - val_loss: 1.3338 - val_accuracy: 0.7403 - lr: 8.0000e-04\n",
      "Epoch 39/70\n",
      "20/20 [==============================] - ETA: 0s - loss: 0.2888 - accuracy: 0.9630\n",
      "Epoch 00039: val_accuracy did not improve from 0.83117\n",
      "20/20 [==============================] - 38s 2s/step - loss: 0.2888 - accuracy: 0.9630 - val_loss: 1.1965 - val_accuracy: 0.8052 - lr: 8.0000e-04\n",
      "Epoch 40/70\n",
      "20/20 [==============================] - ETA: 0s - loss: 0.2598 - accuracy: 0.9759\n",
      "Epoch 00040: val_accuracy did not improve from 0.83117\n",
      "20/20 [==============================] - 42s 2s/step - loss: 0.2598 - accuracy: 0.9759 - val_loss: 1.4299 - val_accuracy: 0.7662 - lr: 8.0000e-04\n",
      "Epoch 41/70\n",
      "20/20 [==============================] - ETA: 0s - loss: 0.2441 - accuracy: 0.9807\n",
      "Epoch 00041: val_accuracy did not improve from 0.83117\n",
      "20/20 [==============================] - 38s 2s/step - loss: 0.2441 - accuracy: 0.9807 - val_loss: 1.2945 - val_accuracy: 0.7662 - lr: 8.0000e-04\n",
      "Epoch 42/70\n",
      "20/20 [==============================] - ETA: 0s - loss: 0.2343 - accuracy: 0.9662\n",
      "Epoch 00042: val_accuracy did not improve from 0.83117\n",
      "\n",
      "Epoch 00042: ReduceLROnPlateau reducing learning rate to 0.0006400000303983689.\n",
      "20/20 [==============================] - 39s 2s/step - loss: 0.2343 - accuracy: 0.9662 - val_loss: 1.3165 - val_accuracy: 0.8182 - lr: 8.0000e-04\n",
      "Epoch 43/70\n",
      "20/20 [==============================] - ETA: 0s - loss: 0.2585 - accuracy: 0.9743\n",
      "Epoch 00043: val_accuracy did not improve from 0.83117\n",
      "20/20 [==============================] - 37s 2s/step - loss: 0.2585 - accuracy: 0.9743 - val_loss: 1.5224 - val_accuracy: 0.7532 - lr: 6.4000e-04\n",
      "Epoch 44/70\n",
      "20/20 [==============================] - ETA: 0s - loss: 0.2617 - accuracy: 0.9791\n",
      "Epoch 00044: val_accuracy did not improve from 0.83117\n",
      "20/20 [==============================] - 37s 2s/step - loss: 0.2617 - accuracy: 0.9791 - val_loss: 1.2752 - val_accuracy: 0.7532 - lr: 6.4000e-04\n",
      "Epoch 45/70\n",
      "20/20 [==============================] - ETA: 0s - loss: 0.1751 - accuracy: 0.9887\n",
      "Epoch 00045: val_accuracy did not improve from 0.83117\n",
      "20/20 [==============================] - 38s 2s/step - loss: 0.1751 - accuracy: 0.9887 - val_loss: 1.0861 - val_accuracy: 0.8312 - lr: 6.4000e-04\n",
      "Epoch 46/70\n",
      "20/20 [==============================] - ETA: 0s - loss: 0.1790 - accuracy: 0.9904\n",
      "Epoch 00046: val_accuracy did not improve from 0.83117\n",
      "20/20 [==============================] - 37s 2s/step - loss: 0.1790 - accuracy: 0.9904 - val_loss: 1.1110 - val_accuracy: 0.8182 - lr: 6.4000e-04\n",
      "Epoch 47/70\n",
      "20/20 [==============================] - ETA: 0s - loss: 0.1816 - accuracy: 0.9952\n",
      "Epoch 00047: val_accuracy did not improve from 0.83117\n",
      "\n",
      "Epoch 00047: ReduceLROnPlateau reducing learning rate to 0.0005120000336319208.\n",
      "20/20 [==============================] - 38s 2s/step - loss: 0.1816 - accuracy: 0.9952 - val_loss: 1.0625 - val_accuracy: 0.7792 - lr: 6.4000e-04\n",
      "Epoch 48/70\n",
      "20/20 [==============================] - ETA: 0s - loss: 0.1655 - accuracy: 0.9920\n",
      "Epoch 00048: val_accuracy did not improve from 0.83117\n",
      "20/20 [==============================] - 38s 2s/step - loss: 0.1655 - accuracy: 0.9920 - val_loss: 1.0752 - val_accuracy: 0.8182 - lr: 5.1200e-04\n",
      "Epoch 49/70\n",
      "20/20 [==============================] - ETA: 0s - loss: 0.1627 - accuracy: 0.9952\n",
      "Epoch 00049: val_accuracy did not improve from 0.83117\n",
      "20/20 [==============================] - 37s 2s/step - loss: 0.1627 - accuracy: 0.9952 - val_loss: 1.0544 - val_accuracy: 0.8182 - lr: 5.1200e-04\n",
      "Epoch 50/70\n",
      "20/20 [==============================] - ETA: 0s - loss: 0.1495 - accuracy: 0.9952\n",
      "Epoch 00050: val_accuracy did not improve from 0.83117\n",
      "20/20 [==============================] - 37s 2s/step - loss: 0.1495 - accuracy: 0.9952 - val_loss: 1.0208 - val_accuracy: 0.8052 - lr: 5.1200e-04\n",
      "Epoch 51/70\n",
      "20/20 [==============================] - ETA: 0s - loss: 0.1565 - accuracy: 0.9984\n",
      "Epoch 00051: val_accuracy did not improve from 0.83117\n",
      "20/20 [==============================] - 38s 2s/step - loss: 0.1565 - accuracy: 0.9984 - val_loss: 1.1896 - val_accuracy: 0.7792 - lr: 5.1200e-04\n",
      "Epoch 52/70\n",
      "20/20 [==============================] - ETA: 0s - loss: 0.1560 - accuracy: 0.9952\n",
      "Epoch 00052: val_accuracy did not improve from 0.83117\n",
      "\n",
      "Epoch 00052: ReduceLROnPlateau reducing learning rate to 0.00040960004553198815.\n",
      "20/20 [==============================] - 37s 2s/step - loss: 0.1560 - accuracy: 0.9952 - val_loss: 1.1427 - val_accuracy: 0.7662 - lr: 5.1200e-04\n",
      "Epoch 53/70\n",
      "20/20 [==============================] - ETA: 0s - loss: 0.1705 - accuracy: 0.9887\n",
      "Epoch 00053: val_accuracy did not improve from 0.83117\n",
      "20/20 [==============================] - 38s 2s/step - loss: 0.1705 - accuracy: 0.9887 - val_loss: 1.0342 - val_accuracy: 0.8052 - lr: 4.0960e-04\n",
      "Epoch 54/70\n",
      "20/20 [==============================] - ETA: 0s - loss: 0.1573 - accuracy: 0.9952\n",
      "Epoch 00054: val_accuracy did not improve from 0.83117\n",
      "20/20 [==============================] - 38s 2s/step - loss: 0.1573 - accuracy: 0.9952 - val_loss: 1.0992 - val_accuracy: 0.7792 - lr: 4.0960e-04\n",
      "Epoch 55/70\n",
      "20/20 [==============================] - ETA: 0s - loss: 0.2006 - accuracy: 0.9871\n",
      "Epoch 00055: val_accuracy did not improve from 0.83117\n",
      "20/20 [==============================] - 40s 2s/step - loss: 0.2006 - accuracy: 0.9871 - val_loss: 1.0527 - val_accuracy: 0.7792 - lr: 4.0960e-04\n",
      "Epoch 56/70\n",
      "20/20 [==============================] - ETA: 0s - loss: 0.1818 - accuracy: 0.9887\n",
      "Epoch 00056: val_accuracy did not improve from 0.83117\n",
      "20/20 [==============================] - 38s 2s/step - loss: 0.1818 - accuracy: 0.9887 - val_loss: 0.9937 - val_accuracy: 0.8182 - lr: 4.0960e-04\n",
      "Epoch 57/70\n",
      "20/20 [==============================] - ETA: 0s - loss: 0.1548 - accuracy: 0.9952\n",
      "Epoch 00057: val_accuracy did not improve from 0.83117\n",
      "\n",
      "Epoch 00057: ReduceLROnPlateau reducing learning rate to 0.00032768002711236477.\n",
      "20/20 [==============================] - 37s 2s/step - loss: 0.1548 - accuracy: 0.9952 - val_loss: 1.0115 - val_accuracy: 0.8312 - lr: 4.0960e-04\n",
      "Epoch 00057: early stopping\n"
     ]
    }
   ],
   "source": [
    "model=premodel(pixels,1024,mhandle,15,'softmax',\n",
    "               'sparse_categorical_crossentropy')\n",
    "history=model.fit(\n",
    "    x=x_train,y=np.squeeze(y_train),\n",
    "    batch_size=32,epochs=70,callbacks=cb(fw),\n",
    "    validation_data=(x_valid,np.squeeze(y_valid)))"
   ]
  },
  {
   "cell_type": "code",
   "execution_count": 13,
   "metadata": {
    "execution": {
     "iopub.execute_input": "2020-12-12T03:21:49.854399Z",
     "iopub.status.busy": "2020-12-12T03:21:49.853692Z",
     "iopub.status.idle": "2020-12-12T03:21:51.375207Z",
     "shell.execute_reply": "2020-12-12T03:21:51.374333Z"
    },
    "papermill": {
     "duration": 2.366318,
     "end_time": "2020-12-12T03:21:51.375391",
     "exception": false,
     "start_time": "2020-12-12T03:21:49.009073",
     "status": "completed"
    },
    "tags": []
   },
   "outputs": [
    {
     "name": "stdout",
     "output_type": "stream",
     "text": [
      "3/3 [==============================] - 0s 138ms/step - loss: 1.9632 - accuracy: 0.6494\n"
     ]
    },
    {
     "data": {
      "text/plain": [
       "[1.9631924629211426, 0.649350643157959]"
      ]
     },
     "execution_count": 13,
     "metadata": {},
     "output_type": "execute_result"
    }
   ],
   "source": [
    "model.load_weights(fw)\n",
    "model.evaluate(x_test,np.squeeze(y_test))"
   ]
  },
  {
   "cell_type": "code",
   "execution_count": 14,
   "metadata": {
    "execution": {
     "iopub.execute_input": "2020-12-12T03:21:53.046288Z",
     "iopub.status.busy": "2020-12-12T03:21:53.040924Z",
     "iopub.status.idle": "2020-12-12T03:21:53.213452Z",
     "shell.execute_reply": "2020-12-12T03:21:53.212866Z"
    },
    "papermill": {
     "duration": 1.01084,
     "end_time": "2020-12-12T03:21:53.213581",
     "exception": false,
     "start_time": "2020-12-12T03:21:52.202741",
     "status": "completed"
    },
    "tags": []
   },
   "outputs": [],
   "source": [
    "batch_size=64; img_size=x_train.shape[1]; epochs=30\n",
    "base_model=tf.keras.Sequential([\n",
    "    tkl.Input((img_size,img_size,3),name='input'),\n",
    "    tkl.Conv2D(32,(5,5),padding='same'),\n",
    "    tkl.Activation('relu'),\n",
    "    tkl.MaxPooling2D(pool_size=(2,2)),\n",
    "    tkl.Dropout(.25),\n",
    "    tkl.Conv2D(196,(5,5)),\n",
    "    tkl.Activation('relu'),    \n",
    "    tkl.MaxPooling2D(pool_size=(2,2)),\n",
    "    tkl.Dropout(.25),\n",
    "    tkl.GlobalMaxPooling2D(),    \n",
    "    tkl.Dense(512),\n",
    "    tkl.Activation('relu'),\n",
    "    tkl.Dropout(.25),\n",
    "    tkl.Dense(128),\n",
    "    tkl.Activation('relu'),\n",
    "    tkl.Dropout(.25),\n",
    "    tkl.Dense(15,activation='softmax')])\n",
    "adv_config=nsl.configs\\\n",
    ".make_adv_reg_config(multiplier=.2,adv_step_size=.05)\n",
    "adv_model=nsl.keras\\\n",
    ".AdversarialRegularization(base_model,adv_config=adv_config)\n",
    "adv_model.compile(\n",
    "    optimizer='adam',metrics=['accuracy'],\n",
    "    loss='sparse_categorical_crossentropy')"
   ]
  },
  {
   "cell_type": "code",
   "execution_count": 15,
   "metadata": {
    "_kg_hide-output": true,
    "execution": {
     "iopub.execute_input": "2020-12-12T03:21:55.023218Z",
     "iopub.status.busy": "2020-12-12T03:21:55.022490Z",
     "iopub.status.idle": "2020-12-12T04:11:48.379528Z",
     "shell.execute_reply": "2020-12-12T04:11:48.378975Z"
    },
    "papermill": {
     "duration": 2994.341803,
     "end_time": "2020-12-12T04:11:48.379654",
     "exception": false,
     "start_time": "2020-12-12T03:21:54.037851",
     "status": "completed"
    },
    "tags": []
   },
   "outputs": [
    {
     "name": "stdout",
     "output_type": "stream",
     "text": [
      "Epoch 1/30\n",
      "10/10 - 88s - loss: 3.2603 - sparse_categorical_crossentropy: 2.7180 - sparse_categorical_accuracy: 0.0707 - scaled_adversarial_loss: 0.5423 - val_loss: 3.2368 - val_sparse_categorical_crossentropy: 2.6970 - val_sparse_categorical_accuracy: 0.1562 - val_scaled_adversarial_loss: 0.5398\n",
      "Epoch 2/30\n",
      "10/10 - 87s - loss: 3.1394 - sparse_categorical_crossentropy: 2.6167 - sparse_categorical_accuracy: 0.1383 - scaled_adversarial_loss: 0.5227 - val_loss: 3.1096 - val_sparse_categorical_crossentropy: 2.5908 - val_sparse_categorical_accuracy: 0.1250 - val_scaled_adversarial_loss: 0.5188\n",
      "Epoch 3/30\n",
      "10/10 - 87s - loss: 2.8180 - sparse_categorical_crossentropy: 2.3458 - sparse_categorical_accuracy: 0.1929 - scaled_adversarial_loss: 0.4722 - val_loss: 2.7535 - val_sparse_categorical_crossentropy: 2.2933 - val_sparse_categorical_accuracy: 0.2031 - val_scaled_adversarial_loss: 0.4602\n",
      "Epoch 4/30\n",
      "10/10 - 88s - loss: 2.5010 - sparse_categorical_crossentropy: 2.0806 - sparse_categorical_accuracy: 0.2363 - scaled_adversarial_loss: 0.4204 - val_loss: 2.4859 - val_sparse_categorical_crossentropy: 2.0696 - val_sparse_categorical_accuracy: 0.2500 - val_scaled_adversarial_loss: 0.4163\n",
      "Epoch 5/30\n",
      "10/10 - 88s - loss: 2.3231 - sparse_categorical_crossentropy: 1.9417 - sparse_categorical_accuracy: 0.2556 - scaled_adversarial_loss: 0.3813 - val_loss: 2.3089 - val_sparse_categorical_crossentropy: 1.9216 - val_sparse_categorical_accuracy: 0.2969 - val_scaled_adversarial_loss: 0.3873\n",
      "Epoch 6/30\n",
      "10/10 - 94s - loss: 2.2001 - sparse_categorical_crossentropy: 1.8323 - sparse_categorical_accuracy: 0.3135 - scaled_adversarial_loss: 0.3678 - val_loss: 2.2187 - val_sparse_categorical_crossentropy: 1.8463 - val_sparse_categorical_accuracy: 0.3125 - val_scaled_adversarial_loss: 0.3724\n",
      "Epoch 7/30\n",
      "10/10 - 88s - loss: 2.1673 - sparse_categorical_crossentropy: 1.8053 - sparse_categorical_accuracy: 0.3167 - scaled_adversarial_loss: 0.3620 - val_loss: 2.2143 - val_sparse_categorical_crossentropy: 1.8424 - val_sparse_categorical_accuracy: 0.3750 - val_scaled_adversarial_loss: 0.3719\n",
      "Epoch 8/30\n",
      "10/10 - 87s - loss: 2.1552 - sparse_categorical_crossentropy: 1.8010 - sparse_categorical_accuracy: 0.3135 - scaled_adversarial_loss: 0.3543 - val_loss: 2.2386 - val_sparse_categorical_crossentropy: 1.8625 - val_sparse_categorical_accuracy: 0.3594 - val_scaled_adversarial_loss: 0.3761\n",
      "Epoch 9/30\n",
      "10/10 - 88s - loss: 2.1346 - sparse_categorical_crossentropy: 1.7806 - sparse_categorical_accuracy: 0.3039 - scaled_adversarial_loss: 0.3539 - val_loss: 2.2067 - val_sparse_categorical_crossentropy: 1.8358 - val_sparse_categorical_accuracy: 0.3281 - val_scaled_adversarial_loss: 0.3709\n",
      "Epoch 10/30\n",
      "10/10 - 87s - loss: 2.1074 - sparse_categorical_crossentropy: 1.7521 - sparse_categorical_accuracy: 0.3167 - scaled_adversarial_loss: 0.3553 - val_loss: 2.1955 - val_sparse_categorical_crossentropy: 1.8263 - val_sparse_categorical_accuracy: 0.3750 - val_scaled_adversarial_loss: 0.3692\n",
      "Epoch 11/30\n",
      "10/10 - 87s - loss: 2.1084 - sparse_categorical_crossentropy: 1.7603 - sparse_categorical_accuracy: 0.3360 - scaled_adversarial_loss: 0.3481 - val_loss: 2.0476 - val_sparse_categorical_crossentropy: 1.7034 - val_sparse_categorical_accuracy: 0.4062 - val_scaled_adversarial_loss: 0.3442\n",
      "Epoch 12/30\n",
      "10/10 - 94s - loss: 2.0116 - sparse_categorical_crossentropy: 1.6745 - sparse_categorical_accuracy: 0.3553 - scaled_adversarial_loss: 0.3371 - val_loss: 1.9552 - val_sparse_categorical_crossentropy: 1.6262 - val_sparse_categorical_accuracy: 0.4219 - val_scaled_adversarial_loss: 0.3289\n",
      "Epoch 13/30\n",
      "10/10 - 88s - loss: 1.9724 - sparse_categorical_crossentropy: 1.6413 - sparse_categorical_accuracy: 0.3666 - scaled_adversarial_loss: 0.3311 - val_loss: 1.8801 - val_sparse_categorical_crossentropy: 1.5637 - val_sparse_categorical_accuracy: 0.5469 - val_scaled_adversarial_loss: 0.3164\n",
      "Epoch 14/30\n",
      "10/10 - 89s - loss: 1.8700 - sparse_categorical_crossentropy: 1.5595 - sparse_categorical_accuracy: 0.3633 - scaled_adversarial_loss: 0.3105 - val_loss: 1.8637 - val_sparse_categorical_crossentropy: 1.5496 - val_sparse_categorical_accuracy: 0.4688 - val_scaled_adversarial_loss: 0.3140\n",
      "Epoch 15/30\n",
      "10/10 - 90s - loss: 1.7973 - sparse_categorical_crossentropy: 1.4920 - sparse_categorical_accuracy: 0.4260 - scaled_adversarial_loss: 0.3053 - val_loss: 1.7820 - val_sparse_categorical_crossentropy: 1.4814 - val_sparse_categorical_accuracy: 0.5312 - val_scaled_adversarial_loss: 0.3006\n",
      "Epoch 16/30\n",
      "10/10 - 89s - loss: 1.7800 - sparse_categorical_crossentropy: 1.4913 - sparse_categorical_accuracy: 0.4228 - scaled_adversarial_loss: 0.2887 - val_loss: 1.7908 - val_sparse_categorical_crossentropy: 1.4887 - val_sparse_categorical_accuracy: 0.4844 - val_scaled_adversarial_loss: 0.3022\n",
      "Epoch 17/30\n",
      "10/10 - 89s - loss: 1.6927 - sparse_categorical_crossentropy: 1.4058 - sparse_categorical_accuracy: 0.4566 - scaled_adversarial_loss: 0.2869 - val_loss: 1.7685 - val_sparse_categorical_crossentropy: 1.4700 - val_sparse_categorical_accuracy: 0.5000 - val_scaled_adversarial_loss: 0.2985\n",
      "Epoch 18/30\n",
      "10/10 - 96s - loss: 1.7024 - sparse_categorical_crossentropy: 1.4136 - sparse_categorical_accuracy: 0.4582 - scaled_adversarial_loss: 0.2888 - val_loss: 1.8056 - val_sparse_categorical_crossentropy: 1.5004 - val_sparse_categorical_accuracy: 0.4688 - val_scaled_adversarial_loss: 0.3052\n",
      "Epoch 19/30\n",
      "10/10 - 88s - loss: 1.6795 - sparse_categorical_crossentropy: 1.3957 - sparse_categorical_accuracy: 0.4260 - scaled_adversarial_loss: 0.2838 - val_loss: 1.7121 - val_sparse_categorical_crossentropy: 1.4226 - val_sparse_categorical_accuracy: 0.5312 - val_scaled_adversarial_loss: 0.2894\n",
      "Epoch 20/30\n",
      "10/10 - 88s - loss: 1.6426 - sparse_categorical_crossentropy: 1.3686 - sparse_categorical_accuracy: 0.5032 - scaled_adversarial_loss: 0.2740 - val_loss: 1.6757 - val_sparse_categorical_crossentropy: 1.3924 - val_sparse_categorical_accuracy: 0.5625 - val_scaled_adversarial_loss: 0.2833\n",
      "Epoch 21/30\n",
      "10/10 - 88s - loss: 1.5888 - sparse_categorical_crossentropy: 1.3207 - sparse_categorical_accuracy: 0.4791 - scaled_adversarial_loss: 0.2681 - val_loss: 1.7189 - val_sparse_categorical_crossentropy: 1.4278 - val_sparse_categorical_accuracy: 0.4688 - val_scaled_adversarial_loss: 0.2911\n",
      "Epoch 22/30\n",
      "10/10 - 88s - loss: 1.6121 - sparse_categorical_crossentropy: 1.3395 - sparse_categorical_accuracy: 0.4727 - scaled_adversarial_loss: 0.2726 - val_loss: 1.7072 - val_sparse_categorical_crossentropy: 1.4179 - val_sparse_categorical_accuracy: 0.4844 - val_scaled_adversarial_loss: 0.2893\n",
      "Epoch 23/30\n",
      "10/10 - 88s - loss: 1.5889 - sparse_categorical_crossentropy: 1.3157 - sparse_categorical_accuracy: 0.4614 - scaled_adversarial_loss: 0.2732 - val_loss: 1.6738 - val_sparse_categorical_crossentropy: 1.3905 - val_sparse_categorical_accuracy: 0.5312 - val_scaled_adversarial_loss: 0.2833\n",
      "Epoch 24/30\n",
      "10/10 - 94s - loss: 1.5614 - sparse_categorical_crossentropy: 1.3043 - sparse_categorical_accuracy: 0.4952 - scaled_adversarial_loss: 0.2571 - val_loss: 1.7332 - val_sparse_categorical_crossentropy: 1.4396 - val_sparse_categorical_accuracy: 0.4688 - val_scaled_adversarial_loss: 0.2936\n",
      "Epoch 25/30\n",
      "10/10 - 88s - loss: 1.5332 - sparse_categorical_crossentropy: 1.2792 - sparse_categorical_accuracy: 0.5016 - scaled_adversarial_loss: 0.2541 - val_loss: 1.6391 - val_sparse_categorical_crossentropy: 1.3613 - val_sparse_categorical_accuracy: 0.5781 - val_scaled_adversarial_loss: 0.2779\n",
      "Epoch 26/30\n",
      "10/10 - 88s - loss: 1.4553 - sparse_categorical_crossentropy: 1.2112 - sparse_categorical_accuracy: 0.5289 - scaled_adversarial_loss: 0.2440 - val_loss: 1.7295 - val_sparse_categorical_crossentropy: 1.4363 - val_sparse_categorical_accuracy: 0.5000 - val_scaled_adversarial_loss: 0.2933\n",
      "Epoch 27/30\n",
      "10/10 - 90s - loss: 1.4849 - sparse_categorical_crossentropy: 1.2358 - sparse_categorical_accuracy: 0.5177 - scaled_adversarial_loss: 0.2491 - val_loss: 1.6567 - val_sparse_categorical_crossentropy: 1.3753 - val_sparse_categorical_accuracy: 0.5469 - val_scaled_adversarial_loss: 0.2814\n",
      "Epoch 28/30\n",
      "10/10 - 87s - loss: 1.4930 - sparse_categorical_crossentropy: 1.2422 - sparse_categorical_accuracy: 0.4968 - scaled_adversarial_loss: 0.2508 - val_loss: 1.7101 - val_sparse_categorical_crossentropy: 1.4199 - val_sparse_categorical_accuracy: 0.5000 - val_scaled_adversarial_loss: 0.2902\n",
      "Epoch 29/30\n",
      "10/10 - 88s - loss: 1.4382 - sparse_categorical_crossentropy: 1.1933 - sparse_categorical_accuracy: 0.5064 - scaled_adversarial_loss: 0.2448 - val_loss: 1.6316 - val_sparse_categorical_crossentropy: 1.3542 - val_sparse_categorical_accuracy: 0.5625 - val_scaled_adversarial_loss: 0.2774\n",
      "Epoch 30/30\n",
      "10/10 - 96s - loss: 1.4159 - sparse_categorical_crossentropy: 1.1775 - sparse_categorical_accuracy: 0.5048 - scaled_adversarial_loss: 0.2384 - val_loss: 1.6126 - val_sparse_categorical_crossentropy: 1.3386 - val_sparse_categorical_accuracy: 0.5625 - val_scaled_adversarial_loss: 0.2740\n"
     ]
    },
    {
     "data": {
      "text/plain": [
       "<tensorflow.python.keras.callbacks.History at 0x7f11ad768590>"
      ]
     },
     "execution_count": 15,
     "metadata": {},
     "output_type": "execute_result"
    }
   ],
   "source": [
    "train=tf.data.Dataset.from_tensor_slices(\n",
    "    {'input':x_train,'label':np.squeeze(y_train)})\\\n",
    "     .batch(batch_size)\n",
    "valid=tf.data.Dataset.from_tensor_slices(\n",
    "    {'input':x_valid,'label':np.squeeze(y_valid)})\\\n",
    "     .batch(batch_size)\n",
    "valid_steps=x_valid.shape[0]//batch_size\n",
    "adv_model.fit(train,validation_data=valid,verbose=2,\n",
    "              validation_steps=valid_steps,epochs=epochs)"
   ]
  },
  {
   "cell_type": "code",
   "execution_count": 16,
   "metadata": {
    "execution": {
     "iopub.execute_input": "2020-12-12T04:11:50.061636Z",
     "iopub.status.busy": "2020-12-12T04:11:50.060989Z",
     "iopub.status.idle": "2020-12-12T04:11:55.890002Z",
     "shell.execute_reply": "2020-12-12T04:11:55.889324Z"
    },
    "papermill": {
     "duration": 6.668954,
     "end_time": "2020-12-12T04:11:55.890120",
     "exception": false,
     "start_time": "2020-12-12T04:11:49.221166",
     "status": "completed"
    },
    "tags": []
   },
   "outputs": [
    {
     "name": "stdout",
     "output_type": "stream",
     "text": [
      "3/3 [==============================] - 3s 1s/step - loss: 1.9295 - sparse_categorical_crossentropy: 1.6011 - sparse_categorical_accuracy: 0.4286 - scaled_adversarial_loss: 0.3284\n"
     ]
    },
    {
     "data": {
      "text/plain": [
       "[1.9295064210891724,\n",
       " 1.6010961532592773,\n",
       " 0.4285714328289032,\n",
       " 0.32841023802757263]"
      ]
     },
     "execution_count": 16,
     "metadata": {},
     "output_type": "execute_result"
    }
   ],
   "source": [
    "adv_model.evaluate(\n",
    "    {'input':x_test,'label':np.squeeze(y_test)})"
   ]
  }
 ],
 "metadata": {
  "kernelspec": {
   "display_name": "Python 3",
   "language": "python",
   "name": "python3"
  },
  "language_info": {
   "codemirror_mode": {
    "name": "ipython",
    "version": 3
   },
   "file_extension": ".py",
   "mimetype": "text/x-python",
   "name": "python",
   "nbconvert_exporter": "python",
   "pygments_lexer": "ipython3",
   "version": "3.7.6"
  },
  "papermill": {
   "duration": 9847.099422,
   "end_time": "2020-12-12T04:11:57.013834",
   "environment_variables": {},
   "exception": null,
   "input_path": "__notebook__.ipynb",
   "output_path": "__notebook__.ipynb",
   "parameters": {},
   "start_time": "2020-12-12T01:27:49.914412",
   "version": "2.1.0"
  }
 },
 "nbformat": 4,
 "nbformat_minor": 4
}
