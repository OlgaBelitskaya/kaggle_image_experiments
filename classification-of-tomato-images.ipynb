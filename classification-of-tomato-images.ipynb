{
 "cells": [
  {
   "cell_type": "markdown",
   "metadata": {
    "papermill": {
     "duration": 0.012198,
     "end_time": "2020-12-12T11:21:14.264317",
     "exception": false,
     "start_time": "2020-12-12T11:21:14.252119",
     "status": "completed"
    },
    "tags": []
   },
   "source": [
    "## Code Modules & Functions"
   ]
  },
  {
   "cell_type": "code",
   "execution_count": 1,
   "metadata": {
    "_kg_hide-output": true,
    "execution": {
     "iopub.execute_input": "2020-12-12T11:21:14.298991Z",
     "iopub.status.busy": "2020-12-12T11:21:14.298151Z",
     "iopub.status.idle": "2020-12-12T11:23:27.399995Z",
     "shell.execute_reply": "2020-12-12T11:23:27.400444Z"
    },
    "papermill": {
     "duration": 133.125225,
     "end_time": "2020-12-12T11:23:27.400629",
     "exception": false,
     "start_time": "2020-12-12T11:21:14.275404",
     "status": "completed"
    },
    "tags": []
   },
   "outputs": [],
   "source": [
    "import sys\n",
    "!cp ../input/rapids/rapids.0.16.0 /opt/conda/envs/rapids.tar.gz\n",
    "!cd /opt/conda/envs/ && tar -xzvf rapids.tar.gz > /dev/null\n",
    "sys.path=[\"/opt/conda/envs/rapids/lib/python3.7/site-packages\"]+sys.path\n",
    "sys.path=[\"/opt/conda/envs/rapids/lib/python3.7\"]+sys.path\n",
    "sys.path=[\"/opt/conda/envs/rapids/lib\"]+sys.path \n",
    "!cp /opt/conda/envs/rapids/lib/libxgboost.so /opt/conda/lib/"
   ]
  },
  {
   "cell_type": "code",
   "execution_count": 2,
   "metadata": {
    "_cell_guid": "b1076dfc-b9ad-4769-8c92-a6c4dae69d19",
    "_uuid": "8f2839f25d086af736a60e9eeb907d3b93b6e0e5",
    "execution": {
     "iopub.execute_input": "2020-12-12T11:23:27.432615Z",
     "iopub.status.busy": "2020-12-12T11:23:27.431796Z",
     "iopub.status.idle": "2020-12-12T11:23:30.215771Z",
     "shell.execute_reply": "2020-12-12T11:23:30.215168Z"
    },
    "papermill": {
     "duration": 2.802263,
     "end_time": "2020-12-12T11:23:30.215892",
     "exception": false,
     "start_time": "2020-12-12T11:23:27.413629",
     "status": "completed"
    },
    "tags": []
   },
   "outputs": [],
   "source": [
    "import warnings; warnings.filterwarnings('ignore')\n",
    "import pandas as pd,numpy as np,tensorflow as tf\n",
    "import os,pylab as pl,cudf,cuml\n",
    "from sklearn.metrics import accuracy_score,hamming_loss\n",
    "from sklearn.metrics import classification_report\n",
    "from sklearn.ensemble import RandomForestClassifier as sRFC\n",
    "from cuml.ensemble import RandomForestClassifier as cRFC\n",
    "from sklearn import svm\n",
    "from sklearn.neighbors import KNeighborsClassifier as sKNC\n",
    "from cuml.neighbors import KNeighborsClassifier as cKNC\n",
    "from sklearn.neural_network import MLPClassifier\n",
    "import tensorflow.keras.preprocessing.image as tkimg\n",
    "fpath='../input/tomato-cultivars/'"
   ]
  },
  {
   "cell_type": "code",
   "execution_count": 3,
   "metadata": {
    "_cell_guid": "79c7e3d0-c299-4dcb-8224-4455121ee9b0",
    "_kg_hide-input": true,
    "_uuid": "d629ff2d2480ee46fbb7e2d37f6b5fab8052498a",
    "execution": {
     "iopub.execute_input": "2020-12-12T11:23:30.243944Z",
     "iopub.status.busy": "2020-12-12T11:23:30.242922Z",
     "iopub.status.idle": "2020-12-12T11:23:30.253550Z",
     "shell.execute_reply": "2020-12-12T11:23:30.253098Z"
    },
    "papermill": {
     "duration": 0.024612,
     "end_time": "2020-12-12T11:23:30.253637",
     "exception": false,
     "start_time": "2020-12-12T11:23:30.229025",
     "status": "completed"
    },
    "tags": []
   },
   "outputs": [],
   "source": [
    "def images2array(files_path,img_size,grayscale=False):\n",
    "    files_list=sorted(os.listdir(files_path))\n",
    "    n,img_array=len(files_list),[]\n",
    "    for i in range(n):\n",
    "        if i%round(.1*n)==0:\n",
    "            print('=>',end='',flush=True)\n",
    "        img_path=files_path+files_list[i]\n",
    "        if grayscale:\n",
    "            img=tkimg.load_img(\n",
    "                img_path,grayscale=grayscale)\n",
    "        else:\n",
    "            img=tkimg.load_img(\n",
    "                img_path,target_size=(img_size,img_size))\n",
    "        img=tkimg.img_to_array(img)\n",
    "        img=np.expand_dims(img,axis=0)/255\n",
    "        img_array.append(img)\n",
    "    return np.array(np.vstack(img_array),dtype='float32')"
   ]
  },
  {
   "cell_type": "markdown",
   "metadata": {
    "papermill": {
     "duration": 0.011558,
     "end_time": "2020-12-12T11:23:30.277600",
     "exception": false,
     "start_time": "2020-12-12T11:23:30.266042",
     "status": "completed"
    },
    "tags": []
   },
   "source": [
    "## Data"
   ]
  },
  {
   "cell_type": "code",
   "execution_count": 4,
   "metadata": {
    "execution": {
     "iopub.execute_input": "2020-12-12T11:23:30.311464Z",
     "iopub.status.busy": "2020-12-12T11:23:30.310681Z",
     "iopub.status.idle": "2020-12-12T11:23:39.088129Z",
     "shell.execute_reply": "2020-12-12T11:23:39.087042Z"
    },
    "papermill": {
     "duration": 8.798036,
     "end_time": "2020-12-12T11:23:39.088250",
     "exception": false,
     "start_time": "2020-12-12T11:23:30.290214",
     "status": "completed"
    },
    "tags": []
   },
   "outputs": [
    {
     "name": "stdout",
     "output_type": "stream",
     "text": [
      "=>=>=>=>=>=>=>=>=>=>"
     ]
    }
   ],
   "source": [
    "names=['Kumato','Beefsteak','Tigerella',\n",
    "       'Roma','Japanese Black Trifele',\n",
    "       'Yellow Pear','Sun Gold','Green Zebra',\n",
    "       'Cherokee Purple','Oxheart','Blue Berries',\n",
    "       'San Marzano','Banana Legs',\n",
    "       'German Orange Strawberry','Supersweet 100']\n",
    "flist=sorted(os.listdir(fpath))\n",
    "labels=np.array(\n",
    "    [int(el[:2]) for el in flist],dtype='int32')-1\n",
    "img_size=160\n",
    "images=images2array(fpath,img_size)\n",
    "N=labels.shape[0]; n=int(.2*N)\n",
    "shuffle_ids=np.arange(N)\n",
    "np.random.RandomState(12).shuffle(shuffle_ids)\n",
    "images,labels=images[shuffle_ids],labels[shuffle_ids]\n",
    "x_test,x_train=images[:n],images[n:]\n",
    "y_test,y_train=labels[:n],labels[n:]"
   ]
  },
  {
   "cell_type": "code",
   "execution_count": 5,
   "metadata": {
    "execution": {
     "iopub.execute_input": "2020-12-12T11:23:39.150958Z",
     "iopub.status.busy": "2020-12-12T11:23:39.133505Z",
     "iopub.status.idle": "2020-12-12T11:23:39.159351Z",
     "shell.execute_reply": "2020-12-12T11:23:39.159798Z"
    },
    "papermill": {
     "duration": 0.055868,
     "end_time": "2020-12-12T11:23:39.159909",
     "exception": false,
     "start_time": "2020-12-12T11:23:39.104041",
     "status": "completed"
    },
    "tags": []
   },
   "outputs": [
    {
     "data": {
      "text/html": [
       "<div>\n",
       "<style scoped>\n",
       "    .dataframe tbody tr th:only-of-type {\n",
       "        vertical-align: middle;\n",
       "    }\n",
       "\n",
       "    .dataframe tbody tr th {\n",
       "        vertical-align: top;\n",
       "    }\n",
       "\n",
       "    .dataframe thead th {\n",
       "        text-align: right;\n",
       "    }\n",
       "</style>\n",
       "<table border=\"1\" class=\"dataframe\">\n",
       "  <thead>\n",
       "    <tr style=\"text-align: right;\">\n",
       "      <th></th>\n",
       "      <th>train</th>\n",
       "      <th>test</th>\n",
       "    </tr>\n",
       "  </thead>\n",
       "  <tbody>\n",
       "    <tr>\n",
       "      <th>0</th>\n",
       "      <td>(621, 160, 160, 3)</td>\n",
       "      <td>(155, 160, 160, 3)</td>\n",
       "    </tr>\n",
       "    <tr>\n",
       "      <th>1</th>\n",
       "      <td>float32</td>\n",
       "      <td>float32</td>\n",
       "    </tr>\n",
       "    <tr>\n",
       "      <th>2</th>\n",
       "      <td>(621,)</td>\n",
       "      <td>(155,)</td>\n",
       "    </tr>\n",
       "    <tr>\n",
       "      <th>3</th>\n",
       "      <td>int32</td>\n",
       "      <td>int32</td>\n",
       "    </tr>\n",
       "  </tbody>\n",
       "</table>\n",
       "</div>"
      ],
      "text/plain": [
       "                train                test\n",
       "0  (621, 160, 160, 3)  (155, 160, 160, 3)\n",
       "1             float32             float32\n",
       "2              (621,)              (155,)\n",
       "3               int32               int32"
      ]
     },
     "execution_count": 5,
     "metadata": {},
     "output_type": "execute_result"
    }
   ],
   "source": [
    "pd.DataFrame([[x_train.shape,x_test.shape],\n",
    "              [x_train.dtype,x_test.dtype],\n",
    "              [y_train.shape,y_test.shape],\n",
    "              [y_train.dtype,y_test.dtype]],               \n",
    "             columns=['train','test'])"
   ]
  },
  {
   "cell_type": "code",
   "execution_count": 6,
   "metadata": {
    "execution": {
     "iopub.execute_input": "2020-12-12T11:23:39.201048Z",
     "iopub.status.busy": "2020-12-12T11:23:39.200465Z",
     "iopub.status.idle": "2020-12-12T11:23:39.400563Z",
     "shell.execute_reply": "2020-12-12T11:23:39.400078Z"
    },
    "papermill": {
     "duration": 0.225736,
     "end_time": "2020-12-12T11:23:39.400675",
     "exception": false,
     "start_time": "2020-12-12T11:23:39.174939",
     "status": "completed"
    },
    "tags": []
   },
   "outputs": [
    {
     "name": "stdout",
     "output_type": "stream",
     "text": [
      "Label:  0 Kumato\n"
     ]
    },
    {
     "data": {
      "image/png": "[encoded data removed]",
      "text/plain": [
       "<Figure size 216x216 with 1 Axes>"
      ]
     },
     "metadata": {
      "needs_background": "light"
     },
     "output_type": "display_data"
    }
   ],
   "source": [
    "k=np.random.randint(40)\n",
    "print('Label: ',y_test[k],\n",
    "      names[y_test[k]])\n",
    "pl.figure(figsize=(3,3))\n",
    "pl.imshow((x_test[k]));"
   ]
  },
  {
   "cell_type": "code",
   "execution_count": 7,
   "metadata": {
    "execution": {
     "iopub.execute_input": "2020-12-12T11:23:39.441606Z",
     "iopub.status.busy": "2020-12-12T11:23:39.441115Z",
     "iopub.status.idle": "2020-12-12T11:23:39.445160Z",
     "shell.execute_reply": "2020-12-12T11:23:39.444733Z"
    },
    "papermill": {
     "duration": 0.02634,
     "end_time": "2020-12-12T11:23:39.445238",
     "exception": false,
     "start_time": "2020-12-12T11:23:39.418898",
     "status": "completed"
    },
    "tags": []
   },
   "outputs": [],
   "source": [
    "x_train=x_train.reshape(-1,img_size**2*3)\n",
    "y_train=y_train.reshape(-1,1)\n",
    "x_test=x_test.reshape(-1,img_size**2*3)\n",
    "y_test=y_test.reshape(-1,1)"
   ]
  },
  {
   "cell_type": "markdown",
   "metadata": {
    "papermill": {
     "duration": 0.017675,
     "end_time": "2020-12-12T11:23:39.480544",
     "exception": false,
     "start_time": "2020-12-12T11:23:39.462869",
     "status": "completed"
    },
    "tags": []
   },
   "source": [
    "## Sklearn Classifiers"
   ]
  },
  {
   "cell_type": "code",
   "execution_count": 8,
   "metadata": {
    "execution": {
     "iopub.execute_input": "2020-12-12T11:23:39.523187Z",
     "iopub.status.busy": "2020-12-12T11:23:39.522368Z",
     "iopub.status.idle": "2020-12-12T11:23:39.524926Z",
     "shell.execute_reply": "2020-12-12T11:23:39.524494Z"
    },
    "papermill": {
     "duration": 0.026498,
     "end_time": "2020-12-12T11:23:39.525004",
     "exception": false,
     "start_time": "2020-12-12T11:23:39.498506",
     "status": "completed"
    },
    "tags": []
   },
   "outputs": [],
   "source": [
    "def classifier_fit_score(classifier,x_train,x_test,y_train,y_test):\n",
    "    classifier.fit(x_train,y_train)     \n",
    "    y_clf_train=classifier.predict(x_train)\n",
    "    y_clf_test=classifier.predict(x_test)        \n",
    "    acc_clf_train=round(accuracy_score(y_train,y_clf_train),4)\n",
    "    acc_clf_test=round(accuracy_score(y_test,y_clf_test),4) \n",
    "    loss_clf_train=round(hamming_loss(y_train,y_clf_train),4)\n",
    "    loss_clf_test=round(hamming_loss(y_test,y_clf_test),4)  \n",
    "    return [y_clf_train,y_clf_test,acc_clf_train,acc_clf_test,\n",
    "            loss_clf_train,loss_clf_test]"
   ]
  },
  {
   "cell_type": "code",
   "execution_count": 9,
   "metadata": {
    "execution": {
     "iopub.execute_input": "2020-12-12T11:23:39.565340Z",
     "iopub.status.busy": "2020-12-12T11:23:39.564453Z",
     "iopub.status.idle": "2020-12-12T11:23:48.373320Z",
     "shell.execute_reply": "2020-12-12T11:23:48.372504Z"
    },
    "papermill": {
     "duration": 8.830654,
     "end_time": "2020-12-12T11:23:48.373518",
     "exception": false,
     "start_time": "2020-12-12T11:23:39.542864",
     "status": "completed"
    },
    "tags": []
   },
   "outputs": [
    {
     "name": "stdout",
     "output_type": "stream",
     "text": [
      "              precision    recall  f1-score   support\n",
      "\n",
      "           0       0.64      0.70      0.67        10\n",
      "           1       0.32      0.50      0.39        14\n",
      "           2       0.29      0.57      0.38        14\n",
      "           3       0.33      0.36      0.35        11\n",
      "           4       0.40      0.33      0.36         6\n",
      "           5       0.31      0.42      0.36        12\n",
      "           6       1.00      0.08      0.15        12\n",
      "           7       0.73      0.85      0.79        13\n",
      "           8       0.33      0.11      0.17         9\n",
      "           9       0.00      0.00      0.00         8\n",
      "          10       0.25      0.67      0.36         6\n",
      "          11       0.33      0.08      0.12        13\n",
      "          12       0.46      0.86      0.60         7\n",
      "          13       0.00      0.00      0.00         5\n",
      "          14       0.00      0.00      0.00        15\n",
      "\n",
      "    accuracy                           0.37       155\n",
      "   macro avg       0.36      0.37      0.31       155\n",
      "weighted avg       0.38      0.37      0.32       155\n",
      "\n"
     ]
    }
   ],
   "source": [
    "[y_srfc_train,y_srfc_test,acc_srfc_train,\n",
    " acc_srfc_test,loss_srfc_train,loss_srfc_test]=\\\n",
    "classifier_fit_score(sRFC(),x_train,x_test,y_train,y_test)\n",
    "print(classification_report(y_test,y_srfc_test))"
   ]
  },
  {
   "cell_type": "code",
   "execution_count": 10,
   "metadata": {
    "execution": {
     "iopub.execute_input": "2020-12-12T11:23:48.431383Z",
     "iopub.status.busy": "2020-12-12T11:23:48.430473Z",
     "iopub.status.idle": "2020-12-12T11:23:48.432766Z",
     "shell.execute_reply": "2020-12-12T11:23:48.432086Z"
    },
    "papermill": {
     "duration": 0.039312,
     "end_time": "2020-12-12T11:23:48.432891",
     "exception": false,
     "start_time": "2020-12-12T11:23:48.393579",
     "status": "completed"
    },
    "tags": []
   },
   "outputs": [],
   "source": [
    "#[y_crfc_train,y_crfc_test,acc_crfc_train,\n",
    "# acc_crfc_test,loss_crfc_train,loss_crfc_test]=\\\n",
    "#classifier_fit_score(cRFC(),x_train,x_test,y_train,y_test)\n",
    "#print(classification_report(y_test,y_crfc_test))"
   ]
  },
  {
   "cell_type": "code",
   "execution_count": 11,
   "metadata": {
    "execution": {
     "iopub.execute_input": "2020-12-12T11:23:48.478802Z",
     "iopub.status.busy": "2020-12-12T11:23:48.477653Z",
     "iopub.status.idle": "2020-12-12T11:34:34.063219Z",
     "shell.execute_reply": "2020-12-12T11:34:34.062458Z"
    },
    "papermill": {
     "duration": 645.609229,
     "end_time": "2020-12-12T11:34:34.063365",
     "exception": false,
     "start_time": "2020-12-12T11:23:48.454136",
     "status": "completed"
    },
    "tags": []
   },
   "outputs": [
    {
     "name": "stdout",
     "output_type": "stream",
     "text": [
      "              precision    recall  f1-score   support\n",
      "\n",
      "           0       0.75      0.60      0.67        10\n",
      "           1       0.21      0.21      0.21        14\n",
      "           2       0.27      0.29      0.28        14\n",
      "           3       0.36      0.36      0.36        11\n",
      "           4       0.11      0.17      0.13         6\n",
      "           5       0.32      0.50      0.39        12\n",
      "           6       0.50      0.25      0.33        12\n",
      "           7       0.55      0.85      0.67        13\n",
      "           8       0.33      0.22      0.27         9\n",
      "           9       0.21      0.38      0.27         8\n",
      "          10       0.50      0.50      0.50         6\n",
      "          11       0.25      0.15      0.19        13\n",
      "          12       0.29      0.29      0.29         7\n",
      "          13       0.00      0.00      0.00         5\n",
      "          14       0.00      0.00      0.00        15\n",
      "\n",
      "    accuracy                           0.32       155\n",
      "   macro avg       0.31      0.32      0.30       155\n",
      "weighted avg       0.31      0.32      0.31       155\n",
      "\n"
     ]
    }
   ],
   "source": [
    "[y_lsvc_train,y_lsvc_test,acc_lsvc_train,\n",
    " acc_lsvc_test,loss_lsvc_train,loss_lsvc_test]=\\\n",
    "classifier_fit_score(svm.LinearSVC(),\n",
    "                     x_train,x_test,y_train,y_test)\n",
    "print(classification_report(y_test,y_lsvc_test))"
   ]
  },
  {
   "cell_type": "code",
   "execution_count": 12,
   "metadata": {
    "execution": {
     "iopub.execute_input": "2020-12-12T11:34:34.116878Z",
     "iopub.status.busy": "2020-12-12T11:34:34.116067Z",
     "iopub.status.idle": "2020-12-12T11:34:34.291879Z",
     "shell.execute_reply": "2020-12-12T11:34:34.292277Z"
    },
    "papermill": {
     "duration": 0.208414,
     "end_time": "2020-12-12T11:34:34.292380",
     "exception": false,
     "start_time": "2020-12-12T11:34:34.083966",
     "status": "completed"
    },
    "tags": []
   },
   "outputs": [
    {
     "data": {
      "image/png": "[encoded data removed]",
      "text/plain": [
       "<Figure size 720x360 with 1 Axes>"
      ]
     },
     "metadata": {
      "needs_background": "light"
     },
     "output_type": "display_data"
    }
   ],
   "source": [
    "pl.figure(figsize=(10,5)); t=50; x=range(t)\n",
    "pl.scatter(x,y_test[:t],marker='*',s=400,\n",
    "           color='#ff355e',label='Real data')\n",
    "pl.scatter(x,y_srfc_test[:t],marker='v',\n",
    "           s=100,color='darkorange',label='Random Forest')\n",
    "pl.scatter(x,y_lsvc_test[:t],marker='s',s=50,\n",
    "           color='darkred',label='SVM LinearSVC')\n",
    "pl.xlabel('Observations'); pl.ylabel('Targets') \n",
    "pl.title('Classifiers. Test Results')\n",
    "pl.legend(loc=2,fontsize=10); pl.show()"
   ]
  },
  {
   "cell_type": "code",
   "execution_count": 13,
   "metadata": {
    "execution": {
     "iopub.execute_input": "2020-12-12T11:34:34.338744Z",
     "iopub.status.busy": "2020-12-12T11:34:34.337910Z",
     "iopub.status.idle": "2020-12-12T11:36:13.482443Z",
     "shell.execute_reply": "2020-12-12T11:36:13.481597Z"
    },
    "papermill": {
     "duration": 99.169793,
     "end_time": "2020-12-12T11:36:13.482605",
     "exception": false,
     "start_time": "2020-12-12T11:34:34.312812",
     "status": "completed"
    },
    "tags": []
   },
   "outputs": [
    {
     "name": "stdout",
     "output_type": "stream",
     "text": [
      "              precision    recall  f1-score   support\n",
      "\n",
      "           0       0.38      0.60      0.46        10\n",
      "           1       0.13      0.14      0.14        14\n",
      "           2       0.23      0.50      0.32        14\n",
      "           3       0.13      0.27      0.18        11\n",
      "           4       0.00      0.00      0.00         6\n",
      "           5       0.35      0.67      0.46        12\n",
      "           6       0.00      0.00      0.00        12\n",
      "           7       0.47      0.69      0.56        13\n",
      "           8       0.40      0.22      0.29         9\n",
      "           9       0.00      0.00      0.00         8\n",
      "          10       0.80      0.67      0.73         6\n",
      "          11       0.00      0.00      0.00        13\n",
      "          12       0.00      0.00      0.00         7\n",
      "          13       0.17      0.20      0.18         5\n",
      "          14       0.00      0.00      0.00        15\n",
      "\n",
      "    accuracy                           0.27       155\n",
      "   macro avg       0.20      0.26      0.22       155\n",
      "weighted avg       0.19      0.27      0.22       155\n",
      "\n"
     ]
    }
   ],
   "source": [
    "[y_sknc_train,y_sknc_test,acc_sknc_train,\n",
    " acc_sknc_test,loss_sknc_train,loss_sknc_test]=\\\n",
    "classifier_fit_score(sKNC(),x_train,x_test,y_train,y_test)\n",
    "print(classification_report(y_test,y_sknc_test))"
   ]
  },
  {
   "cell_type": "code",
   "execution_count": 14,
   "metadata": {
    "execution": {
     "iopub.execute_input": "2020-12-12T11:36:16.613566Z",
     "iopub.status.busy": "2020-12-12T11:36:16.608367Z",
     "iopub.status.idle": "2020-12-12T11:36:19.806922Z",
     "shell.execute_reply": "2020-12-12T11:36:19.807987Z"
    },
    "papermill": {
     "duration": 6.297973,
     "end_time": "2020-12-12T11:36:19.808170",
     "exception": false,
     "start_time": "2020-12-12T11:36:13.510197",
     "status": "completed"
    },
    "tags": []
   },
   "outputs": [
    {
     "name": "stdout",
     "output_type": "stream",
     "text": [
      "              precision    recall  f1-score   support\n",
      "\n",
      "           0       0.38      0.60      0.46        10\n",
      "           1       0.13      0.14      0.14        14\n",
      "           2       0.23      0.50      0.32        14\n",
      "           3       0.13      0.27      0.18        11\n",
      "           4       0.00      0.00      0.00         6\n",
      "           5       0.35      0.67      0.46        12\n",
      "           6       0.00      0.00      0.00        12\n",
      "           7       0.47      0.69      0.56        13\n",
      "           8       0.40      0.22      0.29         9\n",
      "           9       0.00      0.00      0.00         8\n",
      "          10       0.80      0.67      0.73         6\n",
      "          11       0.00      0.00      0.00        13\n",
      "          12       0.00      0.00      0.00         7\n",
      "          13       0.17      0.20      0.18         5\n",
      "          14       0.00      0.00      0.00        15\n",
      "\n",
      "    accuracy                           0.27       155\n",
      "   macro avg       0.20      0.26      0.22       155\n",
      "weighted avg       0.19      0.27      0.22       155\n",
      "\n"
     ]
    }
   ],
   "source": [
    "[y_cknc_train,y_cknc_test,acc_cknc_train,\n",
    " acc_cknc_test,loss_cknc_train,loss_cknc_test]=\\\n",
    "classifier_fit_score(cKNC(),x_train,x_test,y_train,y_test)\n",
    "print(classification_report(y_test,y_cknc_test))"
   ]
  },
  {
   "cell_type": "code",
   "execution_count": 15,
   "metadata": {
    "_kg_hide-output": true,
    "execution": {
     "iopub.execute_input": "2020-12-12T11:36:19.900280Z",
     "iopub.status.busy": "2020-12-12T11:36:19.899463Z",
     "iopub.status.idle": "2020-12-12T11:41:46.253373Z",
     "shell.execute_reply": "2020-12-12T11:41:46.252288Z"
    },
    "papermill": {
     "duration": 326.4041,
     "end_time": "2020-12-12T11:41:46.253490",
     "exception": false,
     "start_time": "2020-12-12T11:36:19.849390",
     "status": "completed"
    },
    "tags": []
   },
   "outputs": [
    {
     "name": "stdout",
     "output_type": "stream",
     "text": [
      "Iteration 1, loss = 5.96698243\n",
      "Iteration 2, loss = 16.60929765\n",
      "Iteration 3, loss = 4.08546831\n",
      "Iteration 4, loss = 2.67914324\n",
      "Iteration 5, loss = 2.59008448\n",
      "Iteration 6, loss = 2.57407811\n",
      "Iteration 7, loss = 2.39171220\n",
      "Iteration 8, loss = 2.31379920\n",
      "Iteration 9, loss = 2.10357334\n",
      "Iteration 10, loss = 2.02647519\n",
      "Iteration 11, loss = 2.02676062\n",
      "Iteration 12, loss = 1.86660370\n",
      "Iteration 13, loss = 1.81006479\n",
      "Iteration 14, loss = 1.77244123\n",
      "Iteration 15, loss = 1.69618000\n",
      "Iteration 16, loss = 1.64785758\n",
      "Iteration 17, loss = 1.56969211\n",
      "Iteration 18, loss = 1.49360602\n",
      "Iteration 19, loss = 1.57185163\n",
      "Iteration 20, loss = 1.43560825\n",
      "Iteration 21, loss = 1.47461041\n",
      "Iteration 22, loss = 1.57455854\n",
      "Iteration 23, loss = 1.33190580\n",
      "Iteration 24, loss = 1.35181674\n",
      "Iteration 25, loss = 1.34013998\n",
      "Iteration 26, loss = 1.32011295\n",
      "Iteration 27, loss = 1.34742320\n",
      "Iteration 28, loss = 1.49406443\n",
      "Iteration 29, loss = 1.18463769\n",
      "Iteration 30, loss = 1.19566680\n",
      "Iteration 31, loss = 1.26339582\n",
      "Iteration 32, loss = 1.06931133\n",
      "Iteration 33, loss = 0.96574126\n",
      "Iteration 34, loss = 1.12323584\n",
      "Iteration 35, loss = 0.91109550\n",
      "Iteration 36, loss = 0.93035242\n",
      "Iteration 37, loss = 1.11254881\n",
      "Iteration 38, loss = 0.90687286\n",
      "Iteration 39, loss = 0.84306891\n",
      "Iteration 40, loss = 0.82314546\n",
      "Iteration 41, loss = 2.37887827\n",
      "Iteration 42, loss = 2.29515847\n",
      "Iteration 43, loss = 1.79937191\n",
      "Iteration 44, loss = 1.57260069\n",
      "Iteration 45, loss = 1.40068615\n",
      "Iteration 46, loss = 1.12983334\n",
      "Iteration 47, loss = 1.26337921\n",
      "Iteration 48, loss = 1.74058242\n",
      "Iteration 49, loss = 0.95119727\n",
      "Iteration 50, loss = 0.72201597\n",
      "Iteration 51, loss = 0.79985187\n",
      "Iteration 52, loss = 0.77096799\n",
      "Iteration 53, loss = 0.68613356\n",
      "Iteration 54, loss = 0.70141194\n",
      "Iteration 55, loss = 0.63249284\n",
      "Iteration 56, loss = 0.56054160\n",
      "Iteration 57, loss = 1.02846806\n",
      "Iteration 58, loss = 0.98388846\n",
      "Iteration 59, loss = 0.77025046\n",
      "Iteration 60, loss = 0.72460028\n"
     ]
    }
   ],
   "source": [
    "mlpc=MLPClassifier(hidden_layer_sizes=(512,),\n",
    "                   max_iter=60,solver='sgd',\n",
    "                   verbose=1,random_state=1,\n",
    "                   learning_rate_init=.005)\n",
    "[y_mlpc_train,y_mlpc_test,acc_mlpc_train,\n",
    " acc_mlpc_test,loss_mlpc_train,loss_mlpc_test]=\\\n",
    "classifier_fit_score(mlpc,x_train,x_test,y_train,y_test)"
   ]
  },
  {
   "cell_type": "code",
   "execution_count": 16,
   "metadata": {
    "execution": {
     "iopub.execute_input": "2020-12-12T11:41:46.367344Z",
     "iopub.status.busy": "2020-12-12T11:41:46.366487Z",
     "iopub.status.idle": "2020-12-12T11:41:46.379976Z",
     "shell.execute_reply": "2020-12-12T11:41:46.379490Z"
    },
    "papermill": {
     "duration": 0.072119,
     "end_time": "2020-12-12T11:41:46.380063",
     "exception": false,
     "start_time": "2020-12-12T11:41:46.307944",
     "status": "completed"
    },
    "tags": []
   },
   "outputs": [
    {
     "name": "stdout",
     "output_type": "stream",
     "text": [
      "              precision    recall  f1-score   support\n",
      "\n",
      "           0       0.25      0.10      0.14        10\n",
      "           1       0.50      0.07      0.12        14\n",
      "           2       0.67      0.29      0.40        14\n",
      "           3       0.24      0.91      0.38        11\n",
      "           4       0.21      0.83      0.33         6\n",
      "           5       0.50      0.08      0.14        12\n",
      "           6       0.33      0.17      0.22        12\n",
      "           7       0.89      0.62      0.73        13\n",
      "           8       0.33      0.22      0.27         9\n",
      "           9       0.00      0.00      0.00         8\n",
      "          10       0.33      0.33      0.33         6\n",
      "          11       0.00      0.00      0.00        13\n",
      "          12       0.25      0.71      0.37         7\n",
      "          13       0.20      0.40      0.27         5\n",
      "          14       0.33      0.07      0.11        15\n",
      "\n",
      "    accuracy                           0.28       155\n",
      "   macro avg       0.34      0.32      0.26       155\n",
      "weighted avg       0.37      0.28      0.25       155\n",
      "\n"
     ]
    }
   ],
   "source": [
    "print(classification_report(y_test,y_mlpc_test))"
   ]
  },
  {
   "cell_type": "code",
   "execution_count": 17,
   "metadata": {
    "execution": {
     "iopub.execute_input": "2020-12-12T11:41:46.503010Z",
     "iopub.status.busy": "2020-12-12T11:41:46.502205Z",
     "iopub.status.idle": "2020-12-12T11:41:46.647621Z",
     "shell.execute_reply": "2020-12-12T11:41:46.648047Z"
    },
    "papermill": {
     "duration": 0.212835,
     "end_time": "2020-12-12T11:41:46.648155",
     "exception": false,
     "start_time": "2020-12-12T11:41:46.435320",
     "status": "completed"
    },
    "tags": []
   },
   "outputs": [
    {
     "data": {
      "image/png": "[encoded data removed]",
      "text/plain": [
       "<Figure size 720x360 with 1 Axes>"
      ]
     },
     "metadata": {
      "needs_background": "light"
     },
     "output_type": "display_data"
    }
   ],
   "source": [
    "pl.figure(figsize=(10,5)); t=50; x=range(t)\n",
    "pl.scatter(x,y_test[:t],marker='*',s=400,\n",
    "           color='#ff355e',label='Real data')\n",
    "pl.scatter(x,y_sknc_test[:t],marker='v',\n",
    "           s=100,color='darkorange',label='KNeighbors')\n",
    "pl.scatter(x,y_mlpc_test[:t],marker='s',s=50,\n",
    "           color='darkred',label='MLP')\n",
    "pl.xlabel('Observations'); pl.ylabel('Targets') \n",
    "pl.title('Classifiers. Test Results')\n",
    "pl.legend(loc=2,fontsize=10); pl.show()"
   ]
  },
  {
   "cell_type": "code",
   "execution_count": 18,
   "metadata": {
    "execution": {
     "iopub.execute_input": "2020-12-12T11:41:46.775580Z",
     "iopub.status.busy": "2020-12-12T11:41:46.774749Z",
     "iopub.status.idle": "2020-12-12T11:41:46.778913Z",
     "shell.execute_reply": "2020-12-12T11:41:46.778488Z"
    },
    "papermill": {
     "duration": 0.075066,
     "end_time": "2020-12-12T11:41:46.779023",
     "exception": false,
     "start_time": "2020-12-12T11:41:46.703957",
     "status": "completed"
    },
    "tags": []
   },
   "outputs": [
    {
     "data": {
      "text/html": [
       "<div>\n",
       "<style scoped>\n",
       "    .dataframe tbody tr th:only-of-type {\n",
       "        vertical-align: middle;\n",
       "    }\n",
       "\n",
       "    .dataframe tbody tr th {\n",
       "        vertical-align: top;\n",
       "    }\n",
       "\n",
       "    .dataframe thead th {\n",
       "        text-align: right;\n",
       "    }\n",
       "</style>\n",
       "<table border=\"1\" class=\"dataframe\">\n",
       "  <thead>\n",
       "    <tr style=\"text-align: right;\">\n",
       "      <th></th>\n",
       "      <th>Random Forest</th>\n",
       "      <th>SVM LinearSVC</th>\n",
       "      <th>KNeighbors</th>\n",
       "      <th>MLP</th>\n",
       "    </tr>\n",
       "  </thead>\n",
       "  <tbody>\n",
       "    <tr>\n",
       "      <th>accuracy train</th>\n",
       "      <td>1.0000</td>\n",
       "      <td>1.0000</td>\n",
       "      <td>0.5089</td>\n",
       "      <td>0.7440</td>\n",
       "    </tr>\n",
       "    <tr>\n",
       "      <th>accuracy test</th>\n",
       "      <td>0.3677</td>\n",
       "      <td>0.3226</td>\n",
       "      <td>0.2710</td>\n",
       "      <td>0.2839</td>\n",
       "    </tr>\n",
       "    <tr>\n",
       "      <th>loss train</th>\n",
       "      <td>0.0000</td>\n",
       "      <td>0.0000</td>\n",
       "      <td>0.4911</td>\n",
       "      <td>0.2560</td>\n",
       "    </tr>\n",
       "    <tr>\n",
       "      <th>loss test</th>\n",
       "      <td>0.6323</td>\n",
       "      <td>0.6774</td>\n",
       "      <td>0.7290</td>\n",
       "      <td>0.7161</td>\n",
       "    </tr>\n",
       "  </tbody>\n",
       "</table>\n",
       "</div>"
      ],
      "text/plain": [
       "                Random Forest  SVM LinearSVC  KNeighbors     MLP\n",
       "accuracy train         1.0000         1.0000      0.5089  0.7440\n",
       "accuracy test          0.3677         0.3226      0.2710  0.2839\n",
       "loss train             0.0000         0.0000      0.4911  0.2560\n",
       "loss test              0.6323         0.6774      0.7290  0.7161"
      ]
     },
     "execution_count": 18,
     "metadata": {},
     "output_type": "execute_result"
    }
   ],
   "source": [
    "acc_train=[acc_srfc_train,acc_lsvc_train,\n",
    "           acc_sknc_train,acc_mlpc_train]\n",
    "acc_test=[acc_srfc_test,acc_lsvc_test,\n",
    "          acc_sknc_test,acc_mlpc_test]\n",
    "loss_train=[loss_srfc_train,loss_lsvc_train,\n",
    "            loss_sknc_train,loss_mlpc_train]\n",
    "loss_test=[loss_srfc_test,loss_lsvc_test,\n",
    "           loss_sknc_test,loss_mlpc_test]\n",
    "cols=['Random Forest','SVM LinearSVC',\n",
    "      'KNeighbors','MLP']\n",
    "pd.DataFrame([acc_train,acc_test,\n",
    "              loss_train,loss_test],\n",
    "            index=['accuracy train','accuracy test',\n",
    "                   'loss train','loss test'],\n",
    "            columns=cols)"
   ]
  }
 ],
 "metadata": {
  "kernelspec": {
   "display_name": "Python 3",
   "language": "python",
   "name": "python3"
  },
  "language_info": {
   "codemirror_mode": {
    "name": "ipython",
    "version": 3
   },
   "file_extension": ".py",
   "mimetype": "text/x-python",
   "name": "python",
   "nbconvert_exporter": "python",
   "pygments_lexer": "ipython3",
   "version": "3.7.6"
  },
  "papermill": {
   "duration": 1242.181919,
   "end_time": "2020-12-12T11:41:47.343402",
   "environment_variables": {},
   "exception": null,
   "input_path": "__notebook__.ipynb",
   "output_path": "__notebook__.ipynb",
   "parameters": {},
   "start_time": "2020-12-12T11:21:05.161483",
   "version": "2.1.0"
  }
 },
 "nbformat": 4,
 "nbformat_minor": 4
}
