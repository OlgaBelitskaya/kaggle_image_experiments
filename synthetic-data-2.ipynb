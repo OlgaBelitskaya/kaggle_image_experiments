{
 "cells": [
  {
   "cell_type": "code",
   "execution_count": 1,
   "metadata": {
    "_kg_hide-input": true,
    "execution": {
     "iopub.execute_input": "2021-03-25T20:20:26.908598Z",
     "iopub.status.busy": "2021-03-25T20:20:26.907646Z",
     "iopub.status.idle": "2021-03-25T20:20:26.910783Z",
     "shell.execute_reply": "2021-03-25T20:20:26.910041Z"
    },
    "papermill": {
     "duration": 0.024617,
     "end_time": "2021-03-25T20:20:26.910919",
     "exception": false,
     "start_time": "2021-03-25T20:20:26.886302",
     "status": "completed"
    },
    "tags": []
   },
   "outputs": [],
   "source": [
    "from IPython.display import display,HTML\n",
    "def dhtml(str):\n",
    "    display(HTML(\"\"\"<style>\n",
    "    @import 'https://fonts.googleapis.com/css?family=Smokum&effect=3d';      \n",
    "    </style><h1 class='font-effect-3d' \n",
    "    style='font-family:Smokum; color:#ff33aa; font-size:35px;'>\n",
    "    %s</h1>\"\"\"%str))"
   ]
  },
  {
   "cell_type": "code",
   "execution_count": 2,
   "metadata": {
    "_kg_hide-output": false,
    "execution": {
     "iopub.execute_input": "2021-03-25T20:20:26.948668Z",
     "iopub.status.busy": "2021-03-25T20:20:26.947960Z",
     "iopub.status.idle": "2021-03-25T20:20:45.423398Z",
     "shell.execute_reply": "2021-03-25T20:20:45.422109Z"
    },
    "papermill": {
     "duration": 18.498029,
     "end_time": "2021-03-25T20:20:45.423564",
     "exception": false,
     "start_time": "2021-03-25T20:20:26.925535",
     "status": "completed"
    },
    "tags": []
   },
   "outputs": [],
   "source": [
    "!pip install --upgrade pip --user --quiet --no-warn-script-location\n",
    "!pip install --upgrade neural_structured_learning --user --quiet"
   ]
  },
  {
   "cell_type": "code",
   "execution_count": 3,
   "metadata": {
    "execution": {
     "iopub.execute_input": "2021-03-25T20:20:45.459720Z",
     "iopub.status.busy": "2021-03-25T20:20:45.458795Z",
     "iopub.status.idle": "2021-03-25T20:20:45.462850Z",
     "shell.execute_reply": "2021-03-25T20:20:45.462300Z"
    },
    "papermill": {
     "duration": 0.025342,
     "end_time": "2021-03-25T20:20:45.462963",
     "exception": false,
     "start_time": "2021-03-25T20:20:45.437621",
     "status": "completed"
    },
    "tags": []
   },
   "outputs": [
    {
     "data": {
      "text/html": [
       "<style>\n",
       "    @import 'https://fonts.googleapis.com/css?family=Smokum&effect=3d';      \n",
       "    </style><h1 class='font-effect-3d' \n",
       "    style='font-family:Smokum; color:#ff33aa; font-size:35px;'>\n",
       "    Code Modules & Settings</h1>"
      ],
      "text/plain": [
       "<IPython.core.display.HTML object>"
      ]
     },
     "metadata": {},
     "output_type": "display_data"
    }
   ],
   "source": [
    "dhtml('Code Modules & Settings')"
   ]
  },
  {
   "cell_type": "code",
   "execution_count": 4,
   "metadata": {
    "_cell_guid": "b1076dfc-b9ad-4769-8c92-a6c4dae69d19",
    "_uuid": "8f2839f25d086af736a60e9eeb907d3b93b6e0e5",
    "execution": {
     "iopub.execute_input": "2021-03-25T20:20:45.500388Z",
     "iopub.status.busy": "2021-03-25T20:20:45.499661Z",
     "iopub.status.idle": "2021-03-25T20:20:53.118766Z",
     "shell.execute_reply": "2021-03-25T20:20:53.118162Z"
    },
    "papermill": {
     "duration": 7.640826,
     "end_time": "2021-03-25T20:20:53.118880",
     "exception": false,
     "start_time": "2021-03-25T20:20:45.478054",
     "status": "completed"
    },
    "tags": []
   },
   "outputs": [],
   "source": [
    "import os,numpy as np,pandas as pd\n",
    "import pylab as pl,seaborn as sn,tensorflow as tf\n",
    "from tqdm import tqdm\n",
    "from tensorflow.keras.datasets import cifar10\n",
    "from tensorflow.keras.preprocessing import image as tkimg\n",
    "from tensorflow.keras.models import Sequential\n",
    "from tensorflow.keras import layers as tkl,callbacks as tkc\n",
    "import neural_structured_learning as nsl"
   ]
  },
  {
   "cell_type": "code",
   "execution_count": 5,
   "metadata": {
    "_kg_hide-input": true,
    "execution": {
     "iopub.execute_input": "2021-03-25T20:20:53.152656Z",
     "iopub.status.busy": "2021-03-25T20:20:53.151649Z",
     "iopub.status.idle": "2021-03-25T20:20:53.157688Z",
     "shell.execute_reply": "2021-03-25T20:20:53.158239Z"
    },
    "papermill": {
     "duration": 0.024668,
     "end_time": "2021-03-25T20:20:53.158376",
     "exception": false,
     "start_time": "2021-03-25T20:20:53.133708",
     "status": "completed"
    },
    "tags": []
   },
   "outputs": [
    {
     "data": {
      "text/html": [
       "<style>\n",
       "    @import 'https://fonts.googleapis.com/css?family=Smokum&effect=3d';      \n",
       "    </style><h1 class='font-effect-3d' \n",
       "    style='font-family:Smokum; color:#ff33aa; font-size:35px;'>\n",
       "    Mixed Data</h1>"
      ],
      "text/plain": [
       "<IPython.core.display.HTML object>"
      ]
     },
     "metadata": {},
     "output_type": "display_data"
    }
   ],
   "source": [
    "dhtml('Mixed Data')"
   ]
  },
  {
   "cell_type": "code",
   "execution_count": 6,
   "metadata": {
    "_cell_guid": "79c7e3d0-c299-4dcb-8224-4455121ee9b0",
    "_uuid": "d629ff2d2480ee46fbb7e2d37f6b5fab8052498a",
    "execution": {
     "iopub.execute_input": "2021-03-25T20:20:53.195028Z",
     "iopub.status.busy": "2021-03-25T20:20:53.194019Z",
     "iopub.status.idle": "2021-03-25T20:21:01.127857Z",
     "shell.execute_reply": "2021-03-25T20:21:01.127132Z"
    },
    "papermill": {
     "duration": 7.954148,
     "end_time": "2021-03-25T20:21:01.127979",
     "exception": false,
     "start_time": "2021-03-25T20:20:53.173831",
     "status": "completed"
    },
    "tags": []
   },
   "outputs": [
    {
     "name": "stdout",
     "output_type": "stream",
     "text": [
      "Downloading data from https://www.cs.toronto.edu/~kriz/cifar-10-python.tar.gz\n",
      "170500096/170498071 [==============================] - 5s 0us/step\n"
     ]
    }
   ],
   "source": [
    "classes=['plane','car','bird','cat','deer',\n",
    "         'dog','frog','horse','ship','truck']\n",
    "(x,y),(_,_)=cifar10.load_data()\n",
    "x=np.array(x,dtype='float32')/255\n",
    "y=y.reshape(-1)\n",
    "n_photo=1200; N=len(y); n=int(.1*N)\n",
    "shuffle_ids=np.arange(N)\n",
    "np.random.RandomState(23).shuffle(shuffle_ids)\n",
    "shuffle_ids=shuffle_ids[:n_photo]\n",
    "x,y=x[shuffle_ids],y[shuffle_ids]"
   ]
  },
  {
   "cell_type": "code",
   "execution_count": 7,
   "metadata": {
    "execution": {
     "iopub.execute_input": "2021-03-25T20:21:01.233166Z",
     "iopub.status.busy": "2021-03-25T20:21:01.232484Z",
     "iopub.status.idle": "2021-03-25T20:21:01.337123Z",
     "shell.execute_reply": "2021-03-25T20:21:01.336557Z"
    },
    "papermill": {
     "duration": 0.161561,
     "end_time": "2021-03-25T20:21:01.337235",
     "exception": false,
     "start_time": "2021-03-25T20:21:01.175674",
     "status": "completed"
    },
    "tags": []
   },
   "outputs": [
    {
     "name": "stdout",
     "output_type": "stream",
     "text": [
      "[(1200, 32, 32, 3), dtype('float32'), (1200,), dtype('uint8')]\n",
      "Label:  horse\n"
     ]
    },
    {
     "data": {
      "image/png": "[encoded data removed]",
      "text/plain": [
       "<Figure size 144x144 with 1 Axes>"
      ]
     },
     "metadata": {},
     "output_type": "display_data"
    }
   ],
   "source": [
    "print([x.shape,x.dtype,y.shape,y.dtype])\n",
    "print('Label: ',classes[y[1]])\n",
    "pl.figure(figsize=(2,2))\n",
    "pl.xticks([]); pl.yticks([])\n",
    "pl.tight_layout(); pl.imshow(x[1]);"
   ]
  },
  {
   "cell_type": "code",
   "execution_count": 8,
   "metadata": {
    "execution": {
     "iopub.execute_input": "2021-03-25T20:21:01.452144Z",
     "iopub.status.busy": "2021-03-25T20:21:01.451262Z",
     "iopub.status.idle": "2021-03-25T20:21:23.179185Z",
     "shell.execute_reply": "2021-03-25T20:21:23.178074Z"
    },
    "papermill": {
     "duration": 21.793265,
     "end_time": "2021-03-25T20:21:23.179321",
     "exception": false,
     "start_time": "2021-03-25T20:21:01.386056",
     "status": "completed"
    },
    "tags": []
   },
   "outputs": [
    {
     "name": "stderr",
     "output_type": "stream",
     "text": [
      "100%|██████████| 3545/3545 [00:21<00:00, 167.04it/s]\n"
     ]
    }
   ],
   "source": [
    "img_size=32\n",
    "manners=['pictogram','contour','sketch']\n",
    "objects=['flower','bird','butterfly','tree',\n",
    "         'plane','crane','dog','horse',\n",
    "         'deer','truck','car','cat',\n",
    "         'frog','ship','fish','house']\n",
    "file_path='../input/art-pictogram/pictograms/'\n",
    "file_list=sorted(os.listdir(file_path))\n",
    "def paths2tensor(img_paths,file_path=file_path,\n",
    "                 img_size=img_size):\n",
    "    tensor=[]\n",
    "    for img_path in tqdm(img_paths):\n",
    "        img0=tkimg.load_img(\n",
    "            file_path+img_path,target_size=(img_size,img_size))\n",
    "        img=tkimg.img_to_array(img0)\n",
    "        tensor.append(np.expand_dims(img,axis=0))\n",
    "    return np.vstack(tensor)\n",
    "labels1=np.array([int(el[:2]) for el in file_list],dtype='int16')-1\n",
    "labels2=np.array([int(el[3:6]) for el in file_list],dtype='int16')-1\n",
    "images=np.array(paths2tensor(file_list))/255\n",
    "n_draw=len(labels1[labels1==0])\n",
    "images=images[:n_draw]; labels2=labels2[:n_draw]\n",
    "cond=np.where([l in classes for l in objects])[0]\n",
    "cond2=np.where([l in cond for l in labels2])\n",
    "images=images[cond2]; labels=labels2[cond2]\n",
    "rd={1:2,4:0,6:5,7:7,8:4,9:9,10:1,11:3,12:6,13:8}\n",
    "labels=np.array([rd.get(x,x) for x in labels],dtype='float32')"
   ]
  },
  {
   "cell_type": "code",
   "execution_count": 9,
   "metadata": {
    "execution": {
     "iopub.execute_input": "2021-03-25T20:21:23.420807Z",
     "iopub.status.busy": "2021-03-25T20:21:23.416613Z",
     "iopub.status.idle": "2021-03-25T20:21:23.468578Z",
     "shell.execute_reply": "2021-03-25T20:21:23.467902Z"
    },
    "papermill": {
     "duration": 0.174442,
     "end_time": "2021-03-25T20:21:23.468694",
     "exception": false,
     "start_time": "2021-03-25T20:21:23.294252",
     "status": "completed"
    },
    "tags": []
   },
   "outputs": [
    {
     "name": "stdout",
     "output_type": "stream",
     "text": [
      "[(1169, 32, 32, 3), dtype('float32'), (1169,), dtype('float32')]\n",
      "Label:  bird\n"
     ]
    },
    {
     "data": {
      "image/png": "[encoded data removed]",
      "text/plain": [
       "<Figure size 144x144 with 1 Axes>"
      ]
     },
     "metadata": {},
     "output_type": "display_data"
    }
   ],
   "source": [
    "print([images.shape,images.dtype,\n",
    "       labels.shape,labels.dtype])\n",
    "print('Label: ',classes[int(labels[100])])\n",
    "pl.figure(figsize=(2,2))\n",
    "pl.xticks([]); pl.yticks([])\n",
    "pl.tight_layout(); pl.imshow(images[100]);"
   ]
  },
  {
   "cell_type": "code",
   "execution_count": 10,
   "metadata": {
    "execution": {
     "iopub.execute_input": "2021-03-25T20:21:23.709810Z",
     "iopub.status.busy": "2021-03-25T20:21:23.709152Z",
     "iopub.status.idle": "2021-03-25T20:21:23.741809Z",
     "shell.execute_reply": "2021-03-25T20:21:23.741250Z"
    },
    "papermill": {
     "duration": 0.158028,
     "end_time": "2021-03-25T20:21:23.741934",
     "exception": false,
     "start_time": "2021-03-25T20:21:23.583906",
     "status": "completed"
    },
    "tags": []
   },
   "outputs": [
    {
     "name": "stdout",
     "output_type": "stream",
     "text": [
      "[(2369, 32, 32, 3), dtype('float32'), (2369,), dtype('float32')]\n"
     ]
    }
   ],
   "source": [
    "x=np.vstack([x,images]); y=np.hstack([y,labels])\n",
    "N=len(y); n=int(.1*N)\n",
    "shuffle_ids=np.arange(N)\n",
    "np.random.RandomState(23).shuffle(shuffle_ids)\n",
    "x,y=x[shuffle_ids],y[shuffle_ids]\n",
    "x_test,x_valid,x_train=x[:n],x[n:2*n],x[2*n:]\n",
    "y_test,y_valid,y_train=y[:n],y[n:2*n],y[2*n:]\n",
    "print([x.shape,x.dtype,y.shape,y.dtype])"
   ]
  },
  {
   "cell_type": "code",
   "execution_count": 11,
   "metadata": {
    "execution": {
     "iopub.execute_input": "2021-03-25T20:21:23.988811Z",
     "iopub.status.busy": "2021-03-25T20:21:23.987740Z",
     "iopub.status.idle": "2021-03-25T20:21:24.669891Z",
     "shell.execute_reply": "2021-03-25T20:21:24.669207Z"
    },
    "papermill": {
     "duration": 0.813244,
     "end_time": "2021-03-25T20:21:24.670033",
     "exception": false,
     "start_time": "2021-03-25T20:21:23.856789",
     "status": "completed"
    },
    "tags": []
   },
   "outputs": [
    {
     "data": {
      "image/png": "[encoded data removed]",
      "text/plain": [
       "<Figure size 576x288 with 10 Axes>"
      ]
     },
     "metadata": {},
     "output_type": "display_data"
    }
   ],
   "source": [
    "fig=pl.figure(figsize=(8,4))\n",
    "randi=np.random.choice(\n",
    "    x_test.shape[0],size=10,replace=False)\n",
    "for i,idx in enumerate(randi):\n",
    "    ax=fig.add_subplot(2,5,i+1,xticks=[],yticks=[])\n",
    "    ax.imshow(x_test[idx])\n",
    "    true_idx=int(y_test[idx])\n",
    "    ax.set_title(classes[true_idx],color=\"#ff33aa\")\n",
    "    pl.tight_layout();"
   ]
  },
  {
   "cell_type": "code",
   "execution_count": 12,
   "metadata": {
    "execution": {
     "iopub.execute_input": "2021-03-25T20:21:24.956248Z",
     "iopub.status.busy": "2021-03-25T20:21:24.923495Z",
     "iopub.status.idle": "2021-03-25T20:21:25.128984Z",
     "shell.execute_reply": "2021-03-25T20:21:25.128235Z"
    },
    "papermill": {
     "duration": 0.340052,
     "end_time": "2021-03-25T20:21:25.129107",
     "exception": false,
     "start_time": "2021-03-25T20:21:24.789055",
     "status": "completed"
    },
    "tags": []
   },
   "outputs": [
    {
     "data": {
      "image/png": "[encoded data removed]",
      "text/plain": [
       "<Figure size 576x288 with 1 Axes>"
      ]
     },
     "metadata": {
      "needs_background": "light"
     },
     "output_type": "display_data"
    }
   ],
   "source": [
    "df=pd.DataFrame(y,columns=['label'])\n",
    "df['class']=[classes[int(l)] for l in y]\n",
    "pl.figure(figsize=(8,4))\n",
    "sn.countplot(x='class',data=df,palette='Reds',alpha=.5)\n",
    "pl.title('distribution of labels',fontsize=20)\n",
    "pl.tight_layout();"
   ]
  },
  {
   "cell_type": "code",
   "execution_count": 13,
   "metadata": {
    "_kg_hide-input": true,
    "execution": {
     "iopub.execute_input": "2021-03-25T20:21:25.371253Z",
     "iopub.status.busy": "2021-03-25T20:21:25.370524Z",
     "iopub.status.idle": "2021-03-25T20:21:25.375017Z",
     "shell.execute_reply": "2021-03-25T20:21:25.374300Z"
    },
    "papermill": {
     "duration": 0.128473,
     "end_time": "2021-03-25T20:21:25.375137",
     "exception": false,
     "start_time": "2021-03-25T20:21:25.246664",
     "status": "completed"
    },
    "tags": []
   },
   "outputs": [
    {
     "data": {
      "text/html": [
       "<style>\n",
       "    @import 'https://fonts.googleapis.com/css?family=Smokum&effect=3d';      \n",
       "    </style><h1 class='font-effect-3d' \n",
       "    style='font-family:Smokum; color:#ff33aa; font-size:35px;'>\n",
       "    NN Examples</h1>"
      ],
      "text/plain": [
       "<IPython.core.display.HTML object>"
      ]
     },
     "metadata": {},
     "output_type": "display_data"
    }
   ],
   "source": [
    "dhtml('NN Examples')"
   ]
  },
  {
   "cell_type": "code",
   "execution_count": 14,
   "metadata": {
    "execution": {
     "iopub.execute_input": "2021-03-25T20:21:25.623723Z",
     "iopub.status.busy": "2021-03-25T20:21:25.622994Z",
     "iopub.status.idle": "2021-03-25T20:21:25.889487Z",
     "shell.execute_reply": "2021-03-25T20:21:25.888720Z"
    },
    "papermill": {
     "duration": 0.396052,
     "end_time": "2021-03-25T20:21:25.889668",
     "exception": false,
     "start_time": "2021-03-25T20:21:25.493616",
     "status": "completed"
    },
    "tags": []
   },
   "outputs": [],
   "source": [
    "def cnn_model():\n",
    "    model=Sequential()\n",
    "    model.add(tkl.Conv2D(32,(5,5),padding='same',\n",
    "                         input_shape=x_train.shape[1:]))\n",
    "    model.add(tkl.Activation('relu'))\n",
    "    model.add(tkl.MaxPooling2D(pool_size=(2,2)))\n",
    "    model.add(tkl.Dropout(.25))\n",
    "    model.add(tkl.Conv2D(96,(5,5)))\n",
    "    model.add(tkl.Activation('relu'))    \n",
    "    model.add(tkl.MaxPooling2D(pool_size=(2,2)))\n",
    "    model.add(tkl.Dropout(.25))\n",
    "    model.add(tkl.GlobalAveragePooling2D())    \n",
    "    model.add(tkl.Dense(1024,activation='relu'))\n",
    "    model.add(tkl.Dropout(.5))         \n",
    " #   model.add(tkl.Dense(128,activation='relu'))\n",
    " #   model.add(tkl.Dropout(.25)) \n",
    "    model.add(tkl.Dense(10))\n",
    "    model.add(tkl.Activation('softmax'))\n",
    "    model.compile(loss='sparse_categorical_crossentropy',\n",
    "                  optimizer='adam',metrics=['accuracy'])\n",
    "    return model\n",
    "cnn_model=cnn_model()"
   ]
  },
  {
   "cell_type": "code",
   "execution_count": 15,
   "metadata": {
    "_kg_hide-output": true,
    "execution": {
     "iopub.execute_input": "2021-03-25T20:21:26.147073Z",
     "iopub.status.busy": "2021-03-25T20:21:26.146317Z",
     "iopub.status.idle": "2021-03-25T20:25:30.062587Z",
     "shell.execute_reply": "2021-03-25T20:25:30.062003Z"
    },
    "papermill": {
     "duration": 244.05077,
     "end_time": "2021-03-25T20:25:30.062715",
     "exception": false,
     "start_time": "2021-03-25T20:21:26.011945",
     "status": "completed"
    },
    "tags": []
   },
   "outputs": [
    {
     "name": "stdout",
     "output_type": "stream",
     "text": [
      "Epoch 1/100\n",
      "\n",
      "Epoch 00001: val_accuracy improved from -inf to 0.07203, saving model to /tmp/checkpoint\n",
      "30/30 - 3s - loss: 2.3024 - accuracy: 0.1075 - val_loss: 2.2949 - val_accuracy: 0.0720 - lr: 0.0010\n",
      "Epoch 2/100\n",
      "\n",
      "Epoch 00002: val_accuracy improved from 0.07203 to 0.10169, saving model to /tmp/checkpoint\n",
      "30/30 - 3s - loss: 2.2573 - accuracy: 0.1444 - val_loss: 2.2756 - val_accuracy: 0.1017 - lr: 0.0010\n",
      "Epoch 3/100\n",
      "\n",
      "Epoch 00003: val_accuracy improved from 0.10169 to 0.25424, saving model to /tmp/checkpoint\n",
      "30/30 - 3s - loss: 2.1810 - accuracy: 0.1782 - val_loss: 2.0609 - val_accuracy: 0.2542 - lr: 0.0010\n",
      "Epoch 4/100\n",
      "\n",
      "Epoch 00004: val_accuracy did not improve from 0.25424\n",
      "30/30 - 2s - loss: 2.0971 - accuracy: 0.2098 - val_loss: 2.0741 - val_accuracy: 0.2373 - lr: 0.0010\n",
      "Epoch 5/100\n",
      "\n",
      "Epoch 00005: val_accuracy improved from 0.25424 to 0.28390, saving model to /tmp/checkpoint\n",
      "30/30 - 2s - loss: 2.0036 - accuracy: 0.2409 - val_loss: 1.9375 - val_accuracy: 0.2839 - lr: 0.0010\n",
      "Epoch 6/100\n",
      "\n",
      "Epoch 00006: val_accuracy did not improve from 0.28390\n",
      "30/30 - 3s - loss: 1.9662 - accuracy: 0.2572 - val_loss: 2.0373 - val_accuracy: 0.2585 - lr: 0.0010\n",
      "Epoch 7/100\n",
      "\n",
      "Epoch 00007: val_accuracy improved from 0.28390 to 0.28814, saving model to /tmp/checkpoint\n",
      "30/30 - 3s - loss: 1.9093 - accuracy: 0.2794 - val_loss: 1.8548 - val_accuracy: 0.2881 - lr: 0.0010\n",
      "Epoch 8/100\n",
      "\n",
      "Epoch 00008: val_accuracy improved from 0.28814 to 0.29661, saving model to /tmp/checkpoint\n",
      "30/30 - 3s - loss: 1.8815 - accuracy: 0.2878 - val_loss: 1.8991 - val_accuracy: 0.2966 - lr: 0.0010\n",
      "Epoch 9/100\n",
      "\n",
      "Epoch 00009: val_accuracy improved from 0.29661 to 0.32203, saving model to /tmp/checkpoint\n",
      "30/30 - 2s - loss: 1.8412 - accuracy: 0.3158 - val_loss: 1.8074 - val_accuracy: 0.3220 - lr: 0.0010\n",
      "Epoch 10/100\n",
      "\n",
      "Epoch 00010: val_accuracy did not improve from 0.32203\n",
      "30/30 - 2s - loss: 1.8150 - accuracy: 0.3047 - val_loss: 1.8287 - val_accuracy: 0.2924 - lr: 0.0010\n",
      "Epoch 11/100\n",
      "\n",
      "Epoch 00011: val_accuracy improved from 0.32203 to 0.33051, saving model to /tmp/checkpoint\n",
      "30/30 - 2s - loss: 1.7844 - accuracy: 0.3163 - val_loss: 1.7405 - val_accuracy: 0.3305 - lr: 0.0010\n",
      "Epoch 12/100\n",
      "\n",
      "Epoch 00012: val_accuracy improved from 0.33051 to 0.37288, saving model to /tmp/checkpoint\n",
      "30/30 - 3s - loss: 1.7947 - accuracy: 0.3231 - val_loss: 1.7392 - val_accuracy: 0.3729 - lr: 0.0010\n",
      "Epoch 13/100\n",
      "\n",
      "Epoch 00013: val_accuracy did not improve from 0.37288\n",
      "30/30 - 2s - loss: 1.7260 - accuracy: 0.3542 - val_loss: 1.7243 - val_accuracy: 0.3517 - lr: 0.0010\n",
      "Epoch 14/100\n",
      "\n",
      "Epoch 00014: val_accuracy did not improve from 0.37288\n",
      "30/30 - 2s - loss: 1.7227 - accuracy: 0.3421 - val_loss: 1.7313 - val_accuracy: 0.3305 - lr: 0.0010\n",
      "Epoch 15/100\n",
      "\n",
      "Epoch 00015: val_accuracy did not improve from 0.37288\n",
      "30/30 - 2s - loss: 1.6643 - accuracy: 0.3685 - val_loss: 1.6690 - val_accuracy: 0.3517 - lr: 0.0010\n",
      "Epoch 16/100\n",
      "\n",
      "Epoch 00016: val_accuracy did not improve from 0.37288\n",
      "30/30 - 3s - loss: 1.6466 - accuracy: 0.3853 - val_loss: 1.7004 - val_accuracy: 0.3517 - lr: 0.0010\n",
      "Epoch 17/100\n",
      "\n",
      "Epoch 00017: val_accuracy did not improve from 0.37288\n",
      "30/30 - 2s - loss: 1.6088 - accuracy: 0.3975 - val_loss: 1.7520 - val_accuracy: 0.3729 - lr: 0.0010\n",
      "Epoch 18/100\n",
      "\n",
      "Epoch 00018: val_accuracy did not improve from 0.37288\n",
      "30/30 - 3s - loss: 1.6036 - accuracy: 0.3922 - val_loss: 1.8506 - val_accuracy: 0.3305 - lr: 0.0010\n",
      "Epoch 19/100\n",
      "\n",
      "Epoch 00019: val_accuracy improved from 0.37288 to 0.38136, saving model to /tmp/checkpoint\n",
      "30/30 - 3s - loss: 1.5756 - accuracy: 0.4112 - val_loss: 1.6067 - val_accuracy: 0.3814 - lr: 0.0010\n",
      "Epoch 20/100\n",
      "\n",
      "Epoch 00020: val_accuracy improved from 0.38136 to 0.42797, saving model to /tmp/checkpoint\n",
      "30/30 - 3s - loss: 1.5476 - accuracy: 0.4196 - val_loss: 1.5825 - val_accuracy: 0.4280 - lr: 0.0010\n",
      "Epoch 21/100\n",
      "\n",
      "Epoch 00021: val_accuracy did not improve from 0.42797\n",
      "30/30 - 3s - loss: 1.5109 - accuracy: 0.4402 - val_loss: 1.6298 - val_accuracy: 0.4153 - lr: 0.0010\n",
      "Epoch 22/100\n",
      "\n",
      "Epoch 00022: val_accuracy did not improve from 0.42797\n",
      "30/30 - 2s - loss: 1.5295 - accuracy: 0.4491 - val_loss: 1.5985 - val_accuracy: 0.3941 - lr: 0.0010\n",
      "Epoch 23/100\n",
      "\n",
      "Epoch 00023: val_accuracy did not improve from 0.42797\n",
      "30/30 - 2s - loss: 1.5365 - accuracy: 0.4180 - val_loss: 1.5780 - val_accuracy: 0.4068 - lr: 0.0010\n",
      "Epoch 24/100\n",
      "\n",
      "Epoch 00024: val_accuracy improved from 0.42797 to 0.43644, saving model to /tmp/checkpoint\n",
      "30/30 - 3s - loss: 1.4553 - accuracy: 0.4618 - val_loss: 1.5499 - val_accuracy: 0.4364 - lr: 0.0010\n",
      "Epoch 25/100\n",
      "\n",
      "Epoch 00025: val_accuracy improved from 0.43644 to 0.44068, saving model to /tmp/checkpoint\n",
      "30/30 - 2s - loss: 1.4238 - accuracy: 0.4681 - val_loss: 1.5821 - val_accuracy: 0.4407 - lr: 0.0010\n",
      "Epoch 26/100\n",
      "\n",
      "Epoch 00026: val_accuracy did not improve from 0.44068\n",
      "30/30 - 2s - loss: 1.4023 - accuracy: 0.4855 - val_loss: 1.6676 - val_accuracy: 0.3517 - lr: 0.0010\n",
      "Epoch 27/100\n",
      "\n",
      "Epoch 00027: val_accuracy did not improve from 0.44068\n",
      "30/30 - 2s - loss: 1.3955 - accuracy: 0.4860 - val_loss: 1.5959 - val_accuracy: 0.3771 - lr: 0.0010\n",
      "Epoch 28/100\n",
      "\n",
      "Epoch 00028: val_accuracy improved from 0.44068 to 0.48729, saving model to /tmp/checkpoint\n",
      "30/30 - 2s - loss: 1.3665 - accuracy: 0.4976 - val_loss: 1.4835 - val_accuracy: 0.4873 - lr: 0.0010\n",
      "Epoch 29/100\n",
      "\n",
      "Epoch 00029: val_accuracy did not improve from 0.48729\n",
      "30/30 - 3s - loss: 1.2948 - accuracy: 0.5171 - val_loss: 1.4795 - val_accuracy: 0.4322 - lr: 0.0010\n",
      "Epoch 30/100\n",
      "\n",
      "Epoch 00030: val_accuracy did not improve from 0.48729\n",
      "30/30 - 3s - loss: 1.3078 - accuracy: 0.5187 - val_loss: 1.4826 - val_accuracy: 0.4788 - lr: 0.0010\n",
      "Epoch 31/100\n",
      "\n",
      "Epoch 00031: val_accuracy did not improve from 0.48729\n",
      "30/30 - 3s - loss: 1.3154 - accuracy: 0.5055 - val_loss: 1.5062 - val_accuracy: 0.4025 - lr: 0.0010\n",
      "Epoch 32/100\n",
      "\n",
      "Epoch 00032: val_accuracy improved from 0.48729 to 0.49153, saving model to /tmp/checkpoint\n",
      "30/30 - 2s - loss: 1.2501 - accuracy: 0.5393 - val_loss: 1.4634 - val_accuracy: 0.4915 - lr: 0.0010\n",
      "Epoch 33/100\n",
      "\n",
      "Epoch 00033: val_accuracy did not improve from 0.49153\n",
      "30/30 - 3s - loss: 1.2464 - accuracy: 0.5303 - val_loss: 1.5531 - val_accuracy: 0.4703 - lr: 0.0010\n",
      "Epoch 34/100\n",
      "\n",
      "Epoch 00034: val_accuracy did not improve from 0.49153\n",
      "30/30 - 2s - loss: 1.2409 - accuracy: 0.5293 - val_loss: 1.4607 - val_accuracy: 0.4831 - lr: 0.0010\n",
      "Epoch 35/100\n",
      "\n",
      "Epoch 00035: val_accuracy did not improve from 0.49153\n",
      "30/30 - 2s - loss: 1.2443 - accuracy: 0.5361 - val_loss: 1.6484 - val_accuracy: 0.4110 - lr: 0.0010\n",
      "Epoch 36/100\n",
      "\n",
      "Epoch 00036: val_accuracy did not improve from 0.49153\n",
      "30/30 - 3s - loss: 1.2364 - accuracy: 0.5493 - val_loss: 1.6198 - val_accuracy: 0.4025 - lr: 0.0010\n",
      "Epoch 37/100\n",
      "\n",
      "Epoch 00037: val_accuracy did not improve from 0.49153\n",
      "30/30 - 2s - loss: 1.2220 - accuracy: 0.5424 - val_loss: 1.4800 - val_accuracy: 0.4364 - lr: 0.0010\n",
      "Epoch 38/100\n",
      "\n",
      "Epoch 00038: val_accuracy did not improve from 0.49153\n",
      "30/30 - 2s - loss: 1.1668 - accuracy: 0.5593 - val_loss: 1.4961 - val_accuracy: 0.4703 - lr: 0.0010\n",
      "Epoch 39/100\n",
      "\n",
      "Epoch 00039: val_accuracy did not improve from 0.49153\n",
      "\n",
      "Epoch 00039: ReduceLROnPlateau reducing learning rate to 0.000800000037997961.\n",
      "30/30 - 2s - loss: 1.1509 - accuracy: 0.5646 - val_loss: 1.5656 - val_accuracy: 0.4492 - lr: 0.0010\n",
      "Epoch 40/100\n",
      "\n",
      "Epoch 00040: val_accuracy improved from 0.49153 to 0.50000, saving model to /tmp/checkpoint\n",
      "30/30 - 2s - loss: 1.1308 - accuracy: 0.5841 - val_loss: 1.4535 - val_accuracy: 0.5000 - lr: 8.0000e-04\n",
      "Epoch 41/100\n",
      "\n",
      "Epoch 00041: val_accuracy did not improve from 0.50000\n",
      "30/30 - 3s - loss: 1.0953 - accuracy: 0.5978 - val_loss: 1.5150 - val_accuracy: 0.4746 - lr: 8.0000e-04\n",
      "Epoch 42/100\n",
      "\n",
      "Epoch 00042: val_accuracy improved from 0.50000 to 0.50847, saving model to /tmp/checkpoint\n",
      "30/30 - 2s - loss: 1.1111 - accuracy: 0.5814 - val_loss: 1.5241 - val_accuracy: 0.5085 - lr: 8.0000e-04\n",
      "Epoch 43/100\n",
      "\n",
      "Epoch 00043: val_accuracy did not improve from 0.50847\n",
      "30/30 - 3s - loss: 1.0581 - accuracy: 0.6073 - val_loss: 1.5018 - val_accuracy: 0.5042 - lr: 8.0000e-04\n",
      "Epoch 44/100\n",
      "\n",
      "Epoch 00044: val_accuracy did not improve from 0.50847\n",
      "30/30 - 2s - loss: 1.0685 - accuracy: 0.5946 - val_loss: 1.8034 - val_accuracy: 0.4364 - lr: 8.0000e-04\n",
      "Epoch 45/100\n",
      "\n",
      "Epoch 00045: val_accuracy did not improve from 0.50847\n",
      "\n",
      "Epoch 00045: ReduceLROnPlateau reducing learning rate to 0.0006400000303983689.\n",
      "30/30 - 3s - loss: 1.0629 - accuracy: 0.6073 - val_loss: 1.4740 - val_accuracy: 0.4958 - lr: 8.0000e-04\n",
      "Epoch 46/100\n",
      "\n",
      "Epoch 00046: val_accuracy did not improve from 0.50847\n",
      "30/30 - 2s - loss: 1.0116 - accuracy: 0.6236 - val_loss: 1.5439 - val_accuracy: 0.4831 - lr: 6.4000e-04\n",
      "Epoch 47/100\n",
      "\n",
      "Epoch 00047: val_accuracy improved from 0.50847 to 0.52542, saving model to /tmp/checkpoint\n",
      "30/30 - 2s - loss: 0.9994 - accuracy: 0.6278 - val_loss: 1.4391 - val_accuracy: 0.5254 - lr: 6.4000e-04\n",
      "Epoch 48/100\n",
      "\n",
      "Epoch 00048: val_accuracy improved from 0.52542 to 0.54237, saving model to /tmp/checkpoint\n",
      "30/30 - 3s - loss: 0.9917 - accuracy: 0.6241 - val_loss: 1.4550 - val_accuracy: 0.5424 - lr: 6.4000e-04\n",
      "Epoch 49/100\n",
      "\n",
      "Epoch 00049: val_accuracy did not improve from 0.54237\n",
      "30/30 - 3s - loss: 0.9466 - accuracy: 0.6484 - val_loss: 1.4598 - val_accuracy: 0.5000 - lr: 6.4000e-04\n",
      "Epoch 50/100\n",
      "\n",
      "Epoch 00050: val_accuracy did not improve from 0.54237\n",
      "30/30 - 3s - loss: 0.9628 - accuracy: 0.6289 - val_loss: 1.4622 - val_accuracy: 0.5000 - lr: 6.4000e-04\n",
      "Epoch 51/100\n",
      "\n",
      "Epoch 00051: val_accuracy did not improve from 0.54237\n",
      "30/30 - 2s - loss: 0.9669 - accuracy: 0.6484 - val_loss: 1.5113 - val_accuracy: 0.4873 - lr: 6.4000e-04\n",
      "Epoch 52/100\n",
      "\n",
      "Epoch 00052: val_accuracy did not improve from 0.54237\n",
      "\n",
      "Epoch 00052: ReduceLROnPlateau reducing learning rate to 0.0005120000336319208.\n",
      "30/30 - 2s - loss: 0.9740 - accuracy: 0.6263 - val_loss: 1.4498 - val_accuracy: 0.5297 - lr: 6.4000e-04\n",
      "Epoch 53/100\n",
      "\n",
      "Epoch 00053: val_accuracy did not improve from 0.54237\n",
      "30/30 - 2s - loss: 0.9599 - accuracy: 0.6458 - val_loss: 1.4123 - val_accuracy: 0.5381 - lr: 5.1200e-04\n",
      "Epoch 54/100\n",
      "\n",
      "Epoch 00054: val_accuracy did not improve from 0.54237\n",
      "30/30 - 3s - loss: 0.9416 - accuracy: 0.6521 - val_loss: 1.4300 - val_accuracy: 0.5127 - lr: 5.1200e-04\n",
      "Epoch 55/100\n",
      "\n",
      "Epoch 00055: val_accuracy did not improve from 0.54237\n",
      "30/30 - 3s - loss: 0.8966 - accuracy: 0.6695 - val_loss: 1.4582 - val_accuracy: 0.5297 - lr: 5.1200e-04\n",
      "Epoch 56/100\n",
      "\n",
      "Epoch 00056: val_accuracy did not improve from 0.54237\n",
      "30/30 - 2s - loss: 0.9125 - accuracy: 0.6589 - val_loss: 1.4595 - val_accuracy: 0.4958 - lr: 5.1200e-04\n",
      "Epoch 57/100\n",
      "\n",
      "Epoch 00057: val_accuracy improved from 0.54237 to 0.55508, saving model to /tmp/checkpoint\n",
      "30/30 - 2s - loss: 0.9287 - accuracy: 0.6579 - val_loss: 1.4151 - val_accuracy: 0.5551 - lr: 5.1200e-04\n",
      "Epoch 58/100\n",
      "\n",
      "Epoch 00058: val_accuracy did not improve from 0.55508\n",
      "\n",
      "Epoch 00058: ReduceLROnPlateau reducing learning rate to 0.00040960004553198815.\n",
      "30/30 - 2s - loss: 0.9017 - accuracy: 0.6574 - val_loss: 1.4804 - val_accuracy: 0.5297 - lr: 5.1200e-04\n",
      "Epoch 59/100\n",
      "\n",
      "Epoch 00059: val_accuracy did not improve from 0.55508\n",
      "30/30 - 2s - loss: 0.8623 - accuracy: 0.6837 - val_loss: 1.4559 - val_accuracy: 0.5297 - lr: 4.0960e-04\n",
      "Epoch 60/100\n",
      "\n",
      "Epoch 00060: val_accuracy did not improve from 0.55508\n",
      "30/30 - 2s - loss: 0.8843 - accuracy: 0.6700 - val_loss: 1.4574 - val_accuracy: 0.5424 - lr: 4.0960e-04\n",
      "Epoch 61/100\n",
      "\n",
      "Epoch 00061: val_accuracy did not improve from 0.55508\n",
      "30/30 - 2s - loss: 0.8666 - accuracy: 0.6732 - val_loss: 1.3973 - val_accuracy: 0.5508 - lr: 4.0960e-04\n",
      "Epoch 62/100\n",
      "\n",
      "Epoch 00062: val_accuracy did not improve from 0.55508\n",
      "30/30 - 3s - loss: 0.8602 - accuracy: 0.6742 - val_loss: 1.4832 - val_accuracy: 0.5169 - lr: 4.0960e-04\n",
      "Epoch 63/100\n",
      "\n",
      "Epoch 00063: val_accuracy did not improve from 0.55508\n",
      "30/30 - 2s - loss: 0.8661 - accuracy: 0.6779 - val_loss: 1.4145 - val_accuracy: 0.5339 - lr: 4.0960e-04\n",
      "Epoch 64/100\n",
      "\n",
      "Epoch 00064: val_accuracy did not improve from 0.55508\n",
      "30/30 - 2s - loss: 0.8759 - accuracy: 0.6821 - val_loss: 1.4454 - val_accuracy: 0.5551 - lr: 4.0960e-04\n",
      "Epoch 65/100\n",
      "\n",
      "Epoch 00065: val_accuracy did not improve from 0.55508\n",
      "30/30 - 2s - loss: 0.8564 - accuracy: 0.6827 - val_loss: 1.4271 - val_accuracy: 0.5466 - lr: 4.0960e-04\n",
      "Epoch 66/100\n",
      "\n",
      "Epoch 00066: val_accuracy did not improve from 0.55508\n",
      "\n",
      "Epoch 00066: ReduceLROnPlateau reducing learning rate to 0.00032768002711236477.\n",
      "30/30 - 2s - loss: 0.8563 - accuracy: 0.6869 - val_loss: 1.4259 - val_accuracy: 0.5466 - lr: 4.0960e-04\n",
      "Epoch 67/100\n",
      "\n",
      "Epoch 00067: val_accuracy did not improve from 0.55508\n",
      "30/30 - 3s - loss: 0.8172 - accuracy: 0.7069 - val_loss: 1.5011 - val_accuracy: 0.5297 - lr: 3.2768e-04\n",
      "Epoch 68/100\n",
      "\n",
      "Epoch 00068: val_accuracy did not improve from 0.55508\n",
      "30/30 - 3s - loss: 0.8153 - accuracy: 0.7011 - val_loss: 1.4265 - val_accuracy: 0.5297 - lr: 3.2768e-04\n",
      "Epoch 69/100\n",
      "\n",
      "Epoch 00069: val_accuracy improved from 0.55508 to 0.58898, saving model to /tmp/checkpoint\n",
      "30/30 - 2s - loss: 0.8113 - accuracy: 0.7064 - val_loss: 1.4430 - val_accuracy: 0.5890 - lr: 3.2768e-04\n",
      "Epoch 70/100\n",
      "\n",
      "Epoch 00070: val_accuracy did not improve from 0.58898\n",
      "30/30 - 2s - loss: 0.8010 - accuracy: 0.7106 - val_loss: 1.5013 - val_accuracy: 0.5212 - lr: 3.2768e-04\n",
      "Epoch 71/100\n",
      "\n",
      "Epoch 00071: val_accuracy did not improve from 0.58898\n",
      "\n",
      "Epoch 00071: ReduceLROnPlateau reducing learning rate to 0.0002621440216898918.\n",
      "30/30 - 3s - loss: 0.8174 - accuracy: 0.7032 - val_loss: 1.4394 - val_accuracy: 0.5466 - lr: 3.2768e-04\n",
      "Epoch 72/100\n",
      "\n",
      "Epoch 00072: val_accuracy did not improve from 0.58898\n",
      "30/30 - 3s - loss: 0.7935 - accuracy: 0.7169 - val_loss: 1.4158 - val_accuracy: 0.5636 - lr: 2.6214e-04\n",
      "Epoch 73/100\n",
      "\n",
      "Epoch 00073: val_accuracy did not improve from 0.58898\n",
      "30/30 - 2s - loss: 0.7933 - accuracy: 0.7074 - val_loss: 1.3816 - val_accuracy: 0.5508 - lr: 2.6214e-04\n",
      "Epoch 74/100\n",
      "\n",
      "Epoch 00074: val_accuracy did not improve from 0.58898\n",
      "30/30 - 2s - loss: 0.8075 - accuracy: 0.6979 - val_loss: 1.4138 - val_accuracy: 0.5551 - lr: 2.6214e-04\n",
      "Epoch 75/100\n",
      "\n",
      "Epoch 00075: val_accuracy did not improve from 0.58898\n",
      "30/30 - 2s - loss: 0.7652 - accuracy: 0.7174 - val_loss: 1.4143 - val_accuracy: 0.5508 - lr: 2.6214e-04\n",
      "Epoch 76/100\n",
      "\n",
      "Epoch 00076: val_accuracy did not improve from 0.58898\n",
      "30/30 - 2s - loss: 0.7862 - accuracy: 0.7101 - val_loss: 1.5385 - val_accuracy: 0.5297 - lr: 2.6214e-04\n",
      "Epoch 77/100\n",
      "\n",
      "Epoch 00077: val_accuracy did not improve from 0.58898\n",
      "30/30 - 2s - loss: 0.7801 - accuracy: 0.7090 - val_loss: 1.4052 - val_accuracy: 0.5593 - lr: 2.6214e-04\n",
      "Epoch 78/100\n",
      "\n",
      "Epoch 00078: val_accuracy did not improve from 0.58898\n",
      "\n",
      "Epoch 00078: ReduceLROnPlateau reducing learning rate to 0.00020971521735191345.\n",
      "30/30 - 2s - loss: 0.7596 - accuracy: 0.7159 - val_loss: 1.4661 - val_accuracy: 0.5636 - lr: 2.6214e-04\n",
      "Epoch 79/100\n",
      "\n",
      "Epoch 00079: val_accuracy did not improve from 0.58898\n",
      "30/30 - 3s - loss: 0.7681 - accuracy: 0.7238 - val_loss: 1.4131 - val_accuracy: 0.5466 - lr: 2.0972e-04\n",
      "Epoch 80/100\n",
      "\n",
      "Epoch 00080: val_accuracy did not improve from 0.58898\n",
      "30/30 - 3s - loss: 0.7596 - accuracy: 0.7138 - val_loss: 1.4256 - val_accuracy: 0.5466 - lr: 2.0972e-04\n",
      "Epoch 81/100\n",
      "\n",
      "Epoch 00081: val_accuracy did not improve from 0.58898\n",
      "30/30 - 2s - loss: 0.7549 - accuracy: 0.7211 - val_loss: 1.4127 - val_accuracy: 0.5381 - lr: 2.0972e-04\n",
      "Epoch 82/100\n",
      "\n",
      "Epoch 00082: val_accuracy did not improve from 0.58898\n",
      "30/30 - 2s - loss: 0.7488 - accuracy: 0.7259 - val_loss: 1.4692 - val_accuracy: 0.5551 - lr: 2.0972e-04\n",
      "Epoch 83/100\n",
      "\n",
      "Epoch 00083: val_accuracy did not improve from 0.58898\n",
      "\n",
      "Epoch 00083: ReduceLROnPlateau reducing learning rate to 0.00016777217388153076.\n",
      "30/30 - 2s - loss: 0.7446 - accuracy: 0.7248 - val_loss: 1.4522 - val_accuracy: 0.5254 - lr: 2.0972e-04\n",
      "Epoch 84/100\n",
      "\n",
      "Epoch 00084: val_accuracy did not improve from 0.58898\n",
      "30/30 - 3s - loss: 0.7514 - accuracy: 0.7180 - val_loss: 1.4608 - val_accuracy: 0.5254 - lr: 1.6777e-04\n",
      "Epoch 85/100\n",
      "\n",
      "Epoch 00085: val_accuracy did not improve from 0.58898\n",
      "30/30 - 2s - loss: 0.7547 - accuracy: 0.7243 - val_loss: 1.4706 - val_accuracy: 0.5551 - lr: 1.6777e-04\n",
      "Epoch 86/100\n",
      "\n",
      "Epoch 00086: val_accuracy did not improve from 0.58898\n",
      "30/30 - 2s - loss: 0.7355 - accuracy: 0.7269 - val_loss: 1.4640 - val_accuracy: 0.5508 - lr: 1.6777e-04\n",
      "Epoch 87/100\n",
      "\n",
      "Epoch 00087: val_accuracy did not improve from 0.58898\n",
      "30/30 - 2s - loss: 0.7522 - accuracy: 0.7296 - val_loss: 1.4877 - val_accuracy: 0.5424 - lr: 1.6777e-04\n",
      "Epoch 88/100\n",
      "\n",
      "Epoch 00088: val_accuracy did not improve from 0.58898\n",
      "\n",
      "Epoch 00088: ReduceLROnPlateau reducing learning rate to 0.00013421773910522462.\n",
      "30/30 - 3s - loss: 0.7306 - accuracy: 0.7412 - val_loss: 1.4089 - val_accuracy: 0.5636 - lr: 1.6777e-04\n",
      "Epoch 89/100\n",
      "\n",
      "Epoch 00089: val_accuracy did not improve from 0.58898\n",
      "30/30 - 2s - loss: 0.7100 - accuracy: 0.7391 - val_loss: 1.4271 - val_accuracy: 0.5805 - lr: 1.3422e-04\n",
      "Epoch 90/100\n",
      "\n",
      "Epoch 00090: val_accuracy did not improve from 0.58898\n",
      "30/30 - 2s - loss: 0.7207 - accuracy: 0.7338 - val_loss: 1.4113 - val_accuracy: 0.5636 - lr: 1.3422e-04\n",
      "Epoch 91/100\n",
      "\n",
      "Epoch 00091: val_accuracy did not improve from 0.58898\n",
      "30/30 - 2s - loss: 0.7308 - accuracy: 0.7306 - val_loss: 1.4275 - val_accuracy: 0.5720 - lr: 1.3422e-04\n",
      "Epoch 92/100\n",
      "\n",
      "Epoch 00092: val_accuracy did not improve from 0.58898\n",
      "30/30 - 3s - loss: 0.7237 - accuracy: 0.7385 - val_loss: 1.4722 - val_accuracy: 0.5593 - lr: 1.3422e-04\n",
      "Epoch 93/100\n",
      "\n",
      "Epoch 00093: val_accuracy did not improve from 0.58898\n",
      "\n",
      "Epoch 00093: ReduceLROnPlateau reducing learning rate to 0.00010737419361248613.\n",
      "30/30 - 3s - loss: 0.7395 - accuracy: 0.7238 - val_loss: 1.4405 - val_accuracy: 0.5678 - lr: 1.3422e-04\n",
      "Epoch 00093: early stopping\n"
     ]
    }
   ],
   "source": [
    "model_weights='/tmp/checkpoint'\n",
    "early_stopping=tkc.EarlyStopping(\n",
    "    monitor='val_loss',patience=20,verbose=2)\n",
    "checkpointer=tkc.ModelCheckpoint(\n",
    "    filepath=model_weights,verbose=2,save_weights_only=True,\n",
    "    monitor='val_accuracy',mode='max',save_best_only=True)\n",
    "lr_reduction=tkc.ReduceLROnPlateau(\n",
    "    monitor='val_loss',verbose=2,patience=5,factor=.8)\n",
    "history=cnn_model.fit(\n",
    "    x_train,y_train,epochs=100,batch_size=64,verbose=2,\n",
    "    validation_data=(x_valid,y_valid),\n",
    "    callbacks=[checkpointer,early_stopping,lr_reduction])"
   ]
  },
  {
   "cell_type": "code",
   "execution_count": 16,
   "metadata": {
    "execution": {
     "iopub.execute_input": "2021-03-25T20:25:30.446721Z",
     "iopub.status.busy": "2021-03-25T20:25:30.445939Z",
     "iopub.status.idle": "2021-03-25T20:25:30.726310Z",
     "shell.execute_reply": "2021-03-25T20:25:30.725652Z"
    },
    "papermill": {
     "duration": 0.48368,
     "end_time": "2021-03-25T20:25:30.726438",
     "exception": false,
     "start_time": "2021-03-25T20:25:30.242758",
     "status": "completed"
    },
    "tags": []
   },
   "outputs": [
    {
     "data": {
      "image/png": "[encoded data removed]",
      "text/plain": [
       "<Figure size 576x288 with 2 Axes>"
      ]
     },
     "metadata": {
      "needs_background": "light"
     },
     "output_type": "display_data"
    }
   ],
   "source": [
    "def history_plot(fit_history):\n",
    "    pl.figure(figsize=(8,4)); pl.subplot(211)\n",
    "    keys=list(fit_history.history.keys())[0:4]\n",
    "    pl.plot(fit_history.history[keys[0]],\n",
    "            color='slategray',label='train')\n",
    "    pl.plot(fit_history.history[keys[2]],\n",
    "            color='#ff33aa',label='valid')\n",
    "    pl.xlabel('epochs'); pl.ylabel('loss')\n",
    "    pl.legend(); pl.grid()\n",
    "    pl.title('loss function')     \n",
    "    pl.subplot(212)\n",
    "    pl.plot(fit_history.history[keys[1]],\n",
    "            color='slategray',label='train')\n",
    "    pl.plot(fit_history.history[keys[3]],\n",
    "            color='#ff33aa',label='valid')\n",
    "    pl.xlabel('epochs'); pl.ylabel('accuracy')    \n",
    "    pl.legend(); pl.grid()\n",
    "    pl.title('accuracy'); pl.show()\n",
    "history_plot(history)"
   ]
  },
  {
   "cell_type": "code",
   "execution_count": 17,
   "metadata": {
    "execution": {
     "iopub.execute_input": "2021-03-25T20:25:31.109239Z",
     "iopub.status.busy": "2021-03-25T20:25:31.108552Z",
     "iopub.status.idle": "2021-03-25T20:25:31.279175Z",
     "shell.execute_reply": "2021-03-25T20:25:31.278024Z"
    },
    "papermill": {
     "duration": 0.371073,
     "end_time": "2021-03-25T20:25:31.279310",
     "exception": false,
     "start_time": "2021-03-25T20:25:30.908237",
     "status": "completed"
    },
    "tags": []
   },
   "outputs": [
    {
     "data": {
      "text/html": [
       "<style>\n",
       "    @import 'https://fonts.googleapis.com/css?family=Smokum&effect=3d';      \n",
       "    </style><h1 class='font-effect-3d' \n",
       "    style='font-family:Smokum; color:#ff33aa; font-size:35px;'>\n",
       "    [1.273510456085205, 0.6016949415206909]</h1>"
      ],
      "text/plain": [
       "<IPython.core.display.HTML object>"
      ]
     },
     "metadata": {},
     "output_type": "display_data"
    }
   ],
   "source": [
    "cnn_model.load_weights(model_weights)\n",
    "dhtml(cnn_model.evaluate(x_test,y_test,verbose=0))"
   ]
  },
  {
   "cell_type": "code",
   "execution_count": 18,
   "metadata": {
    "execution": {
     "iopub.execute_input": "2021-03-25T20:25:31.674365Z",
     "iopub.status.busy": "2021-03-25T20:25:31.669153Z",
     "iopub.status.idle": "2021-03-25T20:25:31.819429Z",
     "shell.execute_reply": "2021-03-25T20:25:31.819973Z"
    },
    "papermill": {
     "duration": 0.357761,
     "end_time": "2021-03-25T20:25:31.820115",
     "exception": false,
     "start_time": "2021-03-25T20:25:31.462354",
     "status": "completed"
    },
    "tags": []
   },
   "outputs": [],
   "source": [
    "batch_size=64; img_size=32; n_classes=10; epochs=30\n",
    "base_model=tf.keras.Sequential([\n",
    "    tf.keras.Input((img_size,img_size,3),name='input'),\n",
    "    tf.keras.layers.Conv2D(32,(5,5),padding='same'),\n",
    "    tf.keras.layers.Activation('relu'),\n",
    "    tf.keras.layers.MaxPooling2D(pool_size=(2,2)),\n",
    "    tf.keras.layers.Dropout(.25),\n",
    "    tf.keras.layers.Conv2D(196,(5,5)),\n",
    "    tf.keras.layers.Activation('relu'),    \n",
    "    tf.keras.layers.MaxPooling2D(pool_size=(2,2)),\n",
    "    tf.keras.layers.Dropout(.25),\n",
    "    tf.keras.layers.GlobalMaxPooling2D(),    \n",
    "    tf.keras.layers.Dense(512),\n",
    "    tf.keras.layers.Activation('relu'),\n",
    "    tf.keras.layers.Dropout(.25),\n",
    "    tf.keras.layers.Dense(128),\n",
    "    tf.keras.layers.Activation('relu'),\n",
    "    tf.keras.layers.Dropout(.25),\n",
    "    tf.keras.layers.Dense(n_classes,activation='softmax')\n",
    "])\n",
    "adv_config=nsl.configs\\\n",
    ".make_adv_reg_config(multiplier=.2,adv_step_size=.05)\n",
    "adv_model=nsl.keras\\\n",
    ".AdversarialRegularization(base_model,adv_config=adv_config)\n",
    "model_weights='/tmp/checkpoint'\n",
    "checkpointer=tkc.ModelCheckpoint(\n",
    "    filepath=model_weights,verbose=2,save_weights_only=True,\n",
    "    monitor='val_sparse_categorical_accuracy',\n",
    "    mode='max',save_best_only=True)\n",
    "adv_model.compile(optimizer='adam',metrics=['accuracy'],\n",
    "                  loss='sparse_categorical_crossentropy')"
   ]
  },
  {
   "cell_type": "code",
   "execution_count": 19,
   "metadata": {
    "_kg_hide-output": true,
    "execution": {
     "iopub.execute_input": "2021-03-25T20:25:32.200298Z",
     "iopub.status.busy": "2021-03-25T20:25:32.199612Z",
     "iopub.status.idle": "2021-03-25T20:30:14.113234Z",
     "shell.execute_reply": "2021-03-25T20:30:14.113904Z"
    },
    "papermill": {
     "duration": 282.111319,
     "end_time": "2021-03-25T20:30:14.114079",
     "exception": false,
     "start_time": "2021-03-25T20:25:32.002760",
     "status": "completed"
    },
    "tags": []
   },
   "outputs": [
    {
     "name": "stdout",
     "output_type": "stream",
     "text": [
      "Epoch 1/30\n",
      "\n",
      "Epoch 00001: val_sparse_categorical_accuracy improved from -inf to 0.07292, saving model to /tmp/checkpoint\n",
      "30/30 - 9s - loss: 2.7749 - sparse_categorical_crossentropy: 2.3130 - sparse_categorical_accuracy: 0.1086 - scaled_adversarial_loss: 0.4619 - val_loss: 2.7624 - val_sparse_categorical_crossentropy: 2.3018 - val_sparse_categorical_accuracy: 0.0729 - val_scaled_adversarial_loss: 0.4606\n",
      "Epoch 2/30\n",
      "\n",
      "Epoch 00002: val_sparse_categorical_accuracy improved from 0.07292 to 0.15625, saving model to /tmp/checkpoint\n",
      "30/30 - 9s - loss: 2.7568 - sparse_categorical_crossentropy: 2.2974 - sparse_categorical_accuracy: 0.1133 - scaled_adversarial_loss: 0.4594 - val_loss: 2.7474 - val_sparse_categorical_crossentropy: 2.2891 - val_sparse_categorical_accuracy: 0.1562 - val_scaled_adversarial_loss: 0.4582\n",
      "Epoch 3/30\n",
      "\n",
      "Epoch 00003: val_sparse_categorical_accuracy improved from 0.15625 to 0.23438, saving model to /tmp/checkpoint\n",
      "30/30 - 9s - loss: 2.6910 - sparse_categorical_crossentropy: 2.2416 - sparse_categorical_accuracy: 0.1550 - scaled_adversarial_loss: 0.4494 - val_loss: 2.6037 - val_sparse_categorical_crossentropy: 2.1678 - val_sparse_categorical_accuracy: 0.2344 - val_scaled_adversarial_loss: 0.4360\n",
      "Epoch 4/30\n",
      "\n",
      "Epoch 00004: val_sparse_categorical_accuracy improved from 0.23438 to 0.28646, saving model to /tmp/checkpoint\n",
      "30/30 - 8s - loss: 2.5041 - sparse_categorical_crossentropy: 2.0866 - sparse_categorical_accuracy: 0.1966 - scaled_adversarial_loss: 0.4175 - val_loss: 2.5025 - val_sparse_categorical_crossentropy: 2.0815 - val_sparse_categorical_accuracy: 0.2865 - val_scaled_adversarial_loss: 0.4210\n",
      "Epoch 5/30\n",
      "\n",
      "Epoch 00005: val_sparse_categorical_accuracy did not improve from 0.28646\n",
      "30/30 - 8s - loss: 2.3853 - sparse_categorical_crossentropy: 1.9847 - sparse_categorical_accuracy: 0.2425 - scaled_adversarial_loss: 0.4006 - val_loss: 2.3902 - val_sparse_categorical_crossentropy: 1.9880 - val_sparse_categorical_accuracy: 0.2760 - val_scaled_adversarial_loss: 0.4023\n",
      "Epoch 6/30\n",
      "\n",
      "Epoch 00006: val_sparse_categorical_accuracy improved from 0.28646 to 0.30729, saving model to /tmp/checkpoint\n",
      "30/30 - 9s - loss: 2.2292 - sparse_categorical_crossentropy: 1.8508 - sparse_categorical_accuracy: 0.3179 - scaled_adversarial_loss: 0.3784 - val_loss: 2.3973 - val_sparse_categorical_crossentropy: 1.9916 - val_sparse_categorical_accuracy: 0.3073 - val_scaled_adversarial_loss: 0.4056\n",
      "Epoch 7/30\n",
      "\n",
      "Epoch 00007: val_sparse_categorical_accuracy improved from 0.30729 to 0.32292, saving model to /tmp/checkpoint\n",
      "30/30 - 8s - loss: 2.0702 - sparse_categorical_crossentropy: 1.7181 - sparse_categorical_accuracy: 0.3432 - scaled_adversarial_loss: 0.3520 - val_loss: 2.2517 - val_sparse_categorical_crossentropy: 1.8692 - val_sparse_categorical_accuracy: 0.3229 - val_scaled_adversarial_loss: 0.3825\n",
      "Epoch 8/30\n",
      "\n",
      "Epoch 00008: val_sparse_categorical_accuracy improved from 0.32292 to 0.35417, saving model to /tmp/checkpoint\n",
      "30/30 - 8s - loss: 1.9366 - sparse_categorical_crossentropy: 1.6114 - sparse_categorical_accuracy: 0.3843 - scaled_adversarial_loss: 0.3252 - val_loss: 2.3053 - val_sparse_categorical_crossentropy: 1.9130 - val_sparse_categorical_accuracy: 0.3542 - val_scaled_adversarial_loss: 0.3922\n",
      "Epoch 9/30\n",
      "\n",
      "Epoch 00009: val_sparse_categorical_accuracy did not improve from 0.35417\n",
      "30/30 - 9s - loss: 1.8524 - sparse_categorical_crossentropy: 1.5366 - sparse_categorical_accuracy: 0.4180 - scaled_adversarial_loss: 0.3158 - val_loss: 2.2926 - val_sparse_categorical_crossentropy: 1.9017 - val_sparse_categorical_accuracy: 0.3490 - val_scaled_adversarial_loss: 0.3909\n",
      "Epoch 10/30\n",
      "\n",
      "Epoch 00010: val_sparse_categorical_accuracy improved from 0.35417 to 0.42188, saving model to /tmp/checkpoint\n",
      "30/30 - 9s - loss: 1.7496 - sparse_categorical_crossentropy: 1.4520 - sparse_categorical_accuracy: 0.4444 - scaled_adversarial_loss: 0.2976 - val_loss: 2.1393 - val_sparse_categorical_crossentropy: 1.7734 - val_sparse_categorical_accuracy: 0.4219 - val_scaled_adversarial_loss: 0.3659\n",
      "Epoch 11/30\n",
      "\n",
      "Epoch 00011: val_sparse_categorical_accuracy improved from 0.42188 to 0.43750, saving model to /tmp/checkpoint\n",
      "30/30 - 9s - loss: 1.6369 - sparse_categorical_crossentropy: 1.3599 - sparse_categorical_accuracy: 0.4913 - scaled_adversarial_loss: 0.2770 - val_loss: 2.1961 - val_sparse_categorical_crossentropy: 1.8194 - val_sparse_categorical_accuracy: 0.4375 - val_scaled_adversarial_loss: 0.3767\n",
      "Epoch 12/30\n",
      "\n",
      "Epoch 00012: val_sparse_categorical_accuracy did not improve from 0.43750\n",
      "30/30 - 9s - loss: 1.5521 - sparse_categorical_crossentropy: 1.2871 - sparse_categorical_accuracy: 0.5192 - scaled_adversarial_loss: 0.2650 - val_loss: 2.0813 - val_sparse_categorical_crossentropy: 1.7228 - val_sparse_categorical_accuracy: 0.4219 - val_scaled_adversarial_loss: 0.3585\n",
      "Epoch 13/30\n",
      "\n",
      "Epoch 00013: val_sparse_categorical_accuracy did not improve from 0.43750\n",
      "30/30 - 9s - loss: 1.4500 - sparse_categorical_crossentropy: 1.1989 - sparse_categorical_accuracy: 0.5625 - scaled_adversarial_loss: 0.2510 - val_loss: 2.0228 - val_sparse_categorical_crossentropy: 1.6725 - val_sparse_categorical_accuracy: 0.4115 - val_scaled_adversarial_loss: 0.3503\n",
      "Epoch 14/30\n",
      "\n",
      "Epoch 00014: val_sparse_categorical_accuracy did not improve from 0.43750\n",
      "30/30 - 9s - loss: 1.4156 - sparse_categorical_crossentropy: 1.1755 - sparse_categorical_accuracy: 0.5688 - scaled_adversarial_loss: 0.2401 - val_loss: 1.9849 - val_sparse_categorical_crossentropy: 1.6406 - val_sparse_categorical_accuracy: 0.4219 - val_scaled_adversarial_loss: 0.3442\n",
      "Epoch 15/30\n",
      "\n",
      "Epoch 00015: val_sparse_categorical_accuracy did not improve from 0.43750\n",
      "30/30 - 8s - loss: 1.3592 - sparse_categorical_crossentropy: 1.1221 - sparse_categorical_accuracy: 0.5830 - scaled_adversarial_loss: 0.2371 - val_loss: 1.9890 - val_sparse_categorical_crossentropy: 1.6436 - val_sparse_categorical_accuracy: 0.4271 - val_scaled_adversarial_loss: 0.3454\n",
      "Epoch 16/30\n",
      "\n",
      "Epoch 00016: val_sparse_categorical_accuracy improved from 0.43750 to 0.50000, saving model to /tmp/checkpoint\n",
      "30/30 - 9s - loss: 1.3343 - sparse_categorical_crossentropy: 1.1049 - sparse_categorical_accuracy: 0.5894 - scaled_adversarial_loss: 0.2293 - val_loss: 1.7170 - val_sparse_categorical_crossentropy: 1.4173 - val_sparse_categorical_accuracy: 0.5000 - val_scaled_adversarial_loss: 0.2997\n",
      "Epoch 17/30\n",
      "\n",
      "Epoch 00017: val_sparse_categorical_accuracy did not improve from 0.50000\n",
      "30/30 - 9s - loss: 1.2518 - sparse_categorical_crossentropy: 1.0383 - sparse_categorical_accuracy: 0.6173 - scaled_adversarial_loss: 0.2135 - val_loss: 1.7640 - val_sparse_categorical_crossentropy: 1.4545 - val_sparse_categorical_accuracy: 0.4792 - val_scaled_adversarial_loss: 0.3095\n",
      "Epoch 18/30\n",
      "\n",
      "Epoch 00018: val_sparse_categorical_accuracy improved from 0.50000 to 0.51042, saving model to /tmp/checkpoint\n",
      "30/30 - 9s - loss: 1.1093 - sparse_categorical_crossentropy: 0.9160 - sparse_categorical_accuracy: 0.6516 - scaled_adversarial_loss: 0.1933 - val_loss: 1.7055 - val_sparse_categorical_crossentropy: 1.4046 - val_sparse_categorical_accuracy: 0.5104 - val_scaled_adversarial_loss: 0.3010\n",
      "Epoch 19/30\n",
      "\n",
      "Epoch 00019: val_sparse_categorical_accuracy did not improve from 0.51042\n",
      "30/30 - 9s - loss: 1.0741 - sparse_categorical_crossentropy: 0.8872 - sparse_categorical_accuracy: 0.6684 - scaled_adversarial_loss: 0.1869 - val_loss: 1.8728 - val_sparse_categorical_crossentropy: 1.5425 - val_sparse_categorical_accuracy: 0.4583 - val_scaled_adversarial_loss: 0.3303\n",
      "Epoch 20/30\n",
      "\n",
      "Epoch 00020: val_sparse_categorical_accuracy did not improve from 0.51042\n",
      "30/30 - 9s - loss: 0.9808 - sparse_categorical_crossentropy: 0.8054 - sparse_categorical_accuracy: 0.6900 - scaled_adversarial_loss: 0.1754 - val_loss: 1.7578 - val_sparse_categorical_crossentropy: 1.4452 - val_sparse_categorical_accuracy: 0.5000 - val_scaled_adversarial_loss: 0.3126\n",
      "Epoch 21/30\n",
      "\n",
      "Epoch 00021: val_sparse_categorical_accuracy improved from 0.51042 to 0.52604, saving model to /tmp/checkpoint\n",
      "30/30 - 9s - loss: 0.9134 - sparse_categorical_crossentropy: 0.7541 - sparse_categorical_accuracy: 0.7090 - scaled_adversarial_loss: 0.1593 - val_loss: 1.8606 - val_sparse_categorical_crossentropy: 1.5289 - val_sparse_categorical_accuracy: 0.5260 - val_scaled_adversarial_loss: 0.3316\n",
      "Epoch 22/30\n",
      "\n",
      "Epoch 00022: val_sparse_categorical_accuracy did not improve from 0.52604\n",
      "30/30 - 9s - loss: 0.8306 - sparse_categorical_crossentropy: 0.6846 - sparse_categorical_accuracy: 0.7396 - scaled_adversarial_loss: 0.1460 - val_loss: 1.8829 - val_sparse_categorical_crossentropy: 1.5457 - val_sparse_categorical_accuracy: 0.5208 - val_scaled_adversarial_loss: 0.3371\n",
      "Epoch 23/30\n",
      "\n",
      "Epoch 00023: val_sparse_categorical_accuracy improved from 0.52604 to 0.54688, saving model to /tmp/checkpoint\n",
      "30/30 - 9s - loss: 0.8311 - sparse_categorical_crossentropy: 0.6881 - sparse_categorical_accuracy: 0.7417 - scaled_adversarial_loss: 0.1430 - val_loss: 1.7950 - val_sparse_categorical_crossentropy: 1.4731 - val_sparse_categorical_accuracy: 0.5469 - val_scaled_adversarial_loss: 0.3219\n",
      "Epoch 24/30\n",
      "\n",
      "Epoch 00024: val_sparse_categorical_accuracy did not improve from 0.54688\n",
      "30/30 - 9s - loss: 0.7972 - sparse_categorical_crossentropy: 0.6570 - sparse_categorical_accuracy: 0.7438 - scaled_adversarial_loss: 0.1402 - val_loss: 2.0110 - val_sparse_categorical_crossentropy: 1.6501 - val_sparse_categorical_accuracy: 0.4531 - val_scaled_adversarial_loss: 0.3609\n",
      "Epoch 25/30\n",
      "\n",
      "Epoch 00025: val_sparse_categorical_accuracy did not improve from 0.54688\n",
      "30/30 - 9s - loss: 0.7856 - sparse_categorical_crossentropy: 0.6457 - sparse_categorical_accuracy: 0.7570 - scaled_adversarial_loss: 0.1399 - val_loss: 2.0177 - val_sparse_categorical_crossentropy: 1.6544 - val_sparse_categorical_accuracy: 0.4583 - val_scaled_adversarial_loss: 0.3633\n",
      "Epoch 26/30\n",
      "\n",
      "Epoch 00026: val_sparse_categorical_accuracy did not improve from 0.54688\n",
      "30/30 - 9s - loss: 0.8293 - sparse_categorical_crossentropy: 0.6845 - sparse_categorical_accuracy: 0.7333 - scaled_adversarial_loss: 0.1448 - val_loss: 1.9689 - val_sparse_categorical_crossentropy: 1.6151 - val_sparse_categorical_accuracy: 0.5104 - val_scaled_adversarial_loss: 0.3538\n",
      "Epoch 27/30\n",
      "\n",
      "Epoch 00027: val_sparse_categorical_accuracy did not improve from 0.54688\n",
      "30/30 - 9s - loss: 0.7313 - sparse_categorical_crossentropy: 0.6080 - sparse_categorical_accuracy: 0.7659 - scaled_adversarial_loss: 0.1233 - val_loss: 2.2676 - val_sparse_categorical_crossentropy: 1.8604 - val_sparse_categorical_accuracy: 0.4844 - val_scaled_adversarial_loss: 0.4071\n",
      "Epoch 28/30\n",
      "\n",
      "Epoch 00028: val_sparse_categorical_accuracy did not improve from 0.54688\n",
      "30/30 - 8s - loss: 0.7483 - sparse_categorical_crossentropy: 0.6152 - sparse_categorical_accuracy: 0.7638 - scaled_adversarial_loss: 0.1331 - val_loss: 2.0737 - val_sparse_categorical_crossentropy: 1.7015 - val_sparse_categorical_accuracy: 0.4948 - val_scaled_adversarial_loss: 0.3722\n",
      "Epoch 29/30\n",
      "\n",
      "Epoch 00029: val_sparse_categorical_accuracy did not improve from 0.54688\n",
      "30/30 - 9s - loss: 0.6630 - sparse_categorical_crossentropy: 0.5454 - sparse_categorical_accuracy: 0.7912 - scaled_adversarial_loss: 0.1177 - val_loss: 1.9760 - val_sparse_categorical_crossentropy: 1.6175 - val_sparse_categorical_accuracy: 0.5469 - val_scaled_adversarial_loss: 0.3585\n",
      "Epoch 30/30\n",
      "\n",
      "Epoch 00030: val_sparse_categorical_accuracy did not improve from 0.54688\n",
      "30/30 - 9s - loss: 0.6352 - sparse_categorical_crossentropy: 0.5233 - sparse_categorical_accuracy: 0.8055 - scaled_adversarial_loss: 0.1119 - val_loss: 2.0436 - val_sparse_categorical_crossentropy: 1.6742 - val_sparse_categorical_accuracy: 0.5365 - val_scaled_adversarial_loss: 0.3694\n"
     ]
    }
   ],
   "source": [
    "train=tf.data.Dataset.from_tensor_slices(\n",
    "    {'input':x_train,'label':y_train}).batch(batch_size)\n",
    "valid=tf.data.Dataset.from_tensor_slices(\n",
    "    {'input':x_valid,'label':y_valid}).batch(batch_size)\n",
    "valid_steps=x_valid.shape[0]//batch_size\n",
    "adv_model.fit(train,epochs=epochs,verbose=2,callbacks=[checkpointer],\n",
    "              validation_data=valid,validation_steps=valid_steps);"
   ]
  },
  {
   "cell_type": "code",
   "execution_count": 20,
   "metadata": {
    "execution": {
     "iopub.execute_input": "2021-03-25T20:30:14.580722Z",
     "iopub.status.busy": "2021-03-25T20:30:14.579159Z",
     "iopub.status.idle": "2021-03-25T20:30:15.485517Z",
     "shell.execute_reply": "2021-03-25T20:30:15.484826Z"
    },
    "papermill": {
     "duration": 1.166497,
     "end_time": "2021-03-25T20:30:15.485633",
     "exception": false,
     "start_time": "2021-03-25T20:30:14.319136",
     "status": "completed"
    },
    "tags": []
   },
   "outputs": [
    {
     "data": {
      "text/html": [
       "<style>\n",
       "    @import 'https://fonts.googleapis.com/css?family=Smokum&effect=3d';      \n",
       "    </style><h1 class='font-effect-3d' \n",
       "    style='font-family:Smokum; color:#ff33aa; font-size:35px;'>\n",
       "    [1.9001246690750122, 1.5521347522735596, 0.5211864113807678, 0.3479898273944855]</h1>"
      ],
      "text/plain": [
       "<IPython.core.display.HTML object>"
      ]
     },
     "metadata": {},
     "output_type": "display_data"
    }
   ],
   "source": [
    "dhtml(adv_model.evaluate({'input':x_test,'label':y_test},verbose=0))"
   ]
  }
 ],
 "metadata": {
  "kernelspec": {
   "display_name": "Python 3",
   "language": "python",
   "name": "python3"
  },
  "language_info": {
   "codemirror_mode": {
    "name": "ipython",
    "version": 3
   },
   "file_extension": ".py",
   "mimetype": "text/x-python",
   "name": "python",
   "nbconvert_exporter": "python",
   "pygments_lexer": "ipython3",
   "version": "3.7.6"
  },
  "papermill": {
   "duration": 593.984686,
   "end_time": "2021-03-25T20:30:15.798463",
   "environment_variables": {},
   "exception": null,
   "input_path": "__notebook__.ipynb",
   "output_path": "__notebook__.ipynb",
   "parameters": {},
   "start_time": "2021-03-25T20:20:21.813777",
   "version": "2.1.0"
  }
 },
 "nbformat": 4,
 "nbformat_minor": 4
}
