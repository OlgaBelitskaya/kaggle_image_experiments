{
 "cells": [
  {
   "cell_type": "code",
   "execution_count": 1,
   "metadata": {
    "_kg_hide-input": true,
    "execution": {
     "iopub.execute_input": "2021-02-18T18:22:33.030230Z",
     "iopub.status.busy": "2021-02-18T18:22:33.029508Z",
     "iopub.status.idle": "2021-02-18T18:22:33.035441Z",
     "shell.execute_reply": "2021-02-18T18:22:33.034886Z"
    },
    "papermill": {
     "duration": 0.024151,
     "end_time": "2021-02-18T18:22:33.035572",
     "exception": false,
     "start_time": "2021-02-18T18:22:33.011421",
     "status": "completed"
    },
    "tags": []
   },
   "outputs": [],
   "source": [
    "from IPython.display import display,HTML\n",
    "def dhtml(str):\n",
    "    display(HTML(\"\"\"<style>\n",
    "    @import 'https://fonts.googleapis.com/css?family=Smokum&effect=3d';      \n",
    "    </style><h1 class='font-effect-3d' \n",
    "    style='font-family:Smokum; color:#ff33aa; font-size:35px;'>\n",
    "    %s</h1>\"\"\"%str))"
   ]
  },
  {
   "cell_type": "code",
   "execution_count": 2,
   "metadata": {
    "_kg_hide-output": false,
    "execution": {
     "iopub.execute_input": "2021-02-18T18:22:33.071074Z",
     "iopub.status.busy": "2021-02-18T18:22:33.070363Z",
     "iopub.status.idle": "2021-02-18T18:22:53.245395Z",
     "shell.execute_reply": "2021-02-18T18:22:53.244750Z"
    },
    "papermill": {
     "duration": 20.195643,
     "end_time": "2021-02-18T18:22:53.245525",
     "exception": false,
     "start_time": "2021-02-18T18:22:33.049882",
     "status": "completed"
    },
    "tags": []
   },
   "outputs": [],
   "source": [
    "!pip install --upgrade pip --user --quiet --no-warn-script-location\n",
    "!pip install --upgrade neural_structured_learning --user --quiet"
   ]
  },
  {
   "cell_type": "code",
   "execution_count": 3,
   "metadata": {
    "execution": {
     "iopub.execute_input": "2021-02-18T18:22:53.282669Z",
     "iopub.status.busy": "2021-02-18T18:22:53.281615Z",
     "iopub.status.idle": "2021-02-18T18:22:53.286532Z",
     "shell.execute_reply": "2021-02-18T18:22:53.285906Z"
    },
    "papermill": {
     "duration": 0.026544,
     "end_time": "2021-02-18T18:22:53.286649",
     "exception": false,
     "start_time": "2021-02-18T18:22:53.260105",
     "status": "completed"
    },
    "tags": []
   },
   "outputs": [
    {
     "data": {
      "text/html": [
       "<style>\n",
       "    @import 'https://fonts.googleapis.com/css?family=Smokum&effect=3d';      \n",
       "    </style><h1 class='font-effect-3d' \n",
       "    style='font-family:Smokum; color:#ff33aa; font-size:35px;'>\n",
       "    Code Modules & Settings</h1>"
      ],
      "text/plain": [
       "<IPython.core.display.HTML object>"
      ]
     },
     "metadata": {},
     "output_type": "display_data"
    }
   ],
   "source": [
    "dhtml('Code Modules & Settings')"
   ]
  },
  {
   "cell_type": "code",
   "execution_count": 4,
   "metadata": {
    "_cell_guid": "b1076dfc-b9ad-4769-8c92-a6c4dae69d19",
    "_uuid": "8f2839f25d086af736a60e9eeb907d3b93b6e0e5",
    "execution": {
     "iopub.execute_input": "2021-02-18T18:22:53.325215Z",
     "iopub.status.busy": "2021-02-18T18:22:53.324363Z",
     "iopub.status.idle": "2021-02-18T18:22:59.758313Z",
     "shell.execute_reply": "2021-02-18T18:22:59.758908Z"
    },
    "papermill": {
     "duration": 6.457328,
     "end_time": "2021-02-18T18:22:59.759080",
     "exception": false,
     "start_time": "2021-02-18T18:22:53.301752",
     "status": "completed"
    },
    "tags": []
   },
   "outputs": [],
   "source": [
    "import os,numpy as np,pandas as pd\n",
    "import pylab as pl,seaborn as sn,tensorflow as tf\n",
    "from tqdm import tqdm\n",
    "from tensorflow.keras.datasets import cifar10\n",
    "from tensorflow.keras.preprocessing import image as tkimg\n",
    "from tensorflow.keras.models import Sequential\n",
    "from tensorflow.keras import layers as tkl\n",
    "from tensorflow.keras import callbacks as tkc\n",
    "import neural_structured_learning as nsl"
   ]
  },
  {
   "cell_type": "code",
   "execution_count": 5,
   "metadata": {
    "_kg_hide-input": true,
    "execution": {
     "iopub.execute_input": "2021-02-18T18:22:59.793533Z",
     "iopub.status.busy": "2021-02-18T18:22:59.792482Z",
     "iopub.status.idle": "2021-02-18T18:22:59.798356Z",
     "shell.execute_reply": "2021-02-18T18:22:59.798973Z"
    },
    "papermill": {
     "duration": 0.025027,
     "end_time": "2021-02-18T18:22:59.799128",
     "exception": false,
     "start_time": "2021-02-18T18:22:59.774101",
     "status": "completed"
    },
    "tags": []
   },
   "outputs": [
    {
     "data": {
      "text/html": [
       "<style>\n",
       "    @import 'https://fonts.googleapis.com/css?family=Smokum&effect=3d';      \n",
       "    </style><h1 class='font-effect-3d' \n",
       "    style='font-family:Smokum; color:#ff33aa; font-size:35px;'>\n",
       "    Mixed Data</h1>"
      ],
      "text/plain": [
       "<IPython.core.display.HTML object>"
      ]
     },
     "metadata": {},
     "output_type": "display_data"
    }
   ],
   "source": [
    "dhtml('Mixed Data')"
   ]
  },
  {
   "cell_type": "code",
   "execution_count": 6,
   "metadata": {
    "_cell_guid": "79c7e3d0-c299-4dcb-8224-4455121ee9b0",
    "_uuid": "d629ff2d2480ee46fbb7e2d37f6b5fab8052498a",
    "execution": {
     "iopub.execute_input": "2021-02-18T18:22:59.841291Z",
     "iopub.status.busy": "2021-02-18T18:22:59.840464Z",
     "iopub.status.idle": "2021-02-18T18:23:14.291305Z",
     "shell.execute_reply": "2021-02-18T18:23:14.290523Z"
    },
    "papermill": {
     "duration": 14.476975,
     "end_time": "2021-02-18T18:23:14.291484",
     "exception": false,
     "start_time": "2021-02-18T18:22:59.814509",
     "status": "completed"
    },
    "tags": []
   },
   "outputs": [
    {
     "name": "stdout",
     "output_type": "stream",
     "text": [
      "Downloading data from https://www.cs.toronto.edu/~kriz/cifar-10-python.tar.gz\n",
      "170500096/170498071 [==============================] - 11s 0us/step\n"
     ]
    }
   ],
   "source": [
    "classes=['plane','car','bird','cat','deer',\n",
    "         'dog','frog','horse','ship','truck']\n",
    "(x,y),(_,_)=cifar10.load_data()\n",
    "x=np.array(x,dtype='float32')/255\n",
    "y=y.reshape(-1)\n",
    "n_photo=1200; N=len(y); n=int(.1*N)\n",
    "shuffle_ids=np.arange(N)\n",
    "np.random.RandomState(23).shuffle(shuffle_ids)\n",
    "shuffle_ids=shuffle_ids[:n_photo]\n",
    "x,y=x[shuffle_ids],y[shuffle_ids]"
   ]
  },
  {
   "cell_type": "code",
   "execution_count": 7,
   "metadata": {
    "execution": {
     "iopub.execute_input": "2021-02-18T18:23:14.378882Z",
     "iopub.status.busy": "2021-02-18T18:23:14.378206Z",
     "iopub.status.idle": "2021-02-18T18:23:14.480523Z",
     "shell.execute_reply": "2021-02-18T18:23:14.479836Z"
    },
    "papermill": {
     "duration": 0.150824,
     "end_time": "2021-02-18T18:23:14.480640",
     "exception": false,
     "start_time": "2021-02-18T18:23:14.329816",
     "status": "completed"
    },
    "tags": []
   },
   "outputs": [
    {
     "name": "stdout",
     "output_type": "stream",
     "text": [
      "[(1200, 32, 32, 3), dtype('float32'), (1200,), dtype('uint8')]\n",
      "Label:  horse\n"
     ]
    },
    {
     "data": {
      "image/png": "[encoded data removed]",
      "text/plain": [
       "<Figure size 144x144 with 1 Axes>"
      ]
     },
     "metadata": {},
     "output_type": "display_data"
    }
   ],
   "source": [
    "print([x.shape,x.dtype,y.shape,y.dtype])\n",
    "print('Label: ',classes[y[1]])\n",
    "pl.figure(figsize=(2,2))\n",
    "pl.xticks([]); pl.yticks([])\n",
    "pl.tight_layout(); pl.imshow(x[1]);"
   ]
  },
  {
   "cell_type": "code",
   "execution_count": 8,
   "metadata": {
    "execution": {
     "iopub.execute_input": "2021-02-18T18:23:14.577155Z",
     "iopub.status.busy": "2021-02-18T18:23:14.576444Z",
     "iopub.status.idle": "2021-02-18T18:23:29.502982Z",
     "shell.execute_reply": "2021-02-18T18:23:29.502369Z"
    },
    "papermill": {
     "duration": 14.983396,
     "end_time": "2021-02-18T18:23:29.503123",
     "exception": false,
     "start_time": "2021-02-18T18:23:14.519727",
     "status": "completed"
    },
    "tags": []
   },
   "outputs": [
    {
     "name": "stderr",
     "output_type": "stream",
     "text": [
      "100%|██████████| 3545/3545 [00:14<00:00, 241.43it/s]\n"
     ]
    }
   ],
   "source": [
    "img_size=32\n",
    "manners=['pictogram','contour','sketch']\n",
    "objects=['flower','bird','butterfly','tree',\n",
    "         'plane','crane','dog','horse',\n",
    "         'deer','truck','car','cat',\n",
    "         'frog','ship','fish','house']\n",
    "file_path='../input/art-pictogram/pictograms/'\n",
    "file_list=sorted(os.listdir(file_path))\n",
    "def paths2tensor(img_paths,file_path=file_path,\n",
    "                 img_size=img_size):\n",
    "    tensor=[]\n",
    "    for img_path in tqdm(img_paths):\n",
    "        img0=tkimg.load_img(\n",
    "            file_path+img_path,\n",
    "            target_size=(img_size,img_size))\n",
    "        img=tkimg.img_to_array(img0)\n",
    "        tensor.append(np.expand_dims(img,axis=0))\n",
    "    return np.vstack(tensor)\n",
    "labels1=np.array([int(el[:2]) for el in file_list],\n",
    "                 dtype='int16')-1\n",
    "labels2=np.array([int(el[3:6]) for el in file_list],\n",
    "                 dtype='int16')-1\n",
    "images=np.array(paths2tensor(file_list))/255\n",
    "n_draw=len(labels1[labels1==0])\n",
    "images=images[:n_draw]; labels2=labels2[:n_draw]\n",
    "cond=np.where([l in classes for l in objects])[0]\n",
    "cond2=np.where([l in cond for l in labels2])\n",
    "images=images[cond2]; labels=labels2[cond2]\n",
    "rd={1:2,4:0,6:5,7:7,8:4,9:9,10:1,11:3,12:6,13:8}\n",
    "labels=np.array([rd.get(x,x) for x in labels],\n",
    "                dtype='int16')"
   ]
  },
  {
   "cell_type": "code",
   "execution_count": 9,
   "metadata": {
    "execution": {
     "iopub.execute_input": "2021-02-18T18:23:29.685218Z",
     "iopub.status.busy": "2021-02-18T18:23:29.680033Z",
     "iopub.status.idle": "2021-02-18T18:23:29.732361Z",
     "shell.execute_reply": "2021-02-18T18:23:29.732863Z"
    },
    "papermill": {
     "duration": 0.144764,
     "end_time": "2021-02-18T18:23:29.733024",
     "exception": false,
     "start_time": "2021-02-18T18:23:29.588260",
     "status": "completed"
    },
    "tags": []
   },
   "outputs": [
    {
     "name": "stdout",
     "output_type": "stream",
     "text": [
      "[(1169, 32, 32, 3), dtype('float32'), (1169,), dtype('int16')]\n",
      "Label:  bird\n"
     ]
    },
    {
     "data": {
      "image/png": "[encoded data removed]",
      "text/plain": [
       "<Figure size 144x144 with 1 Axes>"
      ]
     },
     "metadata": {},
     "output_type": "display_data"
    }
   ],
   "source": [
    "print([images.shape,images.dtype,\n",
    "       labels.shape,labels.dtype])\n",
    "print('Label: ',classes[labels[100]])\n",
    "pl.figure(figsize=(2,2))\n",
    "pl.xticks([]); pl.yticks([])\n",
    "pl.tight_layout(); pl.imshow(images[100]);"
   ]
  },
  {
   "cell_type": "code",
   "execution_count": 10,
   "metadata": {
    "execution": {
     "iopub.execute_input": "2021-02-18T18:23:29.915696Z",
     "iopub.status.busy": "2021-02-18T18:23:29.914548Z",
     "iopub.status.idle": "2021-02-18T18:23:29.956168Z",
     "shell.execute_reply": "2021-02-18T18:23:29.955403Z"
    },
    "papermill": {
     "duration": 0.13739,
     "end_time": "2021-02-18T18:23:29.956328",
     "exception": false,
     "start_time": "2021-02-18T18:23:29.818938",
     "status": "completed"
    },
    "tags": []
   },
   "outputs": [
    {
     "name": "stdout",
     "output_type": "stream",
     "text": [
      "[(2369, 32, 32, 3), dtype('float32'), (2369,), dtype('int16')]\n"
     ]
    }
   ],
   "source": [
    "x=np.vstack([x,images]); y=np.hstack([y,labels])\n",
    "N=len(y); n=int(.1*N)\n",
    "shuffle_ids=np.arange(N)\n",
    "np.random.RandomState(23).shuffle(shuffle_ids)\n",
    "x,y=x[shuffle_ids],y[shuffle_ids]\n",
    "x_test,x_valid,x_train=x[:n],x[n:2*n],x[2*n:]\n",
    "y_test,y_valid,y_train=y[:n],y[n:2*n],y[2*n:]\n",
    "print([x.shape,x.dtype,y.shape,y.dtype])"
   ]
  },
  {
   "cell_type": "code",
   "execution_count": 11,
   "metadata": {
    "execution": {
     "iopub.execute_input": "2021-02-18T18:23:30.142556Z",
     "iopub.status.busy": "2021-02-18T18:23:30.136711Z",
     "iopub.status.idle": "2021-02-18T18:23:30.796640Z",
     "shell.execute_reply": "2021-02-18T18:23:30.796046Z"
    },
    "papermill": {
     "duration": 0.754092,
     "end_time": "2021-02-18T18:23:30.796775",
     "exception": false,
     "start_time": "2021-02-18T18:23:30.042683",
     "status": "completed"
    },
    "tags": []
   },
   "outputs": [
    {
     "data": {
      "image/png": "[encoded data removed]",
      "text/plain": [
       "<Figure size 576x288 with 10 Axes>"
      ]
     },
     "metadata": {},
     "output_type": "display_data"
    }
   ],
   "source": [
    "fig=pl.figure(figsize=(8,4))\n",
    "randi=np.random.choice(\n",
    "    x_test.shape[0],size=10,replace=False)\n",
    "for i,idx in enumerate(randi):\n",
    "    ax=fig.add_subplot(2,5,i+1,xticks=[],yticks=[])\n",
    "    ax.imshow(x_test[idx])\n",
    "    true_idx=y_test[idx]\n",
    "    ax.set_title(classes[true_idx],color=\"#ff33aa\")\n",
    "    pl.tight_layout();"
   ]
  },
  {
   "cell_type": "code",
   "execution_count": 12,
   "metadata": {
    "execution": {
     "iopub.execute_input": "2021-02-18T18:23:30.992505Z",
     "iopub.status.busy": "2021-02-18T18:23:30.991427Z",
     "iopub.status.idle": "2021-02-18T18:23:31.196270Z",
     "shell.execute_reply": "2021-02-18T18:23:31.195644Z"
    },
    "papermill": {
     "duration": 0.311382,
     "end_time": "2021-02-18T18:23:31.196391",
     "exception": false,
     "start_time": "2021-02-18T18:23:30.885009",
     "status": "completed"
    },
    "tags": []
   },
   "outputs": [
    {
     "data": {
      "image/png": "[encoded data removed]",
      "text/plain": [
       "<Figure size 576x288 with 1 Axes>"
      ]
     },
     "metadata": {
      "needs_background": "light"
     },
     "output_type": "display_data"
    }
   ],
   "source": [
    "df=pd.DataFrame(y,columns=['label'])\n",
    "df['class']=[classes[l] for l in y]\n",
    "pl.figure(figsize=(8,4))\n",
    "sn.countplot(x='class',data=df,palette='Reds',alpha=.5)\n",
    "pl.title('distribution of labels',fontsize=20)\n",
    "pl.tight_layout();"
   ]
  },
  {
   "cell_type": "code",
   "execution_count": 13,
   "metadata": {
    "_kg_hide-input": true,
    "execution": {
     "iopub.execute_input": "2021-02-18T18:23:31.381059Z",
     "iopub.status.busy": "2021-02-18T18:23:31.380060Z",
     "iopub.status.idle": "2021-02-18T18:23:31.384709Z",
     "shell.execute_reply": "2021-02-18T18:23:31.384083Z"
    },
    "papermill": {
     "duration": 0.099634,
     "end_time": "2021-02-18T18:23:31.384831",
     "exception": false,
     "start_time": "2021-02-18T18:23:31.285197",
     "status": "completed"
    },
    "tags": []
   },
   "outputs": [
    {
     "data": {
      "text/html": [
       "<style>\n",
       "    @import 'https://fonts.googleapis.com/css?family=Smokum&effect=3d';      \n",
       "    </style><h1 class='font-effect-3d' \n",
       "    style='font-family:Smokum; color:#ff33aa; font-size:35px;'>\n",
       "    NN Examples</h1>"
      ],
      "text/plain": [
       "<IPython.core.display.HTML object>"
      ]
     },
     "metadata": {},
     "output_type": "display_data"
    }
   ],
   "source": [
    "dhtml('NN Examples')"
   ]
  },
  {
   "cell_type": "code",
   "execution_count": 14,
   "metadata": {
    "execution": {
     "iopub.execute_input": "2021-02-18T18:23:31.579692Z",
     "iopub.status.busy": "2021-02-18T18:23:31.578633Z",
     "iopub.status.idle": "2021-02-18T18:23:31.814505Z",
     "shell.execute_reply": "2021-02-18T18:23:31.813761Z"
    },
    "papermill": {
     "duration": 0.337663,
     "end_time": "2021-02-18T18:23:31.814628",
     "exception": false,
     "start_time": "2021-02-18T18:23:31.476965",
     "status": "completed"
    },
    "tags": []
   },
   "outputs": [],
   "source": [
    "def cnn_model():\n",
    "    model=Sequential()\n",
    "    model.add(tkl.Conv2D(32,(5,5),padding='same',\n",
    "                         input_shape=x_train.shape[1:]))\n",
    "    model.add(tkl.Activation('relu'))\n",
    "    model.add(tkl.MaxPooling2D(pool_size=(2,2)))\n",
    "    model.add(tkl.Dropout(.25))\n",
    "    model.add(tkl.Conv2D(96,(5,5)))\n",
    "    model.add(tkl.Activation('relu'))    \n",
    "    model.add(tkl.MaxPooling2D(pool_size=(2,2)))\n",
    "    model.add(tkl.Dropout(.25))\n",
    "    model.add(tkl.GlobalAveragePooling2D())    \n",
    "    model.add(tkl.Dense(1024,activation='relu'))\n",
    "    model.add(tkl.Dropout(.5))         \n",
    " #   model.add(tkl.Dense(128,activation='relu'))\n",
    " #   model.add(tkl.Dropout(.25)) \n",
    "    model.add(tkl.Dense(10))\n",
    "    model.add(tkl.Activation('softmax'))\n",
    "    model.compile(loss='sparse_categorical_crossentropy',\n",
    "                  optimizer='adam',metrics=['accuracy'])\n",
    "    return model\n",
    "cnn_model=cnn_model()"
   ]
  },
  {
   "cell_type": "code",
   "execution_count": 15,
   "metadata": {
    "_kg_hide-output": true,
    "execution": {
     "iopub.execute_input": "2021-02-18T18:23:32.006592Z",
     "iopub.status.busy": "2021-02-18T18:23:32.005727Z",
     "iopub.status.idle": "2021-02-18T18:26:53.350390Z",
     "shell.execute_reply": "2021-02-18T18:26:53.349354Z"
    },
    "papermill": {
     "duration": 201.446604,
     "end_time": "2021-02-18T18:26:53.350542",
     "exception": false,
     "start_time": "2021-02-18T18:23:31.903938",
     "status": "completed"
    },
    "tags": []
   },
   "outputs": [
    {
     "name": "stdout",
     "output_type": "stream",
     "text": [
      "Epoch 1/100\n",
      "\n",
      "Epoch 00001: val_accuracy improved from -inf to 0.10593, saving model to /tmp/checkpoint\n",
      "30/30 - 3s - loss: 2.3026 - accuracy: 0.1112 - val_loss: 2.2972 - val_accuracy: 0.1059 - lr: 0.0010\n",
      "Epoch 2/100\n",
      "\n",
      "Epoch 00002: val_accuracy improved from 0.10593 to 0.16525, saving model to /tmp/checkpoint\n",
      "30/30 - 3s - loss: 2.2799 - accuracy: 0.1450 - val_loss: 2.2620 - val_accuracy: 0.1653 - lr: 0.0010\n",
      "Epoch 3/100\n",
      "\n",
      "Epoch 00003: val_accuracy improved from 0.16525 to 0.20763, saving model to /tmp/checkpoint\n",
      "30/30 - 3s - loss: 2.2412 - accuracy: 0.1465 - val_loss: 2.1882 - val_accuracy: 0.2076 - lr: 0.0010\n",
      "Epoch 4/100\n",
      "\n",
      "Epoch 00004: val_accuracy improved from 0.20763 to 0.21610, saving model to /tmp/checkpoint\n",
      "30/30 - 3s - loss: 2.1658 - accuracy: 0.1935 - val_loss: 2.1198 - val_accuracy: 0.2161 - lr: 0.0010\n",
      "Epoch 5/100\n",
      "\n",
      "Epoch 00005: val_accuracy improved from 0.21610 to 0.26271, saving model to /tmp/checkpoint\n",
      "30/30 - 3s - loss: 2.0924 - accuracy: 0.2177 - val_loss: 2.0394 - val_accuracy: 0.2627 - lr: 0.0010\n",
      "Epoch 6/100\n",
      "\n",
      "Epoch 00006: val_accuracy improved from 0.26271 to 0.30508, saving model to /tmp/checkpoint\n",
      "30/30 - 3s - loss: 2.0115 - accuracy: 0.2393 - val_loss: 2.0366 - val_accuracy: 0.3051 - lr: 0.0010\n",
      "Epoch 7/100\n",
      "\n",
      "Epoch 00007: val_accuracy did not improve from 0.30508\n",
      "30/30 - 3s - loss: 1.9414 - accuracy: 0.2557 - val_loss: 1.9949 - val_accuracy: 0.2034 - lr: 0.0010\n",
      "Epoch 8/100\n",
      "\n",
      "Epoch 00008: val_accuracy did not improve from 0.30508\n",
      "30/30 - 3s - loss: 1.9311 - accuracy: 0.2699 - val_loss: 1.8729 - val_accuracy: 0.3051 - lr: 0.0010\n",
      "Epoch 9/100\n",
      "\n",
      "Epoch 00009: val_accuracy improved from 0.30508 to 0.33898, saving model to /tmp/checkpoint\n",
      "30/30 - 3s - loss: 1.8625 - accuracy: 0.2910 - val_loss: 1.7709 - val_accuracy: 0.3390 - lr: 0.0010\n",
      "Epoch 10/100\n",
      "\n",
      "Epoch 00010: val_accuracy did not improve from 0.33898\n",
      "30/30 - 3s - loss: 1.8075 - accuracy: 0.3021 - val_loss: 1.7309 - val_accuracy: 0.3051 - lr: 0.0010\n",
      "Epoch 11/100\n",
      "\n",
      "Epoch 00011: val_accuracy improved from 0.33898 to 0.36017, saving model to /tmp/checkpoint\n",
      "30/30 - 3s - loss: 1.7897 - accuracy: 0.3179 - val_loss: 1.7447 - val_accuracy: 0.3602 - lr: 0.0010\n",
      "Epoch 12/100\n",
      "\n",
      "Epoch 00012: val_accuracy did not improve from 0.36017\n",
      "30/30 - 3s - loss: 1.7670 - accuracy: 0.3384 - val_loss: 2.0455 - val_accuracy: 0.2246 - lr: 0.0010\n",
      "Epoch 13/100\n",
      "\n",
      "Epoch 00013: val_accuracy improved from 0.36017 to 0.36441, saving model to /tmp/checkpoint\n",
      "30/30 - 3s - loss: 1.7435 - accuracy: 0.3274 - val_loss: 1.7053 - val_accuracy: 0.3644 - lr: 0.0010\n",
      "Epoch 14/100\n",
      "\n",
      "Epoch 00014: val_accuracy improved from 0.36441 to 0.37712, saving model to /tmp/checkpoint\n",
      "30/30 - 3s - loss: 1.6925 - accuracy: 0.3479 - val_loss: 1.7262 - val_accuracy: 0.3771 - lr: 0.0010\n",
      "Epoch 15/100\n",
      "\n",
      "Epoch 00015: val_accuracy improved from 0.37712 to 0.39831, saving model to /tmp/checkpoint\n",
      "30/30 - 3s - loss: 1.6729 - accuracy: 0.3606 - val_loss: 1.6431 - val_accuracy: 0.3983 - lr: 0.0010\n",
      "Epoch 16/100\n",
      "\n",
      "Epoch 00016: val_accuracy did not improve from 0.39831\n",
      "30/30 - 3s - loss: 1.6546 - accuracy: 0.3848 - val_loss: 1.7090 - val_accuracy: 0.3856 - lr: 0.0010\n",
      "Epoch 17/100\n",
      "\n",
      "Epoch 00017: val_accuracy did not improve from 0.39831\n",
      "30/30 - 3s - loss: 1.6593 - accuracy: 0.3780 - val_loss: 1.6978 - val_accuracy: 0.3390 - lr: 0.0010\n",
      "Epoch 18/100\n",
      "\n",
      "Epoch 00018: val_accuracy did not improve from 0.39831\n",
      "30/30 - 3s - loss: 1.5839 - accuracy: 0.4033 - val_loss: 1.6040 - val_accuracy: 0.3771 - lr: 0.0010\n",
      "Epoch 19/100\n",
      "\n",
      "Epoch 00019: val_accuracy improved from 0.39831 to 0.44068, saving model to /tmp/checkpoint\n",
      "30/30 - 3s - loss: 1.5163 - accuracy: 0.4518 - val_loss: 1.5657 - val_accuracy: 0.4407 - lr: 0.0010\n",
      "Epoch 20/100\n",
      "\n",
      "Epoch 00020: val_accuracy did not improve from 0.44068\n",
      "30/30 - 3s - loss: 1.4887 - accuracy: 0.4475 - val_loss: 1.5450 - val_accuracy: 0.4322 - lr: 0.0010\n",
      "Epoch 21/100\n",
      "\n",
      "Epoch 00021: val_accuracy did not improve from 0.44068\n",
      "30/30 - 3s - loss: 1.4456 - accuracy: 0.4723 - val_loss: 1.6162 - val_accuracy: 0.4153 - lr: 0.0010\n",
      "Epoch 22/100\n",
      "\n",
      "Epoch 00022: val_accuracy did not improve from 0.44068\n",
      "30/30 - 3s - loss: 1.4113 - accuracy: 0.4755 - val_loss: 1.5907 - val_accuracy: 0.4364 - lr: 0.0010\n",
      "Epoch 23/100\n",
      "\n",
      "Epoch 00023: val_accuracy did not improve from 0.44068\n",
      "30/30 - 2s - loss: 1.4120 - accuracy: 0.4718 - val_loss: 1.5287 - val_accuracy: 0.4322 - lr: 0.0010\n",
      "Epoch 24/100\n",
      "\n",
      "Epoch 00024: val_accuracy improved from 0.44068 to 0.49576, saving model to /tmp/checkpoint\n",
      "30/30 - 3s - loss: 1.3683 - accuracy: 0.5013 - val_loss: 1.5191 - val_accuracy: 0.4958 - lr: 0.0010\n",
      "Epoch 25/100\n",
      "\n",
      "Epoch 00025: val_accuracy did not improve from 0.49576\n",
      "30/30 - 3s - loss: 1.3312 - accuracy: 0.5061 - val_loss: 1.4690 - val_accuracy: 0.4703 - lr: 0.0010\n",
      "Epoch 26/100\n",
      "\n",
      "Epoch 00026: val_accuracy did not improve from 0.49576\n",
      "30/30 - 3s - loss: 1.3372 - accuracy: 0.4945 - val_loss: 1.5088 - val_accuracy: 0.4746 - lr: 0.0010\n",
      "Epoch 27/100\n",
      "\n",
      "Epoch 00027: val_accuracy did not improve from 0.49576\n",
      "30/30 - 3s - loss: 1.2940 - accuracy: 0.5240 - val_loss: 1.5615 - val_accuracy: 0.4873 - lr: 0.0010\n",
      "Epoch 28/100\n",
      "\n",
      "Epoch 00028: val_accuracy did not improve from 0.49576\n",
      "30/30 - 3s - loss: 1.2652 - accuracy: 0.5345 - val_loss: 1.4620 - val_accuracy: 0.4873 - lr: 0.0010\n",
      "Epoch 29/100\n",
      "\n",
      "Epoch 00029: val_accuracy did not improve from 0.49576\n",
      "30/30 - 3s - loss: 1.2630 - accuracy: 0.5182 - val_loss: 1.4662 - val_accuracy: 0.4915 - lr: 0.0010\n",
      "Epoch 30/100\n",
      "\n",
      "Epoch 00030: val_accuracy did not improve from 0.49576\n",
      "30/30 - 2s - loss: 1.2505 - accuracy: 0.5424 - val_loss: 1.4702 - val_accuracy: 0.4788 - lr: 0.0010\n",
      "Epoch 31/100\n",
      "\n",
      "Epoch 00031: val_accuracy improved from 0.49576 to 0.50847, saving model to /tmp/checkpoint\n",
      "30/30 - 3s - loss: 1.2346 - accuracy: 0.5393 - val_loss: 1.4138 - val_accuracy: 0.5085 - lr: 0.0010\n",
      "Epoch 32/100\n",
      "\n",
      "Epoch 00032: val_accuracy improved from 0.50847 to 0.52119, saving model to /tmp/checkpoint\n",
      "30/30 - 3s - loss: 1.1732 - accuracy: 0.5793 - val_loss: 1.4083 - val_accuracy: 0.5212 - lr: 0.0010\n",
      "Epoch 33/100\n",
      "\n",
      "Epoch 00033: val_accuracy did not improve from 0.52119\n",
      "30/30 - 3s - loss: 1.1797 - accuracy: 0.5625 - val_loss: 1.4751 - val_accuracy: 0.5127 - lr: 0.0010\n",
      "Epoch 34/100\n",
      "\n",
      "Epoch 00034: val_accuracy improved from 0.52119 to 0.52542, saving model to /tmp/checkpoint\n",
      "30/30 - 3s - loss: 1.1138 - accuracy: 0.5872 - val_loss: 1.4820 - val_accuracy: 0.5254 - lr: 0.0010\n",
      "Epoch 35/100\n",
      "\n",
      "Epoch 00035: val_accuracy improved from 0.52542 to 0.56356, saving model to /tmp/checkpoint\n",
      "30/30 - 3s - loss: 1.0902 - accuracy: 0.6009 - val_loss: 1.3694 - val_accuracy: 0.5636 - lr: 0.0010\n",
      "Epoch 36/100\n",
      "\n",
      "Epoch 00036: val_accuracy did not improve from 0.56356\n",
      "30/30 - 3s - loss: 1.1245 - accuracy: 0.5799 - val_loss: 1.3874 - val_accuracy: 0.5551 - lr: 0.0010\n",
      "Epoch 37/100\n",
      "\n",
      "Epoch 00037: val_accuracy did not improve from 0.56356\n",
      "30/30 - 3s - loss: 1.0802 - accuracy: 0.5973 - val_loss: 1.4001 - val_accuracy: 0.5381 - lr: 0.0010\n",
      "Epoch 38/100\n",
      "\n",
      "Epoch 00038: val_accuracy did not improve from 0.56356\n",
      "30/30 - 3s - loss: 1.0496 - accuracy: 0.6104 - val_loss: 1.5511 - val_accuracy: 0.4915 - lr: 0.0010\n",
      "Epoch 39/100\n",
      "\n",
      "Epoch 00039: val_accuracy did not improve from 0.56356\n",
      "30/30 - 3s - loss: 1.0771 - accuracy: 0.6004 - val_loss: 1.4224 - val_accuracy: 0.5254 - lr: 0.0010\n",
      "Epoch 40/100\n",
      "\n",
      "Epoch 00040: val_accuracy did not improve from 0.56356\n",
      "\n",
      "Epoch 00040: ReduceLROnPlateau reducing learning rate to 0.000800000037997961.\n",
      "30/30 - 3s - loss: 1.0531 - accuracy: 0.6210 - val_loss: 1.4203 - val_accuracy: 0.5466 - lr: 0.0010\n",
      "Epoch 41/100\n",
      "\n",
      "Epoch 00041: val_accuracy did not improve from 0.56356\n",
      "30/30 - 2s - loss: 1.0328 - accuracy: 0.6041 - val_loss: 1.4476 - val_accuracy: 0.5636 - lr: 8.0000e-04\n",
      "Epoch 42/100\n",
      "\n",
      "Epoch 00042: val_accuracy did not improve from 0.56356\n",
      "30/30 - 3s - loss: 0.9888 - accuracy: 0.6299 - val_loss: 1.4126 - val_accuracy: 0.5593 - lr: 8.0000e-04\n",
      "Epoch 43/100\n",
      "\n",
      "Epoch 00043: val_accuracy did not improve from 0.56356\n",
      "30/30 - 3s - loss: 0.9752 - accuracy: 0.6284 - val_loss: 1.4344 - val_accuracy: 0.5551 - lr: 8.0000e-04\n",
      "Epoch 44/100\n",
      "\n",
      "Epoch 00044: val_accuracy did not improve from 0.56356\n",
      "30/30 - 3s - loss: 0.9318 - accuracy: 0.6505 - val_loss: 1.4313 - val_accuracy: 0.5424 - lr: 8.0000e-04\n",
      "Epoch 45/100\n",
      "\n",
      "Epoch 00045: val_accuracy did not improve from 0.56356\n",
      "\n",
      "Epoch 00045: ReduceLROnPlateau reducing learning rate to 0.0006400000303983689.\n",
      "30/30 - 3s - loss: 0.9156 - accuracy: 0.6668 - val_loss: 1.4105 - val_accuracy: 0.5551 - lr: 8.0000e-04\n",
      "Epoch 46/100\n",
      "\n",
      "Epoch 00046: val_accuracy improved from 0.56356 to 0.57203, saving model to /tmp/checkpoint\n",
      "30/30 - 3s - loss: 0.9030 - accuracy: 0.6616 - val_loss: 1.3739 - val_accuracy: 0.5720 - lr: 6.4000e-04\n",
      "Epoch 47/100\n",
      "\n",
      "Epoch 00047: val_accuracy did not improve from 0.57203\n",
      "30/30 - 3s - loss: 0.8688 - accuracy: 0.6726 - val_loss: 1.4787 - val_accuracy: 0.5381 - lr: 6.4000e-04\n",
      "Epoch 48/100\n",
      "\n",
      "Epoch 00048: val_accuracy did not improve from 0.57203\n",
      "30/30 - 3s - loss: 0.9118 - accuracy: 0.6584 - val_loss: 1.4115 - val_accuracy: 0.5508 - lr: 6.4000e-04\n",
      "Epoch 49/100\n",
      "\n",
      "Epoch 00049: val_accuracy improved from 0.57203 to 0.61017, saving model to /tmp/checkpoint\n",
      "30/30 - 3s - loss: 0.8653 - accuracy: 0.6858 - val_loss: 1.3336 - val_accuracy: 0.6102 - lr: 6.4000e-04\n",
      "Epoch 50/100\n",
      "\n",
      "Epoch 00050: val_accuracy did not improve from 0.61017\n",
      "30/30 - 3s - loss: 0.8460 - accuracy: 0.6906 - val_loss: 1.4099 - val_accuracy: 0.5763 - lr: 6.4000e-04\n",
      "Epoch 51/100\n",
      "\n",
      "Epoch 00051: val_accuracy did not improve from 0.61017\n",
      "30/30 - 3s - loss: 0.8338 - accuracy: 0.6890 - val_loss: 1.3736 - val_accuracy: 0.5847 - lr: 6.4000e-04\n",
      "Epoch 52/100\n",
      "\n",
      "Epoch 00052: val_accuracy did not improve from 0.61017\n",
      "30/30 - 3s - loss: 0.8330 - accuracy: 0.6848 - val_loss: 1.3673 - val_accuracy: 0.5805 - lr: 6.4000e-04\n",
      "Epoch 53/100\n",
      "\n",
      "Epoch 00053: val_accuracy did not improve from 0.61017\n",
      "30/30 - 3s - loss: 0.8351 - accuracy: 0.6969 - val_loss: 1.4104 - val_accuracy: 0.5763 - lr: 6.4000e-04\n",
      "Epoch 54/100\n",
      "\n",
      "Epoch 00054: val_accuracy did not improve from 0.61017\n",
      "\n",
      "Epoch 00054: ReduceLROnPlateau reducing learning rate to 0.0005120000336319208.\n",
      "30/30 - 3s - loss: 0.8742 - accuracy: 0.6753 - val_loss: 1.4724 - val_accuracy: 0.5339 - lr: 6.4000e-04\n",
      "Epoch 55/100\n",
      "\n",
      "Epoch 00055: val_accuracy did not improve from 0.61017\n",
      "30/30 - 3s - loss: 0.8279 - accuracy: 0.6943 - val_loss: 1.3254 - val_accuracy: 0.6059 - lr: 5.1200e-04\n",
      "Epoch 56/100\n",
      "\n",
      "Epoch 00056: val_accuracy did not improve from 0.61017\n",
      "30/30 - 2s - loss: 0.7816 - accuracy: 0.7059 - val_loss: 1.3632 - val_accuracy: 0.5805 - lr: 5.1200e-04\n",
      "Epoch 57/100\n",
      "\n",
      "Epoch 00057: val_accuracy did not improve from 0.61017\n",
      "30/30 - 3s - loss: 0.7741 - accuracy: 0.7095 - val_loss: 1.3475 - val_accuracy: 0.5932 - lr: 5.1200e-04\n",
      "Epoch 58/100\n",
      "\n",
      "Epoch 00058: val_accuracy did not improve from 0.61017\n",
      "30/30 - 3s - loss: 0.7876 - accuracy: 0.7180 - val_loss: 1.4116 - val_accuracy: 0.5805 - lr: 5.1200e-04\n",
      "Epoch 59/100\n",
      "\n",
      "Epoch 00059: val_accuracy did not improve from 0.61017\n",
      "30/30 - 3s - loss: 0.7691 - accuracy: 0.7111 - val_loss: 1.4406 - val_accuracy: 0.5424 - lr: 5.1200e-04\n",
      "Epoch 60/100\n",
      "\n",
      "Epoch 00060: val_accuracy did not improve from 0.61017\n",
      "\n",
      "Epoch 00060: ReduceLROnPlateau reducing learning rate to 0.00040960004553198815.\n",
      "30/30 - 3s - loss: 0.7787 - accuracy: 0.7153 - val_loss: 1.3873 - val_accuracy: 0.6059 - lr: 5.1200e-04\n",
      "Epoch 61/100\n",
      "\n",
      "Epoch 00061: val_accuracy did not improve from 0.61017\n",
      "30/30 - 3s - loss: 0.7387 - accuracy: 0.7296 - val_loss: 1.3316 - val_accuracy: 0.5847 - lr: 4.0960e-04\n",
      "Epoch 62/100\n",
      "\n",
      "Epoch 00062: val_accuracy did not improve from 0.61017\n",
      "30/30 - 3s - loss: 0.7132 - accuracy: 0.7380 - val_loss: 1.3953 - val_accuracy: 0.5805 - lr: 4.0960e-04\n",
      "Epoch 63/100\n",
      "\n",
      "Epoch 00063: val_accuracy did not improve from 0.61017\n",
      "30/30 - 3s - loss: 0.7104 - accuracy: 0.7343 - val_loss: 1.3290 - val_accuracy: 0.5932 - lr: 4.0960e-04\n",
      "Epoch 64/100\n",
      "\n",
      "Epoch 00064: val_accuracy did not improve from 0.61017\n",
      "30/30 - 3s - loss: 0.7068 - accuracy: 0.7338 - val_loss: 1.3825 - val_accuracy: 0.5720 - lr: 4.0960e-04\n",
      "Epoch 65/100\n",
      "\n",
      "Epoch 00065: val_accuracy did not improve from 0.61017\n",
      "\n",
      "Epoch 00065: ReduceLROnPlateau reducing learning rate to 0.00032768002711236477.\n",
      "30/30 - 3s - loss: 0.7015 - accuracy: 0.7354 - val_loss: 1.3469 - val_accuracy: 0.6059 - lr: 4.0960e-04\n",
      "Epoch 66/100\n",
      "\n",
      "Epoch 00066: val_accuracy did not improve from 0.61017\n",
      "30/30 - 3s - loss: 0.6929 - accuracy: 0.7422 - val_loss: 1.3537 - val_accuracy: 0.6017 - lr: 3.2768e-04\n",
      "Epoch 67/100\n",
      "\n",
      "Epoch 00067: val_accuracy did not improve from 0.61017\n",
      "30/30 - 3s - loss: 0.6992 - accuracy: 0.7343 - val_loss: 1.3551 - val_accuracy: 0.6102 - lr: 3.2768e-04\n",
      "Epoch 68/100\n",
      "\n",
      "Epoch 00068: val_accuracy did not improve from 0.61017\n",
      "30/30 - 3s - loss: 0.7158 - accuracy: 0.7312 - val_loss: 1.3740 - val_accuracy: 0.5890 - lr: 3.2768e-04\n",
      "Epoch 69/100\n",
      "\n",
      "Epoch 00069: val_accuracy did not improve from 0.61017\n",
      "30/30 - 3s - loss: 0.6696 - accuracy: 0.7496 - val_loss: 1.3577 - val_accuracy: 0.5805 - lr: 3.2768e-04\n",
      "Epoch 70/100\n",
      "\n",
      "Epoch 00070: val_accuracy did not improve from 0.61017\n",
      "\n",
      "Epoch 00070: ReduceLROnPlateau reducing learning rate to 0.0002621440216898918.\n",
      "30/30 - 3s - loss: 0.6874 - accuracy: 0.7475 - val_loss: 1.3403 - val_accuracy: 0.5932 - lr: 3.2768e-04\n",
      "Epoch 71/100\n",
      "\n",
      "Epoch 00071: val_accuracy did not improve from 0.61017\n",
      "30/30 - 3s - loss: 0.6693 - accuracy: 0.7565 - val_loss: 1.3631 - val_accuracy: 0.5805 - lr: 2.6214e-04\n",
      "Epoch 72/100\n",
      "\n",
      "Epoch 00072: val_accuracy did not improve from 0.61017\n",
      "30/30 - 3s - loss: 0.6679 - accuracy: 0.7454 - val_loss: 1.4139 - val_accuracy: 0.5763 - lr: 2.6214e-04\n",
      "Epoch 73/100\n",
      "\n",
      "Epoch 00073: val_accuracy improved from 0.61017 to 0.61441, saving model to /tmp/checkpoint\n",
      "30/30 - 3s - loss: 0.6578 - accuracy: 0.7633 - val_loss: 1.3451 - val_accuracy: 0.6144 - lr: 2.6214e-04\n",
      "Epoch 74/100\n",
      "\n",
      "Epoch 00074: val_accuracy did not improve from 0.61441\n",
      "30/30 - 3s - loss: 0.6555 - accuracy: 0.7512 - val_loss: 1.3754 - val_accuracy: 0.5847 - lr: 2.6214e-04\n",
      "Epoch 75/100\n",
      "\n",
      "Epoch 00075: val_accuracy did not improve from 0.61441\n",
      "\n",
      "Epoch 00075: ReduceLROnPlateau reducing learning rate to 0.00020971521735191345.\n",
      "30/30 - 3s - loss: 0.6611 - accuracy: 0.7517 - val_loss: 1.4647 - val_accuracy: 0.5678 - lr: 2.6214e-04\n",
      "Epoch 00075: early stopping\n"
     ]
    }
   ],
   "source": [
    "model_weights='/tmp/checkpoint'\n",
    "early_stopping=tkc.EarlyStopping(\n",
    "    monitor='val_loss',patience=20,verbose=2)\n",
    "checkpointer=tkc.ModelCheckpoint(\n",
    "    filepath=model_weights,verbose=2,save_weights_only=True,\n",
    "    monitor='val_accuracy',mode='max',save_best_only=True)\n",
    "lr_reduction=tkc.ReduceLROnPlateau(\n",
    "    monitor='val_loss',verbose=2,patience=5,factor=.8)\n",
    "history=cnn_model.fit(\n",
    "    x_train,y_train,epochs=100,batch_size=64,verbose=2,\n",
    "    validation_data=(x_valid,y_valid),\n",
    "    callbacks=[checkpointer,early_stopping,lr_reduction])"
   ]
  },
  {
   "cell_type": "code",
   "execution_count": 16,
   "metadata": {
    "execution": {
     "iopub.execute_input": "2021-02-18T18:26:53.650800Z",
     "iopub.status.busy": "2021-02-18T18:26:53.650036Z",
     "iopub.status.idle": "2021-02-18T18:26:53.965511Z",
     "shell.execute_reply": "2021-02-18T18:26:53.964920Z"
    },
    "papermill": {
     "duration": 0.473673,
     "end_time": "2021-02-18T18:26:53.965636",
     "exception": false,
     "start_time": "2021-02-18T18:26:53.491963",
     "status": "completed"
    },
    "tags": []
   },
   "outputs": [
    {
     "data": {
      "image/png": "[encoded data removed]",
      "text/plain": [
       "<Figure size 576x288 with 2 Axes>"
      ]
     },
     "metadata": {
      "needs_background": "light"
     },
     "output_type": "display_data"
    }
   ],
   "source": [
    "def history_plot(fit_history):\n",
    "    pl.figure(figsize=(8,4)); pl.subplot(211)\n",
    "    keys=list(fit_history.history.keys())[0:4]\n",
    "    pl.plot(fit_history.history[keys[0]],\n",
    "            color='slategray',label='train')\n",
    "    pl.plot(fit_history.history[keys[2]],\n",
    "            color='#ff33aa',label='valid')\n",
    "    pl.xlabel('epochs'); pl.ylabel('loss')\n",
    "    pl.legend(); pl.grid()\n",
    "    pl.title('loss function')     \n",
    "    pl.subplot(212)\n",
    "    pl.plot(fit_history.history[keys[1]],\n",
    "            color='slategray',label='train')\n",
    "    pl.plot(fit_history.history[keys[3]],\n",
    "            color='#ff33aa',label='valid')\n",
    "    pl.xlabel('epochs'); pl.ylabel('accuracy')    \n",
    "    pl.legend(); pl.grid()\n",
    "    pl.title('accuracy'); pl.show()\n",
    "history_plot(history)"
   ]
  },
  {
   "cell_type": "code",
   "execution_count": 17,
   "metadata": {
    "execution": {
     "iopub.execute_input": "2021-02-18T18:26:54.260173Z",
     "iopub.status.busy": "2021-02-18T18:26:54.259114Z",
     "iopub.status.idle": "2021-02-18T18:26:54.443183Z",
     "shell.execute_reply": "2021-02-18T18:26:54.442622Z"
    },
    "papermill": {
     "duration": 0.338467,
     "end_time": "2021-02-18T18:26:54.443306",
     "exception": false,
     "start_time": "2021-02-18T18:26:54.104839",
     "status": "completed"
    },
    "tags": []
   },
   "outputs": [
    {
     "name": "stdout",
     "output_type": "stream",
     "text": [
      "8/8 [==============================] - 0s 11ms/step - loss: 1.1562 - accuracy: 0.6949\n"
     ]
    },
    {
     "data": {
      "text/plain": [
       "[1.1562238931655884, 0.694915235042572]"
      ]
     },
     "execution_count": 17,
     "metadata": {},
     "output_type": "execute_result"
    }
   ],
   "source": [
    "cnn_model.load_weights(model_weights)\n",
    "cnn_model.evaluate(x_test,y_test)"
   ]
  },
  {
   "cell_type": "code",
   "execution_count": 18,
   "metadata": {
    "execution": {
     "iopub.execute_input": "2021-02-18T18:26:54.744757Z",
     "iopub.status.busy": "2021-02-18T18:26:54.737192Z",
     "iopub.status.idle": "2021-02-18T18:26:54.900279Z",
     "shell.execute_reply": "2021-02-18T18:26:54.899562Z"
    },
    "papermill": {
     "duration": 0.314212,
     "end_time": "2021-02-18T18:26:54.900408",
     "exception": false,
     "start_time": "2021-02-18T18:26:54.586196",
     "status": "completed"
    },
    "tags": []
   },
   "outputs": [],
   "source": [
    "batch_size=64; img_size=32; n_classes=10; epochs=30\n",
    "base_model=tf.keras.Sequential([\n",
    "    tf.keras.Input((img_size,img_size,3),name='input'),\n",
    "    tf.keras.layers.Conv2D(32,(5,5),padding='same'),\n",
    "    tf.keras.layers.Activation('relu'),\n",
    "    tf.keras.layers.MaxPooling2D(pool_size=(2,2)),\n",
    "    tf.keras.layers.Dropout(.25),\n",
    "    tf.keras.layers.Conv2D(196,(5,5)),\n",
    "    tf.keras.layers.Activation('relu'),    \n",
    "    tf.keras.layers.MaxPooling2D(pool_size=(2,2)),\n",
    "    tf.keras.layers.Dropout(.25),\n",
    "    tf.keras.layers.GlobalMaxPooling2D(),    \n",
    "    tf.keras.layers.Dense(512),\n",
    "    tf.keras.layers.Activation('relu'),\n",
    "    tf.keras.layers.Dropout(.25),\n",
    "    tf.keras.layers.Dense(128),\n",
    "    tf.keras.layers.Activation('relu'),\n",
    "    tf.keras.layers.Dropout(.25),\n",
    "    tf.keras.layers.Dense(n_classes,\n",
    "                          activation='softmax')\n",
    "])\n",
    "adv_config=nsl.configs\\\n",
    ".make_adv_reg_config(multiplier=.2,adv_step_size=.05)\n",
    "adv_model=nsl.keras\\\n",
    ".AdversarialRegularization(base_model,adv_config=adv_config)\n",
    "adv_model.compile(optimizer='adam',\n",
    "                  loss='sparse_categorical_crossentropy',\n",
    "                  metrics=['accuracy'])"
   ]
  },
  {
   "cell_type": "code",
   "execution_count": 19,
   "metadata": {
    "_kg_hide-output": true,
    "execution": {
     "iopub.execute_input": "2021-02-18T18:26:55.193489Z",
     "iopub.status.busy": "2021-02-18T18:26:55.192397Z",
     "iopub.status.idle": "2021-02-18T18:31:37.430574Z",
     "shell.execute_reply": "2021-02-18T18:31:37.431217Z"
    },
    "papermill": {
     "duration": 282.389215,
     "end_time": "2021-02-18T18:31:37.431400",
     "exception": false,
     "start_time": "2021-02-18T18:26:55.042185",
     "status": "completed"
    },
    "tags": []
   },
   "outputs": [
    {
     "name": "stdout",
     "output_type": "stream",
     "text": [
      "Epoch 1/30\n",
      "30/30 - 9s - loss: 2.7771 - sparse_categorical_crossentropy: 2.3143 - sparse_categorical_accuracy: 0.1054 - scaled_adversarial_loss: 0.4628 - val_loss: 2.7612 - val_sparse_categorical_crossentropy: 2.3008 - val_sparse_categorical_accuracy: 0.1146 - val_scaled_adversarial_loss: 0.4604\n",
      "Epoch 2/30\n",
      "30/30 - 9s - loss: 2.7515 - sparse_categorical_crossentropy: 2.2934 - sparse_categorical_accuracy: 0.1239 - scaled_adversarial_loss: 0.4582 - val_loss: 2.7304 - val_sparse_categorical_crossentropy: 2.2748 - val_sparse_categorical_accuracy: 0.1823 - val_scaled_adversarial_loss: 0.4556\n",
      "Epoch 3/30\n",
      "30/30 - 9s - loss: 2.6518 - sparse_categorical_crossentropy: 2.2091 - sparse_categorical_accuracy: 0.1650 - scaled_adversarial_loss: 0.4428 - val_loss: 2.5163 - val_sparse_categorical_crossentropy: 2.0943 - val_sparse_categorical_accuracy: 0.2552 - val_scaled_adversarial_loss: 0.4220\n",
      "Epoch 4/30\n",
      "30/30 - 8s - loss: 2.4518 - sparse_categorical_crossentropy: 2.0375 - sparse_categorical_accuracy: 0.2362 - scaled_adversarial_loss: 0.4142 - val_loss: 2.4107 - val_sparse_categorical_crossentropy: 2.0050 - val_sparse_categorical_accuracy: 0.2865 - val_scaled_adversarial_loss: 0.4057\n",
      "Epoch 5/30\n",
      "30/30 - 9s - loss: 2.3079 - sparse_categorical_crossentropy: 1.9210 - sparse_categorical_accuracy: 0.2852 - scaled_adversarial_loss: 0.3869 - val_loss: 2.3065 - val_sparse_categorical_crossentropy: 1.9173 - val_sparse_categorical_accuracy: 0.3125 - val_scaled_adversarial_loss: 0.3891\n",
      "Epoch 6/30\n",
      "30/30 - 9s - loss: 2.1732 - sparse_categorical_crossentropy: 1.8074 - sparse_categorical_accuracy: 0.3168 - scaled_adversarial_loss: 0.3658 - val_loss: 2.1803 - val_sparse_categorical_crossentropy: 1.8114 - val_sparse_categorical_accuracy: 0.3698 - val_scaled_adversarial_loss: 0.3689\n",
      "Epoch 7/30\n",
      "30/30 - 9s - loss: 2.0374 - sparse_categorical_crossentropy: 1.6886 - sparse_categorical_accuracy: 0.3600 - scaled_adversarial_loss: 0.3488 - val_loss: 2.1125 - val_sparse_categorical_crossentropy: 1.7538 - val_sparse_categorical_accuracy: 0.3802 - val_scaled_adversarial_loss: 0.3587\n",
      "Epoch 8/30\n",
      "30/30 - 9s - loss: 1.9155 - sparse_categorical_crossentropy: 1.5913 - sparse_categorical_accuracy: 0.4191 - scaled_adversarial_loss: 0.3242 - val_loss: 2.0652 - val_sparse_categorical_crossentropy: 1.7136 - val_sparse_categorical_accuracy: 0.4219 - val_scaled_adversarial_loss: 0.3516\n",
      "Epoch 9/30\n",
      "30/30 - 8s - loss: 1.7997 - sparse_categorical_crossentropy: 1.4950 - sparse_categorical_accuracy: 0.4396 - scaled_adversarial_loss: 0.3047 - val_loss: 2.1932 - val_sparse_categorical_crossentropy: 1.8189 - val_sparse_categorical_accuracy: 0.4062 - val_scaled_adversarial_loss: 0.3743\n",
      "Epoch 10/30\n",
      "30/30 - 9s - loss: 1.7242 - sparse_categorical_crossentropy: 1.4311 - sparse_categorical_accuracy: 0.4723 - scaled_adversarial_loss: 0.2931 - val_loss: 2.0572 - val_sparse_categorical_crossentropy: 1.7047 - val_sparse_categorical_accuracy: 0.4062 - val_scaled_adversarial_loss: 0.3526\n",
      "Epoch 11/30\n",
      "30/30 - 9s - loss: 1.6240 - sparse_categorical_crossentropy: 1.3452 - sparse_categorical_accuracy: 0.5082 - scaled_adversarial_loss: 0.2788 - val_loss: 2.1035 - val_sparse_categorical_crossentropy: 1.7428 - val_sparse_categorical_accuracy: 0.4167 - val_scaled_adversarial_loss: 0.3607\n",
      "Epoch 12/30\n",
      "30/30 - 9s - loss: 1.6077 - sparse_categorical_crossentropy: 1.3360 - sparse_categorical_accuracy: 0.4976 - scaled_adversarial_loss: 0.2717 - val_loss: 1.9975 - val_sparse_categorical_crossentropy: 1.6535 - val_sparse_categorical_accuracy: 0.4219 - val_scaled_adversarial_loss: 0.3440\n",
      "Epoch 13/30\n",
      "30/30 - 8s - loss: 1.4948 - sparse_categorical_crossentropy: 1.2352 - sparse_categorical_accuracy: 0.5377 - scaled_adversarial_loss: 0.2596 - val_loss: 2.1471 - val_sparse_categorical_crossentropy: 1.7764 - val_sparse_categorical_accuracy: 0.4062 - val_scaled_adversarial_loss: 0.3706\n",
      "Epoch 14/30\n",
      "30/30 - 9s - loss: 1.4167 - sparse_categorical_crossentropy: 1.1762 - sparse_categorical_accuracy: 0.5677 - scaled_adversarial_loss: 0.2405 - val_loss: 2.0846 - val_sparse_categorical_crossentropy: 1.7232 - val_sparse_categorical_accuracy: 0.4271 - val_scaled_adversarial_loss: 0.3614\n",
      "Epoch 15/30\n",
      "30/30 - 9s - loss: 1.3275 - sparse_categorical_crossentropy: 1.1022 - sparse_categorical_accuracy: 0.5999 - scaled_adversarial_loss: 0.2252 - val_loss: 1.8422 - val_sparse_categorical_crossentropy: 1.5201 - val_sparse_categorical_accuracy: 0.4583 - val_scaled_adversarial_loss: 0.3220\n",
      "Epoch 16/30\n",
      "30/30 - 9s - loss: 1.2917 - sparse_categorical_crossentropy: 1.0664 - sparse_categorical_accuracy: 0.6073 - scaled_adversarial_loss: 0.2254 - val_loss: 1.9831 - val_sparse_categorical_crossentropy: 1.6368 - val_sparse_categorical_accuracy: 0.4427 - val_scaled_adversarial_loss: 0.3463\n",
      "Epoch 17/30\n",
      "30/30 - 9s - loss: 1.3018 - sparse_categorical_crossentropy: 1.0796 - sparse_categorical_accuracy: 0.6041 - scaled_adversarial_loss: 0.2222 - val_loss: 1.9175 - val_sparse_categorical_crossentropy: 1.5820 - val_sparse_categorical_accuracy: 0.4583 - val_scaled_adversarial_loss: 0.3355\n",
      "Epoch 18/30\n",
      "30/30 - 9s - loss: 1.3217 - sparse_categorical_crossentropy: 1.1004 - sparse_categorical_accuracy: 0.5883 - scaled_adversarial_loss: 0.2213 - val_loss: 1.7747 - val_sparse_categorical_crossentropy: 1.4627 - val_sparse_categorical_accuracy: 0.5000 - val_scaled_adversarial_loss: 0.3120\n",
      "Epoch 19/30\n",
      "30/30 - 9s - loss: 1.3337 - sparse_categorical_crossentropy: 1.1061 - sparse_categorical_accuracy: 0.5962 - scaled_adversarial_loss: 0.2277 - val_loss: 1.7452 - val_sparse_categorical_crossentropy: 1.4390 - val_sparse_categorical_accuracy: 0.5000 - val_scaled_adversarial_loss: 0.3062\n",
      "Epoch 20/30\n",
      "30/30 - 9s - loss: 1.1781 - sparse_categorical_crossentropy: 0.9784 - sparse_categorical_accuracy: 0.6410 - scaled_adversarial_loss: 0.1997 - val_loss: 1.7558 - val_sparse_categorical_crossentropy: 1.4458 - val_sparse_categorical_accuracy: 0.5312 - val_scaled_adversarial_loss: 0.3101\n",
      "Epoch 21/30\n",
      "30/30 - 9s - loss: 1.1044 - sparse_categorical_crossentropy: 0.9130 - sparse_categorical_accuracy: 0.6658 - scaled_adversarial_loss: 0.1914 - val_loss: 1.7560 - val_sparse_categorical_crossentropy: 1.4447 - val_sparse_categorical_accuracy: 0.5104 - val_scaled_adversarial_loss: 0.3113\n",
      "Epoch 22/30\n",
      "30/30 - 8s - loss: 1.0705 - sparse_categorical_crossentropy: 0.8861 - sparse_categorical_accuracy: 0.6684 - scaled_adversarial_loss: 0.1844 - val_loss: 1.7162 - val_sparse_categorical_crossentropy: 1.4109 - val_sparse_categorical_accuracy: 0.5208 - val_scaled_adversarial_loss: 0.3053\n",
      "Epoch 23/30\n",
      "30/30 - 9s - loss: 0.9899 - sparse_categorical_crossentropy: 0.8162 - sparse_categorical_accuracy: 0.7074 - scaled_adversarial_loss: 0.1737 - val_loss: 1.6990 - val_sparse_categorical_crossentropy: 1.3953 - val_sparse_categorical_accuracy: 0.5104 - val_scaled_adversarial_loss: 0.3037\n",
      "Epoch 24/30\n",
      "30/30 - 9s - loss: 0.8951 - sparse_categorical_crossentropy: 0.7366 - sparse_categorical_accuracy: 0.7254 - scaled_adversarial_loss: 0.1585 - val_loss: 1.7412 - val_sparse_categorical_crossentropy: 1.4285 - val_sparse_categorical_accuracy: 0.5052 - val_scaled_adversarial_loss: 0.3127\n",
      "Epoch 25/30\n",
      "30/30 - 8s - loss: 0.8634 - sparse_categorical_crossentropy: 0.7107 - sparse_categorical_accuracy: 0.7454 - scaled_adversarial_loss: 0.1527 - val_loss: 1.7558 - val_sparse_categorical_crossentropy: 1.4405 - val_sparse_categorical_accuracy: 0.5365 - val_scaled_adversarial_loss: 0.3154\n",
      "Epoch 26/30\n",
      "30/30 - 9s - loss: 0.8586 - sparse_categorical_crossentropy: 0.7156 - sparse_categorical_accuracy: 0.7280 - scaled_adversarial_loss: 0.1430 - val_loss: 1.7595 - val_sparse_categorical_crossentropy: 1.4427 - val_sparse_categorical_accuracy: 0.5312 - val_scaled_adversarial_loss: 0.3168\n",
      "Epoch 27/30\n",
      "30/30 - 9s - loss: 0.7665 - sparse_categorical_crossentropy: 0.6312 - sparse_categorical_accuracy: 0.7601 - scaled_adversarial_loss: 0.1354 - val_loss: 1.8053 - val_sparse_categorical_crossentropy: 1.4791 - val_sparse_categorical_accuracy: 0.4792 - val_scaled_adversarial_loss: 0.3262\n",
      "Epoch 28/30\n",
      "30/30 - 9s - loss: 0.7283 - sparse_categorical_crossentropy: 0.6009 - sparse_categorical_accuracy: 0.7765 - scaled_adversarial_loss: 0.1274 - val_loss: 1.9254 - val_sparse_categorical_crossentropy: 1.5780 - val_sparse_categorical_accuracy: 0.5052 - val_scaled_adversarial_loss: 0.3473\n",
      "Epoch 29/30\n",
      "30/30 - 9s - loss: 0.7440 - sparse_categorical_crossentropy: 0.6143 - sparse_categorical_accuracy: 0.7659 - scaled_adversarial_loss: 0.1297 - val_loss: 1.8619 - val_sparse_categorical_crossentropy: 1.5256 - val_sparse_categorical_accuracy: 0.4792 - val_scaled_adversarial_loss: 0.3363\n",
      "Epoch 30/30\n",
      "30/30 - 9s - loss: 0.7605 - sparse_categorical_crossentropy: 0.6236 - sparse_categorical_accuracy: 0.7739 - scaled_adversarial_loss: 0.1369 - val_loss: 2.2235 - val_sparse_categorical_crossentropy: 1.8257 - val_sparse_categorical_accuracy: 0.4323 - val_scaled_adversarial_loss: 0.3978\n"
     ]
    }
   ],
   "source": [
    "train=tf.data.Dataset.from_tensor_slices(\n",
    "    {'input':x_train,'label':y_train}).batch(batch_size)\n",
    "valid=tf.data.Dataset.from_tensor_slices(\n",
    "    {'input':x_valid,'label':y_valid}).batch(batch_size)\n",
    "valid_steps=x_valid.shape[0]//batch_size\n",
    "adv_model.fit(train,validation_data=valid,verbose=2,\n",
    "              validation_steps=valid_steps,epochs=epochs);"
   ]
  },
  {
   "cell_type": "code",
   "execution_count": 20,
   "metadata": {
    "execution": {
     "iopub.execute_input": "2021-02-18T18:31:37.773676Z",
     "iopub.status.busy": "2021-02-18T18:31:37.772984Z",
     "iopub.status.idle": "2021-02-18T18:31:38.693514Z",
     "shell.execute_reply": "2021-02-18T18:31:38.694048Z"
    },
    "papermill": {
     "duration": 1.088278,
     "end_time": "2021-02-18T18:31:38.694215",
     "exception": false,
     "start_time": "2021-02-18T18:31:37.605937",
     "status": "completed"
    },
    "tags": []
   },
   "outputs": [
    {
     "name": "stdout",
     "output_type": "stream",
     "text": [
      "8/8 [==============================] - 0s 61ms/step - loss: 2.0501 - sparse_categorical_crossentropy: 1.6809 - sparse_categorical_accuracy: 0.4534 - scaled_adversarial_loss: 0.3692\n"
     ]
    },
    {
     "data": {
      "text/plain": [
       "[2.050055503845215,\n",
       " 1.6808795928955078,\n",
       " 0.45338982343673706,\n",
       " 0.3691757917404175]"
      ]
     },
     "execution_count": 20,
     "metadata": {},
     "output_type": "execute_result"
    }
   ],
   "source": [
    "adv_model.evaluate({'input':x_test,'label':y_test})"
   ]
  }
 ],
 "metadata": {
  "kernelspec": {
   "display_name": "Python 3",
   "language": "python",
   "name": "python3"
  },
  "language_info": {
   "codemirror_mode": {
    "name": "ipython",
    "version": 3
   },
   "file_extension": ".py",
   "mimetype": "text/x-python",
   "name": "python",
   "nbconvert_exporter": "python",
   "pygments_lexer": "ipython3",
   "version": "3.7.6"
  },
  "papermill": {
   "duration": 550.549189,
   "end_time": "2021-02-18T18:31:38.968607",
   "environment_variables": {},
   "exception": null,
   "input_path": "__notebook__.ipynb",
   "output_path": "__notebook__.ipynb",
   "parameters": {},
   "start_time": "2021-02-18T18:22:28.419418",
   "version": "2.1.0"
  }
 },
 "nbformat": 4,
 "nbformat_minor": 4
}
