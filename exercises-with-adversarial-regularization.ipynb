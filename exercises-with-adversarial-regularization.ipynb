{
 "cells": [
  {
   "cell_type": "code",
   "execution_count": 1,
   "metadata": {
    "_cell_guid": "b1076dfc-b9ad-4769-8c92-a6c4dae69d19",
    "_kg_hide-input": true,
    "_uuid": "8f2839f25d086af736a60e9eeb907d3b93b6e0e5",
    "execution": {
     "iopub.execute_input": "2021-02-22T15:51:29.156037Z",
     "iopub.status.busy": "2021-02-22T15:51:29.155304Z",
     "iopub.status.idle": "2021-02-22T15:51:29.172869Z",
     "shell.execute_reply": "2021-02-22T15:51:29.172245Z"
    },
    "papermill": {
     "duration": 0.040205,
     "end_time": "2021-02-22T15:51:29.173098",
     "exception": false,
     "start_time": "2021-02-22T15:51:29.132893",
     "status": "completed"
    },
    "tags": []
   },
   "outputs": [
    {
     "data": {
      "text/html": [
       "<style>@import 'https://fonts.googleapis.com/css?family=Ewert'; #div5412496 {background:white; padding:2px;}\n",
       "    .textrg {display:inline-block; font-size:20px; line-height:1.1; padding:5px; font-family:Ewert,sans-serif; text-transform:uppercase;\n",
       "       background:radial-gradient(\n",
       "           circle farthest-corner at center center,\n",
       "           orange,magenta,cyan) no-repeat;\n",
       "       -webkit-background-clip:text;\n",
       "       -webkit-text-fill-color:transparent;}</style>\n",
       "    <div id='div5412496'><text class='textrg'>Code Modules, Settings & Functions</text></div>"
      ],
      "text/plain": [
       "<IPython.core.display.HTML object>"
      ]
     },
     "metadata": {},
     "output_type": "display_data"
    }
   ],
   "source": [
    "%run ../input/python-recipes/radial_gradient_header.py\n",
    "%radial_gradient_header Code Modules, Settings & Functions|20"
   ]
  },
  {
   "cell_type": "code",
   "execution_count": 2,
   "metadata": {
    "execution": {
     "iopub.execute_input": "2021-02-22T15:51:29.212427Z",
     "iopub.status.busy": "2021-02-22T15:51:29.211690Z",
     "iopub.status.idle": "2021-02-22T15:51:45.812246Z",
     "shell.execute_reply": "2021-02-22T15:51:45.811276Z"
    },
    "papermill": {
     "duration": 16.622185,
     "end_time": "2021-02-22T15:51:45.812410",
     "exception": false,
     "start_time": "2021-02-22T15:51:29.190225",
     "status": "completed"
    },
    "tags": []
   },
   "outputs": [],
   "source": [
    "!python3 -m pip install --upgrade pip \\\n",
    "--user --quiet --no-warn-script-location\n",
    "!python3 -m pip install --upgrade \\\n",
    "neural_structured_learning --user --quiet "
   ]
  },
  {
   "cell_type": "code",
   "execution_count": 3,
   "metadata": {
    "execution": {
     "iopub.execute_input": "2021-02-22T15:51:45.848381Z",
     "iopub.status.busy": "2021-02-22T15:51:45.847710Z",
     "iopub.status.idle": "2021-02-22T15:51:52.449663Z",
     "shell.execute_reply": "2021-02-22T15:51:52.449026Z"
    },
    "papermill": {
     "duration": 6.62227,
     "end_time": "2021-02-22T15:51:52.449813",
     "exception": false,
     "start_time": "2021-02-22T15:51:45.827543",
     "status": "completed"
    },
    "tags": []
   },
   "outputs": [],
   "source": [
    "import os,h5py,urllib,pandas as pd,numpy as np\n",
    "import tensorflow as tf,pylab as pl,seaborn as sn\n",
    "import neural_structured_learning as nsl\n",
    "import tensorflow.keras.layers as tkl\n",
    "import tensorflow.keras.callbacks as tkc\n",
    "file_path='https://raw.githubusercontent.com/'+\\\n",
    "          'OlgaBelitskaya/data_kitchen/main/'\n",
    "file_name='Pictograms64.h5'\n",
    "img_size=64\n",
    "model_weights='/checkpoints'"
   ]
  },
  {
   "cell_type": "code",
   "execution_count": 4,
   "metadata": {
    "_kg_hide-input": true,
    "execution": {
     "iopub.execute_input": "2021-02-22T15:51:52.492880Z",
     "iopub.status.busy": "2021-02-22T15:51:52.492193Z",
     "iopub.status.idle": "2021-02-22T15:51:52.495982Z",
     "shell.execute_reply": "2021-02-22T15:51:52.495413Z"
    },
    "papermill": {
     "duration": 0.030478,
     "end_time": "2021-02-22T15:51:52.496126",
     "exception": false,
     "start_time": "2021-02-22T15:51:52.465648",
     "status": "completed"
    },
    "tags": []
   },
   "outputs": [],
   "source": [
    "def pd_style():\n",
    "    return [dict(selector='th',\n",
    "                 props=[('font-size','12pt'),('min-width','150px')]),\n",
    "            dict(selector='td',\n",
    "                 props=[('padding','0em 0em'),('min-width','150px')]),\n",
    "            dict(selector='tr:hover th:hover',\n",
    "                 props=[('font-size','14pt'),('max-width','150px'),\n",
    "                        ('text-shadow','3px 3px 3px #aaa')]),\n",
    "            dict(selector='tr:hover td:hover',\n",
    "                 props=[('font-size','12pt'),('max-width','150px'),\n",
    "                        ('text-shadow','3px 3px 3px #aaa')])]\n",
    "def display_images(images,labels,names,n):\n",
    "    fig=pl.figure(figsize=(9,n/2))\n",
    "    randch=np.random.choice(images.shape[0],size=n,replace=False)\n",
    "    for i,idx in enumerate(randch):\n",
    "        ax=fig.add_subplot(int(n//5)+1,5,i+1,xticks=[],yticks=[])\n",
    "        ax.imshow(images[idx],cmap='bone')\n",
    "        label=[labels[:,idx]]\n",
    "        name=[names[i][labels[i][idx]] \n",
    "              for i in range(labels.shape[0])]\n",
    "        ti='{} \\n {}'.format(str(label),str(name))\n",
    "        ax.set_title(ti,fontsize=8)\n",
    "    pl.tight_layout(); pl.show()"
   ]
  },
  {
   "cell_type": "code",
   "execution_count": 5,
   "metadata": {
    "_kg_hide-input": true,
    "execution": {
     "iopub.execute_input": "2021-02-22T15:51:52.547829Z",
     "iopub.status.busy": "2021-02-22T15:51:52.545856Z",
     "iopub.status.idle": "2021-02-22T15:51:52.548563Z",
     "shell.execute_reply": "2021-02-22T15:51:52.549121Z"
    },
    "papermill": {
     "duration": 0.037648,
     "end_time": "2021-02-22T15:51:52.549270",
     "exception": false,
     "start_time": "2021-02-22T15:51:52.511622",
     "status": "completed"
    },
    "tags": []
   },
   "outputs": [],
   "source": [
    "def h5file2data(h5file,img_size,\n",
    "                resize=True,cmap='tab20',fig_size=7):\n",
    "    with h5py.File(h5file,'r') as f:\n",
    "        keys=list(f.keys()); print('file keys: '+', '.join(keys))\n",
    "        images=np.array(f[keys[int(0)]],dtype='float32')\n",
    "        labels=np.array(f[keys[int(1)]])\n",
    "        names=[[el.decode('utf-8') for el in f[keys[i]]]\n",
    "               for i in range(2,len(keys))]\n",
    "        f.close()\n",
    "    N=images.shape[0]; n=int(.1*N)\n",
    "    if resize:\n",
    "        images=tf.image.resize(images,[img_size,img_size]).numpy()\n",
    "    shuffle_ids=np.arange(N)\n",
    "    np.random.RandomState(12).shuffle(shuffle_ids)\n",
    "    images=images[shuffle_ids]\n",
    "    labels=np.array([labels[i][shuffle_ids] \n",
    "                     for i in range(labels.shape[0])])\n",
    "    x_test,x_valid,x_train=images[:n],images[n:2*n],images[2*n:]\n",
    "    y_test,y_valid,y_train=labels[:,:n],labels[:,n:2*n],labels[:,2*n:]\n",
    "    df=pd.DataFrame(\n",
    "        [[x_train.shape,x_valid.shape,x_test.shape],\n",
    "         [x_train.dtype,x_valid.dtype,x_test.dtype],\n",
    "         [y_train.shape,y_valid.shape,y_test.shape],\n",
    "         [y_train.dtype,y_valid.dtype,y_test.dtype]],\n",
    "        columns=['train','valid','test'],\n",
    "        index=['image shape','image type','label shape','label type'])\n",
    "    print('data outputs: ')\n",
    "    display(df.style.set_table_styles(pd_style()))\n",
    "    print('distribution of labels: ')\n",
    "    idx=['labels %d'%(i+1) for i in range(labels.shape[0])]\n",
    "    df=pd.DataFrame(labels,index=idx).T\n",
    "    for i in range(labels.shape[0]):\n",
    "        df['name %d'%(i+1)]=[names[i][l] for l in labels[i]]\n",
    "    fig=pl.figure(figsize=(1.5*fig_size,fig_size))    \n",
    "    for i in range(labels.shape[0]):\n",
    "        ax=fig.add_subplot(labels.shape[0],1,i+1)\n",
    "        sn.countplot(x='name %s'%(i+1),data=df,palette=cmap,alpha=.5,ax=ax)\n",
    "    pl.tight_layout(); pl.show()       \n",
    "    return [names,x_train,x_valid,x_test,y_train,y_valid,y_test]"
   ]
  },
  {
   "cell_type": "code",
   "execution_count": 6,
   "metadata": {
    "_kg_hide-input": true,
    "execution": {
     "iopub.execute_input": "2021-02-22T15:51:52.593046Z",
     "iopub.status.busy": "2021-02-22T15:51:52.592308Z",
     "iopub.status.idle": "2021-02-22T15:51:52.595993Z",
     "shell.execute_reply": "2021-02-22T15:51:52.595412Z"
    },
    "papermill": {
     "duration": 0.031286,
     "end_time": "2021-02-22T15:51:52.596124",
     "exception": false,
     "start_time": "2021-02-22T15:51:52.564838",
     "status": "completed"
    },
    "tags": []
   },
   "outputs": [],
   "source": [
    "def cb(mw):\n",
    "    early_stopping=tf.keras.callbacks.EarlyStopping(\n",
    "        monitor='val_sparse_categorical_accuracy',\n",
    "        patience=20,verbose=2,mode='max')\n",
    "    checkpointer=tf.keras.callbacks.ModelCheckpoint(\n",
    "        save_best_only=True,save_weights_only=True,\n",
    "        monitor='val_sparse_categorical_accuracy',\n",
    "        filepath=mw,verbose=2,mode='max')\n",
    "    lr_reduction=tf.keras.callbacks.ReduceLROnPlateau(\n",
    "        monitor='val_scaled_adversarial_loss',\n",
    "        verbose=2,patience=10,factor=.8,mode='min')\n",
    "    return [checkpointer,early_stopping,lr_reduction]\n",
    "def keras_history_plot(\n",
    "    fit_history,fig_size=9,color='darkblue'):\n",
    "    keys=list(fit_history.history.keys())\n",
    "    list_history=[fit_history.history[keys[i]] \n",
    "                  for i in range(len(keys))]\n",
    "    dfkeys=pd.DataFrame(list_history).T\n",
    "    dfkeys.columns=keys\n",
    "    fig=pl.figure(figsize=(fig_size,fig_size))\n",
    "    ax1=fig.add_subplot(3,1,1)\n",
    "    dfkeys.iloc[:,[0,4]].plot(\n",
    "        ax=ax1,color=['slategray',color],grid=True)\n",
    "    ax2=fig.add_subplot(3,1,2)\n",
    "    dfkeys.iloc[:,[3,7]].plot(\n",
    "        ax=ax2,color=['slategray',color],grid=True)\n",
    "    ax3=fig.add_subplot(3,1,3)\n",
    "    dfkeys.iloc[:,[2,6]].plot(\n",
    "        ax=ax3,color=['slategray',color],grid=True)\n",
    "    pl.tight_layout(); pl.show()"
   ]
  },
  {
   "cell_type": "code",
   "execution_count": 7,
   "metadata": {
    "_kg_hide-input": true,
    "execution": {
     "iopub.execute_input": "2021-02-22T15:51:52.632633Z",
     "iopub.status.busy": "2021-02-22T15:51:52.631765Z",
     "iopub.status.idle": "2021-02-22T15:51:52.635635Z",
     "shell.execute_reply": "2021-02-22T15:51:52.636319Z"
    },
    "papermill": {
     "duration": 0.024604,
     "end_time": "2021-02-22T15:51:52.636456",
     "exception": false,
     "start_time": "2021-02-22T15:51:52.611852",
     "status": "completed"
    },
    "tags": []
   },
   "outputs": [
    {
     "data": {
      "text/html": [
       "<style>@import 'https://fonts.googleapis.com/css?family=Ewert'; #div3161952 {background:white; padding:2px;}\n",
       "    .textrg {display:inline-block; font-size:20px; line-height:1.1; padding:5px; font-family:Ewert,sans-serif; text-transform:uppercase;\n",
       "       background:radial-gradient(\n",
       "           circle farthest-corner at center center,\n",
       "           orange,magenta,cyan) no-repeat;\n",
       "       -webkit-background-clip:text;\n",
       "       -webkit-text-fill-color:transparent;}</style>\n",
       "    <div id='div3161952'><text class='textrg'>Data Loading</text></div>"
      ],
      "text/plain": [
       "<IPython.core.display.HTML object>"
      ]
     },
     "metadata": {},
     "output_type": "display_data"
    }
   ],
   "source": [
    "%radial_gradient_header Data Loading|20"
   ]
  },
  {
   "cell_type": "code",
   "execution_count": 8,
   "metadata": {
    "execution": {
     "iopub.execute_input": "2021-02-22T15:51:52.675056Z",
     "iopub.status.busy": "2021-02-22T15:51:52.674401Z",
     "iopub.status.idle": "2021-02-22T15:51:59.398670Z",
     "shell.execute_reply": "2021-02-22T15:51:59.397693Z"
    },
    "papermill": {
     "duration": 6.746401,
     "end_time": "2021-02-22T15:51:59.398811",
     "exception": false,
     "start_time": "2021-02-22T15:51:52.652410",
     "status": "completed"
    },
    "tags": []
   },
   "outputs": [
    {
     "name": "stdout",
     "output_type": "stream",
     "text": [
      "file keys: images, labels, names1, names2\n",
      "data outputs: \n"
     ]
    },
    {
     "data": {
      "text/html": [
       "<style  type=\"text/css\" >\n",
       "    #T_e56f7742_7525_11eb_b86d_0242ac130202 th {\n",
       "          font-size: 12pt;\n",
       "          min-width: 150px;\n",
       "    }    #T_e56f7742_7525_11eb_b86d_0242ac130202 td {\n",
       "          padding: 0em 0em;\n",
       "          min-width: 150px;\n",
       "    }    #T_e56f7742_7525_11eb_b86d_0242ac130202 tr:hover th:hover {\n",
       "          font-size: 14pt;\n",
       "          max-width: 150px;\n",
       "          text-shadow: 3px 3px 3px #aaa;\n",
       "    }    #T_e56f7742_7525_11eb_b86d_0242ac130202 tr:hover td:hover {\n",
       "          font-size: 12pt;\n",
       "          max-width: 150px;\n",
       "          text-shadow: 3px 3px 3px #aaa;\n",
       "    }</style><table id=\"T_e56f7742_7525_11eb_b86d_0242ac130202\" ><thead>    <tr>        <th class=\"blank level0\" ></th>        <th class=\"col_heading level0 col0\" >train</th>        <th class=\"col_heading level0 col1\" >valid</th>        <th class=\"col_heading level0 col2\" >test</th>    </tr></thead><tbody>\n",
       "                <tr>\n",
       "                        <th id=\"T_e56f7742_7525_11eb_b86d_0242ac130202level0_row0\" class=\"row_heading level0 row0\" >image shape</th>\n",
       "                        <td id=\"T_e56f7742_7525_11eb_b86d_0242ac130202row0_col0\" class=\"data row0 col0\" >(2837, 64, 64, 3)</td>\n",
       "                        <td id=\"T_e56f7742_7525_11eb_b86d_0242ac130202row0_col1\" class=\"data row0 col1\" >(354, 64, 64, 3)</td>\n",
       "                        <td id=\"T_e56f7742_7525_11eb_b86d_0242ac130202row0_col2\" class=\"data row0 col2\" >(354, 64, 64, 3)</td>\n",
       "            </tr>\n",
       "            <tr>\n",
       "                        <th id=\"T_e56f7742_7525_11eb_b86d_0242ac130202level0_row1\" class=\"row_heading level0 row1\" >image type</th>\n",
       "                        <td id=\"T_e56f7742_7525_11eb_b86d_0242ac130202row1_col0\" class=\"data row1 col0\" >float32</td>\n",
       "                        <td id=\"T_e56f7742_7525_11eb_b86d_0242ac130202row1_col1\" class=\"data row1 col1\" >float32</td>\n",
       "                        <td id=\"T_e56f7742_7525_11eb_b86d_0242ac130202row1_col2\" class=\"data row1 col2\" >float32</td>\n",
       "            </tr>\n",
       "            <tr>\n",
       "                        <th id=\"T_e56f7742_7525_11eb_b86d_0242ac130202level0_row2\" class=\"row_heading level0 row2\" >label shape</th>\n",
       "                        <td id=\"T_e56f7742_7525_11eb_b86d_0242ac130202row2_col0\" class=\"data row2 col0\" >(2, 2837)</td>\n",
       "                        <td id=\"T_e56f7742_7525_11eb_b86d_0242ac130202row2_col1\" class=\"data row2 col1\" >(2, 354)</td>\n",
       "                        <td id=\"T_e56f7742_7525_11eb_b86d_0242ac130202row2_col2\" class=\"data row2 col2\" >(2, 354)</td>\n",
       "            </tr>\n",
       "            <tr>\n",
       "                        <th id=\"T_e56f7742_7525_11eb_b86d_0242ac130202level0_row3\" class=\"row_heading level0 row3\" >label type</th>\n",
       "                        <td id=\"T_e56f7742_7525_11eb_b86d_0242ac130202row3_col0\" class=\"data row3 col0\" >int32</td>\n",
       "                        <td id=\"T_e56f7742_7525_11eb_b86d_0242ac130202row3_col1\" class=\"data row3 col1\" >int32</td>\n",
       "                        <td id=\"T_e56f7742_7525_11eb_b86d_0242ac130202row3_col2\" class=\"data row3 col2\" >int32</td>\n",
       "            </tr>\n",
       "    </tbody></table>"
      ],
      "text/plain": [
       "<pandas.io.formats.style.Styler at 0x7f8619581890>"
      ]
     },
     "metadata": {},
     "output_type": "display_data"
    },
    {
     "name": "stdout",
     "output_type": "stream",
     "text": [
      "distribution of labels: \n"
     ]
    },
    {
     "data": {
      "image/png": "[encoded data removed]",
      "text/plain": [
       "<Figure size 756x504 with 2 Axes>"
      ]
     },
     "metadata": {
      "needs_background": "light"
     },
     "output_type": "display_data"
    }
   ],
   "source": [
    "input_file=urllib.request.urlopen(file_path+file_name)\n",
    "output_file=open(file_name,'wb')\n",
    "output_file.write(input_file.read())\n",
    "output_file.close(); input_file.close()\n",
    "[names,x_train,x_valid,x_test,y_train,y_valid,y_test]=\\\n",
    "h5file2data(file_name,img_size)\n",
    "num_classes=len(names[1])\n",
    "os.remove(file_name)"
   ]
  },
  {
   "cell_type": "code",
   "execution_count": 9,
   "metadata": {
    "_kg_hide-input": true,
    "execution": {
     "iopub.execute_input": "2021-02-22T15:51:59.443345Z",
     "iopub.status.busy": "2021-02-22T15:51:59.442619Z",
     "iopub.status.idle": "2021-02-22T15:51:59.446284Z",
     "shell.execute_reply": "2021-02-22T15:51:59.446812Z"
    },
    "papermill": {
     "duration": 0.02931,
     "end_time": "2021-02-22T15:51:59.446976",
     "exception": false,
     "start_time": "2021-02-22T15:51:59.417666",
     "status": "completed"
    },
    "tags": []
   },
   "outputs": [
    {
     "data": {
      "text/html": [
       "<style>@import 'https://fonts.googleapis.com/css?family=Ewert'; #div2012406 {background:white; padding:2px;}\n",
       "    .textrg {display:inline-block; font-size:20px; line-height:1.1; padding:5px; font-family:Ewert,sans-serif; text-transform:uppercase;\n",
       "       background:radial-gradient(\n",
       "           circle farthest-corner at center center,\n",
       "           orange,magenta,cyan) no-repeat;\n",
       "       -webkit-background-clip:text;\n",
       "       -webkit-text-fill-color:transparent;}</style>\n",
       "    <div id='div2012406'><text class='textrg'>TF Data Processing</text></div>"
      ],
      "text/plain": [
       "<IPython.core.display.HTML object>"
      ]
     },
     "metadata": {},
     "output_type": "display_data"
    }
   ],
   "source": [
    "%radial_gradient_header TF Data Processing|20"
   ]
  },
  {
   "cell_type": "code",
   "execution_count": 10,
   "metadata": {
    "execution": {
     "iopub.execute_input": "2021-02-22T15:51:59.597801Z",
     "iopub.status.busy": "2021-02-22T15:51:59.488001Z",
     "iopub.status.idle": "2021-02-22T15:51:59.622008Z",
     "shell.execute_reply": "2021-02-22T15:51:59.621037Z"
    },
    "papermill": {
     "duration": 0.156408,
     "end_time": "2021-02-22T15:51:59.622152",
     "exception": false,
     "start_time": "2021-02-22T15:51:59.465744",
     "status": "completed"
    },
    "tags": []
   },
   "outputs": [],
   "source": [
    "batch_size=16\n",
    "train=tf.data.Dataset.from_tensor_slices(\n",
    "    {'input':x_train,\n",
    "     'label':np.array(y_train[1],dtype='float32')}).batch(batch_size)\n",
    "valid=tf.data.Dataset.from_tensor_slices(\n",
    "    {'input':x_valid,\n",
    "     'label':np.array(y_valid[1],dtype='float32')}).batch(batch_size)\n",
    "valid_steps=x_valid.shape[0]//batch_size"
   ]
  },
  {
   "cell_type": "code",
   "execution_count": 11,
   "metadata": {
    "_kg_hide-input": true,
    "execution": {
     "iopub.execute_input": "2021-02-22T15:51:59.667644Z",
     "iopub.status.busy": "2021-02-22T15:51:59.666958Z",
     "iopub.status.idle": "2021-02-22T15:51:59.670396Z",
     "shell.execute_reply": "2021-02-22T15:51:59.670842Z"
    },
    "papermill": {
     "duration": 0.02833,
     "end_time": "2021-02-22T15:51:59.670992",
     "exception": false,
     "start_time": "2021-02-22T15:51:59.642662",
     "status": "completed"
    },
    "tags": []
   },
   "outputs": [
    {
     "data": {
      "text/html": [
       "<style>@import 'https://fonts.googleapis.com/css?family=Ewert'; #div3903367 {background:white; padding:2px;}\n",
       "    .textrg {display:inline-block; font-size:20px; line-height:1.1; padding:5px; font-family:Ewert,sans-serif; text-transform:uppercase;\n",
       "       background:radial-gradient(\n",
       "           circle farthest-corner at center center,\n",
       "           orange,magenta,cyan) no-repeat;\n",
       "       -webkit-background-clip:text;\n",
       "       -webkit-text-fill-color:transparent;}</style>\n",
       "    <div id='div3903367'><text class='textrg'>Models with Adversarial Regularization => MLP</text></div>"
      ],
      "text/plain": [
       "<IPython.core.display.HTML object>"
      ]
     },
     "metadata": {},
     "output_type": "display_data"
    }
   ],
   "source": [
    "%radial_gradient_header Models with Adversarial Regularization => MLP|20"
   ]
  },
  {
   "cell_type": "code",
   "execution_count": 12,
   "metadata": {
    "execution": {
     "iopub.execute_input": "2021-02-22T15:51:59.717710Z",
     "iopub.status.busy": "2021-02-22T15:51:59.717112Z",
     "iopub.status.idle": "2021-02-22T15:51:59.852110Z",
     "shell.execute_reply": "2021-02-22T15:51:59.851611Z"
    },
    "papermill": {
     "duration": 0.161473,
     "end_time": "2021-02-22T15:51:59.852240",
     "exception": false,
     "start_time": "2021-02-22T15:51:59.690767",
     "status": "completed"
    },
    "tags": []
   },
   "outputs": [],
   "source": [
    "base_model=tf.keras.Sequential([\n",
    "    tf.keras.Input((img_size,img_size,3),name='input'),\n",
    "    tkl.Flatten(),\n",
    "    tkl.Dense(192,activation=tf.nn.relu),\n",
    "    tkl.BatchNormalization(),    \n",
    "    tkl.Dense(256,activation=tf.nn.relu),\n",
    "    tkl.BatchNormalization(),    \n",
    "    tkl.Dense(512,activation=tf.nn.relu),\n",
    "    tkl.Dense(num_classes,activation=tf.nn.softmax)\n",
    "])\n",
    "adv_config=nsl.configs.make_adv_reg_config(\n",
    "    multiplier=.2,adv_step_size=.05)\n",
    "adv_model=nsl.keras.AdversarialRegularization(\n",
    "    base_model,adv_config=adv_config)\n",
    "adv_model.compile(optimizer='adam',metrics=['accuracy'],\n",
    "                  loss='sparse_categorical_crossentropy')"
   ]
  },
  {
   "cell_type": "code",
   "execution_count": 13,
   "metadata": {
    "_kg_hide-output": true,
    "execution": {
     "iopub.execute_input": "2021-02-22T15:51:59.898225Z",
     "iopub.status.busy": "2021-02-22T15:51:59.897573Z",
     "iopub.status.idle": "2021-02-22T15:53:08.252028Z",
     "shell.execute_reply": "2021-02-22T15:53:08.252565Z"
    },
    "papermill": {
     "duration": 68.380268,
     "end_time": "2021-02-22T15:53:08.252765",
     "exception": false,
     "start_time": "2021-02-22T15:51:59.872497",
     "status": "completed"
    },
    "tags": []
   },
   "outputs": [
    {
     "name": "stdout",
     "output_type": "stream",
     "text": [
      "Epoch 1/100\n",
      "178/178 - 11s - loss: 2.8569 - sparse_categorical_crossentropy: 2.3729 - sparse_categorical_accuracy: 0.2633 - scaled_adversarial_loss: 0.4839 - val_loss: 8.1037 - val_sparse_categorical_crossentropy: 6.7455 - val_sparse_categorical_accuracy: 0.0909 - val_scaled_adversarial_loss: 1.3582\n",
      "\n",
      "Epoch 00001: val_sparse_categorical_accuracy improved from -inf to 0.09091, saving model to /checkpoints\n",
      "Epoch 2/100\n",
      "178/178 - 1s - loss: 2.1562 - sparse_categorical_crossentropy: 1.7892 - sparse_categorical_accuracy: 0.4381 - scaled_adversarial_loss: 0.3669 - val_loss: 4.8120 - val_sparse_categorical_crossentropy: 3.9993 - val_sparse_categorical_accuracy: 0.1875 - val_scaled_adversarial_loss: 0.8127\n",
      "\n",
      "Epoch 00002: val_sparse_categorical_accuracy improved from 0.09091 to 0.18750, saving model to /checkpoints\n",
      "Epoch 3/100\n",
      "178/178 - 2s - loss: 1.6174 - sparse_categorical_crossentropy: 1.3384 - sparse_categorical_accuracy: 0.5777 - scaled_adversarial_loss: 0.2790 - val_loss: 6.5068 - val_sparse_categorical_crossentropy: 5.4089 - val_sparse_categorical_accuracy: 0.1250 - val_scaled_adversarial_loss: 1.0979\n",
      "\n",
      "Epoch 00003: val_sparse_categorical_accuracy did not improve from 0.18750\n",
      "Epoch 4/100\n",
      "178/178 - 1s - loss: 1.1122 - sparse_categorical_crossentropy: 0.9160 - sparse_categorical_accuracy: 0.7145 - scaled_adversarial_loss: 0.1962 - val_loss: 15.4281 - val_sparse_categorical_crossentropy: 12.8355 - val_sparse_categorical_accuracy: 0.1193 - val_scaled_adversarial_loss: 2.5926\n",
      "\n",
      "Epoch 00004: val_sparse_categorical_accuracy did not improve from 0.18750\n",
      "Epoch 5/100\n",
      "178/178 - 1s - loss: 0.8014 - sparse_categorical_crossentropy: 0.6553 - sparse_categorical_accuracy: 0.7956 - scaled_adversarial_loss: 0.1461 - val_loss: 19.1462 - val_sparse_categorical_crossentropy: 15.9262 - val_sparse_categorical_accuracy: 0.0909 - val_scaled_adversarial_loss: 3.2200\n",
      "\n",
      "Epoch 00005: val_sparse_categorical_accuracy did not improve from 0.18750\n",
      "Epoch 6/100\n",
      "178/178 - 1s - loss: 0.5893 - sparse_categorical_crossentropy: 0.4779 - sparse_categorical_accuracy: 0.8470 - scaled_adversarial_loss: 0.1113 - val_loss: 10.0094 - val_sparse_categorical_crossentropy: 8.3170 - val_sparse_categorical_accuracy: 0.1847 - val_scaled_adversarial_loss: 1.6924\n",
      "\n",
      "Epoch 00006: val_sparse_categorical_accuracy did not improve from 0.18750\n",
      "Epoch 7/100\n",
      "178/178 - 1s - loss: 0.4586 - sparse_categorical_crossentropy: 0.3691 - sparse_categorical_accuracy: 0.8826 - scaled_adversarial_loss: 0.0896 - val_loss: 12.1741 - val_sparse_categorical_crossentropy: 10.1165 - val_sparse_categorical_accuracy: 0.1477 - val_scaled_adversarial_loss: 2.0576\n",
      "\n",
      "Epoch 00007: val_sparse_categorical_accuracy did not improve from 0.18750\n",
      "Epoch 8/100\n",
      "178/178 - 1s - loss: 0.5351 - sparse_categorical_crossentropy: 0.4303 - sparse_categorical_accuracy: 0.8629 - scaled_adversarial_loss: 0.1047 - val_loss: 22.3377 - val_sparse_categorical_crossentropy: 18.5720 - val_sparse_categorical_accuracy: 0.0824 - val_scaled_adversarial_loss: 3.7656\n",
      "\n",
      "Epoch 00008: val_sparse_categorical_accuracy did not improve from 0.18750\n",
      "Epoch 9/100\n",
      "178/178 - 1s - loss: 0.5871 - sparse_categorical_crossentropy: 0.4713 - sparse_categorical_accuracy: 0.8343 - scaled_adversarial_loss: 0.1158 - val_loss: 8.4573 - val_sparse_categorical_crossentropy: 7.0161 - val_sparse_categorical_accuracy: 0.1506 - val_scaled_adversarial_loss: 1.4412\n",
      "\n",
      "Epoch 00009: val_sparse_categorical_accuracy did not improve from 0.18750\n",
      "Epoch 10/100\n",
      "178/178 - 1s - loss: 0.4069 - sparse_categorical_crossentropy: 0.3231 - sparse_categorical_accuracy: 0.8918 - scaled_adversarial_loss: 0.0838 - val_loss: 7.6712 - val_sparse_categorical_crossentropy: 6.3520 - val_sparse_categorical_accuracy: 0.2074 - val_scaled_adversarial_loss: 1.3192\n",
      "\n",
      "Epoch 00010: val_sparse_categorical_accuracy improved from 0.18750 to 0.20739, saving model to /checkpoints\n",
      "Epoch 11/100\n",
      "178/178 - 1s - loss: 0.3024 - sparse_categorical_crossentropy: 0.2381 - sparse_categorical_accuracy: 0.9210 - scaled_adversarial_loss: 0.0643 - val_loss: 14.6973 - val_sparse_categorical_crossentropy: 12.1938 - val_sparse_categorical_accuracy: 0.1364 - val_scaled_adversarial_loss: 2.5035\n",
      "\n",
      "Epoch 00011: val_sparse_categorical_accuracy did not improve from 0.20739\n",
      "Epoch 12/100\n",
      "178/178 - 1s - loss: 0.2326 - sparse_categorical_crossentropy: 0.1811 - sparse_categorical_accuracy: 0.9425 - scaled_adversarial_loss: 0.0515 - val_loss: 15.9322 - val_sparse_categorical_crossentropy: 13.2095 - val_sparse_categorical_accuracy: 0.1222 - val_scaled_adversarial_loss: 2.7227\n",
      "\n",
      "Epoch 00012: val_sparse_categorical_accuracy did not improve from 0.20739\n",
      "\n",
      "Epoch 00012: ReduceLROnPlateau reducing learning rate to 0.000800000037997961.\n",
      "Epoch 13/100\n",
      "178/178 - 1s - loss: 0.1491 - sparse_categorical_crossentropy: 0.1140 - sparse_categorical_accuracy: 0.9640 - scaled_adversarial_loss: 0.0351 - val_loss: 9.8640 - val_sparse_categorical_crossentropy: 8.1677 - val_sparse_categorical_accuracy: 0.1818 - val_scaled_adversarial_loss: 1.6963\n",
      "\n",
      "Epoch 00013: val_sparse_categorical_accuracy did not improve from 0.20739\n",
      "Epoch 14/100\n",
      "178/178 - 1s - loss: 0.0822 - sparse_categorical_crossentropy: 0.0623 - sparse_categorical_accuracy: 0.9831 - scaled_adversarial_loss: 0.0199 - val_loss: 13.6973 - val_sparse_categorical_crossentropy: 11.3552 - val_sparse_categorical_accuracy: 0.1761 - val_scaled_adversarial_loss: 2.3421\n",
      "\n",
      "Epoch 00014: val_sparse_categorical_accuracy did not improve from 0.20739\n",
      "Epoch 15/100\n",
      "178/178 - 1s - loss: 0.0544 - sparse_categorical_crossentropy: 0.0409 - sparse_categorical_accuracy: 0.9905 - scaled_adversarial_loss: 0.0135 - val_loss: 8.3922 - val_sparse_categorical_crossentropy: 6.9274 - val_sparse_categorical_accuracy: 0.2898 - val_scaled_adversarial_loss: 1.4649\n",
      "\n",
      "Epoch 00015: val_sparse_categorical_accuracy improved from 0.20739 to 0.28977, saving model to /checkpoints\n",
      "Epoch 16/100\n",
      "178/178 - 1s - loss: 0.0354 - sparse_categorical_crossentropy: 0.0263 - sparse_categorical_accuracy: 0.9926 - scaled_adversarial_loss: 0.0090 - val_loss: 9.1348 - val_sparse_categorical_crossentropy: 7.5475 - val_sparse_categorical_accuracy: 0.2330 - val_scaled_adversarial_loss: 1.5873\n",
      "\n",
      "Epoch 00016: val_sparse_categorical_accuracy did not improve from 0.28977\n",
      "Epoch 17/100\n",
      "178/178 - 1s - loss: 0.0154 - sparse_categorical_crossentropy: 0.0114 - sparse_categorical_accuracy: 0.9979 - scaled_adversarial_loss: 0.0040 - val_loss: 10.5526 - val_sparse_categorical_crossentropy: 8.7274 - val_sparse_categorical_accuracy: 0.2358 - val_scaled_adversarial_loss: 1.8252\n",
      "\n",
      "Epoch 00017: val_sparse_categorical_accuracy did not improve from 0.28977\n",
      "Epoch 18/100\n",
      "178/178 - 1s - loss: 0.0167 - sparse_categorical_crossentropy: 0.0123 - sparse_categorical_accuracy: 0.9965 - scaled_adversarial_loss: 0.0045 - val_loss: 11.2256 - val_sparse_categorical_crossentropy: 9.2868 - val_sparse_categorical_accuracy: 0.2358 - val_scaled_adversarial_loss: 1.9388\n",
      "\n",
      "Epoch 00018: val_sparse_categorical_accuracy did not improve from 0.28977\n",
      "Epoch 19/100\n",
      "178/178 - 1s - loss: 0.0099 - sparse_categorical_crossentropy: 0.0072 - sparse_categorical_accuracy: 0.9982 - scaled_adversarial_loss: 0.0027 - val_loss: 11.9704 - val_sparse_categorical_crossentropy: 9.9031 - val_sparse_categorical_accuracy: 0.2386 - val_scaled_adversarial_loss: 2.0673\n",
      "\n",
      "Epoch 00019: val_sparse_categorical_accuracy did not improve from 0.28977\n",
      "Epoch 20/100\n",
      "178/178 - 1s - loss: 0.0096 - sparse_categorical_crossentropy: 0.0073 - sparse_categorical_accuracy: 0.9982 - scaled_adversarial_loss: 0.0023 - val_loss: 7.1065 - val_sparse_categorical_crossentropy: 5.8662 - val_sparse_categorical_accuracy: 0.2784 - val_scaled_adversarial_loss: 1.2403\n",
      "\n",
      "Epoch 00020: val_sparse_categorical_accuracy did not improve from 0.28977\n",
      "Epoch 21/100\n",
      "178/178 - 1s - loss: 0.0132 - sparse_categorical_crossentropy: 0.0104 - sparse_categorical_accuracy: 0.9982 - scaled_adversarial_loss: 0.0028 - val_loss: 27.0468 - val_sparse_categorical_crossentropy: 22.4754 - val_sparse_categorical_accuracy: 0.0767 - val_scaled_adversarial_loss: 4.5714\n",
      "\n",
      "Epoch 00021: val_sparse_categorical_accuracy did not improve from 0.28977\n",
      "Epoch 22/100\n",
      "178/178 - 1s - loss: 0.5537 - sparse_categorical_crossentropy: 0.4387 - sparse_categorical_accuracy: 0.8689 - scaled_adversarial_loss: 0.1150 - val_loss: 21.9370 - val_sparse_categorical_crossentropy: 18.2307 - val_sparse_categorical_accuracy: 0.0455 - val_scaled_adversarial_loss: 3.7062\n",
      "\n",
      "Epoch 00022: val_sparse_categorical_accuracy did not improve from 0.28977\n",
      "\n",
      "Epoch 00022: ReduceLROnPlateau reducing learning rate to 0.0006400000303983689.\n",
      "Epoch 23/100\n",
      "178/178 - 1s - loss: 0.5398 - sparse_categorical_crossentropy: 0.4266 - sparse_categorical_accuracy: 0.8657 - scaled_adversarial_loss: 0.1132 - val_loss: 14.1367 - val_sparse_categorical_crossentropy: 11.7082 - val_sparse_categorical_accuracy: 0.2074 - val_scaled_adversarial_loss: 2.4285\n",
      "\n",
      "Epoch 00023: val_sparse_categorical_accuracy did not improve from 0.28977\n",
      "Epoch 24/100\n",
      "178/178 - 1s - loss: 0.1549 - sparse_categorical_crossentropy: 0.1173 - sparse_categorical_accuracy: 0.9588 - scaled_adversarial_loss: 0.0376 - val_loss: 13.8524 - val_sparse_categorical_crossentropy: 11.4744 - val_sparse_categorical_accuracy: 0.2131 - val_scaled_adversarial_loss: 2.3780\n",
      "\n",
      "Epoch 00024: val_sparse_categorical_accuracy did not improve from 0.28977\n",
      "Epoch 25/100\n",
      "178/178 - 1s - loss: 0.0408 - sparse_categorical_crossentropy: 0.0295 - sparse_categorical_accuracy: 0.9933 - scaled_adversarial_loss: 0.0113 - val_loss: 6.8792 - val_sparse_categorical_crossentropy: 5.6662 - val_sparse_categorical_accuracy: 0.3295 - val_scaled_adversarial_loss: 1.2131\n",
      "\n",
      "Epoch 00025: val_sparse_categorical_accuracy improved from 0.28977 to 0.32955, saving model to /checkpoints\n",
      "Epoch 26/100\n",
      "178/178 - 1s - loss: 0.0122 - sparse_categorical_crossentropy: 0.0087 - sparse_categorical_accuracy: 0.9993 - scaled_adversarial_loss: 0.0035 - val_loss: 7.6051 - val_sparse_categorical_crossentropy: 6.2700 - val_sparse_categorical_accuracy: 0.2926 - val_scaled_adversarial_loss: 1.3351\n",
      "\n",
      "Epoch 00026: val_sparse_categorical_accuracy did not improve from 0.32955\n",
      "Epoch 27/100\n",
      "178/178 - 1s - loss: 0.0055 - sparse_categorical_crossentropy: 0.0040 - sparse_categorical_accuracy: 1.0000 - scaled_adversarial_loss: 0.0015 - val_loss: 4.9683 - val_sparse_categorical_crossentropy: 4.0780 - val_sparse_categorical_accuracy: 0.4119 - val_scaled_adversarial_loss: 0.8903\n",
      "\n",
      "Epoch 00027: val_sparse_categorical_accuracy improved from 0.32955 to 0.41193, saving model to /checkpoints\n",
      "Epoch 28/100\n",
      "178/178 - 1s - loss: 0.0038 - sparse_categorical_crossentropy: 0.0028 - sparse_categorical_accuracy: 1.0000 - scaled_adversarial_loss: 0.0010 - val_loss: 4.8882 - val_sparse_categorical_crossentropy: 4.0103 - val_sparse_categorical_accuracy: 0.4119 - val_scaled_adversarial_loss: 0.8779\n",
      "\n",
      "Epoch 00028: val_sparse_categorical_accuracy did not improve from 0.41193\n",
      "Epoch 29/100\n",
      "178/178 - 1s - loss: 0.0029 - sparse_categorical_crossentropy: 0.0021 - sparse_categorical_accuracy: 1.0000 - scaled_adversarial_loss: 8.0465e-04 - val_loss: 5.0885 - val_sparse_categorical_crossentropy: 4.1774 - val_sparse_categorical_accuracy: 0.4375 - val_scaled_adversarial_loss: 0.9111\n",
      "\n",
      "Epoch 00029: val_sparse_categorical_accuracy improved from 0.41193 to 0.43750, saving model to /checkpoints\n",
      "Epoch 30/100\n",
      "178/178 - 1s - loss: 0.0024 - sparse_categorical_crossentropy: 0.0017 - sparse_categorical_accuracy: 1.0000 - scaled_adversarial_loss: 6.6725e-04 - val_loss: 5.1059 - val_sparse_categorical_crossentropy: 4.1937 - val_sparse_categorical_accuracy: 0.4403 - val_scaled_adversarial_loss: 0.9121\n",
      "\n",
      "Epoch 00030: val_sparse_categorical_accuracy improved from 0.43750 to 0.44034, saving model to /checkpoints\n",
      "Epoch 31/100\n",
      "178/178 - 1s - loss: 0.0022 - sparse_categorical_crossentropy: 0.0016 - sparse_categorical_accuracy: 1.0000 - scaled_adversarial_loss: 6.2552e-04 - val_loss: 5.4500 - val_sparse_categorical_crossentropy: 4.4737 - val_sparse_categorical_accuracy: 0.4006 - val_scaled_adversarial_loss: 0.9763\n",
      "\n",
      "Epoch 00031: val_sparse_categorical_accuracy did not improve from 0.44034\n",
      "Epoch 32/100\n",
      "178/178 - 1s - loss: 0.0016 - sparse_categorical_crossentropy: 0.0011 - sparse_categorical_accuracy: 1.0000 - scaled_adversarial_loss: 4.6264e-04 - val_loss: 4.7529 - val_sparse_categorical_crossentropy: 3.8960 - val_sparse_categorical_accuracy: 0.4631 - val_scaled_adversarial_loss: 0.8570\n",
      "\n",
      "Epoch 00032: val_sparse_categorical_accuracy improved from 0.44034 to 0.46307, saving model to /checkpoints\n",
      "\n",
      "Epoch 00032: ReduceLROnPlateau reducing learning rate to 0.0005120000336319208.\n",
      "Epoch 33/100\n",
      "178/178 - 1s - loss: 0.0013 - sparse_categorical_crossentropy: 9.1070e-04 - sparse_categorical_accuracy: 1.0000 - scaled_adversarial_loss: 3.7482e-04 - val_loss: 4.7622 - val_sparse_categorical_crossentropy: 3.9031 - val_sparse_categorical_accuracy: 0.4545 - val_scaled_adversarial_loss: 0.8591\n",
      "\n",
      "Epoch 00033: val_sparse_categorical_accuracy did not improve from 0.46307\n",
      "Epoch 34/100\n",
      "178/178 - 1s - loss: 0.0012 - sparse_categorical_crossentropy: 8.1606e-04 - sparse_categorical_accuracy: 1.0000 - scaled_adversarial_loss: 3.3642e-04 - val_loss: 4.7887 - val_sparse_categorical_crossentropy: 3.9246 - val_sparse_categorical_accuracy: 0.4574 - val_scaled_adversarial_loss: 0.8640\n",
      "\n",
      "Epoch 00034: val_sparse_categorical_accuracy did not improve from 0.46307\n",
      "Epoch 35/100\n",
      "178/178 - 1s - loss: 0.0010 - sparse_categorical_crossentropy: 7.3877e-04 - sparse_categorical_accuracy: 1.0000 - scaled_adversarial_loss: 3.0527e-04 - val_loss: 4.8148 - val_sparse_categorical_crossentropy: 3.9459 - val_sparse_categorical_accuracy: 0.4602 - val_scaled_adversarial_loss: 0.8689\n",
      "\n",
      "Epoch 00035: val_sparse_categorical_accuracy did not improve from 0.46307\n",
      "Epoch 36/100\n",
      "178/178 - 1s - loss: 9.4978e-04 - sparse_categorical_crossentropy: 6.7163e-04 - sparse_categorical_accuracy: 1.0000 - scaled_adversarial_loss: 2.7815e-04 - val_loss: 4.8427 - val_sparse_categorical_crossentropy: 3.9685 - val_sparse_categorical_accuracy: 0.4631 - val_scaled_adversarial_loss: 0.8742\n",
      "\n",
      "Epoch 00036: val_sparse_categorical_accuracy did not improve from 0.46307\n",
      "Epoch 37/100\n",
      "178/178 - 1s - loss: 8.6547e-04 - sparse_categorical_crossentropy: 6.1179e-04 - sparse_categorical_accuracy: 1.0000 - scaled_adversarial_loss: 2.5369e-04 - val_loss: 4.8730 - val_sparse_categorical_crossentropy: 3.9933 - val_sparse_categorical_accuracy: 0.4631 - val_scaled_adversarial_loss: 0.8797\n",
      "\n",
      "Epoch 00037: val_sparse_categorical_accuracy did not improve from 0.46307\n",
      "Epoch 38/100\n",
      "178/178 - 1s - loss: 7.9051e-04 - sparse_categorical_crossentropy: 5.5844e-04 - sparse_categorical_accuracy: 1.0000 - scaled_adversarial_loss: 2.3207e-04 - val_loss: 4.9017 - val_sparse_categorical_crossentropy: 4.0166 - val_sparse_categorical_accuracy: 0.4631 - val_scaled_adversarial_loss: 0.8851\n",
      "\n",
      "Epoch 00038: val_sparse_categorical_accuracy did not improve from 0.46307\n",
      "Epoch 39/100\n",
      "178/178 - 1s - loss: 7.2211e-04 - sparse_categorical_crossentropy: 5.0967e-04 - sparse_categorical_accuracy: 1.0000 - scaled_adversarial_loss: 2.1244e-04 - val_loss: 4.9305 - val_sparse_categorical_crossentropy: 4.0401 - val_sparse_categorical_accuracy: 0.4631 - val_scaled_adversarial_loss: 0.8904\n",
      "\n",
      "Epoch 00039: val_sparse_categorical_accuracy did not improve from 0.46307\n",
      "Epoch 40/100\n",
      "178/178 - 1s - loss: 6.6025e-04 - sparse_categorical_crossentropy: 4.6572e-04 - sparse_categorical_accuracy: 1.0000 - scaled_adversarial_loss: 1.9452e-04 - val_loss: 4.9607 - val_sparse_categorical_crossentropy: 4.0647 - val_sparse_categorical_accuracy: 0.4631 - val_scaled_adversarial_loss: 0.8960\n",
      "\n",
      "Epoch 00040: val_sparse_categorical_accuracy did not improve from 0.46307\n",
      "Epoch 41/100\n",
      "178/178 - 1s - loss: 6.0386e-04 - sparse_categorical_crossentropy: 4.2557e-04 - sparse_categorical_accuracy: 1.0000 - scaled_adversarial_loss: 1.7828e-04 - val_loss: 4.9901 - val_sparse_categorical_crossentropy: 4.0887 - val_sparse_categorical_accuracy: 0.4631 - val_scaled_adversarial_loss: 0.9014\n",
      "\n",
      "Epoch 00041: val_sparse_categorical_accuracy did not improve from 0.46307\n",
      "Epoch 42/100\n",
      "178/178 - 1s - loss: 5.5287e-04 - sparse_categorical_crossentropy: 3.8939e-04 - sparse_categorical_accuracy: 1.0000 - scaled_adversarial_loss: 1.6348e-04 - val_loss: 5.0210 - val_sparse_categorical_crossentropy: 4.1139 - val_sparse_categorical_accuracy: 0.4631 - val_scaled_adversarial_loss: 0.9072\n",
      "\n",
      "Epoch 00042: val_sparse_categorical_accuracy did not improve from 0.46307\n",
      "\n",
      "Epoch 00042: ReduceLROnPlateau reducing learning rate to 0.00040960004553198815.\n",
      "Epoch 43/100\n",
      "178/178 - 1s - loss: 5.0525e-04 - sparse_categorical_crossentropy: 3.5564e-04 - sparse_categorical_accuracy: 1.0000 - scaled_adversarial_loss: 1.4961e-04 - val_loss: 5.0431 - val_sparse_categorical_crossentropy: 4.1316 - val_sparse_categorical_accuracy: 0.4602 - val_scaled_adversarial_loss: 0.9115\n",
      "\n",
      "Epoch 00043: val_sparse_categorical_accuracy did not improve from 0.46307\n",
      "Epoch 44/100\n",
      "178/178 - 1s - loss: 4.7047e-04 - sparse_categorical_crossentropy: 3.3097e-04 - sparse_categorical_accuracy: 1.0000 - scaled_adversarial_loss: 1.3949e-04 - val_loss: 5.0692 - val_sparse_categorical_crossentropy: 4.1529 - val_sparse_categorical_accuracy: 0.4574 - val_scaled_adversarial_loss: 0.9163\n",
      "\n",
      "Epoch 00044: val_sparse_categorical_accuracy did not improve from 0.46307\n",
      "Epoch 45/100\n",
      "178/178 - 1s - loss: 4.3800e-04 - sparse_categorical_crossentropy: 3.0796e-04 - sparse_categorical_accuracy: 1.0000 - scaled_adversarial_loss: 1.3005e-04 - val_loss: 5.0958 - val_sparse_categorical_crossentropy: 4.1746 - val_sparse_categorical_accuracy: 0.4574 - val_scaled_adversarial_loss: 0.9212\n",
      "\n",
      "Epoch 00045: val_sparse_categorical_accuracy did not improve from 0.46307\n",
      "Epoch 46/100\n",
      "178/178 - 1s - loss: 4.0706e-04 - sparse_categorical_crossentropy: 2.8602e-04 - sparse_categorical_accuracy: 1.0000 - scaled_adversarial_loss: 1.2104e-04 - val_loss: 5.1220 - val_sparse_categorical_crossentropy: 4.1959 - val_sparse_categorical_accuracy: 0.4602 - val_scaled_adversarial_loss: 0.9260\n",
      "\n",
      "Epoch 00046: val_sparse_categorical_accuracy did not improve from 0.46307\n",
      "Epoch 47/100\n",
      "178/178 - 1s - loss: 3.7812e-04 - sparse_categorical_crossentropy: 2.6548e-04 - sparse_categorical_accuracy: 1.0000 - scaled_adversarial_loss: 1.1264e-04 - val_loss: 5.1506 - val_sparse_categorical_crossentropy: 4.2193 - val_sparse_categorical_accuracy: 0.4574 - val_scaled_adversarial_loss: 0.9313\n",
      "\n",
      "Epoch 00047: val_sparse_categorical_accuracy did not improve from 0.46307\n",
      "Epoch 48/100\n",
      "178/178 - 1s - loss: 3.5071e-04 - sparse_categorical_crossentropy: 2.4606e-04 - sparse_categorical_accuracy: 1.0000 - scaled_adversarial_loss: 1.0465e-04 - val_loss: 5.1792 - val_sparse_categorical_crossentropy: 4.2426 - val_sparse_categorical_accuracy: 0.4574 - val_scaled_adversarial_loss: 0.9366\n",
      "\n",
      "Epoch 00048: val_sparse_categorical_accuracy did not improve from 0.46307\n",
      "Epoch 49/100\n",
      "178/178 - 1s - loss: 3.2501e-04 - sparse_categorical_crossentropy: 2.2783e-04 - sparse_categorical_accuracy: 1.0000 - scaled_adversarial_loss: 9.7183e-05 - val_loss: 5.2071 - val_sparse_categorical_crossentropy: 4.2654 - val_sparse_categorical_accuracy: 0.4574 - val_scaled_adversarial_loss: 0.9417\n",
      "\n",
      "Epoch 00049: val_sparse_categorical_accuracy did not improve from 0.46307\n",
      "Epoch 50/100\n",
      "178/178 - 1s - loss: 3.0071e-04 - sparse_categorical_crossentropy: 2.1064e-04 - sparse_categorical_accuracy: 1.0000 - scaled_adversarial_loss: 9.0069e-05 - val_loss: 5.2367 - val_sparse_categorical_crossentropy: 4.2896 - val_sparse_categorical_accuracy: 0.4574 - val_scaled_adversarial_loss: 0.9472\n",
      "\n",
      "Epoch 00050: val_sparse_categorical_accuracy did not improve from 0.46307\n",
      "Epoch 51/100\n",
      "178/178 - 1s - loss: 2.7796e-04 - sparse_categorical_crossentropy: 1.9455e-04 - sparse_categorical_accuracy: 1.0000 - scaled_adversarial_loss: 8.3409e-05 - val_loss: 5.2681 - val_sparse_categorical_crossentropy: 4.3151 - val_sparse_categorical_accuracy: 0.4574 - val_scaled_adversarial_loss: 0.9529\n",
      "\n",
      "Epoch 00051: val_sparse_categorical_accuracy did not improve from 0.46307\n",
      "Epoch 52/100\n",
      "178/178 - 1s - loss: 2.5645e-04 - sparse_categorical_crossentropy: 1.7932e-04 - sparse_categorical_accuracy: 1.0000 - scaled_adversarial_loss: 7.7121e-05 - val_loss: 5.2972 - val_sparse_categorical_crossentropy: 4.3389 - val_sparse_categorical_accuracy: 0.4574 - val_scaled_adversarial_loss: 0.9583\n",
      "\n",
      "Epoch 00052: val_sparse_categorical_accuracy did not improve from 0.46307\n",
      "\n",
      "Epoch 00052: ReduceLROnPlateau reducing learning rate to 0.00032768002711236477.\n",
      "Epoch 00052: early stopping\n"
     ]
    }
   ],
   "source": [
    "history=adv_model.fit(\n",
    "    train,validation_data=valid,verbose=2,\n",
    "    validation_steps=valid_steps,\n",
    "    epochs=100,callbacks=cb(model_weights));"
   ]
  },
  {
   "cell_type": "code",
   "execution_count": 14,
   "metadata": {
    "execution": {
     "iopub.execute_input": "2021-02-22T15:53:08.388307Z",
     "iopub.status.busy": "2021-02-22T15:53:08.380574Z",
     "iopub.status.idle": "2021-02-22T15:53:09.022332Z",
     "shell.execute_reply": "2021-02-22T15:53:09.022820Z"
    },
    "papermill": {
     "duration": 0.710271,
     "end_time": "2021-02-22T15:53:09.023003",
     "exception": false,
     "start_time": "2021-02-22T15:53:08.312732",
     "status": "completed"
    },
    "tags": []
   },
   "outputs": [
    {
     "data": {
      "image/png": "[encoded data removed]",
      "text/plain": [
       "<Figure size 648x648 with 3 Axes>"
      ]
     },
     "metadata": {
      "needs_background": "light"
     },
     "output_type": "display_data"
    }
   ],
   "source": [
    "keras_history_plot(history)"
   ]
  },
  {
   "cell_type": "code",
   "execution_count": 15,
   "metadata": {
    "execution": {
     "iopub.execute_input": "2021-02-22T15:53:09.162765Z",
     "iopub.status.busy": "2021-02-22T15:53:09.161861Z",
     "iopub.status.idle": "2021-02-22T15:53:09.662118Z",
     "shell.execute_reply": "2021-02-22T15:53:09.661560Z"
    },
    "papermill": {
     "duration": 0.576078,
     "end_time": "2021-02-22T15:53:09.662268",
     "exception": false,
     "start_time": "2021-02-22T15:53:09.086190",
     "status": "completed"
    },
    "tags": []
   },
   "outputs": [
    {
     "data": {
      "text/plain": [
       "{'loss': 4.734360694885254,\n",
       " 'sparse_categorical_crossentropy': 3.8711719512939453,\n",
       " 'sparse_categorical_accuracy': 0.42937853932380676,\n",
       " 'scaled_adversarial_loss': 0.8631892204284668}"
      ]
     },
     "execution_count": 15,
     "metadata": {},
     "output_type": "execute_result"
    }
   ],
   "source": [
    "adv_model.load_weights(model_weights)\n",
    "dict(zip(adv_model.metrics_names,adv_model.evaluate(\n",
    "    {'input':x_test,\n",
    "     'label':np.array(y_test[1],dtype='float32')},\n",
    "     verbose=0)))"
   ]
  },
  {
   "cell_type": "code",
   "execution_count": 16,
   "metadata": {
    "_kg_hide-input": true,
    "execution": {
     "iopub.execute_input": "2021-02-22T15:53:09.799573Z",
     "iopub.status.busy": "2021-02-22T15:53:09.798834Z",
     "iopub.status.idle": "2021-02-22T15:53:09.805258Z",
     "shell.execute_reply": "2021-02-22T15:53:09.804637Z"
    },
    "papermill": {
     "duration": 0.075858,
     "end_time": "2021-02-22T15:53:09.805417",
     "exception": false,
     "start_time": "2021-02-22T15:53:09.729559",
     "status": "completed"
    },
    "tags": []
   },
   "outputs": [
    {
     "data": {
      "text/html": [
       "<style>@import 'https://fonts.googleapis.com/css?family=Ewert'; #div8377373 {background:white; padding:2px;}\n",
       "    .textrg {display:inline-block; font-size:20px; line-height:1.1; padding:5px; font-family:Ewert,sans-serif; text-transform:uppercase;\n",
       "       background:radial-gradient(\n",
       "           circle farthest-corner at center center,\n",
       "           orange,magenta,cyan) no-repeat;\n",
       "       -webkit-background-clip:text;\n",
       "       -webkit-text-fill-color:transparent;}</style>\n",
       "    <div id='div8377373'><text class='textrg'>Models with Adversarial Regularization => CNN</text></div>"
      ],
      "text/plain": [
       "<IPython.core.display.HTML object>"
      ]
     },
     "metadata": {},
     "output_type": "display_data"
    }
   ],
   "source": [
    "%radial_gradient_header Models with Adversarial Regularization => CNN|20"
   ]
  },
  {
   "cell_type": "code",
   "execution_count": 17,
   "metadata": {
    "execution": {
     "iopub.execute_input": "2021-02-22T15:53:09.937785Z",
     "iopub.status.busy": "2021-02-22T15:53:09.936867Z",
     "iopub.status.idle": "2021-02-22T15:53:10.037625Z",
     "shell.execute_reply": "2021-02-22T15:53:10.036974Z"
    },
    "papermill": {
     "duration": 0.169752,
     "end_time": "2021-02-22T15:53:10.037784",
     "exception": false,
     "start_time": "2021-02-22T15:53:09.868032",
     "status": "completed"
    },
    "tags": []
   },
   "outputs": [],
   "source": [
    "base_model=tf.keras.Sequential([\n",
    "    tf.keras.Input((img_size,img_size,3),name='input'),\n",
    "    tf.keras.layers.Conv2D(32,(5,5),padding='same'),\n",
    "    tf.keras.layers.Activation('relu'),\n",
    "    tf.keras.layers.MaxPooling2D(pool_size=(2,2)),\n",
    "    tf.keras.layers.Dropout(.25),\n",
    "    tf.keras.layers.Conv2D(196,(5,5)),\n",
    "    tf.keras.layers.Activation('relu'),    \n",
    "    tf.keras.layers.MaxPooling2D(pool_size=(2,2)),\n",
    "    tf.keras.layers.Dropout(.25),\n",
    "    tf.keras.layers.GlobalMaxPooling2D(),    \n",
    "    tf.keras.layers.Dense(512),\n",
    "    tf.keras.layers.Activation('relu'),\n",
    "    tf.keras.layers.Dropout(.25),\n",
    "    tf.keras.layers.Dense(128),\n",
    "    tf.keras.layers.Activation('relu'),\n",
    "    tf.keras.layers.Dropout(.25),\n",
    "    tf.keras.layers.Dense(num_classes,activation='softmax')\n",
    "])\n",
    "adv_config=nsl.configs\\\n",
    ".make_adv_reg_config(multiplier=.2,adv_step_size=.05)\n",
    "adv_model=nsl.keras\\\n",
    ".AdversarialRegularization(base_model,adv_config=adv_config)\n",
    "adv_model.compile(optimizer='adam',metrics=['accuracy'],\n",
    "                  loss='sparse_categorical_crossentropy')"
   ]
  },
  {
   "cell_type": "code",
   "execution_count": 18,
   "metadata": {
    "_kg_hide-output": true,
    "execution": {
     "iopub.execute_input": "2021-02-22T15:53:10.174085Z",
     "iopub.status.busy": "2021-02-22T15:53:10.173220Z",
     "iopub.status.idle": "2021-02-22T15:55:49.369681Z",
     "shell.execute_reply": "2021-02-22T15:55:49.370183Z"
    },
    "papermill": {
     "duration": 159.268161,
     "end_time": "2021-02-22T15:55:49.370375",
     "exception": false,
     "start_time": "2021-02-22T15:53:10.102214",
     "status": "completed"
    },
    "tags": []
   },
   "outputs": [
    {
     "name": "stdout",
     "output_type": "stream",
     "text": [
      "Epoch 1/100\n",
      "178/178 - 6s - loss: 3.3127 - sparse_categorical_crossentropy: 2.7603 - sparse_categorical_accuracy: 0.0765 - scaled_adversarial_loss: 0.5524 - val_loss: 3.2676 - val_sparse_categorical_crossentropy: 2.7228 - val_sparse_categorical_accuracy: 0.0682 - val_scaled_adversarial_loss: 0.5448\n",
      "\n",
      "Epoch 00001: val_sparse_categorical_accuracy improved from -inf to 0.06818, saving model to /checkpoints\n",
      "Epoch 2/100\n",
      "178/178 - 1s - loss: 3.2891 - sparse_categorical_crossentropy: 2.7405 - sparse_categorical_accuracy: 0.0807 - scaled_adversarial_loss: 0.5486 - val_loss: 3.2489 - val_sparse_categorical_crossentropy: 2.7071 - val_sparse_categorical_accuracy: 0.1051 - val_scaled_adversarial_loss: 0.5418\n",
      "\n",
      "Epoch 00002: val_sparse_categorical_accuracy improved from 0.06818 to 0.10511, saving model to /checkpoints\n",
      "Epoch 3/100\n",
      "178/178 - 1s - loss: 3.2797 - sparse_categorical_crossentropy: 2.7331 - sparse_categorical_accuracy: 0.0885 - scaled_adversarial_loss: 0.5466 - val_loss: 3.2146 - val_sparse_categorical_crossentropy: 2.6781 - val_sparse_categorical_accuracy: 0.1165 - val_scaled_adversarial_loss: 0.5365\n",
      "\n",
      "Epoch 00003: val_sparse_categorical_accuracy improved from 0.10511 to 0.11648, saving model to /checkpoints\n",
      "Epoch 4/100\n",
      "178/178 - 1s - loss: 3.2224 - sparse_categorical_crossentropy: 2.6846 - sparse_categorical_accuracy: 0.0998 - scaled_adversarial_loss: 0.5379 - val_loss: 3.1194 - val_sparse_categorical_crossentropy: 2.5974 - val_sparse_categorical_accuracy: 0.1108 - val_scaled_adversarial_loss: 0.5219\n",
      "\n",
      "Epoch 00004: val_sparse_categorical_accuracy did not improve from 0.11648\n",
      "Epoch 5/100\n",
      "178/178 - 1s - loss: 3.0982 - sparse_categorical_crossentropy: 2.5791 - sparse_categorical_accuracy: 0.1209 - scaled_adversarial_loss: 0.5190 - val_loss: 2.9908 - val_sparse_categorical_crossentropy: 2.4895 - val_sparse_categorical_accuracy: 0.1506 - val_scaled_adversarial_loss: 0.5013\n",
      "\n",
      "Epoch 00005: val_sparse_categorical_accuracy improved from 0.11648 to 0.15057, saving model to /checkpoints\n",
      "Epoch 6/100\n",
      "178/178 - 1s - loss: 2.9615 - sparse_categorical_crossentropy: 2.4642 - sparse_categorical_accuracy: 0.1498 - scaled_adversarial_loss: 0.4973 - val_loss: 2.8848 - val_sparse_categorical_crossentropy: 2.3999 - val_sparse_categorical_accuracy: 0.2102 - val_scaled_adversarial_loss: 0.4850\n",
      "\n",
      "Epoch 00006: val_sparse_categorical_accuracy improved from 0.15057 to 0.21023, saving model to /checkpoints\n",
      "Epoch 7/100\n",
      "178/178 - 1s - loss: 2.8425 - sparse_categorical_crossentropy: 2.3657 - sparse_categorical_accuracy: 0.1893 - scaled_adversarial_loss: 0.4768 - val_loss: 2.8028 - val_sparse_categorical_crossentropy: 2.3303 - val_sparse_categorical_accuracy: 0.2273 - val_scaled_adversarial_loss: 0.4725\n",
      "\n",
      "Epoch 00007: val_sparse_categorical_accuracy improved from 0.21023 to 0.22727, saving model to /checkpoints\n",
      "Epoch 8/100\n",
      "178/178 - 1s - loss: 2.7253 - sparse_categorical_crossentropy: 2.2653 - sparse_categorical_accuracy: 0.2185 - scaled_adversarial_loss: 0.4600 - val_loss: 2.6759 - val_sparse_categorical_crossentropy: 2.2227 - val_sparse_categorical_accuracy: 0.2273 - val_scaled_adversarial_loss: 0.4532\n",
      "\n",
      "Epoch 00008: val_sparse_categorical_accuracy did not improve from 0.22727\n",
      "Epoch 9/100\n",
      "178/178 - 1s - loss: 2.5801 - sparse_categorical_crossentropy: 2.1465 - sparse_categorical_accuracy: 0.2598 - scaled_adversarial_loss: 0.4336 - val_loss: 2.5990 - val_sparse_categorical_crossentropy: 2.1573 - val_sparse_categorical_accuracy: 0.2614 - val_scaled_adversarial_loss: 0.4417\n",
      "\n",
      "Epoch 00009: val_sparse_categorical_accuracy improved from 0.22727 to 0.26136, saving model to /checkpoints\n",
      "Epoch 10/100\n",
      "178/178 - 1s - loss: 2.4498 - sparse_categorical_crossentropy: 2.0352 - sparse_categorical_accuracy: 0.3045 - scaled_adversarial_loss: 0.4146 - val_loss: 2.4406 - val_sparse_categorical_crossentropy: 2.0248 - val_sparse_categorical_accuracy: 0.3295 - val_scaled_adversarial_loss: 0.4158\n",
      "\n",
      "Epoch 00010: val_sparse_categorical_accuracy improved from 0.26136 to 0.32955, saving model to /checkpoints\n",
      "Epoch 11/100\n",
      "178/178 - 1s - loss: 2.3653 - sparse_categorical_crossentropy: 1.9666 - sparse_categorical_accuracy: 0.3169 - scaled_adversarial_loss: 0.3987 - val_loss: 2.3424 - val_sparse_categorical_crossentropy: 1.9422 - val_sparse_categorical_accuracy: 0.3722 - val_scaled_adversarial_loss: 0.4002\n",
      "\n",
      "Epoch 00011: val_sparse_categorical_accuracy improved from 0.32955 to 0.37216, saving model to /checkpoints\n",
      "Epoch 12/100\n",
      "178/178 - 1s - loss: 2.2085 - sparse_categorical_crossentropy: 1.8314 - sparse_categorical_accuracy: 0.3736 - scaled_adversarial_loss: 0.3771 - val_loss: 2.2960 - val_sparse_categorical_crossentropy: 1.9019 - val_sparse_categorical_accuracy: 0.3466 - val_scaled_adversarial_loss: 0.3942\n",
      "\n",
      "Epoch 00012: val_sparse_categorical_accuracy did not improve from 0.37216\n",
      "Epoch 13/100\n",
      "178/178 - 1s - loss: 2.1334 - sparse_categorical_crossentropy: 1.7743 - sparse_categorical_accuracy: 0.3856 - scaled_adversarial_loss: 0.3591 - val_loss: 2.3016 - val_sparse_categorical_crossentropy: 1.9051 - val_sparse_categorical_accuracy: 0.3466 - val_scaled_adversarial_loss: 0.3965\n",
      "\n",
      "Epoch 00013: val_sparse_categorical_accuracy did not improve from 0.37216\n",
      "Epoch 14/100\n",
      "178/178 - 1s - loss: 1.9800 - sparse_categorical_crossentropy: 1.6423 - sparse_categorical_accuracy: 0.4452 - scaled_adversarial_loss: 0.3376 - val_loss: 2.2222 - val_sparse_categorical_crossentropy: 1.8379 - val_sparse_categorical_accuracy: 0.3750 - val_scaled_adversarial_loss: 0.3843\n",
      "\n",
      "Epoch 00014: val_sparse_categorical_accuracy improved from 0.37216 to 0.37500, saving model to /checkpoints\n",
      "Epoch 15/100\n",
      "178/178 - 1s - loss: 1.9336 - sparse_categorical_crossentropy: 1.6033 - sparse_categorical_accuracy: 0.4395 - scaled_adversarial_loss: 0.3303 - val_loss: 2.0671 - val_sparse_categorical_crossentropy: 1.7076 - val_sparse_categorical_accuracy: 0.4460 - val_scaled_adversarial_loss: 0.3595\n",
      "\n",
      "Epoch 00015: val_sparse_categorical_accuracy improved from 0.37500 to 0.44602, saving model to /checkpoints\n",
      "Epoch 16/100\n",
      "178/178 - 1s - loss: 1.8399 - sparse_categorical_crossentropy: 1.5280 - sparse_categorical_accuracy: 0.4850 - scaled_adversarial_loss: 0.3120 - val_loss: 2.0705 - val_sparse_categorical_crossentropy: 1.7094 - val_sparse_categorical_accuracy: 0.4205 - val_scaled_adversarial_loss: 0.3611\n",
      "\n",
      "Epoch 00016: val_sparse_categorical_accuracy did not improve from 0.44602\n",
      "Epoch 17/100\n",
      "178/178 - 1s - loss: 1.7702 - sparse_categorical_crossentropy: 1.4684 - sparse_categorical_accuracy: 0.4924 - scaled_adversarial_loss: 0.3018 - val_loss: 2.0306 - val_sparse_categorical_crossentropy: 1.6752 - val_sparse_categorical_accuracy: 0.4688 - val_scaled_adversarial_loss: 0.3554\n",
      "\n",
      "Epoch 00017: val_sparse_categorical_accuracy improved from 0.44602 to 0.46875, saving model to /checkpoints\n",
      "Epoch 18/100\n",
      "178/178 - 1s - loss: 1.6912 - sparse_categorical_crossentropy: 1.4045 - sparse_categorical_accuracy: 0.5097 - scaled_adversarial_loss: 0.2867 - val_loss: 1.9710 - val_sparse_categorical_crossentropy: 1.6251 - val_sparse_categorical_accuracy: 0.4602 - val_scaled_adversarial_loss: 0.3460\n",
      "\n",
      "Epoch 00018: val_sparse_categorical_accuracy did not improve from 0.46875\n",
      "Epoch 19/100\n",
      "178/178 - 1s - loss: 1.6119 - sparse_categorical_crossentropy: 1.3384 - sparse_categorical_accuracy: 0.5435 - scaled_adversarial_loss: 0.2735 - val_loss: 1.9647 - val_sparse_categorical_crossentropy: 1.6156 - val_sparse_categorical_accuracy: 0.4659 - val_scaled_adversarial_loss: 0.3491\n",
      "\n",
      "Epoch 00019: val_sparse_categorical_accuracy did not improve from 0.46875\n",
      "Epoch 20/100\n",
      "178/178 - 1s - loss: 1.5671 - sparse_categorical_crossentropy: 1.3018 - sparse_categorical_accuracy: 0.5626 - scaled_adversarial_loss: 0.2653 - val_loss: 2.0018 - val_sparse_categorical_crossentropy: 1.6481 - val_sparse_categorical_accuracy: 0.4545 - val_scaled_adversarial_loss: 0.3537\n",
      "\n",
      "Epoch 00020: val_sparse_categorical_accuracy did not improve from 0.46875\n",
      "Epoch 21/100\n",
      "178/178 - 1s - loss: 1.4667 - sparse_categorical_crossentropy: 1.2111 - sparse_categorical_accuracy: 0.5971 - scaled_adversarial_loss: 0.2555 - val_loss: 1.8670 - val_sparse_categorical_crossentropy: 1.5340 - val_sparse_categorical_accuracy: 0.4972 - val_scaled_adversarial_loss: 0.3330\n",
      "\n",
      "Epoch 00021: val_sparse_categorical_accuracy improved from 0.46875 to 0.49716, saving model to /checkpoints\n",
      "Epoch 22/100\n",
      "178/178 - 1s - loss: 1.4238 - sparse_categorical_crossentropy: 1.1805 - sparse_categorical_accuracy: 0.5961 - scaled_adversarial_loss: 0.2433 - val_loss: 1.8868 - val_sparse_categorical_crossentropy: 1.5516 - val_sparse_categorical_accuracy: 0.4972 - val_scaled_adversarial_loss: 0.3352\n",
      "\n",
      "Epoch 00022: val_sparse_categorical_accuracy did not improve from 0.49716\n",
      "Epoch 23/100\n",
      "178/178 - 2s - loss: 1.3826 - sparse_categorical_crossentropy: 1.1441 - sparse_categorical_accuracy: 0.6137 - scaled_adversarial_loss: 0.2385 - val_loss: 1.9090 - val_sparse_categorical_crossentropy: 1.5677 - val_sparse_categorical_accuracy: 0.5028 - val_scaled_adversarial_loss: 0.3413\n",
      "\n",
      "Epoch 00023: val_sparse_categorical_accuracy improved from 0.49716 to 0.50284, saving model to /checkpoints\n",
      "Epoch 24/100\n",
      "178/178 - 1s - loss: 1.3709 - sparse_categorical_crossentropy: 1.1370 - sparse_categorical_accuracy: 0.6172 - scaled_adversarial_loss: 0.2338 - val_loss: 1.9499 - val_sparse_categorical_crossentropy: 1.6011 - val_sparse_categorical_accuracy: 0.4773 - val_scaled_adversarial_loss: 0.3488\n",
      "\n",
      "Epoch 00024: val_sparse_categorical_accuracy did not improve from 0.50284\n",
      "Epoch 25/100\n",
      "178/178 - 1s - loss: 1.2798 - sparse_categorical_crossentropy: 1.0568 - sparse_categorical_accuracy: 0.6352 - scaled_adversarial_loss: 0.2231 - val_loss: 1.9189 - val_sparse_categorical_crossentropy: 1.5728 - val_sparse_categorical_accuracy: 0.4972 - val_scaled_adversarial_loss: 0.3461\n",
      "\n",
      "Epoch 00025: val_sparse_categorical_accuracy did not improve from 0.50284\n",
      "Epoch 26/100\n",
      "178/178 - 2s - loss: 1.3068 - sparse_categorical_crossentropy: 1.0845 - sparse_categorical_accuracy: 0.6338 - scaled_adversarial_loss: 0.2223 - val_loss: 1.8415 - val_sparse_categorical_crossentropy: 1.5091 - val_sparse_categorical_accuracy: 0.5114 - val_scaled_adversarial_loss: 0.3324\n",
      "\n",
      "Epoch 00026: val_sparse_categorical_accuracy improved from 0.50284 to 0.51136, saving model to /checkpoints\n",
      "Epoch 27/100\n",
      "178/178 - 1s - loss: 1.2384 - sparse_categorical_crossentropy: 1.0263 - sparse_categorical_accuracy: 0.6468 - scaled_adversarial_loss: 0.2121 - val_loss: 1.7451 - val_sparse_categorical_crossentropy: 1.4287 - val_sparse_categorical_accuracy: 0.5455 - val_scaled_adversarial_loss: 0.3164\n",
      "\n",
      "Epoch 00027: val_sparse_categorical_accuracy improved from 0.51136 to 0.54545, saving model to /checkpoints\n",
      "Epoch 28/100\n",
      "178/178 - 1s - loss: 1.1674 - sparse_categorical_crossentropy: 0.9664 - sparse_categorical_accuracy: 0.6743 - scaled_adversarial_loss: 0.2010 - val_loss: 1.8055 - val_sparse_categorical_crossentropy: 1.4766 - val_sparse_categorical_accuracy: 0.5284 - val_scaled_adversarial_loss: 0.3289\n",
      "\n",
      "Epoch 00028: val_sparse_categorical_accuracy did not improve from 0.54545\n",
      "Epoch 29/100\n",
      "178/178 - 1s - loss: 1.1378 - sparse_categorical_crossentropy: 0.9405 - sparse_categorical_accuracy: 0.6764 - scaled_adversarial_loss: 0.1973 - val_loss: 1.7541 - val_sparse_categorical_crossentropy: 1.4354 - val_sparse_categorical_accuracy: 0.5597 - val_scaled_adversarial_loss: 0.3187\n",
      "\n",
      "Epoch 00029: val_sparse_categorical_accuracy improved from 0.54545 to 0.55966, saving model to /checkpoints\n",
      "Epoch 30/100\n",
      "178/178 - 1s - loss: 1.1017 - sparse_categorical_crossentropy: 0.9101 - sparse_categorical_accuracy: 0.6902 - scaled_adversarial_loss: 0.1916 - val_loss: 1.7590 - val_sparse_categorical_crossentropy: 1.4379 - val_sparse_categorical_accuracy: 0.5568 - val_scaled_adversarial_loss: 0.3211\n",
      "\n",
      "Epoch 00030: val_sparse_categorical_accuracy did not improve from 0.55966\n",
      "Epoch 31/100\n",
      "178/178 - 1s - loss: 1.0879 - sparse_categorical_crossentropy: 0.9014 - sparse_categorical_accuracy: 0.6898 - scaled_adversarial_loss: 0.1865 - val_loss: 1.8588 - val_sparse_categorical_crossentropy: 1.5184 - val_sparse_categorical_accuracy: 0.5312 - val_scaled_adversarial_loss: 0.3404\n",
      "\n",
      "Epoch 00031: val_sparse_categorical_accuracy did not improve from 0.55966\n",
      "Epoch 32/100\n",
      "178/178 - 1s - loss: 1.1374 - sparse_categorical_crossentropy: 0.9422 - sparse_categorical_accuracy: 0.6778 - scaled_adversarial_loss: 0.1952 - val_loss: 1.7990 - val_sparse_categorical_crossentropy: 1.4677 - val_sparse_categorical_accuracy: 0.5341 - val_scaled_adversarial_loss: 0.3313\n",
      "\n",
      "Epoch 00032: val_sparse_categorical_accuracy did not improve from 0.55966\n",
      "Epoch 33/100\n",
      "178/178 - 1s - loss: 1.0712 - sparse_categorical_crossentropy: 0.8846 - sparse_categorical_accuracy: 0.7096 - scaled_adversarial_loss: 0.1866 - val_loss: 1.6974 - val_sparse_categorical_crossentropy: 1.3840 - val_sparse_categorical_accuracy: 0.5739 - val_scaled_adversarial_loss: 0.3134\n",
      "\n",
      "Epoch 00033: val_sparse_categorical_accuracy improved from 0.55966 to 0.57386, saving model to /checkpoints\n",
      "Epoch 34/100\n",
      "178/178 - 1s - loss: 0.9779 - sparse_categorical_crossentropy: 0.8077 - sparse_categorical_accuracy: 0.7184 - scaled_adversarial_loss: 0.1701 - val_loss: 1.7696 - val_sparse_categorical_crossentropy: 1.4404 - val_sparse_categorical_accuracy: 0.5511 - val_scaled_adversarial_loss: 0.3292\n",
      "\n",
      "Epoch 00034: val_sparse_categorical_accuracy did not improve from 0.57386\n",
      "Epoch 35/100\n",
      "178/178 - 1s - loss: 0.9919 - sparse_categorical_crossentropy: 0.8180 - sparse_categorical_accuracy: 0.7247 - scaled_adversarial_loss: 0.1739 - val_loss: 1.5996 - val_sparse_categorical_crossentropy: 1.3031 - val_sparse_categorical_accuracy: 0.5966 - val_scaled_adversarial_loss: 0.2965\n",
      "\n",
      "Epoch 00035: val_sparse_categorical_accuracy improved from 0.57386 to 0.59659, saving model to /checkpoints\n",
      "Epoch 36/100\n",
      "178/178 - 1s - loss: 0.9294 - sparse_categorical_crossentropy: 0.7651 - sparse_categorical_accuracy: 0.7448 - scaled_adversarial_loss: 0.1643 - val_loss: 1.8114 - val_sparse_categorical_crossentropy: 1.4757 - val_sparse_categorical_accuracy: 0.5426 - val_scaled_adversarial_loss: 0.3357\n",
      "\n",
      "Epoch 00036: val_sparse_categorical_accuracy did not improve from 0.59659\n",
      "Epoch 37/100\n",
      "178/178 - 1s - loss: 0.9457 - sparse_categorical_crossentropy: 0.7806 - sparse_categorical_accuracy: 0.7318 - scaled_adversarial_loss: 0.1652 - val_loss: 1.7866 - val_sparse_categorical_crossentropy: 1.4552 - val_sparse_categorical_accuracy: 0.5455 - val_scaled_adversarial_loss: 0.3314\n",
      "\n",
      "Epoch 00037: val_sparse_categorical_accuracy did not improve from 0.59659\n",
      "Epoch 38/100\n",
      "178/178 - 1s - loss: 0.8628 - sparse_categorical_crossentropy: 0.7098 - sparse_categorical_accuracy: 0.7607 - scaled_adversarial_loss: 0.1531 - val_loss: 1.6408 - val_sparse_categorical_crossentropy: 1.3323 - val_sparse_categorical_accuracy: 0.5767 - val_scaled_adversarial_loss: 0.3085\n",
      "\n",
      "Epoch 00038: val_sparse_categorical_accuracy did not improve from 0.59659\n",
      "Epoch 39/100\n",
      "178/178 - 1s - loss: 0.9192 - sparse_categorical_crossentropy: 0.7675 - sparse_categorical_accuracy: 0.7406 - scaled_adversarial_loss: 0.1517 - val_loss: 1.6256 - val_sparse_categorical_crossentropy: 1.3239 - val_sparse_categorical_accuracy: 0.5852 - val_scaled_adversarial_loss: 0.3016\n",
      "\n",
      "Epoch 00039: val_sparse_categorical_accuracy did not improve from 0.59659\n",
      "Epoch 40/100\n",
      "178/178 - 1s - loss: 0.8564 - sparse_categorical_crossentropy: 0.7084 - sparse_categorical_accuracy: 0.7593 - scaled_adversarial_loss: 0.1480 - val_loss: 1.9399 - val_sparse_categorical_crossentropy: 1.5793 - val_sparse_categorical_accuracy: 0.5739 - val_scaled_adversarial_loss: 0.3606\n",
      "\n",
      "Epoch 00040: val_sparse_categorical_accuracy did not improve from 0.59659\n",
      "Epoch 41/100\n",
      "178/178 - 1s - loss: 0.8317 - sparse_categorical_crossentropy: 0.6828 - sparse_categorical_accuracy: 0.7698 - scaled_adversarial_loss: 0.1490 - val_loss: 1.9037 - val_sparse_categorical_crossentropy: 1.5502 - val_sparse_categorical_accuracy: 0.5597 - val_scaled_adversarial_loss: 0.3536\n",
      "\n",
      "Epoch 00041: val_sparse_categorical_accuracy did not improve from 0.59659\n",
      "Epoch 42/100\n",
      "178/178 - 1s - loss: 0.8438 - sparse_categorical_crossentropy: 0.7011 - sparse_categorical_accuracy: 0.7649 - scaled_adversarial_loss: 0.1427 - val_loss: 1.8783 - val_sparse_categorical_crossentropy: 1.5278 - val_sparse_categorical_accuracy: 0.5625 - val_scaled_adversarial_loss: 0.3505\n",
      "\n",
      "Epoch 00042: val_sparse_categorical_accuracy did not improve from 0.59659\n",
      "Epoch 43/100\n",
      "178/178 - 1s - loss: 0.8223 - sparse_categorical_crossentropy: 0.6770 - sparse_categorical_accuracy: 0.7624 - scaled_adversarial_loss: 0.1453 - val_loss: 1.7055 - val_sparse_categorical_crossentropy: 1.3855 - val_sparse_categorical_accuracy: 0.5994 - val_scaled_adversarial_loss: 0.3199\n",
      "\n",
      "Epoch 00043: val_sparse_categorical_accuracy improved from 0.59659 to 0.59943, saving model to /checkpoints\n",
      "Epoch 44/100\n",
      "178/178 - 2s - loss: 0.8943 - sparse_categorical_crossentropy: 0.7402 - sparse_categorical_accuracy: 0.7540 - scaled_adversarial_loss: 0.1541 - val_loss: 1.7200 - val_sparse_categorical_crossentropy: 1.3959 - val_sparse_categorical_accuracy: 0.5966 - val_scaled_adversarial_loss: 0.3241\n",
      "\n",
      "Epoch 00044: val_sparse_categorical_accuracy did not improve from 0.59943\n",
      "Epoch 45/100\n",
      "178/178 - 1s - loss: 0.8321 - sparse_categorical_crossentropy: 0.6896 - sparse_categorical_accuracy: 0.7751 - scaled_adversarial_loss: 0.1425 - val_loss: 1.6762 - val_sparse_categorical_crossentropy: 1.3626 - val_sparse_categorical_accuracy: 0.5994 - val_scaled_adversarial_loss: 0.3137\n",
      "\n",
      "Epoch 00045: val_sparse_categorical_accuracy did not improve from 0.59943\n",
      "\n",
      "Epoch 00045: ReduceLROnPlateau reducing learning rate to 0.000800000037997961.\n",
      "Epoch 46/100\n",
      "178/178 - 1s - loss: 0.7337 - sparse_categorical_crossentropy: 0.6101 - sparse_categorical_accuracy: 0.7931 - scaled_adversarial_loss: 0.1236 - val_loss: 1.6277 - val_sparse_categorical_crossentropy: 1.3194 - val_sparse_categorical_accuracy: 0.5795 - val_scaled_adversarial_loss: 0.3083\n",
      "\n",
      "Epoch 00046: val_sparse_categorical_accuracy did not improve from 0.59943\n",
      "Epoch 47/100\n",
      "178/178 - 2s - loss: 0.7181 - sparse_categorical_crossentropy: 0.5924 - sparse_categorical_accuracy: 0.7952 - scaled_adversarial_loss: 0.1257 - val_loss: 1.7708 - val_sparse_categorical_crossentropy: 1.4363 - val_sparse_categorical_accuracy: 0.5767 - val_scaled_adversarial_loss: 0.3345\n",
      "\n",
      "Epoch 00047: val_sparse_categorical_accuracy did not improve from 0.59943\n",
      "Epoch 48/100\n",
      "178/178 - 1s - loss: 0.6994 - sparse_categorical_crossentropy: 0.5755 - sparse_categorical_accuracy: 0.8033 - scaled_adversarial_loss: 0.1239 - val_loss: 1.8586 - val_sparse_categorical_crossentropy: 1.5096 - val_sparse_categorical_accuracy: 0.5966 - val_scaled_adversarial_loss: 0.3490\n",
      "\n",
      "Epoch 00048: val_sparse_categorical_accuracy did not improve from 0.59943\n",
      "Epoch 49/100\n",
      "178/178 - 1s - loss: 0.6756 - sparse_categorical_crossentropy: 0.5505 - sparse_categorical_accuracy: 0.8104 - scaled_adversarial_loss: 0.1251 - val_loss: 1.7293 - val_sparse_categorical_crossentropy: 1.4025 - val_sparse_categorical_accuracy: 0.5938 - val_scaled_adversarial_loss: 0.3268\n",
      "\n",
      "Epoch 00049: val_sparse_categorical_accuracy did not improve from 0.59943\n",
      "Epoch 50/100\n",
      "178/178 - 1s - loss: 0.6394 - sparse_categorical_crossentropy: 0.5268 - sparse_categorical_accuracy: 0.8294 - scaled_adversarial_loss: 0.1126 - val_loss: 1.7351 - val_sparse_categorical_crossentropy: 1.4064 - val_sparse_categorical_accuracy: 0.6080 - val_scaled_adversarial_loss: 0.3286\n",
      "\n",
      "Epoch 00050: val_sparse_categorical_accuracy improved from 0.59943 to 0.60795, saving model to /checkpoints\n",
      "Epoch 51/100\n",
      "178/178 - 1s - loss: 0.6445 - sparse_categorical_crossentropy: 0.5326 - sparse_categorical_accuracy: 0.8178 - scaled_adversarial_loss: 0.1120 - val_loss: 1.7892 - val_sparse_categorical_crossentropy: 1.4518 - val_sparse_categorical_accuracy: 0.6051 - val_scaled_adversarial_loss: 0.3374\n",
      "\n",
      "Epoch 00051: val_sparse_categorical_accuracy did not improve from 0.60795\n",
      "Epoch 52/100\n",
      "178/178 - 1s - loss: 0.6183 - sparse_categorical_crossentropy: 0.5071 - sparse_categorical_accuracy: 0.8273 - scaled_adversarial_loss: 0.1112 - val_loss: 1.7768 - val_sparse_categorical_crossentropy: 1.4373 - val_sparse_categorical_accuracy: 0.6222 - val_scaled_adversarial_loss: 0.3394\n",
      "\n",
      "Epoch 00052: val_sparse_categorical_accuracy improved from 0.60795 to 0.62216, saving model to /checkpoints\n",
      "Epoch 53/100\n",
      "178/178 - 1s - loss: 0.6112 - sparse_categorical_crossentropy: 0.5018 - sparse_categorical_accuracy: 0.8266 - scaled_adversarial_loss: 0.1094 - val_loss: 1.8108 - val_sparse_categorical_crossentropy: 1.4659 - val_sparse_categorical_accuracy: 0.5938 - val_scaled_adversarial_loss: 0.3449\n",
      "\n",
      "Epoch 00053: val_sparse_categorical_accuracy did not improve from 0.62216\n",
      "Epoch 54/100\n",
      "178/178 - 1s - loss: 0.6386 - sparse_categorical_crossentropy: 0.5226 - sparse_categorical_accuracy: 0.8231 - scaled_adversarial_loss: 0.1160 - val_loss: 1.7165 - val_sparse_categorical_crossentropy: 1.3878 - val_sparse_categorical_accuracy: 0.5994 - val_scaled_adversarial_loss: 0.3287\n",
      "\n",
      "Epoch 00054: val_sparse_categorical_accuracy did not improve from 0.62216\n",
      "Epoch 55/100\n",
      "178/178 - 1s - loss: 0.6270 - sparse_categorical_crossentropy: 0.5155 - sparse_categorical_accuracy: 0.8216 - scaled_adversarial_loss: 0.1115 - val_loss: 1.7980 - val_sparse_categorical_crossentropy: 1.4551 - val_sparse_categorical_accuracy: 0.6108 - val_scaled_adversarial_loss: 0.3428\n",
      "\n",
      "Epoch 00055: val_sparse_categorical_accuracy did not improve from 0.62216\n",
      "\n",
      "Epoch 00055: ReduceLROnPlateau reducing learning rate to 0.0006400000303983689.\n",
      "Epoch 56/100\n",
      "178/178 - 1s - loss: 0.6115 - sparse_categorical_crossentropy: 0.5019 - sparse_categorical_accuracy: 0.8301 - scaled_adversarial_loss: 0.1096 - val_loss: 1.7895 - val_sparse_categorical_crossentropy: 1.4499 - val_sparse_categorical_accuracy: 0.6051 - val_scaled_adversarial_loss: 0.3395\n",
      "\n",
      "Epoch 00056: val_sparse_categorical_accuracy did not improve from 0.62216\n",
      "Epoch 57/100\n",
      "178/178 - 1s - loss: 0.5629 - sparse_categorical_crossentropy: 0.4647 - sparse_categorical_accuracy: 0.8449 - scaled_adversarial_loss: 0.0983 - val_loss: 1.9129 - val_sparse_categorical_crossentropy: 1.5482 - val_sparse_categorical_accuracy: 0.6108 - val_scaled_adversarial_loss: 0.3647\n",
      "\n",
      "Epoch 00057: val_sparse_categorical_accuracy did not improve from 0.62216\n",
      "Epoch 58/100\n",
      "178/178 - 1s - loss: 0.5556 - sparse_categorical_crossentropy: 0.4550 - sparse_categorical_accuracy: 0.8463 - scaled_adversarial_loss: 0.1006 - val_loss: 1.7817 - val_sparse_categorical_crossentropy: 1.4421 - val_sparse_categorical_accuracy: 0.5852 - val_scaled_adversarial_loss: 0.3397\n",
      "\n",
      "Epoch 00058: val_sparse_categorical_accuracy did not improve from 0.62216\n",
      "Epoch 59/100\n",
      "178/178 - 1s - loss: 0.5673 - sparse_categorical_crossentropy: 0.4674 - sparse_categorical_accuracy: 0.8424 - scaled_adversarial_loss: 0.0999 - val_loss: 1.7563 - val_sparse_categorical_crossentropy: 1.4227 - val_sparse_categorical_accuracy: 0.6193 - val_scaled_adversarial_loss: 0.3336\n",
      "\n",
      "Epoch 00059: val_sparse_categorical_accuracy did not improve from 0.62216\n",
      "Epoch 60/100\n",
      "178/178 - 1s - loss: 0.5457 - sparse_categorical_crossentropy: 0.4508 - sparse_categorical_accuracy: 0.8523 - scaled_adversarial_loss: 0.0949 - val_loss: 1.6768 - val_sparse_categorical_crossentropy: 1.3547 - val_sparse_categorical_accuracy: 0.6136 - val_scaled_adversarial_loss: 0.3221\n",
      "\n",
      "Epoch 00060: val_sparse_categorical_accuracy did not improve from 0.62216\n",
      "Epoch 61/100\n",
      "178/178 - 1s - loss: 0.5244 - sparse_categorical_crossentropy: 0.4356 - sparse_categorical_accuracy: 0.8527 - scaled_adversarial_loss: 0.0888 - val_loss: 1.7483 - val_sparse_categorical_crossentropy: 1.4129 - val_sparse_categorical_accuracy: 0.6051 - val_scaled_adversarial_loss: 0.3353\n",
      "\n",
      "Epoch 00061: val_sparse_categorical_accuracy did not improve from 0.62216\n",
      "Epoch 62/100\n",
      "178/178 - 2s - loss: 0.4932 - sparse_categorical_crossentropy: 0.4080 - sparse_categorical_accuracy: 0.8601 - scaled_adversarial_loss: 0.0852 - val_loss: 1.6930 - val_sparse_categorical_crossentropy: 1.3668 - val_sparse_categorical_accuracy: 0.6136 - val_scaled_adversarial_loss: 0.3262\n",
      "\n",
      "Epoch 00062: val_sparse_categorical_accuracy did not improve from 0.62216\n",
      "Epoch 63/100\n",
      "178/178 - 1s - loss: 0.5065 - sparse_categorical_crossentropy: 0.4181 - sparse_categorical_accuracy: 0.8576 - scaled_adversarial_loss: 0.0885 - val_loss: 1.6890 - val_sparse_categorical_crossentropy: 1.3620 - val_sparse_categorical_accuracy: 0.6222 - val_scaled_adversarial_loss: 0.3270\n",
      "\n",
      "Epoch 00063: val_sparse_categorical_accuracy did not improve from 0.62216\n",
      "Epoch 64/100\n",
      "178/178 - 1s - loss: 0.5102 - sparse_categorical_crossentropy: 0.4221 - sparse_categorical_accuracy: 0.8579 - scaled_adversarial_loss: 0.0881 - val_loss: 1.7470 - val_sparse_categorical_crossentropy: 1.4093 - val_sparse_categorical_accuracy: 0.6449 - val_scaled_adversarial_loss: 0.3377\n",
      "\n",
      "Epoch 00064: val_sparse_categorical_accuracy improved from 0.62216 to 0.64489, saving model to /checkpoints\n",
      "Epoch 65/100\n",
      "178/178 - 1s - loss: 0.5038 - sparse_categorical_crossentropy: 0.4118 - sparse_categorical_accuracy: 0.8661 - scaled_adversarial_loss: 0.0920 - val_loss: 1.9031 - val_sparse_categorical_crossentropy: 1.5362 - val_sparse_categorical_accuracy: 0.6023 - val_scaled_adversarial_loss: 0.3670\n",
      "\n",
      "Epoch 00065: val_sparse_categorical_accuracy did not improve from 0.64489\n",
      "\n",
      "Epoch 00065: ReduceLROnPlateau reducing learning rate to 0.0005120000336319208.\n",
      "Epoch 66/100\n",
      "178/178 - 1s - loss: 0.4604 - sparse_categorical_crossentropy: 0.3801 - sparse_categorical_accuracy: 0.8699 - scaled_adversarial_loss: 0.0804 - val_loss: 1.7866 - val_sparse_categorical_crossentropy: 1.4418 - val_sparse_categorical_accuracy: 0.6307 - val_scaled_adversarial_loss: 0.3448\n",
      "\n",
      "Epoch 00066: val_sparse_categorical_accuracy did not improve from 0.64489\n",
      "Epoch 67/100\n",
      "178/178 - 1s - loss: 0.4280 - sparse_categorical_crossentropy: 0.3490 - sparse_categorical_accuracy: 0.8826 - scaled_adversarial_loss: 0.0790 - val_loss: 1.8453 - val_sparse_categorical_crossentropy: 1.4914 - val_sparse_categorical_accuracy: 0.6165 - val_scaled_adversarial_loss: 0.3539\n",
      "\n",
      "Epoch 00067: val_sparse_categorical_accuracy did not improve from 0.64489\n",
      "Epoch 68/100\n",
      "178/178 - 1s - loss: 0.4503 - sparse_categorical_crossentropy: 0.3674 - sparse_categorical_accuracy: 0.8738 - scaled_adversarial_loss: 0.0829 - val_loss: 1.7939 - val_sparse_categorical_crossentropy: 1.4479 - val_sparse_categorical_accuracy: 0.6250 - val_scaled_adversarial_loss: 0.3460\n",
      "\n",
      "Epoch 00068: val_sparse_categorical_accuracy did not improve from 0.64489\n",
      "Epoch 69/100\n",
      "178/178 - 2s - loss: 0.4605 - sparse_categorical_crossentropy: 0.3795 - sparse_categorical_accuracy: 0.8742 - scaled_adversarial_loss: 0.0810 - val_loss: 1.8371 - val_sparse_categorical_crossentropy: 1.4830 - val_sparse_categorical_accuracy: 0.6165 - val_scaled_adversarial_loss: 0.3541\n",
      "\n",
      "Epoch 00069: val_sparse_categorical_accuracy did not improve from 0.64489\n",
      "Epoch 70/100\n",
      "178/178 - 1s - loss: 0.4121 - sparse_categorical_crossentropy: 0.3425 - sparse_categorical_accuracy: 0.8865 - scaled_adversarial_loss: 0.0696 - val_loss: 1.8333 - val_sparse_categorical_crossentropy: 1.4744 - val_sparse_categorical_accuracy: 0.5966 - val_scaled_adversarial_loss: 0.3589\n",
      "\n",
      "Epoch 00070: val_sparse_categorical_accuracy did not improve from 0.64489\n",
      "Epoch 71/100\n",
      "178/178 - 1s - loss: 0.4250 - sparse_categorical_crossentropy: 0.3506 - sparse_categorical_accuracy: 0.8735 - scaled_adversarial_loss: 0.0744 - val_loss: 1.8788 - val_sparse_categorical_crossentropy: 1.5150 - val_sparse_categorical_accuracy: 0.6250 - val_scaled_adversarial_loss: 0.3638\n",
      "\n",
      "Epoch 00071: val_sparse_categorical_accuracy did not improve from 0.64489\n",
      "Epoch 72/100\n",
      "178/178 - 1s - loss: 0.4265 - sparse_categorical_crossentropy: 0.3552 - sparse_categorical_accuracy: 0.8752 - scaled_adversarial_loss: 0.0712 - val_loss: 1.7379 - val_sparse_categorical_crossentropy: 1.3970 - val_sparse_categorical_accuracy: 0.6449 - val_scaled_adversarial_loss: 0.3409\n",
      "\n",
      "Epoch 00072: val_sparse_categorical_accuracy did not improve from 0.64489\n",
      "Epoch 73/100\n",
      "178/178 - 1s - loss: 0.4441 - sparse_categorical_crossentropy: 0.3671 - sparse_categorical_accuracy: 0.8724 - scaled_adversarial_loss: 0.0770 - val_loss: 1.7870 - val_sparse_categorical_crossentropy: 1.4409 - val_sparse_categorical_accuracy: 0.6278 - val_scaled_adversarial_loss: 0.3460\n",
      "\n",
      "Epoch 00073: val_sparse_categorical_accuracy did not improve from 0.64489\n",
      "Epoch 74/100\n",
      "178/178 - 1s - loss: 0.3890 - sparse_categorical_crossentropy: 0.3202 - sparse_categorical_accuracy: 0.8939 - scaled_adversarial_loss: 0.0688 - val_loss: 1.7595 - val_sparse_categorical_crossentropy: 1.4155 - val_sparse_categorical_accuracy: 0.6449 - val_scaled_adversarial_loss: 0.3440\n",
      "\n",
      "Epoch 00074: val_sparse_categorical_accuracy did not improve from 0.64489\n",
      "Epoch 75/100\n",
      "178/178 - 1s - loss: 0.4073 - sparse_categorical_crossentropy: 0.3337 - sparse_categorical_accuracy: 0.8879 - scaled_adversarial_loss: 0.0736 - val_loss: 1.7776 - val_sparse_categorical_crossentropy: 1.4257 - val_sparse_categorical_accuracy: 0.6250 - val_scaled_adversarial_loss: 0.3520\n",
      "\n",
      "Epoch 00075: val_sparse_categorical_accuracy did not improve from 0.64489\n",
      "\n",
      "Epoch 00075: ReduceLROnPlateau reducing learning rate to 0.00040960004553198815.\n",
      "Epoch 76/100\n",
      "178/178 - 1s - loss: 0.3858 - sparse_categorical_crossentropy: 0.3170 - sparse_categorical_accuracy: 0.8914 - scaled_adversarial_loss: 0.0688 - val_loss: 1.7626 - val_sparse_categorical_crossentropy: 1.4191 - val_sparse_categorical_accuracy: 0.6335 - val_scaled_adversarial_loss: 0.3435\n",
      "\n",
      "Epoch 00076: val_sparse_categorical_accuracy did not improve from 0.64489\n",
      "Epoch 77/100\n",
      "178/178 - 1s - loss: 0.3831 - sparse_categorical_crossentropy: 0.3163 - sparse_categorical_accuracy: 0.8907 - scaled_adversarial_loss: 0.0668 - val_loss: 1.6657 - val_sparse_categorical_crossentropy: 1.3378 - val_sparse_categorical_accuracy: 0.6534 - val_scaled_adversarial_loss: 0.3279\n",
      "\n",
      "Epoch 00077: val_sparse_categorical_accuracy improved from 0.64489 to 0.65341, saving model to /checkpoints\n",
      "Epoch 78/100\n",
      "178/178 - 1s - loss: 0.3564 - sparse_categorical_crossentropy: 0.2917 - sparse_categorical_accuracy: 0.9087 - scaled_adversarial_loss: 0.0647 - val_loss: 1.8181 - val_sparse_categorical_crossentropy: 1.4593 - val_sparse_categorical_accuracy: 0.6335 - val_scaled_adversarial_loss: 0.3589\n",
      "\n",
      "Epoch 00078: val_sparse_categorical_accuracy did not improve from 0.65341\n",
      "Epoch 79/100\n",
      "178/178 - 1s - loss: 0.3505 - sparse_categorical_crossentropy: 0.2902 - sparse_categorical_accuracy: 0.9020 - scaled_adversarial_loss: 0.0603 - val_loss: 1.8156 - val_sparse_categorical_crossentropy: 1.4593 - val_sparse_categorical_accuracy: 0.6278 - val_scaled_adversarial_loss: 0.3563\n",
      "\n",
      "Epoch 00079: val_sparse_categorical_accuracy did not improve from 0.65341\n",
      "Epoch 80/100\n",
      "178/178 - 1s - loss: 0.3600 - sparse_categorical_crossentropy: 0.2938 - sparse_categorical_accuracy: 0.8978 - scaled_adversarial_loss: 0.0662 - val_loss: 1.8533 - val_sparse_categorical_crossentropy: 1.4919 - val_sparse_categorical_accuracy: 0.6392 - val_scaled_adversarial_loss: 0.3613\n",
      "\n",
      "Epoch 00080: val_sparse_categorical_accuracy did not improve from 0.65341\n",
      "Epoch 81/100\n",
      "178/178 - 1s - loss: 0.3567 - sparse_categorical_crossentropy: 0.2909 - sparse_categorical_accuracy: 0.9048 - scaled_adversarial_loss: 0.0659 - val_loss: 1.9143 - val_sparse_categorical_crossentropy: 1.5376 - val_sparse_categorical_accuracy: 0.6307 - val_scaled_adversarial_loss: 0.3767\n",
      "\n",
      "Epoch 00081: val_sparse_categorical_accuracy did not improve from 0.65341\n",
      "Epoch 82/100\n",
      "178/178 - 1s - loss: 0.3627 - sparse_categorical_crossentropy: 0.3003 - sparse_categorical_accuracy: 0.8999 - scaled_adversarial_loss: 0.0623 - val_loss: 1.7975 - val_sparse_categorical_crossentropy: 1.4429 - val_sparse_categorical_accuracy: 0.6136 - val_scaled_adversarial_loss: 0.3547\n",
      "\n",
      "Epoch 00082: val_sparse_categorical_accuracy did not improve from 0.65341\n",
      "Epoch 83/100\n",
      "178/178 - 2s - loss: 0.3329 - sparse_categorical_crossentropy: 0.2741 - sparse_categorical_accuracy: 0.9080 - scaled_adversarial_loss: 0.0588 - val_loss: 1.7979 - val_sparse_categorical_crossentropy: 1.4439 - val_sparse_categorical_accuracy: 0.6449 - val_scaled_adversarial_loss: 0.3540\n",
      "\n",
      "Epoch 00083: val_sparse_categorical_accuracy did not improve from 0.65341\n",
      "Epoch 84/100\n",
      "178/178 - 1s - loss: 0.3481 - sparse_categorical_crossentropy: 0.2908 - sparse_categorical_accuracy: 0.9101 - scaled_adversarial_loss: 0.0572 - val_loss: 1.7219 - val_sparse_categorical_crossentropy: 1.3793 - val_sparse_categorical_accuracy: 0.6392 - val_scaled_adversarial_loss: 0.3426\n",
      "\n",
      "Epoch 00084: val_sparse_categorical_accuracy did not improve from 0.65341\n",
      "Epoch 85/100\n",
      "178/178 - 1s - loss: 0.3376 - sparse_categorical_crossentropy: 0.2799 - sparse_categorical_accuracy: 0.9055 - scaled_adversarial_loss: 0.0577 - val_loss: 1.8748 - val_sparse_categorical_crossentropy: 1.5074 - val_sparse_categorical_accuracy: 0.6335 - val_scaled_adversarial_loss: 0.3673\n",
      "\n",
      "Epoch 00085: val_sparse_categorical_accuracy did not improve from 0.65341\n",
      "\n",
      "Epoch 00085: ReduceLROnPlateau reducing learning rate to 0.00032768002711236477.\n",
      "Epoch 86/100\n",
      "178/178 - 1s - loss: 0.3498 - sparse_categorical_crossentropy: 0.2885 - sparse_categorical_accuracy: 0.9038 - scaled_adversarial_loss: 0.0613 - val_loss: 1.7990 - val_sparse_categorical_crossentropy: 1.4470 - val_sparse_categorical_accuracy: 0.6364 - val_scaled_adversarial_loss: 0.3520\n",
      "\n",
      "Epoch 00086: val_sparse_categorical_accuracy did not improve from 0.65341\n",
      "Epoch 87/100\n",
      "178/178 - 1s - loss: 0.3113 - sparse_categorical_crossentropy: 0.2560 - sparse_categorical_accuracy: 0.9161 - scaled_adversarial_loss: 0.0552 - val_loss: 1.8545 - val_sparse_categorical_crossentropy: 1.4899 - val_sparse_categorical_accuracy: 0.6506 - val_scaled_adversarial_loss: 0.3646\n",
      "\n",
      "Epoch 00087: val_sparse_categorical_accuracy did not improve from 0.65341\n",
      "Epoch 88/100\n",
      "178/178 - 1s - loss: 0.3031 - sparse_categorical_crossentropy: 0.2499 - sparse_categorical_accuracy: 0.9172 - scaled_adversarial_loss: 0.0531 - val_loss: 1.9110 - val_sparse_categorical_crossentropy: 1.5340 - val_sparse_categorical_accuracy: 0.6335 - val_scaled_adversarial_loss: 0.3770\n",
      "\n",
      "Epoch 00088: val_sparse_categorical_accuracy did not improve from 0.65341\n",
      "Epoch 89/100\n",
      "178/178 - 1s - loss: 0.2957 - sparse_categorical_crossentropy: 0.2387 - sparse_categorical_accuracy: 0.9172 - scaled_adversarial_loss: 0.0570 - val_loss: 1.9224 - val_sparse_categorical_crossentropy: 1.5442 - val_sparse_categorical_accuracy: 0.6420 - val_scaled_adversarial_loss: 0.3782\n",
      "\n",
      "Epoch 00089: val_sparse_categorical_accuracy did not improve from 0.65341\n",
      "Epoch 90/100\n",
      "178/178 - 1s - loss: 0.2907 - sparse_categorical_crossentropy: 0.2405 - sparse_categorical_accuracy: 0.9210 - scaled_adversarial_loss: 0.0503 - val_loss: 1.8491 - val_sparse_categorical_crossentropy: 1.4831 - val_sparse_categorical_accuracy: 0.6648 - val_scaled_adversarial_loss: 0.3661\n",
      "\n",
      "Epoch 00090: val_sparse_categorical_accuracy improved from 0.65341 to 0.66477, saving model to /checkpoints\n",
      "Epoch 91/100\n",
      "178/178 - 1s - loss: 0.2914 - sparse_categorical_crossentropy: 0.2442 - sparse_categorical_accuracy: 0.9140 - scaled_adversarial_loss: 0.0473 - val_loss: 1.8637 - val_sparse_categorical_crossentropy: 1.4931 - val_sparse_categorical_accuracy: 0.6619 - val_scaled_adversarial_loss: 0.3707\n",
      "\n",
      "Epoch 00091: val_sparse_categorical_accuracy did not improve from 0.66477\n",
      "Epoch 92/100\n",
      "178/178 - 1s - loss: 0.2889 - sparse_categorical_crossentropy: 0.2382 - sparse_categorical_accuracy: 0.9242 - scaled_adversarial_loss: 0.0507 - val_loss: 1.9183 - val_sparse_categorical_crossentropy: 1.5405 - val_sparse_categorical_accuracy: 0.6648 - val_scaled_adversarial_loss: 0.3778\n",
      "\n",
      "Epoch 00092: val_sparse_categorical_accuracy did not improve from 0.66477\n",
      "Epoch 93/100\n",
      "178/178 - 1s - loss: 0.2753 - sparse_categorical_crossentropy: 0.2264 - sparse_categorical_accuracy: 0.9246 - scaled_adversarial_loss: 0.0489 - val_loss: 2.0610 - val_sparse_categorical_crossentropy: 1.6592 - val_sparse_categorical_accuracy: 0.6278 - val_scaled_adversarial_loss: 0.4018\n",
      "\n",
      "Epoch 00093: val_sparse_categorical_accuracy did not improve from 0.66477\n",
      "Epoch 94/100\n",
      "178/178 - 1s - loss: 0.2833 - sparse_categorical_crossentropy: 0.2291 - sparse_categorical_accuracy: 0.9193 - scaled_adversarial_loss: 0.0542 - val_loss: 1.7778 - val_sparse_categorical_crossentropy: 1.4266 - val_sparse_categorical_accuracy: 0.6676 - val_scaled_adversarial_loss: 0.3512\n",
      "\n",
      "Epoch 00094: val_sparse_categorical_accuracy improved from 0.66477 to 0.66761, saving model to /checkpoints\n",
      "Epoch 95/100\n",
      "178/178 - 1s - loss: 0.2982 - sparse_categorical_crossentropy: 0.2468 - sparse_categorical_accuracy: 0.9196 - scaled_adversarial_loss: 0.0514 - val_loss: 1.9370 - val_sparse_categorical_crossentropy: 1.5572 - val_sparse_categorical_accuracy: 0.6591 - val_scaled_adversarial_loss: 0.3799\n",
      "\n",
      "Epoch 00095: val_sparse_categorical_accuracy did not improve from 0.66761\n",
      "\n",
      "Epoch 00095: ReduceLROnPlateau reducing learning rate to 0.0002621440216898918.\n",
      "Epoch 96/100\n",
      "178/178 - 1s - loss: 0.2699 - sparse_categorical_crossentropy: 0.2197 - sparse_categorical_accuracy: 0.9249 - scaled_adversarial_loss: 0.0502 - val_loss: 1.8176 - val_sparse_categorical_crossentropy: 1.4599 - val_sparse_categorical_accuracy: 0.6506 - val_scaled_adversarial_loss: 0.3577\n",
      "\n",
      "Epoch 00096: val_sparse_categorical_accuracy did not improve from 0.66761\n",
      "Epoch 97/100\n",
      "178/178 - 1s - loss: 0.2868 - sparse_categorical_crossentropy: 0.2411 - sparse_categorical_accuracy: 0.9207 - scaled_adversarial_loss: 0.0456 - val_loss: 1.8347 - val_sparse_categorical_crossentropy: 1.4705 - val_sparse_categorical_accuracy: 0.6534 - val_scaled_adversarial_loss: 0.3642\n",
      "\n",
      "Epoch 00097: val_sparse_categorical_accuracy did not improve from 0.66761\n",
      "Epoch 98/100\n",
      "178/178 - 1s - loss: 0.2763 - sparse_categorical_crossentropy: 0.2253 - sparse_categorical_accuracy: 0.9302 - scaled_adversarial_loss: 0.0510 - val_loss: 2.0694 - val_sparse_categorical_crossentropy: 1.6608 - val_sparse_categorical_accuracy: 0.6534 - val_scaled_adversarial_loss: 0.4086\n",
      "\n",
      "Epoch 00098: val_sparse_categorical_accuracy did not improve from 0.66761\n",
      "Epoch 99/100\n",
      "178/178 - 1s - loss: 0.2795 - sparse_categorical_crossentropy: 0.2312 - sparse_categorical_accuracy: 0.9217 - scaled_adversarial_loss: 0.0483 - val_loss: 1.9551 - val_sparse_categorical_crossentropy: 1.5651 - val_sparse_categorical_accuracy: 0.6648 - val_scaled_adversarial_loss: 0.3901\n",
      "\n",
      "Epoch 00099: val_sparse_categorical_accuracy did not improve from 0.66761\n",
      "Epoch 100/100\n",
      "178/178 - 1s - loss: 0.2589 - sparse_categorical_crossentropy: 0.2123 - sparse_categorical_accuracy: 0.9295 - scaled_adversarial_loss: 0.0466 - val_loss: 1.9722 - val_sparse_categorical_crossentropy: 1.5842 - val_sparse_categorical_accuracy: 0.6648 - val_scaled_adversarial_loss: 0.3880\n",
      "\n",
      "Epoch 00100: val_sparse_categorical_accuracy did not improve from 0.66761\n"
     ]
    }
   ],
   "source": [
    "history=adv_model.fit(\n",
    "    train,validation_data=valid,verbose=2,\n",
    "    validation_steps=valid_steps,\n",
    "    epochs=100,callbacks=cb(model_weights));"
   ]
  },
  {
   "cell_type": "code",
   "execution_count": 19,
   "metadata": {
    "execution": {
     "iopub.execute_input": "2021-02-22T15:55:49.695721Z",
     "iopub.status.busy": "2021-02-22T15:55:49.692079Z",
     "iopub.status.idle": "2021-02-22T15:55:50.310905Z",
     "shell.execute_reply": "2021-02-22T15:55:50.311377Z"
    },
    "papermill": {
     "duration": 0.775029,
     "end_time": "2021-02-22T15:55:50.311545",
     "exception": false,
     "start_time": "2021-02-22T15:55:49.536516",
     "status": "completed"
    },
    "tags": []
   },
   "outputs": [
    {
     "data": {
      "image/png": "[encoded data removed]",
      "text/plain": [
       "<Figure size 648x648 with 3 Axes>"
      ]
     },
     "metadata": {
      "needs_background": "light"
     },
     "output_type": "display_data"
    }
   ],
   "source": [
    "keras_history_plot(history)"
   ]
  },
  {
   "cell_type": "code",
   "execution_count": 20,
   "metadata": {
    "execution": {
     "iopub.execute_input": "2021-02-22T15:55:50.616023Z",
     "iopub.status.busy": "2021-02-22T15:55:50.615004Z",
     "iopub.status.idle": "2021-02-22T15:55:51.158867Z",
     "shell.execute_reply": "2021-02-22T15:55:51.158247Z"
    },
    "papermill": {
     "duration": 0.705719,
     "end_time": "2021-02-22T15:55:51.159021",
     "exception": false,
     "start_time": "2021-02-22T15:55:50.453302",
     "status": "completed"
    },
    "tags": []
   },
   "outputs": [
    {
     "data": {
      "text/plain": [
       "{'loss': 2.0145328044891357,\n",
       " 'sparse_categorical_crossentropy': 1.6188024282455444,\n",
       " 'sparse_categorical_accuracy': 0.6525423526763916,\n",
       " 'scaled_adversarial_loss': 0.39573046565055847}"
      ]
     },
     "execution_count": 20,
     "metadata": {},
     "output_type": "execute_result"
    }
   ],
   "source": [
    "adv_model.load_weights(model_weights)\n",
    "dict(zip(adv_model.metrics_names,adv_model.evaluate(\n",
    "    {'input':x_test,\n",
    "     'label':np.array(y_test[1],dtype='float32')},\n",
    "     verbose=0)))"
   ]
  }
 ],
 "metadata": {
  "kernelspec": {
   "display_name": "Python 3",
   "language": "python",
   "name": "python3"
  },
  "language_info": {
   "codemirror_mode": {
    "name": "ipython",
    "version": 3
   },
   "file_extension": ".py",
   "mimetype": "text/x-python",
   "name": "python",
   "nbconvert_exporter": "python",
   "pygments_lexer": "ipython3",
   "version": "3.7.9"
  },
  "papermill": {
   "default_parameters": {},
   "duration": 270.964703,
   "end_time": "2021-02-22T15:55:53.987275",
   "environment_variables": {},
   "exception": null,
   "input_path": "__notebook__.ipynb",
   "output_path": "__notebook__.ipynb",
   "parameters": {},
   "start_time": "2021-02-22T15:51:23.022572",
   "version": "2.2.2"
  }
 },
 "nbformat": 4,
 "nbformat_minor": 4
}
